{
 "cells": [
  {
   "cell_type": "markdown",
   "id": "f6cc17c5-72cd-4363-804c-6f8f49439e30",
   "metadata": {},
   "source": [
    "# FromageModel Inference Notebook \n",
    "## 0. Imports & Config"
   ]
  },
  {
   "cell_type": "code",
   "execution_count": 1,
   "id": "4eb83e8b-c262-4d9c-9e3f-0bd120a855b5",
   "metadata": {},
   "outputs": [],
   "source": [
    "import torch\n",
    "import torch.nn as nn\n",
    "import yaml\n",
    "import random\n",
    "import sys"
   ]
  },
  {
   "cell_type": "code",
   "execution_count": 2,
   "id": "fcccc4e0-e12f-44a0-881c-e394f71a18ab",
   "metadata": {},
   "outputs": [],
   "source": [
    "sys.path.append('../fromage')\n",
    "from model import Fromage, FromageModel\n",
    "from experiment import Experiment\n",
    "from data import MIMICDataset, cxr_image_transform\n",
    "from utils import preprocess_report"
   ]
  },
  {
   "cell_type": "code",
   "execution_count": 3,
   "id": "bf385c32-df2e-4387-b559-1b3b68b8e816",
   "metadata": {},
   "outputs": [],
   "source": [
    "ckpt_path = \"../logs/checkpoints/untied_test/last.ckpt\"\n",
    "config_path = \"../config/train-untied.yaml\"\n",
    "dataset_path = \"../data/MIMIC_JPG.tsv\"\n",
    "img_path = \"/datasets/mimic/cxr-jpg/physionet.org/files/mimic-cxr-jpg/2.0.0/files\""
   ]
  },
  {
   "cell_type": "markdown",
   "id": "07b0cb0f-75e8-4469-a9d8-9596996e5bf3",
   "metadata": {},
   "source": [
    "## 1. Set device and config file"
   ]
  },
  {
   "cell_type": "code",
   "execution_count": 4,
   "id": "8c167724-cf43-4467-98c0-7a367f99d4e2",
   "metadata": {},
   "outputs": [],
   "source": [
    "device = torch.device(\"cuda\" if torch.cuda.is_available() else \"cpu\")\n",
    "\n",
    "with open (config_path) as file:\n",
    "    config = yaml.safe_load(file)"
   ]
  },
  {
   "cell_type": "markdown",
   "id": "589a9134-7bd1-4101-b040-39210d2c7ec9",
   "metadata": {},
   "source": [
    "## 2. Load model and dataset"
   ]
  },
  {
   "cell_type": "code",
   "execution_count": 5,
   "id": "5dc5685f-796e-4417-a0ea-96b886196e77",
   "metadata": {},
   "outputs": [],
   "source": [
    "model = Experiment(config)\n",
    "model = model.load_from_checkpoint(ckpt_path)\n",
    "model = model.model \n",
    "\n",
    "RESIZE = 512\n",
    "CENTER_CROP_SIZE = 480\n",
    "\n",
    "transform = cxr_image_transform(RESIZE, CENTER_CROP_SIZE, train=True)\n",
    "dataset = MIMICDataset(dataset_path, img_path, transform)"
   ]
  },
  {
   "cell_type": "markdown",
   "id": "b14b987d-499f-46b4-92a9-cf50d0221c95",
   "metadata": {},
   "source": [
    "## 3. Get random example report from dataset"
   ]
  },
  {
   "cell_type": "code",
   "execution_count": 6,
   "id": "3e082e1c-8ce7-4de6-b7e9-3dbea2e4a431",
   "metadata": {},
   "outputs": [
    {
     "name": "stdout",
     "output_type": "stream",
     "text": [
      "INDICATION: year old man with CNS lymphoma, cardiac history, cough, right lower chestrib pain on inspiration ro pneumonia vs rib fx. ro pneumonia vs rib fx. IMPRESSION: In comparison with the study of , allowing for slightly better inspiration, there is little change. Continued enlargement of the cardiac silhouette without vascular congestion, pleural effusion, or acute focal pneumonia. Substantial mass is again seen in the lower right neck displacing of the cervical trachea to the left.\n"
     ]
    }
   ],
   "source": [
    "ex_idx = random.randint(0, len(dataset.img_paths) - 1)\n",
    "ex_img_path, ex_report = dataset.img_paths[ex_idx], dataset.reports[ex_idx]\n",
    "print(ex_report)"
   ]
  },
  {
   "cell_type": "markdown",
   "id": "826684a8-48d9-41d8-8b5b-7cf999d72f74",
   "metadata": {},
   "source": [
    "## 4. Inference"
   ]
  },
  {
   "cell_type": "code",
   "execution_count": 7,
   "id": "50605bec-6577-4f37-a27d-f63f7cc7438e",
   "metadata": {},
   "outputs": [
    {
     "name": "stdout",
     "output_type": "stream",
     "text": [
      " pneumonia.\n",
      "\n",
      "SUMMARY: The patient is in a stable condition. The patient is in a stable condition. The patient is in a stable condition\n"
     ]
    }
   ],
   "source": [
    "with torch.inference_mode():\n",
    "    model.eval()\n",
    "    prompts = [ex_img_path, ex_report[:150]] \n",
    "    print(model.generate_for_images_and_texts(prompts))"
   ]
  }
 ],
 "metadata": {
  "kernelspec": {
   "display_name": "fromage_env_kernel",
   "language": "python",
   "name": "fromage_env_kernel"
  },
  "language_info": {
   "codemirror_mode": {
    "name": "ipython",
    "version": 3
   },
   "file_extension": ".py",
   "mimetype": "text/x-python",
   "name": "python",
   "nbconvert_exporter": "python",
   "pygments_lexer": "ipython3",
   "version": "3.10.12"
  }
 },
 "nbformat": 4,
 "nbformat_minor": 5
}
