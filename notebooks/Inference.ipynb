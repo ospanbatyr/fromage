{
 "cells": [
  {
   "cell_type": "markdown",
   "id": "f6cc17c5-72cd-4363-804c-6f8f49439e30",
   "metadata": {},
   "source": [
    "# FromageModel Inference Notebook \n",
    "## 0. Imports & Config"
   ]
  },
  {
   "cell_type": "code",
   "execution_count": 1,
   "id": "4eb83e8b-c262-4d9c-9e3f-0bd120a855b5",
   "metadata": {},
   "outputs": [
    {
     "name": "stderr",
     "output_type": "stream",
     "text": [
      "/kuacc/users/oince22/.conda/envs/fromage/lib/python3.10/site-packages/tqdm/auto.py:21: TqdmWarning: IProgress not found. Please update jupyter and ipywidgets. See https://ipywidgets.readthedocs.io/en/stable/user_install.html\n",
      "  from .autonotebook import tqdm as notebook_tqdm\n"
     ]
    }
   ],
   "source": [
    "import torch\n",
    "import torch.nn as nn\n",
    "import yaml\n",
    "import random\n",
    "import sys\n",
    "import os\n",
    "import os.path as osp"
   ]
  },
  {
   "cell_type": "code",
   "execution_count": 2,
   "id": "fcccc4e0-e12f-44a0-881c-e394f71a18ab",
   "metadata": {},
   "outputs": [],
   "source": [
    "from fromage.model import Fromage, FromageModel \n",
    "from fromage.experiment import Experiment\n",
    "from fromage.data import MIMICDataset, COCODataset, cxr_image_transform, coco_image_transform\n",
    "from fromage.utils import preprocess_report"
   ]
  },
  {
   "cell_type": "code",
   "execution_count": 3,
   "id": "bf385c32-df2e-4387-b559-1b3b68b8e816",
   "metadata": {},
   "outputs": [],
   "source": [
    "ckpt_path = osp.join(osp.dirname(os.getcwd()), \"logs/checkpoints/vl_eval_3/last.ckpt\")\n",
    "config_path = osp.join(osp.dirname(os.getcwd()), \"config/train-vleval-3.yaml\")\n",
    "dataset_path = osp.join(osp.dirname(os.getcwd()), \"data/MIMIC_JPG_train.tsv\")\n",
    "img_path = \"/datasets/mimic/cxr-jpg/physionet.org/files/mimic-cxr-jpg/2.0.0/files\""
   ]
  },
  {
   "cell_type": "markdown",
   "id": "07b0cb0f-75e8-4469-a9d8-9596996e5bf3",
   "metadata": {},
   "source": [
    "## 1. Set device and config file"
   ]
  },
  {
   "cell_type": "code",
   "execution_count": 4,
   "id": "8c167724-cf43-4467-98c0-7a367f99d4e2",
   "metadata": {},
   "outputs": [],
   "source": [
    "device = torch.device(\"cuda\" if torch.cuda.is_available() else \"cpu\")\n",
    "\n",
    "with open (config_path) as file:\n",
    "    config = yaml.safe_load(file)"
   ]
  },
  {
   "cell_type": "markdown",
   "id": "589a9134-7bd1-4101-b040-39210d2c7ec9",
   "metadata": {},
   "source": [
    "## 2. Load model and dataset"
   ]
  },
  {
   "cell_type": "code",
   "execution_count": 5,
   "id": "5dc5685f-796e-4417-a0ea-96b886196e77",
   "metadata": {},
   "outputs": [],
   "source": [
    "model = Experiment(config)\n",
    "model = model.load_from_checkpoint(ckpt_path)\n",
    "model = model.model.to(device)\n",
    "model.device = device"
   ]
  },
  {
   "cell_type": "code",
   "execution_count": 6,
   "id": "18750851-7d17-4bf4-929a-23435908caad",
   "metadata": {},
   "outputs": [],
   "source": [
    "transform = cxr_image_transform(resize=512, center_crop_size=480, train=False) \n",
    "dataset = MIMICDataset(dataset_path, img_path, transform)"
   ]
  },
  {
   "cell_type": "markdown",
   "id": "b14b987d-499f-46b4-92a9-cf50d0221c95",
   "metadata": {},
   "source": [
    "## 3. Get random example report from dataset"
   ]
  },
  {
   "cell_type": "code",
   "execution_count": 30,
   "id": "3e082e1c-8ce7-4de6-b7e9-3dbea2e4a431",
   "metadata": {},
   "outputs": [
    {
     "name": "stdout",
     "output_type": "stream",
     "text": [
      "No such file: '/datasets/mimic/cxr-jpg/physionet.org/files/mimic-cxr-jpg/2.0.0/files/p18/p18085955/s55354095/a384aa24-4155c68b-4e23a82c-65dd3c3d-d54a67b7.jpg'\n",
      "The heart is normal in size. The mediastinal and hilar contours are unremarkable. There is no pleural effusion or pneumothorax. The lungs are well-expanded and clear without focal consolidation concerning for pneumonia. A small nodular density at the right lung apex is noted, which may represent costochondral cartilage of the first rib or a nodule. The upper abdomen is unremarkable. There is no acute osseous abnormality. Nodular opacity at the right apex, which may represent costochondral cartilage versus an nodule. Shallow oblique films are recommended for further evaluation. The findings were discussed by Dr. with Dr on the telephone on at Nodular opacity at the right apex, which may represent costochondral cartilage versus an nodule. Shallow oblique films are recommended for further evaluation. The findings were discussed by Dr. with Dr on the telephone on at 25 AM.\n"
     ]
    }
   ],
   "source": [
    "ex_idx = random.randint(0, len(dataset) - 1)\n",
    "ex_img, ex_report = dataset.__getitem__(ex_idx)\n",
    "print(ex_report)"
   ]
  },
  {
   "cell_type": "markdown",
   "id": "826684a8-48d9-41d8-8b5b-7cf999d72f74",
   "metadata": {},
   "source": [
    "## 4. Inference"
   ]
  },
  {
   "cell_type": "code",
   "execution_count": 31,
   "id": "50605bec-6577-4f37-a27d-f63f7cc7438e",
   "metadata": {},
   "outputs": [
    {
     "name": "stdout",
     "output_type": "stream",
     "text": [
      "ipsipulmonary lesion. What is the next investigation? CT angiography. Micturating cystourethrogram. What is the next\n"
     ]
    }
   ],
   "source": [
    "with torch.inference_mode():\n",
    "    model.eval()\n",
    "    prompts = [ex_img, \"Question: What does the previous image show? Answer: \"] \n",
    "    print(model.generate_for_images_and_texts(prompts, top_p=0.9, temperature=0.5))"
   ]
  }
 ],
 "metadata": {
  "kernelspec": {
   "display_name": "Python 3 (ipykernel)",
   "language": "python",
   "name": "python3"
  },
  "language_info": {
   "codemirror_mode": {
    "name": "ipython",
    "version": 3
   },
   "file_extension": ".py",
   "mimetype": "text/x-python",
   "name": "python",
   "nbconvert_exporter": "python",
   "pygments_lexer": "ipython3",
   "version": "3.10.12"
  }
 },
 "nbformat": 4,
 "nbformat_minor": 5
}
