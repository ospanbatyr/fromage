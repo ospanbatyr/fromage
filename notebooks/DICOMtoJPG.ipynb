{
 "cells": [
  {
   "cell_type": "markdown",
   "id": "bc60decc-4a9c-4140-8a7a-bd6c1aea405b",
   "metadata": {},
   "source": [
    "### Convert DICOM to JPG"
   ]
  },
  {
   "cell_type": "markdown",
   "id": "18c4c994-9e86-487b-aeca-230e21676554",
   "metadata": {},
   "source": [
    "By following the procedure from MIMIC-CXR-JPG, convert DICOM images to JPG.\n",
    "\n",
    "Repos that I checked earlier, i.e. TorchXrayVision, MedCLIP assume JPG images. It is hard to know what kind of procedure they followed, but we can do the following.\n",
    "1. Convert these DICOM images to JPG\n",
    "2. Test whether these JPG images result in nice accuracy\n",
    "3. If they do BINGO!, else update the procedure iteratively, goto step 1."
   ]
  },
  {
   "cell_type": "code",
   "execution_count": 1,
   "id": "3f7fb838-f616-443d-b343-a9ac4a400a73",
   "metadata": {},
   "outputs": [],
   "source": [
    "from glob import glob\n",
    "\n",
    "dcm_paths = glob(\"/datasets/mimic/physionet.org/files/mimic-cxr/2.0.0/files/p10/*/*/*.dcm\")"
   ]
  },
  {
   "cell_type": "code",
   "execution_count": 2,
   "id": "67fcb668-7b0d-441a-b133-329119490c82",
   "metadata": {},
   "outputs": [
    {
     "data": {
      "text/plain": [
       "(36681,\n",
       " '/datasets/mimic/physionet.org/files/mimic-cxr/2.0.0/files/p10/p10000032/s50414267/02aa804e-bde0afdd-112c0b34-7bc16630-4e384014.dcm')"
      ]
     },
     "execution_count": 2,
     "metadata": {},
     "output_type": "execute_result"
    }
   ],
   "source": [
    "len(dcm_paths), dcm_paths[0]"
   ]
  },
  {
   "cell_type": "code",
   "execution_count": 3,
   "id": "eb3e03c8-5a21-49b1-9a55-de8d01e371d0",
   "metadata": {},
   "outputs": [],
   "source": [
    "create_jpg_path = lambda dcm_p: \"/\".join(dcm_p.split(\"/\")[8:]).split(\".\")[0] + \".jpg\"\n",
    "create_jpg_dir = lambda dcm_p: \"/\".join(dcm_p.split(\"/\")[8:-1])"
   ]
  },
  {
   "cell_type": "code",
   "execution_count": 4,
   "id": "e19cdbc5-514f-4525-bbc6-3140296a88b4",
   "metadata": {},
   "outputs": [],
   "source": [
    "import pydicom\n",
    "import cv2\n",
    "import numpy as np\n",
    "import os\n",
    "\n",
    "def process_dicom_image_new(input_path, output_dir, output_path):\n",
    "    # Load DICOM file\n",
    "    ds = pydicom.dcmread(input_path)\n",
    "\n",
    "    # Extract pixel data and normalize to range [0, 255]\n",
    "    pixel_data = ds.pixel_array\n",
    "    pixel_data = pixel_data.astype(np.float32)\n",
    "    pixel_data -= np.min(pixel_data)\n",
    "    pixel_data /= np.max(pixel_data)\n",
    "    pixel_data *= 255.0\n",
    "    pixel_data = np.uint8(pixel_data)\n",
    "\n",
    "    # Check PhotometricInterpretation for inversion\n",
    "    if ds.PhotometricInterpretation == \"MONOCHROME1\":\n",
    "        # Invert pixel values\n",
    "        pixel_data = 255 - pixel_data\n",
    "\n",
    "    # Histogram equalization\n",
    "    pixel_data = cv2.equalizeHist(pixel_data)\n",
    "\n",
    "    # Convert to JPEG with quality factor 95\n",
    "    encode_param = [int(cv2.IMWRITE_JPEG_QUALITY), 95]\n",
    "    _, jpeg_data = cv2.imencode('.jpg', pixel_data, encode_param)\n",
    "\n",
    "    # Write JPEG to file\n",
    "    os.makedirs(output_dir, exist_ok=True)\n",
    "    with open(output_path, 'wb') as f:\n",
    "        f.write(jpeg_data)"
   ]
  },
  {
   "cell_type": "code",
   "execution_count": null,
   "id": "1179af6d-7b64-4c3b-8177-48a2a213e999",
   "metadata": {},
   "outputs": [
    {
     "name": "stderr",
     "output_type": "stream",
     "text": [
      " 99%|█████████▉| 36233/36681 [3:53:20<02:55,  2.55it/s]  "
     ]
    }
   ],
   "source": [
    "from tqdm import tqdm\n",
    "example_counts = [5000, 10000, len(dcm_paths)]\n",
    "\n",
    "for example_count in example_counts:\n",
    "    with open(f\"examples_{example_count}.txt\", \"w\") as f:\n",
    "        for dcm_path in dcm_paths[:example_count]:\n",
    "            jpg_path = create_jpg_path(dcm_path)\n",
    "            f.write(f\"{jpg_path}\\n\")\n",
    "    \n",
    "for dcm_path in tqdm(dcm_paths):\n",
    "    jpg_path = create_jpg_path(dcm_path)\n",
    "    jpg_dir = create_jpg_dir(dcm_path)\n",
    "\n",
    "    process_dicom_image_new(dcm_path, jpg_dir, jpg_path)\n",
    "    "
   ]
  },
  {
   "cell_type": "code",
   "execution_count": null,
   "id": "f2b60bd4-40d0-4b04-9cd7-c91dfd0d79ae",
   "metadata": {},
   "outputs": [],
   "source": []
  }
 ],
 "metadata": {
  "kernelspec": {
   "display_name": "Python 3 (ipykernel)",
   "language": "python",
   "name": "python3"
  },
  "language_info": {
   "codemirror_mode": {
    "name": "ipython",
    "version": 3
   },
   "file_extension": ".py",
   "mimetype": "text/x-python",
   "name": "python",
   "nbconvert_exporter": "python",
   "pygments_lexer": "ipython3",
   "version": "3.10.12"
  }
 },
 "nbformat": 4,
 "nbformat_minor": 5
}
