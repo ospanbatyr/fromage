{
 "cells": [
  {
   "cell_type": "markdown",
   "id": "9c85bc09-335c-42a0-a45a-9c9754cb0e8d",
   "metadata": {},
   "source": [
    "# Image Classification Evaluation\n",
    "### Imports & Config"
   ]
  },
  {
   "cell_type": "code",
   "execution_count": 1,
   "id": "4a6d9082-9081-4467-9030-7e114ac7829d",
   "metadata": {},
   "outputs": [],
   "source": [
    "import sys\n",
    "import torch\n",
    "import yaml\n",
    "import pandas as pd\n",
    "from tqdm import tqdm\n",
    "import random\n",
    "import json\n",
    "import os\n",
    "\n",
    "sys.path.append('../fromage')\n",
    "from imgclsDataset import RSNAPneumoniaDataset, COVIDDataset\n",
    "from data import cxr_image_transform\n",
    "from experiment import Experiment"
   ]
  },
  {
   "cell_type": "code",
   "execution_count": 2,
   "id": "5248e307-746e-4725-a366-22a25d3f3bab",
   "metadata": {},
   "outputs": [],
   "source": [
    "rsna_dataset_path = '/kuacc/users/hpc-dtank/hpc_run/datasets/RSNA'\n",
    "covid_dataset_path = \"/kuacc/users/hpc-dtank/hpc_run/datasets/COVID\"\n",
    "\n",
    "ckpt_path = \"/kuacc/users/hpc-dtank/hpc_run/projects/models/vl_eval_5/last.ckpt\"\n",
    "config_path = \"/kuacc/users/hpc-dtank/hpc_run/projects/models/vl_eval_5/train-vleval-5.yaml\""
   ]
  },
  {
   "cell_type": "markdown",
   "id": "d5c70b28-2ab6-4354-bd02-eee73bd810a1",
   "metadata": {},
   "source": [
    "### Preprocessing, only need to run once"
   ]
  },
  {
   "cell_type": "code",
   "execution_count": null,
   "id": "54237cc5-2df0-467a-bf0e-68bb42e9bd38",
   "metadata": {},
   "outputs": [],
   "source": [
    "# # RSNA csv preprocessing\n",
    "# RSNAdata = pd.read_csv(rsna_dataset_path + '/stage_2_train_labels.csv')\n",
    "# random_indices = random.sample(range(len(RSNAdata)), 3538)\n",
    "# selected_rows = RSNAdata.loc[random_indices]\n",
    "# selected_rows.to_csv(rsna_dataset_path + '/stage_2_train_labels_short.csv', index=False)\n",
    "# print('done')"
   ]
  },
  {
   "cell_type": "code",
   "execution_count": null,
   "id": "367d3802-9fdb-49d2-a3bc-322351e9302c",
   "metadata": {},
   "outputs": [],
   "source": [
    "# # COVID dataset preprocessing\n",
    "# import os\n",
    "# import json\n",
    "\n",
    "# data_root = covid_dataset_path\n",
    "# output_file = covid_dataset_path + \"/COVID.json\"\n",
    "\n",
    "# def create_json(folder_path, class_label):\n",
    "#     json_data = []\n",
    "#     image_folder = os.path.join(folder_path, \"images\")\n",
    "#     for image_name in os.listdir(image_folder):\n",
    "#         image_path = os.path.join(image_folder, image_name)\n",
    "#         json_entry = {\n",
    "#             \"image_path\": os.path.relpath(image_path, data_root),\n",
    "#             \"class\": class_label\n",
    "#         }\n",
    "#         json_data.append(json_entry)\n",
    "#     return json_data\n",
    "\n",
    "# def main():\n",
    "#     all_data = []\n",
    "\n",
    "#     for data_type in [\"Infection Segmentation Data\", \"Lung Segmentation Data\"]:\n",
    "#         data_type_folder = os.path.join(data_root, data_type)\n",
    "#         subfolders = [subfolder for subfolder in os.listdir(data_type_folder) if os.path.isdir(os.path.join(data_type_folder, subfolder))]\n",
    "        \n",
    "#         for subfolder in subfolders:\n",
    "#             class_labels = [\"Normal\", \"Non-COVID\", \"COVID-19\"]\n",
    "#             for class_label in class_labels:\n",
    "#                 test_folder = os.path.join(data_type_folder, subfolder, \"Test\", class_label)\n",
    "#                 json_data = create_json(test_folder, class_label)\n",
    "#                 all_data.extend(json_data)\n",
    "\n",
    "#     with open(output_file, \"w\") as json_file:\n",
    "#         json.dump(all_data, json_file, indent=4)\n",
    "\n",
    "# if __name__ == \"__main__\":\n",
    "#     main()"
   ]
  },
  {
   "cell_type": "code",
   "execution_count": null,
   "id": "7403f304-0774-4526-b245-4e427d6813cb",
   "metadata": {},
   "outputs": [],
   "source": [
    "# # Read the input JSON file    \n",
    "# f = open(covid_dataset_path + '/COVID.json')\n",
    "# covid_data = json.load(f)\n",
    "\n",
    "# # Randomly sample 3000 items\n",
    "# random_indices = random.sample(range(len(covid_data)), 3000)\n",
    "# selected_rows = [covid_data[i] for i in random_indices]\n",
    "\n",
    "# # Write the selected data to a new JSON file\n",
    "# output_json_path = covid_dataset_path + '/COVIDshort.json'\n",
    "# with open(output_json_path, 'w') as json_output_file:\n",
    "#     json.dump(selected_rows, json_output_file)\n",
    "# print('done')"
   ]
  },
  {
   "cell_type": "markdown",
   "id": "975fd143-993c-415b-8c55-b53ca0ca547c",
   "metadata": {},
   "source": [
    "### Load datasets and model"
   ]
  },
  {
   "cell_type": "code",
   "execution_count": 3,
   "id": "58f6a02c-eb4d-4e19-955d-86f211bf1b16",
   "metadata": {},
   "outputs": [],
   "source": [
    "transform = cxr_image_transform(resize=512, center_crop_size=480, train=False) \n",
    "\n",
    "RSNAdataset = RSNAPneumoniaDataset(rsna_dataset_path, transform)\n",
    "COVIDdataset = COVIDDataset(covid_dataset_path, transform)"
   ]
  },
  {
   "cell_type": "code",
   "execution_count": 4,
   "id": "9f743287-75b0-4ce3-bea9-8e858c40d79d",
   "metadata": {},
   "outputs": [],
   "source": [
    "device = torch.device(\"cuda\" if torch.cuda.is_available() else \"cpu\")\n",
    "\n",
    "with open (config_path) as file:\n",
    "    config = yaml.safe_load(file)\n",
    "    \n",
    "model = Experiment(config)\n",
    "model = model.load_from_checkpoint(ckpt_path)\n",
    "model = model.model.to(device)\n",
    "model.device = device"
   ]
  },
  {
   "cell_type": "markdown",
   "id": "b3046bf4-fe11-46e6-93aa-5c03527005ee",
   "metadata": {},
   "source": [
    "### RSNA dataset evaluation\n",
    "The RSNA Pneumonia detection dataset has two classes: pneumonia (1) or no pneumonia (0). "
   ]
  },
  {
   "cell_type": "code",
   "execution_count": 5,
   "id": "43b56ff6-4cb1-416d-a399-e2b3cf5b94c3",
   "metadata": {},
   "outputs": [
    {
     "name": "stdout",
     "output_type": "stream",
     "text": [
      "Prompt:  Question: Does this image have Pneumonia? Yes or No? Answer: \n",
      "Predicted class:  \n",
      "Pneumothorax. No pleural effusion. No sphenorum. No pleural effusion. No hemangioma. No\n",
      "Correct Answer:  0\n"
     ]
    }
   ],
   "source": [
    "img, correct_class = RSNAdataset[5]\n",
    "prompt = \"Question: Does this image have Pneumonia? Yes or No? Answer: \"\n",
    "# prompt = \"Pneumonia or no pneumonia?\"\n",
    "print(\"Prompt: \", prompt)\n",
    "\n",
    "with torch.inference_mode():\n",
    "    model.eval()\n",
    "    prompts = [img, prompt] \n",
    "    print(\"Predicted class: \", model.generate_for_images_and_texts(prompts, top_p=0.9, temperature=0.5))\n",
    "    \n",
    "print(\"Correct Answer: \", correct_class)"
   ]
  },
  {
   "cell_type": "code",
   "execution_count": 6,
   "id": "3ad974f9-5fef-4fa4-a1ad-64045e397240",
   "metadata": {},
   "outputs": [
    {
     "name": "stdout",
     "output_type": "stream",
     "text": [
      "Prompt:  Question: Does this image have Pneumonia? Yes or No? Answer: \n",
      "Predicted class:  \n",
      "Yes, there is no right sided pleural effusion. No focal lung mass. No focal lung mass. No focal lung mass. No focal lung mass\n",
      "Correct Answer:  1\n"
     ]
    }
   ],
   "source": [
    "img, correct_class = RSNAdataset[4]\n",
    "prompt = \"Question: Does this image have Pneumonia? Yes or No? Answer: \"\n",
    "# prompt = \"Pneumonia or no pneumonia?\"\n",
    "print(\"Prompt: \", prompt)\n",
    "\n",
    "with torch.inference_mode():\n",
    "    model.eval()\n",
    "    prompts = [img, prompt] \n",
    "    print(\"Predicted class: \", model.generate_for_images_and_texts(prompts, top_p=0.9, temperature=0.5))\n",
    "    \n",
    "print(\"Correct Answer: \", correct_class)"
   ]
  },
  {
   "cell_type": "code",
   "execution_count": 7,
   "id": "a0cc8300-52ef-496b-8e07-7b80cdc45272",
   "metadata": {},
   "outputs": [
    {
     "name": "stderr",
     "output_type": "stream",
     "text": [
      "100%|██████████| 3538/3538 [1:02:28<00:00,  1.06s/it]"
     ]
    },
    {
     "name": "stdout",
     "output_type": "stream",
     "text": [
      "577 / 3538\n",
      "16.308648954211417 % correct\n"
     ]
    },
    {
     "name": "stderr",
     "output_type": "stream",
     "text": [
      "\n"
     ]
    }
   ],
   "source": [
    "import string \n",
    "\n",
    "right_answers = 0\n",
    "total_answers = 0\n",
    "\n",
    "def get_model_response(prompts):\n",
    "    model_ans_full = model.generate_for_images_and_texts(prompts, top_p=0.9, temperature=0.5)\n",
    "    model_ans = model_ans_full.translate(str.maketrans('', '', string.punctuation)) # remove punctuation\n",
    "    try: \n",
    "        model_ans = model_ans.split()[0] # take only the first word, sometimes model makes a whole sentence\n",
    "        return str(model_ans)\n",
    "    except:\n",
    "        return str(model_ans)\n",
    "\n",
    "for idx in tqdm(RSNAdataset):\n",
    "    img, ans = idx \n",
    "    if ans == 0:\n",
    "        ans = 'yes'\n",
    "    else:\n",
    "        ans = 'no'\n",
    "    with torch.inference_mode():\n",
    "        model.eval()\n",
    "        prompts = [idx[0], \"Question: Does this image have Pneumonia? Yes or No? Answer: \"] \n",
    "        for _ in range(4): # try 5 times to get the correct answer\n",
    "            model_ans = get_model_response(prompts)\n",
    "            if model_ans.lower() == ans.lower():\n",
    "                right_answers += 1\n",
    "                break\n",
    "            else:\n",
    "                pass\n",
    "        total_answers += 1        \n",
    "\n",
    "print(right_answers, '/', total_answers )\n",
    "print((right_answers/total_answers)*100, '% correct')"
   ]
  },
  {
   "cell_type": "markdown",
   "id": "b21752ac-8730-4693-b8f3-acfe43148aa5",
   "metadata": {},
   "source": [
    "### COVID dataset evaluation\n",
    "The COVID dataset has three classes: (1) Normal, (2) COVID-19, and (3) Non-COVID"
   ]
  },
  {
   "cell_type": "code",
   "execution_count": 8,
   "id": "8037c8fa-cfec-4a2c-a8f3-a7cfe9ebc7d8",
   "metadata": {},
   "outputs": [
    {
     "name": "stdout",
     "output_type": "stream",
     "text": [
      "Prompt:  Question: Choose from the following classes: Normal, COVID-19, Non-Covid. Answer: \n",
      "Predicted class:  \n",
      "The patient is asymptomatic. The patient is asymptomatic. The patient is asymptomatic. The patient is asymptomatic\n",
      "Correct Answer:  COVID-19\n"
     ]
    }
   ],
   "source": [
    "img, correct_class = COVIDdataset[0]\n",
    "prompt = \"Question: Choose from the following classes: Normal, COVID-19, Non-Covid. Answer: \"\n",
    "print(\"Prompt: \", prompt)\n",
    "\n",
    "with torch.inference_mode():\n",
    "    model.eval()\n",
    "    prompts = [img, prompt] \n",
    "    print(\"Predicted class: \", model.generate_for_images_and_texts(prompts, top_p=0.9, temperature=0.5))\n",
    "    \n",
    "print(\"Correct Answer: \", correct_class)"
   ]
  },
  {
   "cell_type": "code",
   "execution_count": 9,
   "id": "d5f3f674-3718-4b56-ab7a-985f71b53434",
   "metadata": {},
   "outputs": [
    {
     "name": "stderr",
     "output_type": "stream",
     "text": [
      "100%|██████████| 3000/3000 [57:08<00:00,  1.14s/it] "
     ]
    },
    {
     "name": "stdout",
     "output_type": "stream",
     "text": [
      "0 / 3000\n",
      "0.0 % correct\n"
     ]
    },
    {
     "name": "stderr",
     "output_type": "stream",
     "text": [
      "\n"
     ]
    }
   ],
   "source": [
    "import string \n",
    "\n",
    "right_answers = 0\n",
    "total_answers = 0\n",
    "\n",
    "def get_model_response(prompts):\n",
    "    model_ans_full = model.generate_for_images_and_texts(prompts, top_p=0.9, temperature=0.5)\n",
    "    model_ans = model_ans_full.translate(str.maketrans('', '', string.punctuation)) # remove punctuation\n",
    "    try: \n",
    "        model_ans = model_ans.split()[0] # take only the first word, sometimes model makes a whole sentence\n",
    "        return str(model_ans)\n",
    "    except:\n",
    "        return str(model_ans)\n",
    "\n",
    "for idx in tqdm(COVIDdataset):\n",
    "    img, ans = idx \n",
    "    with torch.inference_mode():\n",
    "        model.eval()\n",
    "        prompts = [idx[0], \"Question: Choose if the patient case is Normal, COVID-19, or Non-Covid. Answer: \"] \n",
    "        for _ in range(4): # try 5 times to get the correct answer\n",
    "            model_ans = get_model_response(prompts)\n",
    "            if model_ans.lower() == ans.lower():\n",
    "                right_answers += 1\n",
    "                break\n",
    "            else:\n",
    "                pass\n",
    "        total_answers += 1        \n",
    "\n",
    "print(right_answers, '/', total_answers )\n",
    "print((right_answers/total_answers)*100, '% correct')"
   ]
  }
 ],
 "metadata": {
  "kernelspec": {
   "display_name": "fromage_env_kernel",
   "language": "python",
   "name": "fromage_env_kernel"
  },
  "language_info": {
   "codemirror_mode": {
    "name": "ipython",
    "version": 3
   },
   "file_extension": ".py",
   "mimetype": "text/x-python",
   "name": "python",
   "nbconvert_exporter": "python",
   "pygments_lexer": "ipython3",
   "version": "3.10.12"
  }
 },
 "nbformat": 4,
 "nbformat_minor": 5
}
