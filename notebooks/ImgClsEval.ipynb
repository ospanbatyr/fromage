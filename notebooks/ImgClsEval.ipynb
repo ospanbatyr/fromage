{
 "cells": [
  {
   "cell_type": "markdown",
   "id": "9c85bc09-335c-42a0-a45a-9c9754cb0e8d",
   "metadata": {},
   "source": [
    "# Image Classification Evaluation\n",
    "### Imports & Config"
   ]
  },
  {
   "cell_type": "code",
   "execution_count": 1,
   "id": "4a6d9082-9081-4467-9030-7e114ac7829d",
   "metadata": {},
   "outputs": [
    {
     "name": "stderr",
     "output_type": "stream",
     "text": [
      "/kuacc/users/oince22/.conda/envs/fromage/lib/python3.10/site-packages/tqdm/auto.py:21: TqdmWarning: IProgress not found. Please update jupyter and ipywidgets. See https://ipywidgets.readthedocs.io/en/stable/user_install.html\n",
      "  from .autonotebook import tqdm as notebook_tqdm\n"
     ]
    }
   ],
   "source": [
    "import sys\n",
    "import torch\n",
    "import numpy as np\n",
    "import yaml\n",
    "import pandas as pd\n",
    "from tqdm import tqdm\n",
    "import random\n",
    "import json\n",
    "import os\n",
    "from collections import OrderedDict\n",
    "\n",
    "from fromage.imgcls_dataset import RSNAPneumoniaDataset, COVIDDataset\n",
    "from fromage.data import cxr_image_transform\n",
    "from fromage.experiment import Experiment"
   ]
  },
  {
   "cell_type": "code",
   "execution_count": 2,
   "id": "5248e307-746e-4725-a366-22a25d3f3bab",
   "metadata": {},
   "outputs": [],
   "source": [
    "rsna_dataset_path = '../data/datasets/RSNA'\n",
    "covid_dataset_path = \"../data/datasets/COVID_QU_EX\"\n",
    "\n",
    "ckpt_path = \"../logs/checkpoints/debug_2/last.ckpt\"\n",
    "config_path = \"../logs/checkpoints/debug_2/config.yaml\""
   ]
  },
  {
   "cell_type": "markdown",
   "id": "975fd143-993c-415b-8c55-b53ca0ca547c",
   "metadata": {},
   "source": [
    "### Load datasets and model"
   ]
  },
  {
   "cell_type": "code",
   "execution_count": 3,
   "id": "58f6a02c-eb4d-4e19-955d-86f211bf1b16",
   "metadata": {},
   "outputs": [],
   "source": [
    "transform = cxr_image_transform(resize=512, center_crop_size=480, train=False) \n",
    "\n",
    "RSNAdataset = RSNAPneumoniaDataset(rsna_dataset_path, transform)\n",
    "COVIDdataset = COVIDDataset(covid_dataset_path, transform)"
   ]
  },
  {
   "cell_type": "code",
   "execution_count": 4,
   "id": "9f743287-75b0-4ce3-bea9-8e858c40d79d",
   "metadata": {},
   "outputs": [
    {
     "name": "stderr",
     "output_type": "stream",
     "text": [
      "/kuacc/users/oince22/.conda/envs/fromage/lib/python3.10/site-packages/torch/overrides.py:110: UserWarning: 'has_cuda' is deprecated, please use 'torch.backends.cuda.is_built()'\n",
      "  torch.has_cuda,\n",
      "/kuacc/users/oince22/.conda/envs/fromage/lib/python3.10/site-packages/torch/overrides.py:111: UserWarning: 'has_cudnn' is deprecated, please use 'torch.backends.cudnn.is_available()'\n",
      "  torch.has_cudnn,\n",
      "/kuacc/users/oince22/.conda/envs/fromage/lib/python3.10/site-packages/torch/overrides.py:117: UserWarning: 'has_mps' is deprecated, please use 'torch.backends.mps.is_built()'\n",
      "  torch.has_mps,\n",
      "/kuacc/users/oince22/.conda/envs/fromage/lib/python3.10/site-packages/torch/overrides.py:118: UserWarning: 'has_mkldnn' is deprecated, please use 'torch.backends.mkldnn.is_available()'\n",
      "  torch.has_mkldnn,\n"
     ]
    },
    {
     "name": "stdout",
     "output_type": "stream",
     "text": [
      "_IncompatibleKeys(missing_keys=['lm.model.decoder.embed_tokens.weight', 'lm.model.decoder.embed_positions.weight', 'lm.model.decoder.final_layer_norm.weight', 'lm.model.decoder.final_layer_norm.bias', 'lm.model.decoder.layers.0.self_attn.k_proj.weight', 'lm.model.decoder.layers.0.self_attn.k_proj.bias', 'lm.model.decoder.layers.0.self_attn.v_proj.weight', 'lm.model.decoder.layers.0.self_attn.v_proj.bias', 'lm.model.decoder.layers.0.self_attn.q_proj.weight', 'lm.model.decoder.layers.0.self_attn.q_proj.bias', 'lm.model.decoder.layers.0.self_attn.out_proj.weight', 'lm.model.decoder.layers.0.self_attn.out_proj.bias', 'lm.model.decoder.layers.0.self_attn_layer_norm.weight', 'lm.model.decoder.layers.0.self_attn_layer_norm.bias', 'lm.model.decoder.layers.0.fc1.weight', 'lm.model.decoder.layers.0.fc1.bias', 'lm.model.decoder.layers.0.fc2.weight', 'lm.model.decoder.layers.0.fc2.bias', 'lm.model.decoder.layers.0.final_layer_norm.weight', 'lm.model.decoder.layers.0.final_layer_norm.bias', 'lm.model.decoder.layers.1.self_attn.k_proj.weight', 'lm.model.decoder.layers.1.self_attn.k_proj.bias', 'lm.model.decoder.layers.1.self_attn.v_proj.weight', 'lm.model.decoder.layers.1.self_attn.v_proj.bias', 'lm.model.decoder.layers.1.self_attn.q_proj.weight', 'lm.model.decoder.layers.1.self_attn.q_proj.bias', 'lm.model.decoder.layers.1.self_attn.out_proj.weight', 'lm.model.decoder.layers.1.self_attn.out_proj.bias', 'lm.model.decoder.layers.1.self_attn_layer_norm.weight', 'lm.model.decoder.layers.1.self_attn_layer_norm.bias', 'lm.model.decoder.layers.1.fc1.weight', 'lm.model.decoder.layers.1.fc1.bias', 'lm.model.decoder.layers.1.fc2.weight', 'lm.model.decoder.layers.1.fc2.bias', 'lm.model.decoder.layers.1.final_layer_norm.weight', 'lm.model.decoder.layers.1.final_layer_norm.bias', 'lm.model.decoder.layers.2.self_attn.k_proj.weight', 'lm.model.decoder.layers.2.self_attn.k_proj.bias', 'lm.model.decoder.layers.2.self_attn.v_proj.weight', 'lm.model.decoder.layers.2.self_attn.v_proj.bias', 'lm.model.decoder.layers.2.self_attn.q_proj.weight', 'lm.model.decoder.layers.2.self_attn.q_proj.bias', 'lm.model.decoder.layers.2.self_attn.out_proj.weight', 'lm.model.decoder.layers.2.self_attn.out_proj.bias', 'lm.model.decoder.layers.2.self_attn_layer_norm.weight', 'lm.model.decoder.layers.2.self_attn_layer_norm.bias', 'lm.model.decoder.layers.2.fc1.weight', 'lm.model.decoder.layers.2.fc1.bias', 'lm.model.decoder.layers.2.fc2.weight', 'lm.model.decoder.layers.2.fc2.bias', 'lm.model.decoder.layers.2.final_layer_norm.weight', 'lm.model.decoder.layers.2.final_layer_norm.bias', 'lm.model.decoder.layers.3.self_attn.k_proj.weight', 'lm.model.decoder.layers.3.self_attn.k_proj.bias', 'lm.model.decoder.layers.3.self_attn.v_proj.weight', 'lm.model.decoder.layers.3.self_attn.v_proj.bias', 'lm.model.decoder.layers.3.self_attn.q_proj.weight', 'lm.model.decoder.layers.3.self_attn.q_proj.bias', 'lm.model.decoder.layers.3.self_attn.out_proj.weight', 'lm.model.decoder.layers.3.self_attn.out_proj.bias', 'lm.model.decoder.layers.3.self_attn_layer_norm.weight', 'lm.model.decoder.layers.3.self_attn_layer_norm.bias', 'lm.model.decoder.layers.3.fc1.weight', 'lm.model.decoder.layers.3.fc1.bias', 'lm.model.decoder.layers.3.fc2.weight', 'lm.model.decoder.layers.3.fc2.bias', 'lm.model.decoder.layers.3.final_layer_norm.weight', 'lm.model.decoder.layers.3.final_layer_norm.bias', 'lm.model.decoder.layers.4.self_attn.k_proj.weight', 'lm.model.decoder.layers.4.self_attn.k_proj.bias', 'lm.model.decoder.layers.4.self_attn.v_proj.weight', 'lm.model.decoder.layers.4.self_attn.v_proj.bias', 'lm.model.decoder.layers.4.self_attn.q_proj.weight', 'lm.model.decoder.layers.4.self_attn.q_proj.bias', 'lm.model.decoder.layers.4.self_attn.out_proj.weight', 'lm.model.decoder.layers.4.self_attn.out_proj.bias', 'lm.model.decoder.layers.4.self_attn_layer_norm.weight', 'lm.model.decoder.layers.4.self_attn_layer_norm.bias', 'lm.model.decoder.layers.4.fc1.weight', 'lm.model.decoder.layers.4.fc1.bias', 'lm.model.decoder.layers.4.fc2.weight', 'lm.model.decoder.layers.4.fc2.bias', 'lm.model.decoder.layers.4.final_layer_norm.weight', 'lm.model.decoder.layers.4.final_layer_norm.bias', 'lm.model.decoder.layers.5.self_attn.k_proj.weight', 'lm.model.decoder.layers.5.self_attn.k_proj.bias', 'lm.model.decoder.layers.5.self_attn.v_proj.weight', 'lm.model.decoder.layers.5.self_attn.v_proj.bias', 'lm.model.decoder.layers.5.self_attn.q_proj.weight', 'lm.model.decoder.layers.5.self_attn.q_proj.bias', 'lm.model.decoder.layers.5.self_attn.out_proj.weight', 'lm.model.decoder.layers.5.self_attn.out_proj.bias', 'lm.model.decoder.layers.5.self_attn_layer_norm.weight', 'lm.model.decoder.layers.5.self_attn_layer_norm.bias', 'lm.model.decoder.layers.5.fc1.weight', 'lm.model.decoder.layers.5.fc1.bias', 'lm.model.decoder.layers.5.fc2.weight', 'lm.model.decoder.layers.5.fc2.bias', 'lm.model.decoder.layers.5.final_layer_norm.weight', 'lm.model.decoder.layers.5.final_layer_norm.bias', 'lm.model.decoder.layers.6.self_attn.k_proj.weight', 'lm.model.decoder.layers.6.self_attn.k_proj.bias', 'lm.model.decoder.layers.6.self_attn.v_proj.weight', 'lm.model.decoder.layers.6.self_attn.v_proj.bias', 'lm.model.decoder.layers.6.self_attn.q_proj.weight', 'lm.model.decoder.layers.6.self_attn.q_proj.bias', 'lm.model.decoder.layers.6.self_attn.out_proj.weight', 'lm.model.decoder.layers.6.self_attn.out_proj.bias', 'lm.model.decoder.layers.6.self_attn_layer_norm.weight', 'lm.model.decoder.layers.6.self_attn_layer_norm.bias', 'lm.model.decoder.layers.6.fc1.weight', 'lm.model.decoder.layers.6.fc1.bias', 'lm.model.decoder.layers.6.fc2.weight', 'lm.model.decoder.layers.6.fc2.bias', 'lm.model.decoder.layers.6.final_layer_norm.weight', 'lm.model.decoder.layers.6.final_layer_norm.bias', 'lm.model.decoder.layers.7.self_attn.k_proj.weight', 'lm.model.decoder.layers.7.self_attn.k_proj.bias', 'lm.model.decoder.layers.7.self_attn.v_proj.weight', 'lm.model.decoder.layers.7.self_attn.v_proj.bias', 'lm.model.decoder.layers.7.self_attn.q_proj.weight', 'lm.model.decoder.layers.7.self_attn.q_proj.bias', 'lm.model.decoder.layers.7.self_attn.out_proj.weight', 'lm.model.decoder.layers.7.self_attn.out_proj.bias', 'lm.model.decoder.layers.7.self_attn_layer_norm.weight', 'lm.model.decoder.layers.7.self_attn_layer_norm.bias', 'lm.model.decoder.layers.7.fc1.weight', 'lm.model.decoder.layers.7.fc1.bias', 'lm.model.decoder.layers.7.fc2.weight', 'lm.model.decoder.layers.7.fc2.bias', 'lm.model.decoder.layers.7.final_layer_norm.weight', 'lm.model.decoder.layers.7.final_layer_norm.bias', 'lm.model.decoder.layers.8.self_attn.k_proj.weight', 'lm.model.decoder.layers.8.self_attn.k_proj.bias', 'lm.model.decoder.layers.8.self_attn.v_proj.weight', 'lm.model.decoder.layers.8.self_attn.v_proj.bias', 'lm.model.decoder.layers.8.self_attn.q_proj.weight', 'lm.model.decoder.layers.8.self_attn.q_proj.bias', 'lm.model.decoder.layers.8.self_attn.out_proj.weight', 'lm.model.decoder.layers.8.self_attn.out_proj.bias', 'lm.model.decoder.layers.8.self_attn_layer_norm.weight', 'lm.model.decoder.layers.8.self_attn_layer_norm.bias', 'lm.model.decoder.layers.8.fc1.weight', 'lm.model.decoder.layers.8.fc1.bias', 'lm.model.decoder.layers.8.fc2.weight', 'lm.model.decoder.layers.8.fc2.bias', 'lm.model.decoder.layers.8.final_layer_norm.weight', 'lm.model.decoder.layers.8.final_layer_norm.bias', 'lm.model.decoder.layers.9.self_attn.k_proj.weight', 'lm.model.decoder.layers.9.self_attn.k_proj.bias', 'lm.model.decoder.layers.9.self_attn.v_proj.weight', 'lm.model.decoder.layers.9.self_attn.v_proj.bias', 'lm.model.decoder.layers.9.self_attn.q_proj.weight', 'lm.model.decoder.layers.9.self_attn.q_proj.bias', 'lm.model.decoder.layers.9.self_attn.out_proj.weight', 'lm.model.decoder.layers.9.self_attn.out_proj.bias', 'lm.model.decoder.layers.9.self_attn_layer_norm.weight', 'lm.model.decoder.layers.9.self_attn_layer_norm.bias', 'lm.model.decoder.layers.9.fc1.weight', 'lm.model.decoder.layers.9.fc1.bias', 'lm.model.decoder.layers.9.fc2.weight', 'lm.model.decoder.layers.9.fc2.bias', 'lm.model.decoder.layers.9.final_layer_norm.weight', 'lm.model.decoder.layers.9.final_layer_norm.bias', 'lm.model.decoder.layers.10.self_attn.k_proj.weight', 'lm.model.decoder.layers.10.self_attn.k_proj.bias', 'lm.model.decoder.layers.10.self_attn.v_proj.weight', 'lm.model.decoder.layers.10.self_attn.v_proj.bias', 'lm.model.decoder.layers.10.self_attn.q_proj.weight', 'lm.model.decoder.layers.10.self_attn.q_proj.bias', 'lm.model.decoder.layers.10.self_attn.out_proj.weight', 'lm.model.decoder.layers.10.self_attn.out_proj.bias', 'lm.model.decoder.layers.10.self_attn_layer_norm.weight', 'lm.model.decoder.layers.10.self_attn_layer_norm.bias', 'lm.model.decoder.layers.10.fc1.weight', 'lm.model.decoder.layers.10.fc1.bias', 'lm.model.decoder.layers.10.fc2.weight', 'lm.model.decoder.layers.10.fc2.bias', 'lm.model.decoder.layers.10.final_layer_norm.weight', 'lm.model.decoder.layers.10.final_layer_norm.bias', 'lm.model.decoder.layers.11.self_attn.k_proj.weight', 'lm.model.decoder.layers.11.self_attn.k_proj.bias', 'lm.model.decoder.layers.11.self_attn.v_proj.weight', 'lm.model.decoder.layers.11.self_attn.v_proj.bias', 'lm.model.decoder.layers.11.self_attn.q_proj.weight', 'lm.model.decoder.layers.11.self_attn.q_proj.bias', 'lm.model.decoder.layers.11.self_attn.out_proj.weight', 'lm.model.decoder.layers.11.self_attn.out_proj.bias', 'lm.model.decoder.layers.11.self_attn_layer_norm.weight', 'lm.model.decoder.layers.11.self_attn_layer_norm.bias', 'lm.model.decoder.layers.11.fc1.weight', 'lm.model.decoder.layers.11.fc1.bias', 'lm.model.decoder.layers.11.fc2.weight', 'lm.model.decoder.layers.11.fc2.bias', 'lm.model.decoder.layers.11.final_layer_norm.weight', 'lm.model.decoder.layers.11.final_layer_norm.bias', 'lm.lm_head.weight', 'vm.model.conv1.weight', 'vm.model.bn1.weight', 'vm.model.bn1.bias', 'vm.model.bn1.running_mean', 'vm.model.bn1.running_var', 'vm.model.layer1.0.conv1.weight', 'vm.model.layer1.0.bn1.weight', 'vm.model.layer1.0.bn1.bias', 'vm.model.layer1.0.bn1.running_mean', 'vm.model.layer1.0.bn1.running_var', 'vm.model.layer1.0.conv2.weight', 'vm.model.layer1.0.bn2.weight', 'vm.model.layer1.0.bn2.bias', 'vm.model.layer1.0.bn2.running_mean', 'vm.model.layer1.0.bn2.running_var', 'vm.model.layer1.0.conv3.weight', 'vm.model.layer1.0.bn3.weight', 'vm.model.layer1.0.bn3.bias', 'vm.model.layer1.0.bn3.running_mean', 'vm.model.layer1.0.bn3.running_var', 'vm.model.layer1.0.downsample.0.weight', 'vm.model.layer1.0.downsample.1.weight', 'vm.model.layer1.0.downsample.1.bias', 'vm.model.layer1.0.downsample.1.running_mean', 'vm.model.layer1.0.downsample.1.running_var', 'vm.model.layer1.1.conv1.weight', 'vm.model.layer1.1.bn1.weight', 'vm.model.layer1.1.bn1.bias', 'vm.model.layer1.1.bn1.running_mean', 'vm.model.layer1.1.bn1.running_var', 'vm.model.layer1.1.conv2.weight', 'vm.model.layer1.1.bn2.weight', 'vm.model.layer1.1.bn2.bias', 'vm.model.layer1.1.bn2.running_mean', 'vm.model.layer1.1.bn2.running_var', 'vm.model.layer1.1.conv3.weight', 'vm.model.layer1.1.bn3.weight', 'vm.model.layer1.1.bn3.bias', 'vm.model.layer1.1.bn3.running_mean', 'vm.model.layer1.1.bn3.running_var', 'vm.model.layer1.2.conv1.weight', 'vm.model.layer1.2.bn1.weight', 'vm.model.layer1.2.bn1.bias', 'vm.model.layer1.2.bn1.running_mean', 'vm.model.layer1.2.bn1.running_var', 'vm.model.layer1.2.conv2.weight', 'vm.model.layer1.2.bn2.weight', 'vm.model.layer1.2.bn2.bias', 'vm.model.layer1.2.bn2.running_mean', 'vm.model.layer1.2.bn2.running_var', 'vm.model.layer1.2.conv3.weight', 'vm.model.layer1.2.bn3.weight', 'vm.model.layer1.2.bn3.bias', 'vm.model.layer1.2.bn3.running_mean', 'vm.model.layer1.2.bn3.running_var', 'vm.model.layer2.0.conv1.weight', 'vm.model.layer2.0.bn1.weight', 'vm.model.layer2.0.bn1.bias', 'vm.model.layer2.0.bn1.running_mean', 'vm.model.layer2.0.bn1.running_var', 'vm.model.layer2.0.conv2.weight', 'vm.model.layer2.0.bn2.weight', 'vm.model.layer2.0.bn2.bias', 'vm.model.layer2.0.bn2.running_mean', 'vm.model.layer2.0.bn2.running_var', 'vm.model.layer2.0.conv3.weight', 'vm.model.layer2.0.bn3.weight', 'vm.model.layer2.0.bn3.bias', 'vm.model.layer2.0.bn3.running_mean', 'vm.model.layer2.0.bn3.running_var', 'vm.model.layer2.0.downsample.0.weight', 'vm.model.layer2.0.downsample.1.weight', 'vm.model.layer2.0.downsample.1.bias', 'vm.model.layer2.0.downsample.1.running_mean', 'vm.model.layer2.0.downsample.1.running_var', 'vm.model.layer2.1.conv1.weight', 'vm.model.layer2.1.bn1.weight', 'vm.model.layer2.1.bn1.bias', 'vm.model.layer2.1.bn1.running_mean', 'vm.model.layer2.1.bn1.running_var', 'vm.model.layer2.1.conv2.weight', 'vm.model.layer2.1.bn2.weight', 'vm.model.layer2.1.bn2.bias', 'vm.model.layer2.1.bn2.running_mean', 'vm.model.layer2.1.bn2.running_var', 'vm.model.layer2.1.conv3.weight', 'vm.model.layer2.1.bn3.weight', 'vm.model.layer2.1.bn3.bias', 'vm.model.layer2.1.bn3.running_mean', 'vm.model.layer2.1.bn3.running_var', 'vm.model.layer2.2.conv1.weight', 'vm.model.layer2.2.bn1.weight', 'vm.model.layer2.2.bn1.bias', 'vm.model.layer2.2.bn1.running_mean', 'vm.model.layer2.2.bn1.running_var', 'vm.model.layer2.2.conv2.weight', 'vm.model.layer2.2.bn2.weight', 'vm.model.layer2.2.bn2.bias', 'vm.model.layer2.2.bn2.running_mean', 'vm.model.layer2.2.bn2.running_var', 'vm.model.layer2.2.conv3.weight', 'vm.model.layer2.2.bn3.weight', 'vm.model.layer2.2.bn3.bias', 'vm.model.layer2.2.bn3.running_mean', 'vm.model.layer2.2.bn3.running_var', 'vm.model.layer2.3.conv1.weight', 'vm.model.layer2.3.bn1.weight', 'vm.model.layer2.3.bn1.bias', 'vm.model.layer2.3.bn1.running_mean', 'vm.model.layer2.3.bn1.running_var', 'vm.model.layer2.3.conv2.weight', 'vm.model.layer2.3.bn2.weight', 'vm.model.layer2.3.bn2.bias', 'vm.model.layer2.3.bn2.running_mean', 'vm.model.layer2.3.bn2.running_var', 'vm.model.layer2.3.conv3.weight', 'vm.model.layer2.3.bn3.weight', 'vm.model.layer2.3.bn3.bias', 'vm.model.layer2.3.bn3.running_mean', 'vm.model.layer2.3.bn3.running_var', 'vm.model.layer3.0.conv1.weight', 'vm.model.layer3.0.bn1.weight', 'vm.model.layer3.0.bn1.bias', 'vm.model.layer3.0.bn1.running_mean', 'vm.model.layer3.0.bn1.running_var', 'vm.model.layer3.0.conv2.weight', 'vm.model.layer3.0.bn2.weight', 'vm.model.layer3.0.bn2.bias', 'vm.model.layer3.0.bn2.running_mean', 'vm.model.layer3.0.bn2.running_var', 'vm.model.layer3.0.conv3.weight', 'vm.model.layer3.0.bn3.weight', 'vm.model.layer3.0.bn3.bias', 'vm.model.layer3.0.bn3.running_mean', 'vm.model.layer3.0.bn3.running_var', 'vm.model.layer3.0.downsample.0.weight', 'vm.model.layer3.0.downsample.1.weight', 'vm.model.layer3.0.downsample.1.bias', 'vm.model.layer3.0.downsample.1.running_mean', 'vm.model.layer3.0.downsample.1.running_var', 'vm.model.layer3.1.conv1.weight', 'vm.model.layer3.1.bn1.weight', 'vm.model.layer3.1.bn1.bias', 'vm.model.layer3.1.bn1.running_mean', 'vm.model.layer3.1.bn1.running_var', 'vm.model.layer3.1.conv2.weight', 'vm.model.layer3.1.bn2.weight', 'vm.model.layer3.1.bn2.bias', 'vm.model.layer3.1.bn2.running_mean', 'vm.model.layer3.1.bn2.running_var', 'vm.model.layer3.1.conv3.weight', 'vm.model.layer3.1.bn3.weight', 'vm.model.layer3.1.bn3.bias', 'vm.model.layer3.1.bn3.running_mean', 'vm.model.layer3.1.bn3.running_var', 'vm.model.layer3.2.conv1.weight', 'vm.model.layer3.2.bn1.weight', 'vm.model.layer3.2.bn1.bias', 'vm.model.layer3.2.bn1.running_mean', 'vm.model.layer3.2.bn1.running_var', 'vm.model.layer3.2.conv2.weight', 'vm.model.layer3.2.bn2.weight', 'vm.model.layer3.2.bn2.bias', 'vm.model.layer3.2.bn2.running_mean', 'vm.model.layer3.2.bn2.running_var', 'vm.model.layer3.2.conv3.weight', 'vm.model.layer3.2.bn3.weight', 'vm.model.layer3.2.bn3.bias', 'vm.model.layer3.2.bn3.running_mean', 'vm.model.layer3.2.bn3.running_var', 'vm.model.layer3.3.conv1.weight', 'vm.model.layer3.3.bn1.weight', 'vm.model.layer3.3.bn1.bias', 'vm.model.layer3.3.bn1.running_mean', 'vm.model.layer3.3.bn1.running_var', 'vm.model.layer3.3.conv2.weight', 'vm.model.layer3.3.bn2.weight', 'vm.model.layer3.3.bn2.bias', 'vm.model.layer3.3.bn2.running_mean', 'vm.model.layer3.3.bn2.running_var', 'vm.model.layer3.3.conv3.weight', 'vm.model.layer3.3.bn3.weight', 'vm.model.layer3.3.bn3.bias', 'vm.model.layer3.3.bn3.running_mean', 'vm.model.layer3.3.bn3.running_var', 'vm.model.layer3.4.conv1.weight', 'vm.model.layer3.4.bn1.weight', 'vm.model.layer3.4.bn1.bias', 'vm.model.layer3.4.bn1.running_mean', 'vm.model.layer3.4.bn1.running_var', 'vm.model.layer3.4.conv2.weight', 'vm.model.layer3.4.bn2.weight', 'vm.model.layer3.4.bn2.bias', 'vm.model.layer3.4.bn2.running_mean', 'vm.model.layer3.4.bn2.running_var', 'vm.model.layer3.4.conv3.weight', 'vm.model.layer3.4.bn3.weight', 'vm.model.layer3.4.bn3.bias', 'vm.model.layer3.4.bn3.running_mean', 'vm.model.layer3.4.bn3.running_var', 'vm.model.layer3.5.conv1.weight', 'vm.model.layer3.5.bn1.weight', 'vm.model.layer3.5.bn1.bias', 'vm.model.layer3.5.bn1.running_mean', 'vm.model.layer3.5.bn1.running_var', 'vm.model.layer3.5.conv2.weight', 'vm.model.layer3.5.bn2.weight', 'vm.model.layer3.5.bn2.bias', 'vm.model.layer3.5.bn2.running_mean', 'vm.model.layer3.5.bn2.running_var', 'vm.model.layer3.5.conv3.weight', 'vm.model.layer3.5.bn3.weight', 'vm.model.layer3.5.bn3.bias', 'vm.model.layer3.5.bn3.running_mean', 'vm.model.layer3.5.bn3.running_var', 'vm.model.layer4.0.conv1.weight', 'vm.model.layer4.0.bn1.weight', 'vm.model.layer4.0.bn1.bias', 'vm.model.layer4.0.bn1.running_mean', 'vm.model.layer4.0.bn1.running_var', 'vm.model.layer4.0.conv2.weight', 'vm.model.layer4.0.bn2.weight', 'vm.model.layer4.0.bn2.bias', 'vm.model.layer4.0.bn2.running_mean', 'vm.model.layer4.0.bn2.running_var', 'vm.model.layer4.0.conv3.weight', 'vm.model.layer4.0.bn3.weight', 'vm.model.layer4.0.bn3.bias', 'vm.model.layer4.0.bn3.running_mean', 'vm.model.layer4.0.bn3.running_var', 'vm.model.layer4.0.downsample.0.weight', 'vm.model.layer4.0.downsample.1.weight', 'vm.model.layer4.0.downsample.1.bias', 'vm.model.layer4.0.downsample.1.running_mean', 'vm.model.layer4.0.downsample.1.running_var', 'vm.model.layer4.1.conv1.weight', 'vm.model.layer4.1.bn1.weight', 'vm.model.layer4.1.bn1.bias', 'vm.model.layer4.1.bn1.running_mean', 'vm.model.layer4.1.bn1.running_var', 'vm.model.layer4.1.conv2.weight', 'vm.model.layer4.1.bn2.weight', 'vm.model.layer4.1.bn2.bias', 'vm.model.layer4.1.bn2.running_mean', 'vm.model.layer4.1.bn2.running_var', 'vm.model.layer4.1.conv3.weight', 'vm.model.layer4.1.bn3.weight', 'vm.model.layer4.1.bn3.bias', 'vm.model.layer4.1.bn3.running_mean', 'vm.model.layer4.1.bn3.running_var', 'vm.model.layer4.2.conv1.weight', 'vm.model.layer4.2.bn1.weight', 'vm.model.layer4.2.bn1.bias', 'vm.model.layer4.2.bn1.running_mean', 'vm.model.layer4.2.bn1.running_var', 'vm.model.layer4.2.conv2.weight', 'vm.model.layer4.2.bn2.weight', 'vm.model.layer4.2.bn2.bias', 'vm.model.layer4.2.bn2.running_mean', 'vm.model.layer4.2.bn2.running_var', 'vm.model.layer4.2.conv3.weight', 'vm.model.layer4.2.bn3.weight', 'vm.model.layer4.2.bn3.bias', 'vm.model.layer4.2.bn3.running_mean', 'vm.model.layer4.2.bn3.running_var', 'vm.model.fc.weight', 'vm.model.fc.bias', 'vm.feature_extractor.conv1.weight', 'vm.feature_extractor.bn1.weight', 'vm.feature_extractor.bn1.bias', 'vm.feature_extractor.bn1.running_mean', 'vm.feature_extractor.bn1.running_var', 'vm.feature_extractor.layer1.0.conv1.weight', 'vm.feature_extractor.layer1.0.bn1.weight', 'vm.feature_extractor.layer1.0.bn1.bias', 'vm.feature_extractor.layer1.0.bn1.running_mean', 'vm.feature_extractor.layer1.0.bn1.running_var', 'vm.feature_extractor.layer1.0.conv2.weight', 'vm.feature_extractor.layer1.0.bn2.weight', 'vm.feature_extractor.layer1.0.bn2.bias', 'vm.feature_extractor.layer1.0.bn2.running_mean', 'vm.feature_extractor.layer1.0.bn2.running_var', 'vm.feature_extractor.layer1.0.conv3.weight', 'vm.feature_extractor.layer1.0.bn3.weight', 'vm.feature_extractor.layer1.0.bn3.bias', 'vm.feature_extractor.layer1.0.bn3.running_mean', 'vm.feature_extractor.layer1.0.bn3.running_var', 'vm.feature_extractor.layer1.0.downsample.0.weight', 'vm.feature_extractor.layer1.0.downsample.1.weight', 'vm.feature_extractor.layer1.0.downsample.1.bias', 'vm.feature_extractor.layer1.0.downsample.1.running_mean', 'vm.feature_extractor.layer1.0.downsample.1.running_var', 'vm.feature_extractor.layer1.1.conv1.weight', 'vm.feature_extractor.layer1.1.bn1.weight', 'vm.feature_extractor.layer1.1.bn1.bias', 'vm.feature_extractor.layer1.1.bn1.running_mean', 'vm.feature_extractor.layer1.1.bn1.running_var', 'vm.feature_extractor.layer1.1.conv2.weight', 'vm.feature_extractor.layer1.1.bn2.weight', 'vm.feature_extractor.layer1.1.bn2.bias', 'vm.feature_extractor.layer1.1.bn2.running_mean', 'vm.feature_extractor.layer1.1.bn2.running_var', 'vm.feature_extractor.layer1.1.conv3.weight', 'vm.feature_extractor.layer1.1.bn3.weight', 'vm.feature_extractor.layer1.1.bn3.bias', 'vm.feature_extractor.layer1.1.bn3.running_mean', 'vm.feature_extractor.layer1.1.bn3.running_var', 'vm.feature_extractor.layer1.2.conv1.weight', 'vm.feature_extractor.layer1.2.bn1.weight', 'vm.feature_extractor.layer1.2.bn1.bias', 'vm.feature_extractor.layer1.2.bn1.running_mean', 'vm.feature_extractor.layer1.2.bn1.running_var', 'vm.feature_extractor.layer1.2.conv2.weight', 'vm.feature_extractor.layer1.2.bn2.weight', 'vm.feature_extractor.layer1.2.bn2.bias', 'vm.feature_extractor.layer1.2.bn2.running_mean', 'vm.feature_extractor.layer1.2.bn2.running_var', 'vm.feature_extractor.layer1.2.conv3.weight', 'vm.feature_extractor.layer1.2.bn3.weight', 'vm.feature_extractor.layer1.2.bn3.bias', 'vm.feature_extractor.layer1.2.bn3.running_mean', 'vm.feature_extractor.layer1.2.bn3.running_var', 'vm.feature_extractor.layer2.0.conv1.weight', 'vm.feature_extractor.layer2.0.bn1.weight', 'vm.feature_extractor.layer2.0.bn1.bias', 'vm.feature_extractor.layer2.0.bn1.running_mean', 'vm.feature_extractor.layer2.0.bn1.running_var', 'vm.feature_extractor.layer2.0.conv2.weight', 'vm.feature_extractor.layer2.0.bn2.weight', 'vm.feature_extractor.layer2.0.bn2.bias', 'vm.feature_extractor.layer2.0.bn2.running_mean', 'vm.feature_extractor.layer2.0.bn2.running_var', 'vm.feature_extractor.layer2.0.conv3.weight', 'vm.feature_extractor.layer2.0.bn3.weight', 'vm.feature_extractor.layer2.0.bn3.bias', 'vm.feature_extractor.layer2.0.bn3.running_mean', 'vm.feature_extractor.layer2.0.bn3.running_var', 'vm.feature_extractor.layer2.0.downsample.0.weight', 'vm.feature_extractor.layer2.0.downsample.1.weight', 'vm.feature_extractor.layer2.0.downsample.1.bias', 'vm.feature_extractor.layer2.0.downsample.1.running_mean', 'vm.feature_extractor.layer2.0.downsample.1.running_var', 'vm.feature_extractor.layer2.1.conv1.weight', 'vm.feature_extractor.layer2.1.bn1.weight', 'vm.feature_extractor.layer2.1.bn1.bias', 'vm.feature_extractor.layer2.1.bn1.running_mean', 'vm.feature_extractor.layer2.1.bn1.running_var', 'vm.feature_extractor.layer2.1.conv2.weight', 'vm.feature_extractor.layer2.1.bn2.weight', 'vm.feature_extractor.layer2.1.bn2.bias', 'vm.feature_extractor.layer2.1.bn2.running_mean', 'vm.feature_extractor.layer2.1.bn2.running_var', 'vm.feature_extractor.layer2.1.conv3.weight', 'vm.feature_extractor.layer2.1.bn3.weight', 'vm.feature_extractor.layer2.1.bn3.bias', 'vm.feature_extractor.layer2.1.bn3.running_mean', 'vm.feature_extractor.layer2.1.bn3.running_var', 'vm.feature_extractor.layer2.2.conv1.weight', 'vm.feature_extractor.layer2.2.bn1.weight', 'vm.feature_extractor.layer2.2.bn1.bias', 'vm.feature_extractor.layer2.2.bn1.running_mean', 'vm.feature_extractor.layer2.2.bn1.running_var', 'vm.feature_extractor.layer2.2.conv2.weight', 'vm.feature_extractor.layer2.2.bn2.weight', 'vm.feature_extractor.layer2.2.bn2.bias', 'vm.feature_extractor.layer2.2.bn2.running_mean', 'vm.feature_extractor.layer2.2.bn2.running_var', 'vm.feature_extractor.layer2.2.conv3.weight', 'vm.feature_extractor.layer2.2.bn3.weight', 'vm.feature_extractor.layer2.2.bn3.bias', 'vm.feature_extractor.layer2.2.bn3.running_mean', 'vm.feature_extractor.layer2.2.bn3.running_var', 'vm.feature_extractor.layer2.3.conv1.weight', 'vm.feature_extractor.layer2.3.bn1.weight', 'vm.feature_extractor.layer2.3.bn1.bias', 'vm.feature_extractor.layer2.3.bn1.running_mean', 'vm.feature_extractor.layer2.3.bn1.running_var', 'vm.feature_extractor.layer2.3.conv2.weight', 'vm.feature_extractor.layer2.3.bn2.weight', 'vm.feature_extractor.layer2.3.bn2.bias', 'vm.feature_extractor.layer2.3.bn2.running_mean', 'vm.feature_extractor.layer2.3.bn2.running_var', 'vm.feature_extractor.layer2.3.conv3.weight', 'vm.feature_extractor.layer2.3.bn3.weight', 'vm.feature_extractor.layer2.3.bn3.bias', 'vm.feature_extractor.layer2.3.bn3.running_mean', 'vm.feature_extractor.layer2.3.bn3.running_var', 'vm.feature_extractor.layer3.0.conv1.weight', 'vm.feature_extractor.layer3.0.bn1.weight', 'vm.feature_extractor.layer3.0.bn1.bias', 'vm.feature_extractor.layer3.0.bn1.running_mean', 'vm.feature_extractor.layer3.0.bn1.running_var', 'vm.feature_extractor.layer3.0.conv2.weight', 'vm.feature_extractor.layer3.0.bn2.weight', 'vm.feature_extractor.layer3.0.bn2.bias', 'vm.feature_extractor.layer3.0.bn2.running_mean', 'vm.feature_extractor.layer3.0.bn2.running_var', 'vm.feature_extractor.layer3.0.conv3.weight', 'vm.feature_extractor.layer3.0.bn3.weight', 'vm.feature_extractor.layer3.0.bn3.bias', 'vm.feature_extractor.layer3.0.bn3.running_mean', 'vm.feature_extractor.layer3.0.bn3.running_var', 'vm.feature_extractor.layer3.0.downsample.0.weight', 'vm.feature_extractor.layer3.0.downsample.1.weight', 'vm.feature_extractor.layer3.0.downsample.1.bias', 'vm.feature_extractor.layer3.0.downsample.1.running_mean', 'vm.feature_extractor.layer3.0.downsample.1.running_var', 'vm.feature_extractor.layer3.1.conv1.weight', 'vm.feature_extractor.layer3.1.bn1.weight', 'vm.feature_extractor.layer3.1.bn1.bias', 'vm.feature_extractor.layer3.1.bn1.running_mean', 'vm.feature_extractor.layer3.1.bn1.running_var', 'vm.feature_extractor.layer3.1.conv2.weight', 'vm.feature_extractor.layer3.1.bn2.weight', 'vm.feature_extractor.layer3.1.bn2.bias', 'vm.feature_extractor.layer3.1.bn2.running_mean', 'vm.feature_extractor.layer3.1.bn2.running_var', 'vm.feature_extractor.layer3.1.conv3.weight', 'vm.feature_extractor.layer3.1.bn3.weight', 'vm.feature_extractor.layer3.1.bn3.bias', 'vm.feature_extractor.layer3.1.bn3.running_mean', 'vm.feature_extractor.layer3.1.bn3.running_var', 'vm.feature_extractor.layer3.2.conv1.weight', 'vm.feature_extractor.layer3.2.bn1.weight', 'vm.feature_extractor.layer3.2.bn1.bias', 'vm.feature_extractor.layer3.2.bn1.running_mean', 'vm.feature_extractor.layer3.2.bn1.running_var', 'vm.feature_extractor.layer3.2.conv2.weight', 'vm.feature_extractor.layer3.2.bn2.weight', 'vm.feature_extractor.layer3.2.bn2.bias', 'vm.feature_extractor.layer3.2.bn2.running_mean', 'vm.feature_extractor.layer3.2.bn2.running_var', 'vm.feature_extractor.layer3.2.conv3.weight', 'vm.feature_extractor.layer3.2.bn3.weight', 'vm.feature_extractor.layer3.2.bn3.bias', 'vm.feature_extractor.layer3.2.bn3.running_mean', 'vm.feature_extractor.layer3.2.bn3.running_var', 'vm.feature_extractor.layer3.3.conv1.weight', 'vm.feature_extractor.layer3.3.bn1.weight', 'vm.feature_extractor.layer3.3.bn1.bias', 'vm.feature_extractor.layer3.3.bn1.running_mean', 'vm.feature_extractor.layer3.3.bn1.running_var', 'vm.feature_extractor.layer3.3.conv2.weight', 'vm.feature_extractor.layer3.3.bn2.weight', 'vm.feature_extractor.layer3.3.bn2.bias', 'vm.feature_extractor.layer3.3.bn2.running_mean', 'vm.feature_extractor.layer3.3.bn2.running_var', 'vm.feature_extractor.layer3.3.conv3.weight', 'vm.feature_extractor.layer3.3.bn3.weight', 'vm.feature_extractor.layer3.3.bn3.bias', 'vm.feature_extractor.layer3.3.bn3.running_mean', 'vm.feature_extractor.layer3.3.bn3.running_var', 'vm.feature_extractor.layer3.4.conv1.weight', 'vm.feature_extractor.layer3.4.bn1.weight', 'vm.feature_extractor.layer3.4.bn1.bias', 'vm.feature_extractor.layer3.4.bn1.running_mean', 'vm.feature_extractor.layer3.4.bn1.running_var', 'vm.feature_extractor.layer3.4.conv2.weight', 'vm.feature_extractor.layer3.4.bn2.weight', 'vm.feature_extractor.layer3.4.bn2.bias', 'vm.feature_extractor.layer3.4.bn2.running_mean', 'vm.feature_extractor.layer3.4.bn2.running_var', 'vm.feature_extractor.layer3.4.conv3.weight', 'vm.feature_extractor.layer3.4.bn3.weight', 'vm.feature_extractor.layer3.4.bn3.bias', 'vm.feature_extractor.layer3.4.bn3.running_mean', 'vm.feature_extractor.layer3.4.bn3.running_var', 'vm.feature_extractor.layer3.5.conv1.weight', 'vm.feature_extractor.layer3.5.bn1.weight', 'vm.feature_extractor.layer3.5.bn1.bias', 'vm.feature_extractor.layer3.5.bn1.running_mean', 'vm.feature_extractor.layer3.5.bn1.running_var', 'vm.feature_extractor.layer3.5.conv2.weight', 'vm.feature_extractor.layer3.5.bn2.weight', 'vm.feature_extractor.layer3.5.bn2.bias', 'vm.feature_extractor.layer3.5.bn2.running_mean', 'vm.feature_extractor.layer3.5.bn2.running_var', 'vm.feature_extractor.layer3.5.conv3.weight', 'vm.feature_extractor.layer3.5.bn3.weight', 'vm.feature_extractor.layer3.5.bn3.bias', 'vm.feature_extractor.layer3.5.bn3.running_mean', 'vm.feature_extractor.layer3.5.bn3.running_var', 'vm.feature_extractor.layer4.0.conv1.weight', 'vm.feature_extractor.layer4.0.bn1.weight', 'vm.feature_extractor.layer4.0.bn1.bias', 'vm.feature_extractor.layer4.0.bn1.running_mean', 'vm.feature_extractor.layer4.0.bn1.running_var', 'vm.feature_extractor.layer4.0.conv2.weight', 'vm.feature_extractor.layer4.0.bn2.weight', 'vm.feature_extractor.layer4.0.bn2.bias', 'vm.feature_extractor.layer4.0.bn2.running_mean', 'vm.feature_extractor.layer4.0.bn2.running_var', 'vm.feature_extractor.layer4.0.conv3.weight', 'vm.feature_extractor.layer4.0.bn3.weight', 'vm.feature_extractor.layer4.0.bn3.bias', 'vm.feature_extractor.layer4.0.bn3.running_mean', 'vm.feature_extractor.layer4.0.bn3.running_var', 'vm.feature_extractor.layer4.0.downsample.0.weight', 'vm.feature_extractor.layer4.0.downsample.1.weight', 'vm.feature_extractor.layer4.0.downsample.1.bias', 'vm.feature_extractor.layer4.0.downsample.1.running_mean', 'vm.feature_extractor.layer4.0.downsample.1.running_var', 'vm.feature_extractor.layer4.1.conv1.weight', 'vm.feature_extractor.layer4.1.bn1.weight', 'vm.feature_extractor.layer4.1.bn1.bias', 'vm.feature_extractor.layer4.1.bn1.running_mean', 'vm.feature_extractor.layer4.1.bn1.running_var', 'vm.feature_extractor.layer4.1.conv2.weight', 'vm.feature_extractor.layer4.1.bn2.weight', 'vm.feature_extractor.layer4.1.bn2.bias', 'vm.feature_extractor.layer4.1.bn2.running_mean', 'vm.feature_extractor.layer4.1.bn2.running_var', 'vm.feature_extractor.layer4.1.conv3.weight', 'vm.feature_extractor.layer4.1.bn3.weight', 'vm.feature_extractor.layer4.1.bn3.bias', 'vm.feature_extractor.layer4.1.bn3.running_mean', 'vm.feature_extractor.layer4.1.bn3.running_var', 'vm.feature_extractor.layer4.2.conv1.weight', 'vm.feature_extractor.layer4.2.bn1.weight', 'vm.feature_extractor.layer4.2.bn1.bias', 'vm.feature_extractor.layer4.2.bn1.running_mean', 'vm.feature_extractor.layer4.2.bn1.running_var', 'vm.feature_extractor.layer4.2.conv2.weight', 'vm.feature_extractor.layer4.2.bn2.weight', 'vm.feature_extractor.layer4.2.bn2.bias', 'vm.feature_extractor.layer4.2.bn2.running_mean', 'vm.feature_extractor.layer4.2.bn2.running_var', 'vm.feature_extractor.layer4.2.conv3.weight', 'vm.feature_extractor.layer4.2.bn3.weight', 'vm.feature_extractor.layer4.2.bn3.bias', 'vm.feature_extractor.layer4.2.bn3.running_mean', 'vm.feature_extractor.layer4.2.bn3.running_var'], unexpected_keys=[])\n"
     ]
    }
   ],
   "source": [
    "device = torch.device(\"cuda\" if torch.cuda.is_available() else \"cpu\")\n",
    "\n",
    "with open (config_path) as file:\n",
    "    config = yaml.safe_load(file)\n",
    "\n",
    "model = Experiment(config, inference=True)"
   ]
  },
  {
   "cell_type": "code",
   "execution_count": 5,
   "id": "2a340e08-3cab-4b0e-aec3-bb74e706f413",
   "metadata": {},
   "outputs": [
    {
     "name": "stdout",
     "output_type": "stream",
     "text": [
      "Parameter containing:\n",
      "tensor(265.9260, requires_grad=True)\n"
     ]
    }
   ],
   "source": [
    "print(model.model.model.logit_scale)"
   ]
  },
  {
   "cell_type": "code",
   "execution_count": 6,
   "id": "77b96141-c994-4ea6-a0f2-6a1a59d226ca",
   "metadata": {},
   "outputs": [
    {
     "data": {
      "text/plain": [
       "Parameter containing:\n",
       "tensor(2.6593, requires_grad=True)"
      ]
     },
     "execution_count": 6,
     "metadata": {},
     "output_type": "execute_result"
    }
   ],
   "source": [
    "torch.nn.Parameter(torch.ones([]) * np.log(1 / 0.07))"
   ]
  },
  {
   "cell_type": "code",
   "execution_count": 7,
   "id": "f1b8200d-9cfa-4de3-9aaf-b7bab99f048c",
   "metadata": {},
   "outputs": [
    {
     "data": {
      "text/plain": [
       "_IncompatibleKeys(missing_keys=['lm.model.decoder.embed_tokens.weight', 'lm.model.decoder.embed_positions.weight', 'lm.model.decoder.final_layer_norm.weight', 'lm.model.decoder.final_layer_norm.bias', 'lm.model.decoder.layers.0.self_attn.k_proj.weight', 'lm.model.decoder.layers.0.self_attn.k_proj.bias', 'lm.model.decoder.layers.0.self_attn.v_proj.weight', 'lm.model.decoder.layers.0.self_attn.v_proj.bias', 'lm.model.decoder.layers.0.self_attn.q_proj.weight', 'lm.model.decoder.layers.0.self_attn.q_proj.bias', 'lm.model.decoder.layers.0.self_attn.out_proj.weight', 'lm.model.decoder.layers.0.self_attn.out_proj.bias', 'lm.model.decoder.layers.0.self_attn_layer_norm.weight', 'lm.model.decoder.layers.0.self_attn_layer_norm.bias', 'lm.model.decoder.layers.0.fc1.weight', 'lm.model.decoder.layers.0.fc1.bias', 'lm.model.decoder.layers.0.fc2.weight', 'lm.model.decoder.layers.0.fc2.bias', 'lm.model.decoder.layers.0.final_layer_norm.weight', 'lm.model.decoder.layers.0.final_layer_norm.bias', 'lm.model.decoder.layers.1.self_attn.k_proj.weight', 'lm.model.decoder.layers.1.self_attn.k_proj.bias', 'lm.model.decoder.layers.1.self_attn.v_proj.weight', 'lm.model.decoder.layers.1.self_attn.v_proj.bias', 'lm.model.decoder.layers.1.self_attn.q_proj.weight', 'lm.model.decoder.layers.1.self_attn.q_proj.bias', 'lm.model.decoder.layers.1.self_attn.out_proj.weight', 'lm.model.decoder.layers.1.self_attn.out_proj.bias', 'lm.model.decoder.layers.1.self_attn_layer_norm.weight', 'lm.model.decoder.layers.1.self_attn_layer_norm.bias', 'lm.model.decoder.layers.1.fc1.weight', 'lm.model.decoder.layers.1.fc1.bias', 'lm.model.decoder.layers.1.fc2.weight', 'lm.model.decoder.layers.1.fc2.bias', 'lm.model.decoder.layers.1.final_layer_norm.weight', 'lm.model.decoder.layers.1.final_layer_norm.bias', 'lm.model.decoder.layers.2.self_attn.k_proj.weight', 'lm.model.decoder.layers.2.self_attn.k_proj.bias', 'lm.model.decoder.layers.2.self_attn.v_proj.weight', 'lm.model.decoder.layers.2.self_attn.v_proj.bias', 'lm.model.decoder.layers.2.self_attn.q_proj.weight', 'lm.model.decoder.layers.2.self_attn.q_proj.bias', 'lm.model.decoder.layers.2.self_attn.out_proj.weight', 'lm.model.decoder.layers.2.self_attn.out_proj.bias', 'lm.model.decoder.layers.2.self_attn_layer_norm.weight', 'lm.model.decoder.layers.2.self_attn_layer_norm.bias', 'lm.model.decoder.layers.2.fc1.weight', 'lm.model.decoder.layers.2.fc1.bias', 'lm.model.decoder.layers.2.fc2.weight', 'lm.model.decoder.layers.2.fc2.bias', 'lm.model.decoder.layers.2.final_layer_norm.weight', 'lm.model.decoder.layers.2.final_layer_norm.bias', 'lm.model.decoder.layers.3.self_attn.k_proj.weight', 'lm.model.decoder.layers.3.self_attn.k_proj.bias', 'lm.model.decoder.layers.3.self_attn.v_proj.weight', 'lm.model.decoder.layers.3.self_attn.v_proj.bias', 'lm.model.decoder.layers.3.self_attn.q_proj.weight', 'lm.model.decoder.layers.3.self_attn.q_proj.bias', 'lm.model.decoder.layers.3.self_attn.out_proj.weight', 'lm.model.decoder.layers.3.self_attn.out_proj.bias', 'lm.model.decoder.layers.3.self_attn_layer_norm.weight', 'lm.model.decoder.layers.3.self_attn_layer_norm.bias', 'lm.model.decoder.layers.3.fc1.weight', 'lm.model.decoder.layers.3.fc1.bias', 'lm.model.decoder.layers.3.fc2.weight', 'lm.model.decoder.layers.3.fc2.bias', 'lm.model.decoder.layers.3.final_layer_norm.weight', 'lm.model.decoder.layers.3.final_layer_norm.bias', 'lm.model.decoder.layers.4.self_attn.k_proj.weight', 'lm.model.decoder.layers.4.self_attn.k_proj.bias', 'lm.model.decoder.layers.4.self_attn.v_proj.weight', 'lm.model.decoder.layers.4.self_attn.v_proj.bias', 'lm.model.decoder.layers.4.self_attn.q_proj.weight', 'lm.model.decoder.layers.4.self_attn.q_proj.bias', 'lm.model.decoder.layers.4.self_attn.out_proj.weight', 'lm.model.decoder.layers.4.self_attn.out_proj.bias', 'lm.model.decoder.layers.4.self_attn_layer_norm.weight', 'lm.model.decoder.layers.4.self_attn_layer_norm.bias', 'lm.model.decoder.layers.4.fc1.weight', 'lm.model.decoder.layers.4.fc1.bias', 'lm.model.decoder.layers.4.fc2.weight', 'lm.model.decoder.layers.4.fc2.bias', 'lm.model.decoder.layers.4.final_layer_norm.weight', 'lm.model.decoder.layers.4.final_layer_norm.bias', 'lm.model.decoder.layers.5.self_attn.k_proj.weight', 'lm.model.decoder.layers.5.self_attn.k_proj.bias', 'lm.model.decoder.layers.5.self_attn.v_proj.weight', 'lm.model.decoder.layers.5.self_attn.v_proj.bias', 'lm.model.decoder.layers.5.self_attn.q_proj.weight', 'lm.model.decoder.layers.5.self_attn.q_proj.bias', 'lm.model.decoder.layers.5.self_attn.out_proj.weight', 'lm.model.decoder.layers.5.self_attn.out_proj.bias', 'lm.model.decoder.layers.5.self_attn_layer_norm.weight', 'lm.model.decoder.layers.5.self_attn_layer_norm.bias', 'lm.model.decoder.layers.5.fc1.weight', 'lm.model.decoder.layers.5.fc1.bias', 'lm.model.decoder.layers.5.fc2.weight', 'lm.model.decoder.layers.5.fc2.bias', 'lm.model.decoder.layers.5.final_layer_norm.weight', 'lm.model.decoder.layers.5.final_layer_norm.bias', 'lm.model.decoder.layers.6.self_attn.k_proj.weight', 'lm.model.decoder.layers.6.self_attn.k_proj.bias', 'lm.model.decoder.layers.6.self_attn.v_proj.weight', 'lm.model.decoder.layers.6.self_attn.v_proj.bias', 'lm.model.decoder.layers.6.self_attn.q_proj.weight', 'lm.model.decoder.layers.6.self_attn.q_proj.bias', 'lm.model.decoder.layers.6.self_attn.out_proj.weight', 'lm.model.decoder.layers.6.self_attn.out_proj.bias', 'lm.model.decoder.layers.6.self_attn_layer_norm.weight', 'lm.model.decoder.layers.6.self_attn_layer_norm.bias', 'lm.model.decoder.layers.6.fc1.weight', 'lm.model.decoder.layers.6.fc1.bias', 'lm.model.decoder.layers.6.fc2.weight', 'lm.model.decoder.layers.6.fc2.bias', 'lm.model.decoder.layers.6.final_layer_norm.weight', 'lm.model.decoder.layers.6.final_layer_norm.bias', 'lm.model.decoder.layers.7.self_attn.k_proj.weight', 'lm.model.decoder.layers.7.self_attn.k_proj.bias', 'lm.model.decoder.layers.7.self_attn.v_proj.weight', 'lm.model.decoder.layers.7.self_attn.v_proj.bias', 'lm.model.decoder.layers.7.self_attn.q_proj.weight', 'lm.model.decoder.layers.7.self_attn.q_proj.bias', 'lm.model.decoder.layers.7.self_attn.out_proj.weight', 'lm.model.decoder.layers.7.self_attn.out_proj.bias', 'lm.model.decoder.layers.7.self_attn_layer_norm.weight', 'lm.model.decoder.layers.7.self_attn_layer_norm.bias', 'lm.model.decoder.layers.7.fc1.weight', 'lm.model.decoder.layers.7.fc1.bias', 'lm.model.decoder.layers.7.fc2.weight', 'lm.model.decoder.layers.7.fc2.bias', 'lm.model.decoder.layers.7.final_layer_norm.weight', 'lm.model.decoder.layers.7.final_layer_norm.bias', 'lm.model.decoder.layers.8.self_attn.k_proj.weight', 'lm.model.decoder.layers.8.self_attn.k_proj.bias', 'lm.model.decoder.layers.8.self_attn.v_proj.weight', 'lm.model.decoder.layers.8.self_attn.v_proj.bias', 'lm.model.decoder.layers.8.self_attn.q_proj.weight', 'lm.model.decoder.layers.8.self_attn.q_proj.bias', 'lm.model.decoder.layers.8.self_attn.out_proj.weight', 'lm.model.decoder.layers.8.self_attn.out_proj.bias', 'lm.model.decoder.layers.8.self_attn_layer_norm.weight', 'lm.model.decoder.layers.8.self_attn_layer_norm.bias', 'lm.model.decoder.layers.8.fc1.weight', 'lm.model.decoder.layers.8.fc1.bias', 'lm.model.decoder.layers.8.fc2.weight', 'lm.model.decoder.layers.8.fc2.bias', 'lm.model.decoder.layers.8.final_layer_norm.weight', 'lm.model.decoder.layers.8.final_layer_norm.bias', 'lm.model.decoder.layers.9.self_attn.k_proj.weight', 'lm.model.decoder.layers.9.self_attn.k_proj.bias', 'lm.model.decoder.layers.9.self_attn.v_proj.weight', 'lm.model.decoder.layers.9.self_attn.v_proj.bias', 'lm.model.decoder.layers.9.self_attn.q_proj.weight', 'lm.model.decoder.layers.9.self_attn.q_proj.bias', 'lm.model.decoder.layers.9.self_attn.out_proj.weight', 'lm.model.decoder.layers.9.self_attn.out_proj.bias', 'lm.model.decoder.layers.9.self_attn_layer_norm.weight', 'lm.model.decoder.layers.9.self_attn_layer_norm.bias', 'lm.model.decoder.layers.9.fc1.weight', 'lm.model.decoder.layers.9.fc1.bias', 'lm.model.decoder.layers.9.fc2.weight', 'lm.model.decoder.layers.9.fc2.bias', 'lm.model.decoder.layers.9.final_layer_norm.weight', 'lm.model.decoder.layers.9.final_layer_norm.bias', 'lm.model.decoder.layers.10.self_attn.k_proj.weight', 'lm.model.decoder.layers.10.self_attn.k_proj.bias', 'lm.model.decoder.layers.10.self_attn.v_proj.weight', 'lm.model.decoder.layers.10.self_attn.v_proj.bias', 'lm.model.decoder.layers.10.self_attn.q_proj.weight', 'lm.model.decoder.layers.10.self_attn.q_proj.bias', 'lm.model.decoder.layers.10.self_attn.out_proj.weight', 'lm.model.decoder.layers.10.self_attn.out_proj.bias', 'lm.model.decoder.layers.10.self_attn_layer_norm.weight', 'lm.model.decoder.layers.10.self_attn_layer_norm.bias', 'lm.model.decoder.layers.10.fc1.weight', 'lm.model.decoder.layers.10.fc1.bias', 'lm.model.decoder.layers.10.fc2.weight', 'lm.model.decoder.layers.10.fc2.bias', 'lm.model.decoder.layers.10.final_layer_norm.weight', 'lm.model.decoder.layers.10.final_layer_norm.bias', 'lm.model.decoder.layers.11.self_attn.k_proj.weight', 'lm.model.decoder.layers.11.self_attn.k_proj.bias', 'lm.model.decoder.layers.11.self_attn.v_proj.weight', 'lm.model.decoder.layers.11.self_attn.v_proj.bias', 'lm.model.decoder.layers.11.self_attn.q_proj.weight', 'lm.model.decoder.layers.11.self_attn.q_proj.bias', 'lm.model.decoder.layers.11.self_attn.out_proj.weight', 'lm.model.decoder.layers.11.self_attn.out_proj.bias', 'lm.model.decoder.layers.11.self_attn_layer_norm.weight', 'lm.model.decoder.layers.11.self_attn_layer_norm.bias', 'lm.model.decoder.layers.11.fc1.weight', 'lm.model.decoder.layers.11.fc1.bias', 'lm.model.decoder.layers.11.fc2.weight', 'lm.model.decoder.layers.11.fc2.bias', 'lm.model.decoder.layers.11.final_layer_norm.weight', 'lm.model.decoder.layers.11.final_layer_norm.bias', 'lm.lm_head.weight', 'vm.model.conv1.weight', 'vm.model.bn1.weight', 'vm.model.bn1.bias', 'vm.model.bn1.running_mean', 'vm.model.bn1.running_var', 'vm.model.layer1.0.conv1.weight', 'vm.model.layer1.0.bn1.weight', 'vm.model.layer1.0.bn1.bias', 'vm.model.layer1.0.bn1.running_mean', 'vm.model.layer1.0.bn1.running_var', 'vm.model.layer1.0.conv2.weight', 'vm.model.layer1.0.bn2.weight', 'vm.model.layer1.0.bn2.bias', 'vm.model.layer1.0.bn2.running_mean', 'vm.model.layer1.0.bn2.running_var', 'vm.model.layer1.0.conv3.weight', 'vm.model.layer1.0.bn3.weight', 'vm.model.layer1.0.bn3.bias', 'vm.model.layer1.0.bn3.running_mean', 'vm.model.layer1.0.bn3.running_var', 'vm.model.layer1.0.downsample.0.weight', 'vm.model.layer1.0.downsample.1.weight', 'vm.model.layer1.0.downsample.1.bias', 'vm.model.layer1.0.downsample.1.running_mean', 'vm.model.layer1.0.downsample.1.running_var', 'vm.model.layer1.1.conv1.weight', 'vm.model.layer1.1.bn1.weight', 'vm.model.layer1.1.bn1.bias', 'vm.model.layer1.1.bn1.running_mean', 'vm.model.layer1.1.bn1.running_var', 'vm.model.layer1.1.conv2.weight', 'vm.model.layer1.1.bn2.weight', 'vm.model.layer1.1.bn2.bias', 'vm.model.layer1.1.bn2.running_mean', 'vm.model.layer1.1.bn2.running_var', 'vm.model.layer1.1.conv3.weight', 'vm.model.layer1.1.bn3.weight', 'vm.model.layer1.1.bn3.bias', 'vm.model.layer1.1.bn3.running_mean', 'vm.model.layer1.1.bn3.running_var', 'vm.model.layer1.2.conv1.weight', 'vm.model.layer1.2.bn1.weight', 'vm.model.layer1.2.bn1.bias', 'vm.model.layer1.2.bn1.running_mean', 'vm.model.layer1.2.bn1.running_var', 'vm.model.layer1.2.conv2.weight', 'vm.model.layer1.2.bn2.weight', 'vm.model.layer1.2.bn2.bias', 'vm.model.layer1.2.bn2.running_mean', 'vm.model.layer1.2.bn2.running_var', 'vm.model.layer1.2.conv3.weight', 'vm.model.layer1.2.bn3.weight', 'vm.model.layer1.2.bn3.bias', 'vm.model.layer1.2.bn3.running_mean', 'vm.model.layer1.2.bn3.running_var', 'vm.model.layer2.0.conv1.weight', 'vm.model.layer2.0.bn1.weight', 'vm.model.layer2.0.bn1.bias', 'vm.model.layer2.0.bn1.running_mean', 'vm.model.layer2.0.bn1.running_var', 'vm.model.layer2.0.conv2.weight', 'vm.model.layer2.0.bn2.weight', 'vm.model.layer2.0.bn2.bias', 'vm.model.layer2.0.bn2.running_mean', 'vm.model.layer2.0.bn2.running_var', 'vm.model.layer2.0.conv3.weight', 'vm.model.layer2.0.bn3.weight', 'vm.model.layer2.0.bn3.bias', 'vm.model.layer2.0.bn3.running_mean', 'vm.model.layer2.0.bn3.running_var', 'vm.model.layer2.0.downsample.0.weight', 'vm.model.layer2.0.downsample.1.weight', 'vm.model.layer2.0.downsample.1.bias', 'vm.model.layer2.0.downsample.1.running_mean', 'vm.model.layer2.0.downsample.1.running_var', 'vm.model.layer2.1.conv1.weight', 'vm.model.layer2.1.bn1.weight', 'vm.model.layer2.1.bn1.bias', 'vm.model.layer2.1.bn1.running_mean', 'vm.model.layer2.1.bn1.running_var', 'vm.model.layer2.1.conv2.weight', 'vm.model.layer2.1.bn2.weight', 'vm.model.layer2.1.bn2.bias', 'vm.model.layer2.1.bn2.running_mean', 'vm.model.layer2.1.bn2.running_var', 'vm.model.layer2.1.conv3.weight', 'vm.model.layer2.1.bn3.weight', 'vm.model.layer2.1.bn3.bias', 'vm.model.layer2.1.bn3.running_mean', 'vm.model.layer2.1.bn3.running_var', 'vm.model.layer2.2.conv1.weight', 'vm.model.layer2.2.bn1.weight', 'vm.model.layer2.2.bn1.bias', 'vm.model.layer2.2.bn1.running_mean', 'vm.model.layer2.2.bn1.running_var', 'vm.model.layer2.2.conv2.weight', 'vm.model.layer2.2.bn2.weight', 'vm.model.layer2.2.bn2.bias', 'vm.model.layer2.2.bn2.running_mean', 'vm.model.layer2.2.bn2.running_var', 'vm.model.layer2.2.conv3.weight', 'vm.model.layer2.2.bn3.weight', 'vm.model.layer2.2.bn3.bias', 'vm.model.layer2.2.bn3.running_mean', 'vm.model.layer2.2.bn3.running_var', 'vm.model.layer2.3.conv1.weight', 'vm.model.layer2.3.bn1.weight', 'vm.model.layer2.3.bn1.bias', 'vm.model.layer2.3.bn1.running_mean', 'vm.model.layer2.3.bn1.running_var', 'vm.model.layer2.3.conv2.weight', 'vm.model.layer2.3.bn2.weight', 'vm.model.layer2.3.bn2.bias', 'vm.model.layer2.3.bn2.running_mean', 'vm.model.layer2.3.bn2.running_var', 'vm.model.layer2.3.conv3.weight', 'vm.model.layer2.3.bn3.weight', 'vm.model.layer2.3.bn3.bias', 'vm.model.layer2.3.bn3.running_mean', 'vm.model.layer2.3.bn3.running_var', 'vm.model.layer3.0.conv1.weight', 'vm.model.layer3.0.bn1.weight', 'vm.model.layer3.0.bn1.bias', 'vm.model.layer3.0.bn1.running_mean', 'vm.model.layer3.0.bn1.running_var', 'vm.model.layer3.0.conv2.weight', 'vm.model.layer3.0.bn2.weight', 'vm.model.layer3.0.bn2.bias', 'vm.model.layer3.0.bn2.running_mean', 'vm.model.layer3.0.bn2.running_var', 'vm.model.layer3.0.conv3.weight', 'vm.model.layer3.0.bn3.weight', 'vm.model.layer3.0.bn3.bias', 'vm.model.layer3.0.bn3.running_mean', 'vm.model.layer3.0.bn3.running_var', 'vm.model.layer3.0.downsample.0.weight', 'vm.model.layer3.0.downsample.1.weight', 'vm.model.layer3.0.downsample.1.bias', 'vm.model.layer3.0.downsample.1.running_mean', 'vm.model.layer3.0.downsample.1.running_var', 'vm.model.layer3.1.conv1.weight', 'vm.model.layer3.1.bn1.weight', 'vm.model.layer3.1.bn1.bias', 'vm.model.layer3.1.bn1.running_mean', 'vm.model.layer3.1.bn1.running_var', 'vm.model.layer3.1.conv2.weight', 'vm.model.layer3.1.bn2.weight', 'vm.model.layer3.1.bn2.bias', 'vm.model.layer3.1.bn2.running_mean', 'vm.model.layer3.1.bn2.running_var', 'vm.model.layer3.1.conv3.weight', 'vm.model.layer3.1.bn3.weight', 'vm.model.layer3.1.bn3.bias', 'vm.model.layer3.1.bn3.running_mean', 'vm.model.layer3.1.bn3.running_var', 'vm.model.layer3.2.conv1.weight', 'vm.model.layer3.2.bn1.weight', 'vm.model.layer3.2.bn1.bias', 'vm.model.layer3.2.bn1.running_mean', 'vm.model.layer3.2.bn1.running_var', 'vm.model.layer3.2.conv2.weight', 'vm.model.layer3.2.bn2.weight', 'vm.model.layer3.2.bn2.bias', 'vm.model.layer3.2.bn2.running_mean', 'vm.model.layer3.2.bn2.running_var', 'vm.model.layer3.2.conv3.weight', 'vm.model.layer3.2.bn3.weight', 'vm.model.layer3.2.bn3.bias', 'vm.model.layer3.2.bn3.running_mean', 'vm.model.layer3.2.bn3.running_var', 'vm.model.layer3.3.conv1.weight', 'vm.model.layer3.3.bn1.weight', 'vm.model.layer3.3.bn1.bias', 'vm.model.layer3.3.bn1.running_mean', 'vm.model.layer3.3.bn1.running_var', 'vm.model.layer3.3.conv2.weight', 'vm.model.layer3.3.bn2.weight', 'vm.model.layer3.3.bn2.bias', 'vm.model.layer3.3.bn2.running_mean', 'vm.model.layer3.3.bn2.running_var', 'vm.model.layer3.3.conv3.weight', 'vm.model.layer3.3.bn3.weight', 'vm.model.layer3.3.bn3.bias', 'vm.model.layer3.3.bn3.running_mean', 'vm.model.layer3.3.bn3.running_var', 'vm.model.layer3.4.conv1.weight', 'vm.model.layer3.4.bn1.weight', 'vm.model.layer3.4.bn1.bias', 'vm.model.layer3.4.bn1.running_mean', 'vm.model.layer3.4.bn1.running_var', 'vm.model.layer3.4.conv2.weight', 'vm.model.layer3.4.bn2.weight', 'vm.model.layer3.4.bn2.bias', 'vm.model.layer3.4.bn2.running_mean', 'vm.model.layer3.4.bn2.running_var', 'vm.model.layer3.4.conv3.weight', 'vm.model.layer3.4.bn3.weight', 'vm.model.layer3.4.bn3.bias', 'vm.model.layer3.4.bn3.running_mean', 'vm.model.layer3.4.bn3.running_var', 'vm.model.layer3.5.conv1.weight', 'vm.model.layer3.5.bn1.weight', 'vm.model.layer3.5.bn1.bias', 'vm.model.layer3.5.bn1.running_mean', 'vm.model.layer3.5.bn1.running_var', 'vm.model.layer3.5.conv2.weight', 'vm.model.layer3.5.bn2.weight', 'vm.model.layer3.5.bn2.bias', 'vm.model.layer3.5.bn2.running_mean', 'vm.model.layer3.5.bn2.running_var', 'vm.model.layer3.5.conv3.weight', 'vm.model.layer3.5.bn3.weight', 'vm.model.layer3.5.bn3.bias', 'vm.model.layer3.5.bn3.running_mean', 'vm.model.layer3.5.bn3.running_var', 'vm.model.layer4.0.conv1.weight', 'vm.model.layer4.0.bn1.weight', 'vm.model.layer4.0.bn1.bias', 'vm.model.layer4.0.bn1.running_mean', 'vm.model.layer4.0.bn1.running_var', 'vm.model.layer4.0.conv2.weight', 'vm.model.layer4.0.bn2.weight', 'vm.model.layer4.0.bn2.bias', 'vm.model.layer4.0.bn2.running_mean', 'vm.model.layer4.0.bn2.running_var', 'vm.model.layer4.0.conv3.weight', 'vm.model.layer4.0.bn3.weight', 'vm.model.layer4.0.bn3.bias', 'vm.model.layer4.0.bn3.running_mean', 'vm.model.layer4.0.bn3.running_var', 'vm.model.layer4.0.downsample.0.weight', 'vm.model.layer4.0.downsample.1.weight', 'vm.model.layer4.0.downsample.1.bias', 'vm.model.layer4.0.downsample.1.running_mean', 'vm.model.layer4.0.downsample.1.running_var', 'vm.model.layer4.1.conv1.weight', 'vm.model.layer4.1.bn1.weight', 'vm.model.layer4.1.bn1.bias', 'vm.model.layer4.1.bn1.running_mean', 'vm.model.layer4.1.bn1.running_var', 'vm.model.layer4.1.conv2.weight', 'vm.model.layer4.1.bn2.weight', 'vm.model.layer4.1.bn2.bias', 'vm.model.layer4.1.bn2.running_mean', 'vm.model.layer4.1.bn2.running_var', 'vm.model.layer4.1.conv3.weight', 'vm.model.layer4.1.bn3.weight', 'vm.model.layer4.1.bn3.bias', 'vm.model.layer4.1.bn3.running_mean', 'vm.model.layer4.1.bn3.running_var', 'vm.model.layer4.2.conv1.weight', 'vm.model.layer4.2.bn1.weight', 'vm.model.layer4.2.bn1.bias', 'vm.model.layer4.2.bn1.running_mean', 'vm.model.layer4.2.bn1.running_var', 'vm.model.layer4.2.conv2.weight', 'vm.model.layer4.2.bn2.weight', 'vm.model.layer4.2.bn2.bias', 'vm.model.layer4.2.bn2.running_mean', 'vm.model.layer4.2.bn2.running_var', 'vm.model.layer4.2.conv3.weight', 'vm.model.layer4.2.bn3.weight', 'vm.model.layer4.2.bn3.bias', 'vm.model.layer4.2.bn3.running_mean', 'vm.model.layer4.2.bn3.running_var', 'vm.model.fc.weight', 'vm.model.fc.bias', 'vm.feature_extractor.conv1.weight', 'vm.feature_extractor.bn1.weight', 'vm.feature_extractor.bn1.bias', 'vm.feature_extractor.bn1.running_mean', 'vm.feature_extractor.bn1.running_var', 'vm.feature_extractor.layer1.0.conv1.weight', 'vm.feature_extractor.layer1.0.bn1.weight', 'vm.feature_extractor.layer1.0.bn1.bias', 'vm.feature_extractor.layer1.0.bn1.running_mean', 'vm.feature_extractor.layer1.0.bn1.running_var', 'vm.feature_extractor.layer1.0.conv2.weight', 'vm.feature_extractor.layer1.0.bn2.weight', 'vm.feature_extractor.layer1.0.bn2.bias', 'vm.feature_extractor.layer1.0.bn2.running_mean', 'vm.feature_extractor.layer1.0.bn2.running_var', 'vm.feature_extractor.layer1.0.conv3.weight', 'vm.feature_extractor.layer1.0.bn3.weight', 'vm.feature_extractor.layer1.0.bn3.bias', 'vm.feature_extractor.layer1.0.bn3.running_mean', 'vm.feature_extractor.layer1.0.bn3.running_var', 'vm.feature_extractor.layer1.0.downsample.0.weight', 'vm.feature_extractor.layer1.0.downsample.1.weight', 'vm.feature_extractor.layer1.0.downsample.1.bias', 'vm.feature_extractor.layer1.0.downsample.1.running_mean', 'vm.feature_extractor.layer1.0.downsample.1.running_var', 'vm.feature_extractor.layer1.1.conv1.weight', 'vm.feature_extractor.layer1.1.bn1.weight', 'vm.feature_extractor.layer1.1.bn1.bias', 'vm.feature_extractor.layer1.1.bn1.running_mean', 'vm.feature_extractor.layer1.1.bn1.running_var', 'vm.feature_extractor.layer1.1.conv2.weight', 'vm.feature_extractor.layer1.1.bn2.weight', 'vm.feature_extractor.layer1.1.bn2.bias', 'vm.feature_extractor.layer1.1.bn2.running_mean', 'vm.feature_extractor.layer1.1.bn2.running_var', 'vm.feature_extractor.layer1.1.conv3.weight', 'vm.feature_extractor.layer1.1.bn3.weight', 'vm.feature_extractor.layer1.1.bn3.bias', 'vm.feature_extractor.layer1.1.bn3.running_mean', 'vm.feature_extractor.layer1.1.bn3.running_var', 'vm.feature_extractor.layer1.2.conv1.weight', 'vm.feature_extractor.layer1.2.bn1.weight', 'vm.feature_extractor.layer1.2.bn1.bias', 'vm.feature_extractor.layer1.2.bn1.running_mean', 'vm.feature_extractor.layer1.2.bn1.running_var', 'vm.feature_extractor.layer1.2.conv2.weight', 'vm.feature_extractor.layer1.2.bn2.weight', 'vm.feature_extractor.layer1.2.bn2.bias', 'vm.feature_extractor.layer1.2.bn2.running_mean', 'vm.feature_extractor.layer1.2.bn2.running_var', 'vm.feature_extractor.layer1.2.conv3.weight', 'vm.feature_extractor.layer1.2.bn3.weight', 'vm.feature_extractor.layer1.2.bn3.bias', 'vm.feature_extractor.layer1.2.bn3.running_mean', 'vm.feature_extractor.layer1.2.bn3.running_var', 'vm.feature_extractor.layer2.0.conv1.weight', 'vm.feature_extractor.layer2.0.bn1.weight', 'vm.feature_extractor.layer2.0.bn1.bias', 'vm.feature_extractor.layer2.0.bn1.running_mean', 'vm.feature_extractor.layer2.0.bn1.running_var', 'vm.feature_extractor.layer2.0.conv2.weight', 'vm.feature_extractor.layer2.0.bn2.weight', 'vm.feature_extractor.layer2.0.bn2.bias', 'vm.feature_extractor.layer2.0.bn2.running_mean', 'vm.feature_extractor.layer2.0.bn2.running_var', 'vm.feature_extractor.layer2.0.conv3.weight', 'vm.feature_extractor.layer2.0.bn3.weight', 'vm.feature_extractor.layer2.0.bn3.bias', 'vm.feature_extractor.layer2.0.bn3.running_mean', 'vm.feature_extractor.layer2.0.bn3.running_var', 'vm.feature_extractor.layer2.0.downsample.0.weight', 'vm.feature_extractor.layer2.0.downsample.1.weight', 'vm.feature_extractor.layer2.0.downsample.1.bias', 'vm.feature_extractor.layer2.0.downsample.1.running_mean', 'vm.feature_extractor.layer2.0.downsample.1.running_var', 'vm.feature_extractor.layer2.1.conv1.weight', 'vm.feature_extractor.layer2.1.bn1.weight', 'vm.feature_extractor.layer2.1.bn1.bias', 'vm.feature_extractor.layer2.1.bn1.running_mean', 'vm.feature_extractor.layer2.1.bn1.running_var', 'vm.feature_extractor.layer2.1.conv2.weight', 'vm.feature_extractor.layer2.1.bn2.weight', 'vm.feature_extractor.layer2.1.bn2.bias', 'vm.feature_extractor.layer2.1.bn2.running_mean', 'vm.feature_extractor.layer2.1.bn2.running_var', 'vm.feature_extractor.layer2.1.conv3.weight', 'vm.feature_extractor.layer2.1.bn3.weight', 'vm.feature_extractor.layer2.1.bn3.bias', 'vm.feature_extractor.layer2.1.bn3.running_mean', 'vm.feature_extractor.layer2.1.bn3.running_var', 'vm.feature_extractor.layer2.2.conv1.weight', 'vm.feature_extractor.layer2.2.bn1.weight', 'vm.feature_extractor.layer2.2.bn1.bias', 'vm.feature_extractor.layer2.2.bn1.running_mean', 'vm.feature_extractor.layer2.2.bn1.running_var', 'vm.feature_extractor.layer2.2.conv2.weight', 'vm.feature_extractor.layer2.2.bn2.weight', 'vm.feature_extractor.layer2.2.bn2.bias', 'vm.feature_extractor.layer2.2.bn2.running_mean', 'vm.feature_extractor.layer2.2.bn2.running_var', 'vm.feature_extractor.layer2.2.conv3.weight', 'vm.feature_extractor.layer2.2.bn3.weight', 'vm.feature_extractor.layer2.2.bn3.bias', 'vm.feature_extractor.layer2.2.bn3.running_mean', 'vm.feature_extractor.layer2.2.bn3.running_var', 'vm.feature_extractor.layer2.3.conv1.weight', 'vm.feature_extractor.layer2.3.bn1.weight', 'vm.feature_extractor.layer2.3.bn1.bias', 'vm.feature_extractor.layer2.3.bn1.running_mean', 'vm.feature_extractor.layer2.3.bn1.running_var', 'vm.feature_extractor.layer2.3.conv2.weight', 'vm.feature_extractor.layer2.3.bn2.weight', 'vm.feature_extractor.layer2.3.bn2.bias', 'vm.feature_extractor.layer2.3.bn2.running_mean', 'vm.feature_extractor.layer2.3.bn2.running_var', 'vm.feature_extractor.layer2.3.conv3.weight', 'vm.feature_extractor.layer2.3.bn3.weight', 'vm.feature_extractor.layer2.3.bn3.bias', 'vm.feature_extractor.layer2.3.bn3.running_mean', 'vm.feature_extractor.layer2.3.bn3.running_var', 'vm.feature_extractor.layer3.0.conv1.weight', 'vm.feature_extractor.layer3.0.bn1.weight', 'vm.feature_extractor.layer3.0.bn1.bias', 'vm.feature_extractor.layer3.0.bn1.running_mean', 'vm.feature_extractor.layer3.0.bn1.running_var', 'vm.feature_extractor.layer3.0.conv2.weight', 'vm.feature_extractor.layer3.0.bn2.weight', 'vm.feature_extractor.layer3.0.bn2.bias', 'vm.feature_extractor.layer3.0.bn2.running_mean', 'vm.feature_extractor.layer3.0.bn2.running_var', 'vm.feature_extractor.layer3.0.conv3.weight', 'vm.feature_extractor.layer3.0.bn3.weight', 'vm.feature_extractor.layer3.0.bn3.bias', 'vm.feature_extractor.layer3.0.bn3.running_mean', 'vm.feature_extractor.layer3.0.bn3.running_var', 'vm.feature_extractor.layer3.0.downsample.0.weight', 'vm.feature_extractor.layer3.0.downsample.1.weight', 'vm.feature_extractor.layer3.0.downsample.1.bias', 'vm.feature_extractor.layer3.0.downsample.1.running_mean', 'vm.feature_extractor.layer3.0.downsample.1.running_var', 'vm.feature_extractor.layer3.1.conv1.weight', 'vm.feature_extractor.layer3.1.bn1.weight', 'vm.feature_extractor.layer3.1.bn1.bias', 'vm.feature_extractor.layer3.1.bn1.running_mean', 'vm.feature_extractor.layer3.1.bn1.running_var', 'vm.feature_extractor.layer3.1.conv2.weight', 'vm.feature_extractor.layer3.1.bn2.weight', 'vm.feature_extractor.layer3.1.bn2.bias', 'vm.feature_extractor.layer3.1.bn2.running_mean', 'vm.feature_extractor.layer3.1.bn2.running_var', 'vm.feature_extractor.layer3.1.conv3.weight', 'vm.feature_extractor.layer3.1.bn3.weight', 'vm.feature_extractor.layer3.1.bn3.bias', 'vm.feature_extractor.layer3.1.bn3.running_mean', 'vm.feature_extractor.layer3.1.bn3.running_var', 'vm.feature_extractor.layer3.2.conv1.weight', 'vm.feature_extractor.layer3.2.bn1.weight', 'vm.feature_extractor.layer3.2.bn1.bias', 'vm.feature_extractor.layer3.2.bn1.running_mean', 'vm.feature_extractor.layer3.2.bn1.running_var', 'vm.feature_extractor.layer3.2.conv2.weight', 'vm.feature_extractor.layer3.2.bn2.weight', 'vm.feature_extractor.layer3.2.bn2.bias', 'vm.feature_extractor.layer3.2.bn2.running_mean', 'vm.feature_extractor.layer3.2.bn2.running_var', 'vm.feature_extractor.layer3.2.conv3.weight', 'vm.feature_extractor.layer3.2.bn3.weight', 'vm.feature_extractor.layer3.2.bn3.bias', 'vm.feature_extractor.layer3.2.bn3.running_mean', 'vm.feature_extractor.layer3.2.bn3.running_var', 'vm.feature_extractor.layer3.3.conv1.weight', 'vm.feature_extractor.layer3.3.bn1.weight', 'vm.feature_extractor.layer3.3.bn1.bias', 'vm.feature_extractor.layer3.3.bn1.running_mean', 'vm.feature_extractor.layer3.3.bn1.running_var', 'vm.feature_extractor.layer3.3.conv2.weight', 'vm.feature_extractor.layer3.3.bn2.weight', 'vm.feature_extractor.layer3.3.bn2.bias', 'vm.feature_extractor.layer3.3.bn2.running_mean', 'vm.feature_extractor.layer3.3.bn2.running_var', 'vm.feature_extractor.layer3.3.conv3.weight', 'vm.feature_extractor.layer3.3.bn3.weight', 'vm.feature_extractor.layer3.3.bn3.bias', 'vm.feature_extractor.layer3.3.bn3.running_mean', 'vm.feature_extractor.layer3.3.bn3.running_var', 'vm.feature_extractor.layer3.4.conv1.weight', 'vm.feature_extractor.layer3.4.bn1.weight', 'vm.feature_extractor.layer3.4.bn1.bias', 'vm.feature_extractor.layer3.4.bn1.running_mean', 'vm.feature_extractor.layer3.4.bn1.running_var', 'vm.feature_extractor.layer3.4.conv2.weight', 'vm.feature_extractor.layer3.4.bn2.weight', 'vm.feature_extractor.layer3.4.bn2.bias', 'vm.feature_extractor.layer3.4.bn2.running_mean', 'vm.feature_extractor.layer3.4.bn2.running_var', 'vm.feature_extractor.layer3.4.conv3.weight', 'vm.feature_extractor.layer3.4.bn3.weight', 'vm.feature_extractor.layer3.4.bn3.bias', 'vm.feature_extractor.layer3.4.bn3.running_mean', 'vm.feature_extractor.layer3.4.bn3.running_var', 'vm.feature_extractor.layer3.5.conv1.weight', 'vm.feature_extractor.layer3.5.bn1.weight', 'vm.feature_extractor.layer3.5.bn1.bias', 'vm.feature_extractor.layer3.5.bn1.running_mean', 'vm.feature_extractor.layer3.5.bn1.running_var', 'vm.feature_extractor.layer3.5.conv2.weight', 'vm.feature_extractor.layer3.5.bn2.weight', 'vm.feature_extractor.layer3.5.bn2.bias', 'vm.feature_extractor.layer3.5.bn2.running_mean', 'vm.feature_extractor.layer3.5.bn2.running_var', 'vm.feature_extractor.layer3.5.conv3.weight', 'vm.feature_extractor.layer3.5.bn3.weight', 'vm.feature_extractor.layer3.5.bn3.bias', 'vm.feature_extractor.layer3.5.bn3.running_mean', 'vm.feature_extractor.layer3.5.bn3.running_var', 'vm.feature_extractor.layer4.0.conv1.weight', 'vm.feature_extractor.layer4.0.bn1.weight', 'vm.feature_extractor.layer4.0.bn1.bias', 'vm.feature_extractor.layer4.0.bn1.running_mean', 'vm.feature_extractor.layer4.0.bn1.running_var', 'vm.feature_extractor.layer4.0.conv2.weight', 'vm.feature_extractor.layer4.0.bn2.weight', 'vm.feature_extractor.layer4.0.bn2.bias', 'vm.feature_extractor.layer4.0.bn2.running_mean', 'vm.feature_extractor.layer4.0.bn2.running_var', 'vm.feature_extractor.layer4.0.conv3.weight', 'vm.feature_extractor.layer4.0.bn3.weight', 'vm.feature_extractor.layer4.0.bn3.bias', 'vm.feature_extractor.layer4.0.bn3.running_mean', 'vm.feature_extractor.layer4.0.bn3.running_var', 'vm.feature_extractor.layer4.0.downsample.0.weight', 'vm.feature_extractor.layer4.0.downsample.1.weight', 'vm.feature_extractor.layer4.0.downsample.1.bias', 'vm.feature_extractor.layer4.0.downsample.1.running_mean', 'vm.feature_extractor.layer4.0.downsample.1.running_var', 'vm.feature_extractor.layer4.1.conv1.weight', 'vm.feature_extractor.layer4.1.bn1.weight', 'vm.feature_extractor.layer4.1.bn1.bias', 'vm.feature_extractor.layer4.1.bn1.running_mean', 'vm.feature_extractor.layer4.1.bn1.running_var', 'vm.feature_extractor.layer4.1.conv2.weight', 'vm.feature_extractor.layer4.1.bn2.weight', 'vm.feature_extractor.layer4.1.bn2.bias', 'vm.feature_extractor.layer4.1.bn2.running_mean', 'vm.feature_extractor.layer4.1.bn2.running_var', 'vm.feature_extractor.layer4.1.conv3.weight', 'vm.feature_extractor.layer4.1.bn3.weight', 'vm.feature_extractor.layer4.1.bn3.bias', 'vm.feature_extractor.layer4.1.bn3.running_mean', 'vm.feature_extractor.layer4.1.bn3.running_var', 'vm.feature_extractor.layer4.2.conv1.weight', 'vm.feature_extractor.layer4.2.bn1.weight', 'vm.feature_extractor.layer4.2.bn1.bias', 'vm.feature_extractor.layer4.2.bn1.running_mean', 'vm.feature_extractor.layer4.2.bn1.running_var', 'vm.feature_extractor.layer4.2.conv2.weight', 'vm.feature_extractor.layer4.2.bn2.weight', 'vm.feature_extractor.layer4.2.bn2.bias', 'vm.feature_extractor.layer4.2.bn2.running_mean', 'vm.feature_extractor.layer4.2.bn2.running_var', 'vm.feature_extractor.layer4.2.conv3.weight', 'vm.feature_extractor.layer4.2.bn3.weight', 'vm.feature_extractor.layer4.2.bn3.bias', 'vm.feature_extractor.layer4.2.bn3.running_mean', 'vm.feature_extractor.layer4.2.bn3.running_var'], unexpected_keys=[])"
      ]
     },
     "execution_count": 7,
     "metadata": {},
     "output_type": "execute_result"
    }
   ],
   "source": [
    "model.model.model.load_state_dict(torch.load(\"/scratch/users/oince22/hpc_run/fromage_scratch/fromage/logs/checkpoints/debug_2/last.ckpt\"), strict=False)"
   ]
  },
  {
   "cell_type": "code",
   "execution_count": 8,
   "id": "e7326a01-edfd-4a37-a456-3e236dd9ec66",
   "metadata": {},
   "outputs": [
    {
     "name": "stdout",
     "output_type": "stream",
     "text": [
      "model.model.logit_scale Parameter containing:\n",
      "tensor(265.9260, requires_grad=True)\n"
     ]
    }
   ],
   "source": [
    "for name, param in model.named_parameters():\n",
    "    if name == \"model.model.logit_scale\":\n",
    "        print(name, param)"
   ]
  },
  {
   "cell_type": "code",
   "execution_count": 9,
   "id": "11b485b7-7ab0-43c6-89b5-d723fb6e081f",
   "metadata": {},
   "outputs": [
    {
     "name": "stdout",
     "output_type": "stream",
     "text": [
      "model.model.ret_i2t_mapping.weight\n",
      "torch.Size([512, 2048]) tensor(1.2757, grad_fn=<StdBackward0>)\n"
     ]
    }
   ],
   "source": [
    "for name, param in model.named_parameters():\n",
    "    if name == \"model.model.ret_i2t_mapping.weight\":\n",
    "        print(name)\n",
    "        print(param.size(), param.std())"
   ]
  },
  {
   "cell_type": "code",
   "execution_count": 5,
   "id": "a0cc8300-52ef-496b-8e07-7b80cdc45272",
   "metadata": {
    "scrolled": true
   },
   "outputs": [
    {
     "name": "stdout",
     "output_type": "stream",
     "text": [
      "yes yes\n",
      "yes no\n"
     ]
    },
    {
     "name": "stderr",
     "output_type": "stream",
     "text": [
      " 14%|█▍        | 493/3538 [01:05<05:20,  9.49it/s]"
     ]
    },
    {
     "name": "stdout",
     "output_type": "stream",
     "text": [
      "yes no\n",
      "yes no\n"
     ]
    },
    {
     "name": "stderr",
     "output_type": "stream",
     "text": [
      " 14%|█▍        | 495/3538 [01:06<05:35,  9.07it/s]"
     ]
    },
    {
     "name": "stdout",
     "output_type": "stream",
     "text": [
      "yes no\n",
      "yes no\n"
     ]
    },
    {
     "name": "stderr",
     "output_type": "stream",
     "text": [
      " 14%|█▍        | 497/3538 [01:06<05:39,  8.95it/s]"
     ]
    },
    {
     "name": "stdout",
     "output_type": "stream",
     "text": [
      "yes no\n",
      "yes no\n"
     ]
    },
    {
     "name": "stderr",
     "output_type": "stream",
     "text": [
      " 14%|█▍        | 500/3538 [01:06<05:26,  9.32it/s]"
     ]
    },
    {
     "name": "stdout",
     "output_type": "stream",
     "text": [
      "yes no\n",
      "yes no\n",
      "yes no\n"
     ]
    },
    {
     "name": "stderr",
     "output_type": "stream",
     "text": [
      " 14%|█▍        | 502/3538 [01:06<05:10,  9.78it/s]"
     ]
    },
    {
     "name": "stdout",
     "output_type": "stream",
     "text": [
      "yes no\n",
      "yes no\n"
     ]
    },
    {
     "name": "stderr",
     "output_type": "stream",
     "text": [
      " 14%|█▍        | 504/3538 [01:07<05:06,  9.89it/s]"
     ]
    },
    {
     "name": "stdout",
     "output_type": "stream",
     "text": [
      "yes no\n",
      "yes no\n"
     ]
    },
    {
     "name": "stderr",
     "output_type": "stream",
     "text": [
      " 14%|█▍        | 506/3538 [01:07<05:18,  9.53it/s]"
     ]
    },
    {
     "name": "stdout",
     "output_type": "stream",
     "text": [
      "yes no\n",
      "yes no\n",
      "yes yes\n"
     ]
    },
    {
     "name": "stderr",
     "output_type": "stream",
     "text": [
      " 14%|█▍        | 510/3538 [01:07<05:08,  9.82it/s]"
     ]
    },
    {
     "name": "stdout",
     "output_type": "stream",
     "text": [
      "yes no\n",
      "yes no\n",
      "yes no\n"
     ]
    },
    {
     "name": "stderr",
     "output_type": "stream",
     "text": [
      " 14%|█▍        | 512/3538 [01:07<04:56, 10.22it/s]"
     ]
    },
    {
     "name": "stdout",
     "output_type": "stream",
     "text": [
      "yes yes\n",
      "yes no\n"
     ]
    },
    {
     "name": "stderr",
     "output_type": "stream",
     "text": [
      " 15%|█▍        | 514/3538 [01:08<05:12,  9.67it/s]"
     ]
    },
    {
     "name": "stdout",
     "output_type": "stream",
     "text": [
      "yes no\n",
      "yes yes\n"
     ]
    },
    {
     "name": "stderr",
     "output_type": "stream",
     "text": [
      " 15%|█▍        | 517/3538 [01:08<05:05,  9.90it/s]"
     ]
    },
    {
     "name": "stdout",
     "output_type": "stream",
     "text": [
      "yes no\n",
      "yes yes\n",
      "yes no\n"
     ]
    },
    {
     "name": "stderr",
     "output_type": "stream",
     "text": [
      " 15%|█▍        | 520/3538 [01:08<05:00, 10.06it/s]"
     ]
    },
    {
     "name": "stdout",
     "output_type": "stream",
     "text": [
      "yes no\n",
      "yes no\n",
      "yes no\n"
     ]
    },
    {
     "name": "stderr",
     "output_type": "stream",
     "text": [
      " 15%|█▍        | 522/3538 [01:08<04:59, 10.08it/s]"
     ]
    },
    {
     "name": "stdout",
     "output_type": "stream",
     "text": [
      "yes no\n",
      "yes no\n",
      "yes no\n"
     ]
    },
    {
     "name": "stderr",
     "output_type": "stream",
     "text": [
      " 15%|█▍        | 524/3538 [01:09<05:00, 10.01it/s]"
     ]
    },
    {
     "name": "stdout",
     "output_type": "stream",
     "text": [
      "yes no\n",
      "yes yes\n"
     ]
    },
    {
     "name": "stderr",
     "output_type": "stream",
     "text": [
      " 15%|█▍        | 527/3538 [01:09<05:22,  9.34it/s]"
     ]
    },
    {
     "name": "stdout",
     "output_type": "stream",
     "text": [
      "yes yes\n",
      "yes no\n"
     ]
    },
    {
     "name": "stderr",
     "output_type": "stream",
     "text": [
      " 15%|█▍        | 529/3538 [01:09<05:33,  9.01it/s]"
     ]
    },
    {
     "name": "stdout",
     "output_type": "stream",
     "text": [
      "yes yes\n",
      "yes yes\n"
     ]
    },
    {
     "name": "stderr",
     "output_type": "stream",
     "text": [
      " 15%|█▌        | 532/3538 [01:09<05:18,  9.44it/s]"
     ]
    },
    {
     "name": "stdout",
     "output_type": "stream",
     "text": [
      "yes yes\n",
      "yes no\n",
      "yes yes\n"
     ]
    },
    {
     "name": "stderr",
     "output_type": "stream",
     "text": [
      " 15%|█▌        | 535/3538 [01:10<04:57, 10.11it/s]"
     ]
    },
    {
     "name": "stdout",
     "output_type": "stream",
     "text": [
      "yes no\n",
      "yes yes\n",
      "yes no\n"
     ]
    },
    {
     "name": "stderr",
     "output_type": "stream",
     "text": [
      " 15%|█▌        | 537/3538 [01:10<05:05,  9.82it/s]"
     ]
    },
    {
     "name": "stdout",
     "output_type": "stream",
     "text": [
      "yes yes\n",
      "yes no\n",
      "yes no\n"
     ]
    },
    {
     "name": "stderr",
     "output_type": "stream",
     "text": [
      " 15%|█▌        | 540/3538 [01:10<05:24,  9.23it/s]"
     ]
    },
    {
     "name": "stdout",
     "output_type": "stream",
     "text": [
      "yes yes\n",
      "yes no\n"
     ]
    },
    {
     "name": "stderr",
     "output_type": "stream",
     "text": [
      " 15%|█▌        | 542/3538 [01:11<05:13,  9.55it/s]"
     ]
    },
    {
     "name": "stdout",
     "output_type": "stream",
     "text": [
      "yes no\n",
      "yes no\n",
      "yes yes\n"
     ]
    },
    {
     "name": "stderr",
     "output_type": "stream",
     "text": [
      " 15%|█▌        | 544/3538 [01:11<04:47, 10.40it/s]"
     ]
    },
    {
     "name": "stdout",
     "output_type": "stream",
     "text": [
      "yes yes\n",
      "yes no\n"
     ]
    },
    {
     "name": "stderr",
     "output_type": "stream",
     "text": [
      " 15%|█▌        | 548/3538 [01:11<04:55, 10.10it/s]"
     ]
    },
    {
     "name": "stdout",
     "output_type": "stream",
     "text": [
      "yes no\n",
      "yes no\n",
      "yes yes\n"
     ]
    },
    {
     "name": "stderr",
     "output_type": "stream",
     "text": [
      " 16%|█▌        | 550/3538 [01:11<04:56, 10.07it/s]"
     ]
    },
    {
     "name": "stdout",
     "output_type": "stream",
     "text": [
      "yes yes\n",
      "yes no\n",
      "yes yes\n"
     ]
    },
    {
     "name": "stderr",
     "output_type": "stream",
     "text": [
      " 16%|█▌        | 552/3538 [01:11<04:46, 10.40it/s]"
     ]
    },
    {
     "name": "stdout",
     "output_type": "stream",
     "text": [
      "yes no\n",
      "yes yes\n"
     ]
    },
    {
     "name": "stderr",
     "output_type": "stream",
     "text": [
      " 16%|█▌        | 556/3538 [01:12<04:57, 10.01it/s]"
     ]
    },
    {
     "name": "stdout",
     "output_type": "stream",
     "text": [
      "yes no\n",
      "yes no\n",
      "yes no\n"
     ]
    },
    {
     "name": "stderr",
     "output_type": "stream",
     "text": [
      " 16%|█▌        | 558/3538 [01:12<04:49, 10.29it/s]"
     ]
    },
    {
     "name": "stdout",
     "output_type": "stream",
     "text": [
      "yes yes\n",
      "yes no\n",
      "yes yes\n"
     ]
    },
    {
     "name": "stderr",
     "output_type": "stream",
     "text": [
      " 16%|█▌        | 562/3538 [01:12<04:48, 10.33it/s]"
     ]
    },
    {
     "name": "stdout",
     "output_type": "stream",
     "text": [
      "yes no\n",
      "yes no\n",
      "yes no\n"
     ]
    },
    {
     "name": "stderr",
     "output_type": "stream",
     "text": [
      " 16%|█▌        | 564/3538 [01:13<04:48, 10.31it/s]"
     ]
    },
    {
     "name": "stdout",
     "output_type": "stream",
     "text": [
      "yes no\n",
      "yes yes\n"
     ]
    },
    {
     "name": "stderr",
     "output_type": "stream",
     "text": [
      " 16%|█▌        | 566/3538 [01:13<04:50, 10.23it/s]"
     ]
    },
    {
     "name": "stdout",
     "output_type": "stream",
     "text": [
      "yes yes\n",
      "yes no\n"
     ]
    },
    {
     "name": "stderr",
     "output_type": "stream",
     "text": [
      " 16%|█▌        | 568/3538 [01:13<04:47, 10.32it/s]"
     ]
    },
    {
     "name": "stdout",
     "output_type": "stream",
     "text": [
      "yes yes\n",
      "yes yes\n"
     ]
    },
    {
     "name": "stderr",
     "output_type": "stream",
     "text": [
      " 16%|█▌        | 570/3538 [01:13<05:07,  9.66it/s]"
     ]
    },
    {
     "name": "stdout",
     "output_type": "stream",
     "text": [
      "yes yes\n",
      "yes yes\n",
      "yes yes\n"
     ]
    },
    {
     "name": "stderr",
     "output_type": "stream",
     "text": [
      " 16%|█▌        | 572/3538 [01:13<04:35, 10.78it/s]"
     ]
    },
    {
     "name": "stdout",
     "output_type": "stream",
     "text": [
      "yes yes\n",
      "yes no\n"
     ]
    },
    {
     "name": "stderr",
     "output_type": "stream",
     "text": [
      " 16%|█▌        | 574/3538 [01:14<04:54, 10.06it/s]"
     ]
    },
    {
     "name": "stdout",
     "output_type": "stream",
     "text": [
      "yes no\n",
      "yes no\n"
     ]
    },
    {
     "name": "stderr",
     "output_type": "stream",
     "text": [
      " 16%|█▋        | 578/3538 [01:14<04:44, 10.39it/s]"
     ]
    },
    {
     "name": "stdout",
     "output_type": "stream",
     "text": [
      "yes no\n",
      "yes no\n",
      "yes yes\n"
     ]
    },
    {
     "name": "stderr",
     "output_type": "stream",
     "text": [
      " 16%|█▋        | 580/3538 [01:14<05:02,  9.78it/s]"
     ]
    },
    {
     "name": "stdout",
     "output_type": "stream",
     "text": [
      "yes no\n",
      "yes no\n"
     ]
    },
    {
     "name": "stderr",
     "output_type": "stream",
     "text": [
      " 16%|█▋        | 582/3538 [01:15<05:41,  8.65it/s]"
     ]
    },
    {
     "name": "stdout",
     "output_type": "stream",
     "text": [
      "yes no\n",
      "yes yes\n"
     ]
    },
    {
     "name": "stderr",
     "output_type": "stream",
     "text": [
      " 17%|█▋        | 584/3538 [01:15<05:15,  9.36it/s]"
     ]
    },
    {
     "name": "stdout",
     "output_type": "stream",
     "text": [
      "yes no\n",
      "yes no\n",
      "yes yes\n"
     ]
    },
    {
     "name": "stderr",
     "output_type": "stream",
     "text": [
      " 17%|█▋        | 587/3538 [01:15<05:26,  9.05it/s]"
     ]
    },
    {
     "name": "stdout",
     "output_type": "stream",
     "text": [
      "yes no\n",
      "yes yes\n"
     ]
    },
    {
     "name": "stderr",
     "output_type": "stream",
     "text": [
      " 17%|█▋        | 589/3538 [01:15<05:06,  9.64it/s]"
     ]
    },
    {
     "name": "stdout",
     "output_type": "stream",
     "text": [
      "yes yes\n",
      "yes no\n"
     ]
    },
    {
     "name": "stderr",
     "output_type": "stream",
     "text": [
      " 17%|█▋        | 591/3538 [01:16<06:13,  7.90it/s]"
     ]
    },
    {
     "name": "stdout",
     "output_type": "stream",
     "text": [
      "yes yes\n",
      "yes no\n"
     ]
    },
    {
     "name": "stderr",
     "output_type": "stream",
     "text": [
      " 17%|█▋        | 593/3538 [01:16<05:49,  8.43it/s]"
     ]
    },
    {
     "name": "stdout",
     "output_type": "stream",
     "text": [
      "yes no\n",
      "yes no\n",
      "yes yes\n"
     ]
    },
    {
     "name": "stderr",
     "output_type": "stream",
     "text": [
      " 17%|█▋        | 596/3538 [01:16<05:43,  8.56it/s]"
     ]
    },
    {
     "name": "stdout",
     "output_type": "stream",
     "text": [
      "yes yes\n",
      "yes yes\n"
     ]
    },
    {
     "name": "stderr",
     "output_type": "stream",
     "text": [
      " 17%|█▋        | 598/3538 [01:16<05:38,  8.68it/s]"
     ]
    },
    {
     "name": "stdout",
     "output_type": "stream",
     "text": [
      "yes no\n",
      "yes yes\n"
     ]
    },
    {
     "name": "stderr",
     "output_type": "stream",
     "text": [
      " 17%|█▋        | 600/3538 [01:17<05:23,  9.08it/s]"
     ]
    },
    {
     "name": "stdout",
     "output_type": "stream",
     "text": [
      "yes no\n",
      "yes no\n",
      "yes yes\n"
     ]
    },
    {
     "name": "stderr",
     "output_type": "stream",
     "text": [
      " 17%|█▋        | 604/3538 [01:17<04:46, 10.23it/s]"
     ]
    },
    {
     "name": "stdout",
     "output_type": "stream",
     "text": [
      "yes yes\n",
      "yes no\n",
      "yes no\n"
     ]
    },
    {
     "name": "stderr",
     "output_type": "stream",
     "text": [
      " 17%|█▋        | 606/3538 [01:17<04:38, 10.52it/s]"
     ]
    },
    {
     "name": "stdout",
     "output_type": "stream",
     "text": [
      "yes no\n",
      "yes no\n",
      "yes no\n"
     ]
    },
    {
     "name": "stderr",
     "output_type": "stream",
     "text": [
      " 17%|█▋        | 608/3538 [01:17<04:46, 10.23it/s]"
     ]
    },
    {
     "name": "stdout",
     "output_type": "stream",
     "text": [
      "yes no\n",
      "yes yes\n"
     ]
    },
    {
     "name": "stderr",
     "output_type": "stream",
     "text": [
      " 17%|█▋        | 611/3538 [01:18<05:02,  9.67it/s]"
     ]
    },
    {
     "name": "stdout",
     "output_type": "stream",
     "text": [
      "yes yes\n",
      "yes no\n"
     ]
    },
    {
     "name": "stderr",
     "output_type": "stream",
     "text": [
      " 17%|█▋        | 613/3538 [01:18<05:14,  9.29it/s]"
     ]
    },
    {
     "name": "stdout",
     "output_type": "stream",
     "text": [
      "yes no\n",
      "yes no\n"
     ]
    },
    {
     "name": "stderr",
     "output_type": "stream",
     "text": [
      " 17%|█▋        | 614/3538 [01:18<05:18,  9.18it/s]"
     ]
    },
    {
     "name": "stdout",
     "output_type": "stream",
     "text": [
      "yes yes\n",
      "yes no\n"
     ]
    },
    {
     "name": "stderr",
     "output_type": "stream",
     "text": [
      " 17%|█▋        | 617/3538 [01:18<06:18,  7.71it/s]"
     ]
    },
    {
     "name": "stdout",
     "output_type": "stream",
     "text": [
      "yes yes\n",
      "yes no\n"
     ]
    },
    {
     "name": "stderr",
     "output_type": "stream",
     "text": [
      " 17%|█▋        | 619/3538 [01:19<06:39,  7.30it/s]"
     ]
    },
    {
     "name": "stdout",
     "output_type": "stream",
     "text": [
      "yes no\n",
      "yes no\n"
     ]
    },
    {
     "name": "stderr",
     "output_type": "stream",
     "text": [
      " 18%|█▊        | 621/3538 [01:19<06:49,  7.13it/s]"
     ]
    },
    {
     "name": "stdout",
     "output_type": "stream",
     "text": [
      "yes no\n",
      "yes no\n"
     ]
    },
    {
     "name": "stderr",
     "output_type": "stream",
     "text": [
      " 18%|█▊        | 623/3538 [01:19<05:35,  8.68it/s]"
     ]
    },
    {
     "name": "stdout",
     "output_type": "stream",
     "text": [
      "yes no\n",
      "yes no\n"
     ]
    },
    {
     "name": "stderr",
     "output_type": "stream",
     "text": [
      " 18%|█▊        | 625/3538 [01:19<05:54,  8.21it/s]"
     ]
    },
    {
     "name": "stdout",
     "output_type": "stream",
     "text": [
      "yes no\n",
      "yes no\n",
      "yes no\n"
     ]
    },
    {
     "name": "stderr",
     "output_type": "stream",
     "text": [
      " 18%|█▊        | 628/3538 [01:20<05:15,  9.23it/s]"
     ]
    },
    {
     "name": "stdout",
     "output_type": "stream",
     "text": [
      "yes no\n",
      "yes no\n"
     ]
    },
    {
     "name": "stderr",
     "output_type": "stream",
     "text": [
      " 18%|█▊        | 631/3538 [01:20<04:48, 10.08it/s]"
     ]
    },
    {
     "name": "stdout",
     "output_type": "stream",
     "text": [
      "yes yes\n",
      "yes yes\n",
      "yes yes\n"
     ]
    },
    {
     "name": "stderr",
     "output_type": "stream",
     "text": [
      " 18%|█▊        | 633/3538 [01:20<04:41, 10.31it/s]"
     ]
    },
    {
     "name": "stdout",
     "output_type": "stream",
     "text": [
      "yes yes\n",
      "yes no\n",
      "yes yes\n"
     ]
    },
    {
     "name": "stderr",
     "output_type": "stream",
     "text": [
      " 18%|█▊        | 635/3538 [01:20<04:42, 10.28it/s]"
     ]
    },
    {
     "name": "stdout",
     "output_type": "stream",
     "text": [
      "yes no\n",
      "yes yes\n"
     ]
    },
    {
     "name": "stderr",
     "output_type": "stream",
     "text": [
      " 18%|█▊        | 639/3538 [01:21<04:30, 10.73it/s]"
     ]
    },
    {
     "name": "stdout",
     "output_type": "stream",
     "text": [
      "yes no\n",
      "yes no\n",
      "yes no\n"
     ]
    },
    {
     "name": "stderr",
     "output_type": "stream",
     "text": [
      " 18%|█▊        | 641/3538 [01:21<04:37, 10.43it/s]"
     ]
    },
    {
     "name": "stdout",
     "output_type": "stream",
     "text": [
      "yes yes\n",
      "yes no\n"
     ]
    },
    {
     "name": "stderr",
     "output_type": "stream",
     "text": [
      " 18%|█▊        | 643/3538 [01:21<05:06,  9.46it/s]"
     ]
    },
    {
     "name": "stdout",
     "output_type": "stream",
     "text": [
      "yes no\n",
      "yes no\n"
     ]
    },
    {
     "name": "stderr",
     "output_type": "stream",
     "text": [
      " 18%|█▊        | 645/3538 [01:21<04:54,  9.84it/s]"
     ]
    },
    {
     "name": "stdout",
     "output_type": "stream",
     "text": [
      "yes yes\n",
      "yes no\n",
      "yes no\n"
     ]
    },
    {
     "name": "stderr",
     "output_type": "stream",
     "text": [
      " 18%|█▊        | 647/3538 [01:22<04:52,  9.88it/s]"
     ]
    },
    {
     "name": "stdout",
     "output_type": "stream",
     "text": [
      "yes yes\n",
      "yes no\n"
     ]
    },
    {
     "name": "stderr",
     "output_type": "stream",
     "text": [
      " 18%|█▊        | 650/3538 [01:22<05:10,  9.29it/s]"
     ]
    },
    {
     "name": "stdout",
     "output_type": "stream",
     "text": [
      "yes yes\n",
      "yes no\n"
     ]
    },
    {
     "name": "stderr",
     "output_type": "stream",
     "text": [
      " 18%|█▊        | 653/3538 [01:22<05:06,  9.41it/s]"
     ]
    },
    {
     "name": "stdout",
     "output_type": "stream",
     "text": [
      "yes yes\n",
      "yes yes\n",
      "yes no\n"
     ]
    },
    {
     "name": "stderr",
     "output_type": "stream",
     "text": [
      " 19%|█▊        | 655/3538 [01:23<05:10,  9.30it/s]"
     ]
    },
    {
     "name": "stdout",
     "output_type": "stream",
     "text": [
      "yes no\n",
      "yes no\n",
      "yes no\n"
     ]
    },
    {
     "name": "stderr",
     "output_type": "stream",
     "text": [
      " 19%|█▊        | 658/3538 [01:23<04:52,  9.86it/s]"
     ]
    },
    {
     "name": "stdout",
     "output_type": "stream",
     "text": [
      "yes yes\n",
      "yes yes\n"
     ]
    },
    {
     "name": "stderr",
     "output_type": "stream",
     "text": [
      " 19%|█▊        | 660/3538 [01:23<05:09,  9.31it/s]"
     ]
    },
    {
     "name": "stdout",
     "output_type": "stream",
     "text": [
      "yes no\n",
      "yes no\n"
     ]
    },
    {
     "name": "stderr",
     "output_type": "stream",
     "text": [
      " 19%|█▊        | 662/3538 [01:23<05:03,  9.48it/s]"
     ]
    },
    {
     "name": "stdout",
     "output_type": "stream",
     "text": [
      "yes yes\n",
      "yes yes\n",
      "yes no\n"
     ]
    },
    {
     "name": "stderr",
     "output_type": "stream",
     "text": [
      " 19%|█▉        | 666/3538 [01:24<04:35, 10.44it/s]"
     ]
    },
    {
     "name": "stdout",
     "output_type": "stream",
     "text": [
      "yes no\n",
      "yes no\n",
      "yes no\n"
     ]
    },
    {
     "name": "stderr",
     "output_type": "stream",
     "text": [
      " 19%|█▉        | 668/3538 [01:24<04:32, 10.54it/s]"
     ]
    },
    {
     "name": "stdout",
     "output_type": "stream",
     "text": [
      "yes yes\n",
      "yes no\n",
      "yes no\n"
     ]
    },
    {
     "name": "stderr",
     "output_type": "stream",
     "text": [
      " 19%|█▉        | 672/3538 [01:24<04:28, 10.67it/s]"
     ]
    },
    {
     "name": "stdout",
     "output_type": "stream",
     "text": [
      "yes no\n",
      "yes no\n",
      "yes no\n"
     ]
    },
    {
     "name": "stderr",
     "output_type": "stream",
     "text": [
      " 19%|█▉        | 674/3538 [01:24<04:32, 10.52it/s]"
     ]
    },
    {
     "name": "stdout",
     "output_type": "stream",
     "text": [
      "yes no\n",
      "yes no\n"
     ]
    },
    {
     "name": "stderr",
     "output_type": "stream",
     "text": [
      " 19%|█▉        | 676/3538 [01:25<04:45, 10.03it/s]"
     ]
    },
    {
     "name": "stdout",
     "output_type": "stream",
     "text": [
      "yes yes\n",
      "yes yes\n",
      "yes no\n"
     ]
    },
    {
     "name": "stderr",
     "output_type": "stream",
     "text": [
      " 19%|█▉        | 678/3538 [01:25<04:39, 10.21it/s]"
     ]
    },
    {
     "name": "stdout",
     "output_type": "stream",
     "text": [
      "yes yes\n",
      "yes no\n"
     ]
    },
    {
     "name": "stderr",
     "output_type": "stream",
     "text": [
      " 19%|█▉        | 680/3538 [01:25<04:42, 10.10it/s]"
     ]
    },
    {
     "name": "stdout",
     "output_type": "stream",
     "text": [
      "yes no\n",
      "yes no\n"
     ]
    },
    {
     "name": "stderr",
     "output_type": "stream",
     "text": [
      " 19%|█▉        | 682/3538 [01:25<04:56,  9.62it/s]"
     ]
    },
    {
     "name": "stdout",
     "output_type": "stream",
     "text": [
      "yes no\n",
      "yes yes\n"
     ]
    },
    {
     "name": "stderr",
     "output_type": "stream",
     "text": [
      " 19%|█▉        | 686/3538 [01:26<04:29, 10.57it/s]"
     ]
    },
    {
     "name": "stdout",
     "output_type": "stream",
     "text": [
      "yes no\n",
      "yes no\n",
      "yes no\n"
     ]
    },
    {
     "name": "stderr",
     "output_type": "stream",
     "text": [
      " 19%|█▉        | 688/3538 [01:26<04:32, 10.45it/s]"
     ]
    },
    {
     "name": "stdout",
     "output_type": "stream",
     "text": [
      "yes no\n",
      "yes no\n"
     ]
    },
    {
     "name": "stderr",
     "output_type": "stream",
     "text": [
      " 20%|█▉        | 690/3538 [01:26<05:15,  9.03it/s]"
     ]
    },
    {
     "name": "stdout",
     "output_type": "stream",
     "text": [
      "yes no\n",
      "yes no\n"
     ]
    },
    {
     "name": "stderr",
     "output_type": "stream",
     "text": [
      " 20%|█▉        | 692/3538 [01:26<04:43, 10.02it/s]"
     ]
    },
    {
     "name": "stdout",
     "output_type": "stream",
     "text": [
      "yes no\n",
      "yes no\n",
      "yes yes\n"
     ]
    },
    {
     "name": "stderr",
     "output_type": "stream",
     "text": [
      " 20%|█▉        | 694/3538 [01:26<04:36, 10.28it/s]"
     ]
    },
    {
     "name": "stdout",
     "output_type": "stream",
     "text": [
      "yes yes\n",
      "yes no\n"
     ]
    },
    {
     "name": "stderr",
     "output_type": "stream",
     "text": [
      " 20%|█▉        | 698/3538 [01:27<04:38, 10.18it/s]"
     ]
    },
    {
     "name": "stdout",
     "output_type": "stream",
     "text": [
      "yes no\n",
      "yes no\n",
      "yes yes\n"
     ]
    },
    {
     "name": "stderr",
     "output_type": "stream",
     "text": [
      " 20%|█▉        | 700/3538 [01:27<05:02,  9.37it/s]"
     ]
    },
    {
     "name": "stdout",
     "output_type": "stream",
     "text": [
      "yes no\n",
      "yes no\n"
     ]
    },
    {
     "name": "stderr",
     "output_type": "stream",
     "text": [
      " 20%|█▉        | 702/3538 [01:27<05:25,  8.72it/s]"
     ]
    },
    {
     "name": "stdout",
     "output_type": "stream",
     "text": [
      "yes no\n",
      "yes no\n"
     ]
    },
    {
     "name": "stderr",
     "output_type": "stream",
     "text": [
      " 20%|█▉        | 705/3538 [01:28<04:51,  9.71it/s]"
     ]
    },
    {
     "name": "stdout",
     "output_type": "stream",
     "text": [
      "yes no\n",
      "yes yes\n",
      "yes no\n"
     ]
    },
    {
     "name": "stderr",
     "output_type": "stream",
     "text": [
      " 20%|█▉        | 707/3538 [01:28<05:25,  8.71it/s]"
     ]
    },
    {
     "name": "stdout",
     "output_type": "stream",
     "text": [
      "yes no\n",
      "yes no\n"
     ]
    },
    {
     "name": "stderr",
     "output_type": "stream",
     "text": [
      " 20%|██        | 710/3538 [01:28<05:05,  9.26it/s]"
     ]
    },
    {
     "name": "stdout",
     "output_type": "stream",
     "text": [
      "yes no\n",
      "yes no\n",
      "yes no\n"
     ]
    },
    {
     "name": "stderr",
     "output_type": "stream",
     "text": [
      " 20%|██        | 712/3538 [01:28<05:07,  9.19it/s]"
     ]
    },
    {
     "name": "stdout",
     "output_type": "stream",
     "text": [
      "yes no\n",
      "yes no\n"
     ]
    },
    {
     "name": "stderr",
     "output_type": "stream",
     "text": [
      " 20%|██        | 714/3538 [01:29<05:56,  7.93it/s]"
     ]
    },
    {
     "name": "stdout",
     "output_type": "stream",
     "text": [
      "yes no\n",
      "yes no\n"
     ]
    },
    {
     "name": "stderr",
     "output_type": "stream",
     "text": [
      " 20%|██        | 716/3538 [01:29<05:01,  9.37it/s]"
     ]
    },
    {
     "name": "stdout",
     "output_type": "stream",
     "text": [
      "yes no\n",
      "yes yes\n",
      "yes no\n"
     ]
    },
    {
     "name": "stderr",
     "output_type": "stream",
     "text": [
      " 20%|██        | 720/3538 [01:29<04:44,  9.89it/s]"
     ]
    },
    {
     "name": "stdout",
     "output_type": "stream",
     "text": [
      "yes no\n",
      "yes no\n",
      "yes yes\n"
     ]
    },
    {
     "name": "stderr",
     "output_type": "stream",
     "text": [
      " 20%|██        | 722/3538 [01:29<05:07,  9.17it/s]"
     ]
    },
    {
     "name": "stdout",
     "output_type": "stream",
     "text": [
      "yes no\n",
      "yes no\n"
     ]
    },
    {
     "name": "stderr",
     "output_type": "stream",
     "text": [
      " 20%|██        | 724/3538 [01:30<05:18,  8.83it/s]"
     ]
    },
    {
     "name": "stdout",
     "output_type": "stream",
     "text": [
      "yes no\n",
      "yes no\n"
     ]
    },
    {
     "name": "stderr",
     "output_type": "stream",
     "text": [
      " 21%|██        | 726/3538 [01:30<05:08,  9.11it/s]"
     ]
    },
    {
     "name": "stdout",
     "output_type": "stream",
     "text": [
      "yes no\n",
      "yes no\n"
     ]
    },
    {
     "name": "stderr",
     "output_type": "stream",
     "text": [
      " 21%|██        | 727/3538 [01:30<05:06,  9.16it/s]"
     ]
    },
    {
     "name": "stdout",
     "output_type": "stream",
     "text": [
      "yes no\n",
      "yes no\n"
     ]
    },
    {
     "name": "stderr",
     "output_type": "stream",
     "text": [
      " 21%|██        | 730/3538 [01:30<05:14,  8.93it/s]"
     ]
    },
    {
     "name": "stdout",
     "output_type": "stream",
     "text": [
      "yes no\n",
      "yes no\n"
     ]
    },
    {
     "name": "stderr",
     "output_type": "stream",
     "text": [
      " 21%|██        | 732/3538 [01:31<04:46,  9.80it/s]"
     ]
    },
    {
     "name": "stdout",
     "output_type": "stream",
     "text": [
      "yes no\n",
      "yes yes\n"
     ]
    },
    {
     "name": "stderr",
     "output_type": "stream",
     "text": [
      " 21%|██        | 734/3538 [01:31<05:07,  9.11it/s]"
     ]
    },
    {
     "name": "stdout",
     "output_type": "stream",
     "text": [
      "yes yes\n",
      "yes yes\n"
     ]
    },
    {
     "name": "stderr",
     "output_type": "stream",
     "text": [
      " 21%|██        | 736/3538 [01:31<05:11,  9.00it/s]"
     ]
    },
    {
     "name": "stdout",
     "output_type": "stream",
     "text": [
      "yes no\n",
      "yes no\n",
      "yes no\n"
     ]
    },
    {
     "name": "stderr",
     "output_type": "stream",
     "text": [
      " 21%|██        | 739/3538 [01:31<05:14,  8.91it/s]"
     ]
    },
    {
     "name": "stdout",
     "output_type": "stream",
     "text": [
      "yes no\n",
      "yes no\n"
     ]
    },
    {
     "name": "stderr",
     "output_type": "stream",
     "text": [
      " 21%|██        | 741/3538 [01:32<05:09,  9.04it/s]"
     ]
    },
    {
     "name": "stdout",
     "output_type": "stream",
     "text": [
      "yes no\n",
      "yes no\n"
     ]
    },
    {
     "name": "stderr",
     "output_type": "stream",
     "text": [
      " 21%|██        | 743/3538 [01:32<04:54,  9.50it/s]"
     ]
    },
    {
     "name": "stdout",
     "output_type": "stream",
     "text": [
      "yes no\n",
      "yes no\n"
     ]
    },
    {
     "name": "stderr",
     "output_type": "stream",
     "text": [
      " 21%|██        | 746/3538 [01:32<04:45,  9.77it/s]"
     ]
    },
    {
     "name": "stdout",
     "output_type": "stream",
     "text": [
      "yes no\n",
      "yes yes\n",
      "yes no\n"
     ]
    },
    {
     "name": "stderr",
     "output_type": "stream",
     "text": [
      " 21%|██        | 749/3538 [01:32<04:36, 10.08it/s]"
     ]
    },
    {
     "name": "stdout",
     "output_type": "stream",
     "text": [
      "yes yes\n",
      "yes no\n",
      "yes yes\n"
     ]
    },
    {
     "name": "stderr",
     "output_type": "stream",
     "text": [
      " 21%|██        | 750/3538 [01:32<04:40,  9.93it/s]"
     ]
    },
    {
     "name": "stdout",
     "output_type": "stream",
     "text": [
      "yes no\n",
      "yes no\n"
     ]
    },
    {
     "name": "stderr",
     "output_type": "stream",
     "text": [
      " 21%|██▏       | 754/3538 [01:33<04:44,  9.78it/s]"
     ]
    },
    {
     "name": "stdout",
     "output_type": "stream",
     "text": [
      "yes yes\n",
      "yes yes\n",
      "yes no\n"
     ]
    },
    {
     "name": "stderr",
     "output_type": "stream",
     "text": [
      " 21%|██▏       | 757/3538 [01:33<04:18, 10.76it/s]"
     ]
    },
    {
     "name": "stdout",
     "output_type": "stream",
     "text": [
      "yes no\n",
      "yes yes\n",
      "yes no\n"
     ]
    },
    {
     "name": "stderr",
     "output_type": "stream",
     "text": [
      " 21%|██▏       | 759/3538 [01:33<04:44,  9.77it/s]"
     ]
    },
    {
     "name": "stdout",
     "output_type": "stream",
     "text": [
      "yes yes\n",
      "yes yes\n"
     ]
    },
    {
     "name": "stderr",
     "output_type": "stream",
     "text": [
      " 22%|██▏       | 761/3538 [01:34<04:44,  9.77it/s]"
     ]
    },
    {
     "name": "stdout",
     "output_type": "stream",
     "text": [
      "yes yes\n",
      "yes no\n"
     ]
    },
    {
     "name": "stderr",
     "output_type": "stream",
     "text": [
      " 22%|██▏       | 762/3538 [01:34<05:04,  9.11it/s]"
     ]
    },
    {
     "name": "stdout",
     "output_type": "stream",
     "text": [
      "yes yes\n",
      "yes no\n"
     ]
    },
    {
     "name": "stderr",
     "output_type": "stream",
     "text": [
      " 22%|██▏       | 765/3538 [01:34<05:16,  8.76it/s]"
     ]
    },
    {
     "name": "stdout",
     "output_type": "stream",
     "text": [
      "yes no\n",
      "yes yes\n"
     ]
    },
    {
     "name": "stderr",
     "output_type": "stream",
     "text": [
      " 22%|██▏       | 768/3538 [01:34<04:51,  9.50it/s]"
     ]
    },
    {
     "name": "stdout",
     "output_type": "stream",
     "text": [
      "yes no\n",
      "yes yes\n",
      "yes no\n"
     ]
    },
    {
     "name": "stderr",
     "output_type": "stream",
     "text": [
      " 22%|██▏       | 770/3538 [01:35<05:42,  8.07it/s]"
     ]
    },
    {
     "name": "stdout",
     "output_type": "stream",
     "text": [
      "yes no\n",
      "yes yes\n"
     ]
    },
    {
     "name": "stderr",
     "output_type": "stream",
     "text": [
      " 22%|██▏       | 772/3538 [01:35<05:30,  8.38it/s]"
     ]
    },
    {
     "name": "stdout",
     "output_type": "stream",
     "text": [
      "yes yes\n",
      "yes no\n"
     ]
    },
    {
     "name": "stderr",
     "output_type": "stream",
     "text": [
      " 22%|██▏       | 775/3538 [01:35<04:44,  9.73it/s]"
     ]
    },
    {
     "name": "stdout",
     "output_type": "stream",
     "text": [
      "yes yes\n",
      "yes no\n",
      "yes no\n"
     ]
    },
    {
     "name": "stderr",
     "output_type": "stream",
     "text": [
      " 22%|██▏       | 777/3538 [01:35<05:24,  8.50it/s]"
     ]
    },
    {
     "name": "stdout",
     "output_type": "stream",
     "text": [
      "yes yes\n",
      "yes yes\n"
     ]
    },
    {
     "name": "stderr",
     "output_type": "stream",
     "text": [
      " 22%|██▏       | 779/3538 [01:36<06:32,  7.03it/s]"
     ]
    },
    {
     "name": "stdout",
     "output_type": "stream",
     "text": [
      "yes no\n",
      "yes no\n"
     ]
    },
    {
     "name": "stderr",
     "output_type": "stream",
     "text": [
      " 22%|██▏       | 781/3538 [01:36<06:03,  7.58it/s]"
     ]
    },
    {
     "name": "stdout",
     "output_type": "stream",
     "text": [
      "yes yes\n",
      "yes yes\n"
     ]
    },
    {
     "name": "stderr",
     "output_type": "stream",
     "text": [
      " 22%|██▏       | 783/3538 [01:36<05:22,  8.53it/s]"
     ]
    },
    {
     "name": "stdout",
     "output_type": "stream",
     "text": [
      "yes no\n",
      "yes no\n"
     ]
    },
    {
     "name": "stderr",
     "output_type": "stream",
     "text": [
      " 22%|██▏       | 785/3538 [01:36<05:27,  8.39it/s]"
     ]
    },
    {
     "name": "stdout",
     "output_type": "stream",
     "text": [
      "yes no\n",
      "yes no\n",
      "yes no\n"
     ]
    },
    {
     "name": "stderr",
     "output_type": "stream",
     "text": [
      " 22%|██▏       | 789/3538 [01:37<04:42,  9.74it/s]"
     ]
    },
    {
     "name": "stdout",
     "output_type": "stream",
     "text": [
      "yes no\n",
      "yes no\n",
      "yes no\n"
     ]
    },
    {
     "name": "stderr",
     "output_type": "stream",
     "text": [
      " 22%|██▏       | 791/3538 [01:37<04:35,  9.96it/s]"
     ]
    },
    {
     "name": "stdout",
     "output_type": "stream",
     "text": [
      "yes no\n",
      "yes no\n",
      "yes no\n"
     ]
    },
    {
     "name": "stderr",
     "output_type": "stream",
     "text": [
      " 22%|██▏       | 793/3538 [01:37<04:43,  9.70it/s]"
     ]
    },
    {
     "name": "stdout",
     "output_type": "stream",
     "text": [
      "yes no\n",
      "yes no\n"
     ]
    },
    {
     "name": "stderr",
     "output_type": "stream",
     "text": [
      " 23%|██▎       | 797/3538 [01:38<04:38,  9.83it/s]"
     ]
    },
    {
     "name": "stdout",
     "output_type": "stream",
     "text": [
      "yes no\n",
      "yes yes\n",
      "yes yes\n"
     ]
    },
    {
     "name": "stderr",
     "output_type": "stream",
     "text": [
      " 23%|██▎       | 800/3538 [01:38<04:24, 10.37it/s]"
     ]
    },
    {
     "name": "stdout",
     "output_type": "stream",
     "text": [
      "yes yes\n",
      "yes no\n",
      "yes no\n"
     ]
    },
    {
     "name": "stderr",
     "output_type": "stream",
     "text": [
      " 23%|██▎       | 802/3538 [01:38<04:31, 10.09it/s]"
     ]
    },
    {
     "name": "stdout",
     "output_type": "stream",
     "text": [
      "yes no\n",
      "yes no\n"
     ]
    },
    {
     "name": "stderr",
     "output_type": "stream",
     "text": [
      " 23%|██▎       | 804/3538 [01:38<04:39,  9.77it/s]"
     ]
    },
    {
     "name": "stdout",
     "output_type": "stream",
     "text": [
      "yes no\n",
      "yes yes\n"
     ]
    },
    {
     "name": "stderr",
     "output_type": "stream",
     "text": [
      " 23%|██▎       | 806/3538 [01:39<04:43,  9.64it/s]"
     ]
    },
    {
     "name": "stdout",
     "output_type": "stream",
     "text": [
      "yes no\n",
      "yes yes\n",
      "yes no\n"
     ]
    },
    {
     "name": "stderr",
     "output_type": "stream",
     "text": [
      " 23%|██▎       | 808/3538 [01:39<04:48,  9.46it/s]"
     ]
    },
    {
     "name": "stdout",
     "output_type": "stream",
     "text": [
      "yes no\n",
      "yes no\n"
     ]
    },
    {
     "name": "stderr",
     "output_type": "stream",
     "text": [
      " 23%|██▎       | 811/3538 [01:39<04:57,  9.15it/s]"
     ]
    },
    {
     "name": "stdout",
     "output_type": "stream",
     "text": [
      "yes yes\n",
      "yes yes\n"
     ]
    },
    {
     "name": "stderr",
     "output_type": "stream",
     "text": [
      " 23%|██▎       | 814/3538 [01:39<04:43,  9.60it/s]"
     ]
    },
    {
     "name": "stdout",
     "output_type": "stream",
     "text": [
      "yes yes\n",
      "yes no\n",
      "yes no\n"
     ]
    },
    {
     "name": "stderr",
     "output_type": "stream",
     "text": [
      " 23%|██▎       | 816/3538 [01:40<05:06,  8.89it/s]"
     ]
    },
    {
     "name": "stdout",
     "output_type": "stream",
     "text": [
      "yes no\n",
      "yes no\n"
     ]
    },
    {
     "name": "stderr",
     "output_type": "stream",
     "text": [
      " 23%|██▎       | 818/3538 [01:40<05:22,  8.45it/s]"
     ]
    },
    {
     "name": "stdout",
     "output_type": "stream",
     "text": [
      "yes yes\n",
      "yes yes\n"
     ]
    },
    {
     "name": "stderr",
     "output_type": "stream",
     "text": [
      " 23%|██▎       | 820/3538 [01:40<05:02,  8.97it/s]"
     ]
    },
    {
     "name": "stdout",
     "output_type": "stream",
     "text": [
      "yes no\n",
      "yes no\n"
     ]
    },
    {
     "name": "stderr",
     "output_type": "stream",
     "text": [
      " 23%|██▎       | 822/3538 [01:40<05:47,  7.81it/s]"
     ]
    },
    {
     "name": "stdout",
     "output_type": "stream",
     "text": [
      "yes no\n",
      "yes no\n"
     ]
    },
    {
     "name": "stderr",
     "output_type": "stream",
     "text": [
      " 23%|██▎       | 824/3538 [01:41<06:02,  7.48it/s]"
     ]
    },
    {
     "name": "stdout",
     "output_type": "stream",
     "text": [
      "yes no\n",
      "yes no\n"
     ]
    },
    {
     "name": "stderr",
     "output_type": "stream",
     "text": [
      " 23%|██▎       | 826/3538 [01:41<05:53,  7.67it/s]"
     ]
    },
    {
     "name": "stdout",
     "output_type": "stream",
     "text": [
      "yes no\n",
      "yes no\n"
     ]
    },
    {
     "name": "stderr",
     "output_type": "stream",
     "text": [
      " 23%|██▎       | 827/3538 [01:41<06:06,  7.39it/s]"
     ]
    },
    {
     "name": "stdout",
     "output_type": "stream",
     "text": [
      "yes no\n",
      "yes no\n"
     ]
    },
    {
     "name": "stderr",
     "output_type": "stream",
     "text": [
      " 23%|██▎       | 829/3538 [01:41<05:27,  8.26it/s]"
     ]
    },
    {
     "name": "stdout",
     "output_type": "stream",
     "text": [
      "yes yes\n",
      "yes no\n"
     ]
    },
    {
     "name": "stderr",
     "output_type": "stream",
     "text": [
      " 24%|██▎       | 832/3538 [01:42<05:06,  8.83it/s]"
     ]
    },
    {
     "name": "stdout",
     "output_type": "stream",
     "text": [
      "yes no\n",
      "yes no\n"
     ]
    },
    {
     "name": "stderr",
     "output_type": "stream",
     "text": [
      " 24%|██▎       | 834/3538 [01:42<05:31,  8.15it/s]"
     ]
    },
    {
     "name": "stdout",
     "output_type": "stream",
     "text": [
      "yes yes\n",
      "yes yes\n"
     ]
    },
    {
     "name": "stderr",
     "output_type": "stream",
     "text": [
      " 24%|██▎       | 836/3538 [01:42<05:41,  7.90it/s]"
     ]
    },
    {
     "name": "stdout",
     "output_type": "stream",
     "text": [
      "yes yes\n",
      "yes no\n"
     ]
    },
    {
     "name": "stderr",
     "output_type": "stream",
     "text": [
      " 24%|██▎       | 838/3538 [01:42<05:47,  7.78it/s]"
     ]
    },
    {
     "name": "stdout",
     "output_type": "stream",
     "text": [
      "yes no\n",
      "yes no\n"
     ]
    },
    {
     "name": "stderr",
     "output_type": "stream",
     "text": [
      " 24%|██▎       | 839/3538 [01:42<05:29,  8.20it/s]"
     ]
    },
    {
     "name": "stdout",
     "output_type": "stream",
     "text": [
      "yes no\n",
      "yes no\n"
     ]
    },
    {
     "name": "stderr",
     "output_type": "stream",
     "text": [
      " 24%|██▍       | 843/3538 [01:43<04:42,  9.54it/s]"
     ]
    },
    {
     "name": "stdout",
     "output_type": "stream",
     "text": [
      "yes no\n",
      "yes no\n",
      "yes no\n"
     ]
    },
    {
     "name": "stderr",
     "output_type": "stream",
     "text": [
      " 24%|██▍       | 845/3538 [01:43<05:22,  8.35it/s]"
     ]
    },
    {
     "name": "stdout",
     "output_type": "stream",
     "text": [
      "yes no\n",
      "yes no\n"
     ]
    },
    {
     "name": "stderr",
     "output_type": "stream",
     "text": [
      " 24%|██▍       | 847/3538 [01:43<05:19,  8.43it/s]"
     ]
    },
    {
     "name": "stdout",
     "output_type": "stream",
     "text": [
      "yes yes\n",
      "yes yes\n"
     ]
    },
    {
     "name": "stderr",
     "output_type": "stream",
     "text": [
      " 24%|██▍       | 849/3538 [01:44<05:07,  8.76it/s]"
     ]
    },
    {
     "name": "stdout",
     "output_type": "stream",
     "text": [
      "yes no\n",
      "yes no\n"
     ]
    },
    {
     "name": "stderr",
     "output_type": "stream",
     "text": [
      " 24%|██▍       | 852/3538 [01:44<04:57,  9.04it/s]"
     ]
    },
    {
     "name": "stdout",
     "output_type": "stream",
     "text": [
      "yes no\n",
      "yes no\n",
      "yes yes\n"
     ]
    },
    {
     "name": "stderr",
     "output_type": "stream",
     "text": [
      " 24%|██▍       | 854/3538 [01:44<04:55,  9.09it/s]"
     ]
    },
    {
     "name": "stdout",
     "output_type": "stream",
     "text": [
      "yes yes\n",
      "yes no\n"
     ]
    },
    {
     "name": "stderr",
     "output_type": "stream",
     "text": [
      " 24%|██▍       | 857/3538 [01:44<04:25, 10.10it/s]"
     ]
    },
    {
     "name": "stdout",
     "output_type": "stream",
     "text": [
      "yes no\n",
      "yes yes\n",
      "yes no\n"
     ]
    },
    {
     "name": "stderr",
     "output_type": "stream",
     "text": [
      " 24%|██▍       | 859/3538 [01:45<05:29,  8.14it/s]"
     ]
    },
    {
     "name": "stdout",
     "output_type": "stream",
     "text": [
      "yes yes\n",
      "yes no\n"
     ]
    },
    {
     "name": "stderr",
     "output_type": "stream",
     "text": [
      " 24%|██▍       | 862/3538 [01:45<04:52,  9.16it/s]"
     ]
    },
    {
     "name": "stdout",
     "output_type": "stream",
     "text": [
      "yes no\n",
      "yes no\n",
      "yes no\n"
     ]
    },
    {
     "name": "stderr",
     "output_type": "stream",
     "text": [
      " 24%|██▍       | 864/3538 [01:45<05:23,  8.25it/s]"
     ]
    },
    {
     "name": "stdout",
     "output_type": "stream",
     "text": [
      "yes no\n",
      "yes yes\n"
     ]
    },
    {
     "name": "stderr",
     "output_type": "stream",
     "text": [
      " 24%|██▍       | 865/3538 [01:45<05:41,  7.82it/s]"
     ]
    },
    {
     "name": "stdout",
     "output_type": "stream",
     "text": [
      "yes yes\n",
      "yes no\n"
     ]
    },
    {
     "name": "stderr",
     "output_type": "stream",
     "text": [
      " 25%|██▍       | 868/3538 [01:46<05:11,  8.56it/s]"
     ]
    },
    {
     "name": "stdout",
     "output_type": "stream",
     "text": [
      "yes no\n",
      "yes no\n"
     ]
    },
    {
     "name": "stderr",
     "output_type": "stream",
     "text": [
      " 25%|██▍       | 869/3538 [01:46<05:11,  8.58it/s]"
     ]
    },
    {
     "name": "stdout",
     "output_type": "stream",
     "text": [
      "yes no\n",
      "yes yes\n"
     ]
    },
    {
     "name": "stderr",
     "output_type": "stream",
     "text": [
      " 25%|██▍       | 873/3538 [01:46<04:36,  9.63it/s]"
     ]
    },
    {
     "name": "stdout",
     "output_type": "stream",
     "text": [
      "yes yes\n",
      "yes no\n",
      "yes no\n"
     ]
    },
    {
     "name": "stderr",
     "output_type": "stream",
     "text": [
      " 25%|██▍       | 875/3538 [01:47<05:41,  7.81it/s]"
     ]
    },
    {
     "name": "stdout",
     "output_type": "stream",
     "text": [
      "yes no\n",
      "yes yes\n"
     ]
    },
    {
     "name": "stderr",
     "output_type": "stream",
     "text": [
      " 25%|██▍       | 877/3538 [01:47<05:43,  7.75it/s]"
     ]
    },
    {
     "name": "stdout",
     "output_type": "stream",
     "text": [
      "yes yes\n",
      "yes yes\n"
     ]
    },
    {
     "name": "stderr",
     "output_type": "stream",
     "text": [
      " 25%|██▍       | 879/3538 [01:47<05:54,  7.51it/s]"
     ]
    },
    {
     "name": "stdout",
     "output_type": "stream",
     "text": [
      "yes yes\n",
      "yes no\n"
     ]
    },
    {
     "name": "stderr",
     "output_type": "stream",
     "text": [
      " 25%|██▍       | 881/3538 [01:47<06:00,  7.36it/s]"
     ]
    },
    {
     "name": "stdout",
     "output_type": "stream",
     "text": [
      "yes yes\n",
      "yes yes\n"
     ]
    },
    {
     "name": "stderr",
     "output_type": "stream",
     "text": [
      " 25%|██▍       | 883/3538 [01:48<05:48,  7.62it/s]"
     ]
    },
    {
     "name": "stdout",
     "output_type": "stream",
     "text": [
      "yes no\n",
      "yes no\n"
     ]
    },
    {
     "name": "stderr",
     "output_type": "stream",
     "text": [
      " 25%|██▌       | 885/3538 [01:48<06:00,  7.36it/s]"
     ]
    },
    {
     "name": "stdout",
     "output_type": "stream",
     "text": [
      "yes yes\n",
      "yes yes\n"
     ]
    },
    {
     "name": "stderr",
     "output_type": "stream",
     "text": [
      " 25%|██▌       | 887/3538 [01:48<05:49,  7.58it/s]"
     ]
    },
    {
     "name": "stdout",
     "output_type": "stream",
     "text": [
      "yes no\n",
      "yes yes\n"
     ]
    },
    {
     "name": "stderr",
     "output_type": "stream",
     "text": [
      " 25%|██▌       | 889/3538 [01:49<05:49,  7.57it/s]"
     ]
    },
    {
     "name": "stdout",
     "output_type": "stream",
     "text": [
      "yes no\n",
      "yes no\n"
     ]
    },
    {
     "name": "stderr",
     "output_type": "stream",
     "text": [
      " 25%|██▌       | 891/3538 [01:49<05:38,  7.83it/s]"
     ]
    },
    {
     "name": "stdout",
     "output_type": "stream",
     "text": [
      "yes no\n",
      "yes yes\n"
     ]
    },
    {
     "name": "stderr",
     "output_type": "stream",
     "text": [
      " 25%|██▌       | 893/3538 [01:49<05:44,  7.68it/s]"
     ]
    },
    {
     "name": "stdout",
     "output_type": "stream",
     "text": [
      "yes no\n",
      "yes no\n"
     ]
    },
    {
     "name": "stderr",
     "output_type": "stream",
     "text": [
      " 25%|██▌       | 895/3538 [01:49<05:12,  8.45it/s]"
     ]
    },
    {
     "name": "stdout",
     "output_type": "stream",
     "text": [
      "yes no\n",
      "yes no\n"
     ]
    },
    {
     "name": "stderr",
     "output_type": "stream",
     "text": [
      " 25%|██▌       | 897/3538 [01:49<04:37,  9.51it/s]"
     ]
    },
    {
     "name": "stdout",
     "output_type": "stream",
     "text": [
      "yes no\n",
      "yes yes\n",
      "yes no\n"
     ]
    },
    {
     "name": "stderr",
     "output_type": "stream",
     "text": [
      " 25%|██▌       | 900/3538 [01:50<04:52,  9.02it/s]"
     ]
    },
    {
     "name": "stdout",
     "output_type": "stream",
     "text": [
      "yes yes\n",
      "yes no\n"
     ]
    },
    {
     "name": "stderr",
     "output_type": "stream",
     "text": [
      " 26%|██▌       | 903/3538 [01:50<04:27,  9.84it/s]"
     ]
    },
    {
     "name": "stdout",
     "output_type": "stream",
     "text": [
      "yes no\n",
      "yes yes\n",
      "yes no\n"
     ]
    },
    {
     "name": "stderr",
     "output_type": "stream",
     "text": [
      " 26%|██▌       | 906/3538 [01:50<04:12, 10.41it/s]"
     ]
    },
    {
     "name": "stdout",
     "output_type": "stream",
     "text": [
      "yes no\n",
      "yes no\n",
      "yes no\n"
     ]
    },
    {
     "name": "stderr",
     "output_type": "stream",
     "text": [
      " 26%|██▌       | 908/3538 [01:51<04:15, 10.29it/s]"
     ]
    },
    {
     "name": "stdout",
     "output_type": "stream",
     "text": [
      "yes no\n",
      "yes no\n",
      "yes yes\n"
     ]
    },
    {
     "name": "stderr",
     "output_type": "stream",
     "text": [
      " 26%|██▌       | 911/3538 [01:51<04:31,  9.67it/s]"
     ]
    },
    {
     "name": "stdout",
     "output_type": "stream",
     "text": [
      "yes no\n",
      "yes yes\n"
     ]
    },
    {
     "name": "stderr",
     "output_type": "stream",
     "text": [
      " 26%|██▌       | 913/3538 [01:51<05:03,  8.65it/s]"
     ]
    },
    {
     "name": "stdout",
     "output_type": "stream",
     "text": [
      "yes no\n",
      "yes no\n"
     ]
    },
    {
     "name": "stderr",
     "output_type": "stream",
     "text": [
      " 26%|██▌       | 915/3538 [01:51<05:04,  8.62it/s]"
     ]
    },
    {
     "name": "stdout",
     "output_type": "stream",
     "text": [
      "yes no\n",
      "yes no\n"
     ]
    },
    {
     "name": "stderr",
     "output_type": "stream",
     "text": [
      " 26%|██▌       | 916/3538 [01:51<04:59,  8.75it/s]"
     ]
    },
    {
     "name": "stdout",
     "output_type": "stream",
     "text": [
      "yes no\n",
      "yes no\n"
     ]
    },
    {
     "name": "stderr",
     "output_type": "stream",
     "text": [
      " 26%|██▌       | 918/3538 [01:52<05:00,  8.71it/s]"
     ]
    },
    {
     "name": "stdout",
     "output_type": "stream",
     "text": [
      "yes yes\n",
      "yes no\n"
     ]
    },
    {
     "name": "stderr",
     "output_type": "stream",
     "text": [
      " 26%|██▌       | 921/3538 [01:52<05:28,  7.96it/s]"
     ]
    },
    {
     "name": "stdout",
     "output_type": "stream",
     "text": [
      "yes no\n",
      "yes no\n"
     ]
    },
    {
     "name": "stderr",
     "output_type": "stream",
     "text": [
      " 26%|██▌       | 923/3538 [01:52<05:09,  8.45it/s]"
     ]
    },
    {
     "name": "stdout",
     "output_type": "stream",
     "text": [
      "yes no\n",
      "yes no\n",
      "yes no\n"
     ]
    },
    {
     "name": "stderr",
     "output_type": "stream",
     "text": [
      " 26%|██▌       | 927/3538 [01:53<04:28,  9.73it/s]"
     ]
    },
    {
     "name": "stdout",
     "output_type": "stream",
     "text": [
      "yes no\n",
      "yes yes\n",
      "yes yes\n"
     ]
    },
    {
     "name": "stderr",
     "output_type": "stream",
     "text": [
      " 26%|██▋       | 929/3538 [01:53<04:22,  9.95it/s]"
     ]
    },
    {
     "name": "stdout",
     "output_type": "stream",
     "text": [
      "yes yes\n",
      "yes no\n",
      "yes yes\n"
     ]
    },
    {
     "name": "stderr",
     "output_type": "stream",
     "text": [
      " 26%|██▋       | 933/3538 [01:53<03:57, 10.97it/s]"
     ]
    },
    {
     "name": "stdout",
     "output_type": "stream",
     "text": [
      "yes no\n",
      "yes no\n",
      "yes no\n"
     ]
    },
    {
     "name": "stderr",
     "output_type": "stream",
     "text": [
      " 26%|██▋       | 935/3538 [01:53<04:16, 10.14it/s]"
     ]
    },
    {
     "name": "stdout",
     "output_type": "stream",
     "text": [
      "yes yes\n",
      "yes no\n",
      "yes yes\n"
     ]
    },
    {
     "name": "stderr",
     "output_type": "stream",
     "text": [
      " 26%|██▋       | 937/3538 [01:54<04:17, 10.09it/s]"
     ]
    },
    {
     "name": "stdout",
     "output_type": "stream",
     "text": [
      "yes no\n",
      "yes no\n"
     ]
    },
    {
     "name": "stderr",
     "output_type": "stream",
     "text": [
      " 27%|██▋       | 940/3538 [01:54<04:55,  8.79it/s]"
     ]
    },
    {
     "name": "stdout",
     "output_type": "stream",
     "text": [
      "yes yes\n",
      "yes no\n"
     ]
    },
    {
     "name": "stderr",
     "output_type": "stream",
     "text": [
      " 27%|██▋       | 942/3538 [01:54<04:59,  8.67it/s]"
     ]
    },
    {
     "name": "stdout",
     "output_type": "stream",
     "text": [
      "yes yes\n",
      "yes yes\n"
     ]
    },
    {
     "name": "stderr",
     "output_type": "stream",
     "text": [
      " 27%|██▋       | 944/3538 [01:55<05:18,  8.14it/s]"
     ]
    },
    {
     "name": "stdout",
     "output_type": "stream",
     "text": [
      "yes no\n",
      "yes no\n"
     ]
    },
    {
     "name": "stderr",
     "output_type": "stream",
     "text": [
      " 27%|██▋       | 946/3538 [01:55<05:04,  8.50it/s]"
     ]
    },
    {
     "name": "stdout",
     "output_type": "stream",
     "text": [
      "yes no\n",
      "yes no\n"
     ]
    },
    {
     "name": "stderr",
     "output_type": "stream",
     "text": [
      " 27%|██▋       | 948/3538 [01:55<05:20,  8.07it/s]"
     ]
    },
    {
     "name": "stdout",
     "output_type": "stream",
     "text": [
      "yes no\n",
      "yes yes\n"
     ]
    },
    {
     "name": "stderr",
     "output_type": "stream",
     "text": [
      " 27%|██▋       | 950/3538 [01:55<04:43,  9.13it/s]"
     ]
    },
    {
     "name": "stdout",
     "output_type": "stream",
     "text": [
      "yes no\n",
      "yes no\n"
     ]
    },
    {
     "name": "stderr",
     "output_type": "stream",
     "text": [
      " 27%|██▋       | 953/3538 [01:56<04:42,  9.14it/s]"
     ]
    },
    {
     "name": "stdout",
     "output_type": "stream",
     "text": [
      "yes no\n",
      "yes no\n",
      "yes yes\n"
     ]
    },
    {
     "name": "stderr",
     "output_type": "stream",
     "text": [
      " 27%|██▋       | 955/3538 [01:56<05:25,  7.93it/s]"
     ]
    },
    {
     "name": "stdout",
     "output_type": "stream",
     "text": [
      "yes no\n",
      "yes yes\n"
     ]
    },
    {
     "name": "stderr",
     "output_type": "stream",
     "text": [
      " 27%|██▋       | 957/3538 [01:56<04:56,  8.71it/s]"
     ]
    },
    {
     "name": "stdout",
     "output_type": "stream",
     "text": [
      "yes no\n",
      "yes yes\n",
      "yes yes\n"
     ]
    },
    {
     "name": "stderr",
     "output_type": "stream",
     "text": [
      " 27%|██▋       | 961/3538 [01:56<04:06, 10.44it/s]"
     ]
    },
    {
     "name": "stdout",
     "output_type": "stream",
     "text": [
      "yes no\n",
      "yes yes\n",
      "yes yes\n"
     ]
    },
    {
     "name": "stderr",
     "output_type": "stream",
     "text": [
      " 27%|██▋       | 963/3538 [01:57<04:05, 10.49it/s]"
     ]
    },
    {
     "name": "stdout",
     "output_type": "stream",
     "text": [
      "yes no\n",
      "yes no\n",
      "yes no\n"
     ]
    },
    {
     "name": "stderr",
     "output_type": "stream",
     "text": [
      " 27%|██▋       | 965/3538 [01:57<03:57, 10.83it/s]"
     ]
    },
    {
     "name": "stdout",
     "output_type": "stream",
     "text": [
      "yes yes\n",
      "yes no\n"
     ]
    },
    {
     "name": "stderr",
     "output_type": "stream",
     "text": [
      " 27%|██▋       | 969/3538 [01:57<03:57, 10.81it/s]"
     ]
    },
    {
     "name": "stdout",
     "output_type": "stream",
     "text": [
      "yes yes\n",
      "yes no\n",
      "yes no\n"
     ]
    },
    {
     "name": "stderr",
     "output_type": "stream",
     "text": [
      " 27%|██▋       | 971/3538 [01:57<04:23,  9.73it/s]"
     ]
    },
    {
     "name": "stdout",
     "output_type": "stream",
     "text": [
      "yes no\n",
      "yes yes\n"
     ]
    },
    {
     "name": "stderr",
     "output_type": "stream",
     "text": [
      " 28%|██▊       | 973/3538 [01:58<04:57,  8.62it/s]"
     ]
    },
    {
     "name": "stdout",
     "output_type": "stream",
     "text": [
      "yes no\n",
      "yes yes\n"
     ]
    },
    {
     "name": "stderr",
     "output_type": "stream",
     "text": [
      " 28%|██▊       | 975/3538 [01:58<04:59,  8.57it/s]"
     ]
    },
    {
     "name": "stdout",
     "output_type": "stream",
     "text": [
      "yes no\n",
      "yes yes\n"
     ]
    },
    {
     "name": "stderr",
     "output_type": "stream",
     "text": [
      " 28%|██▊       | 978/3538 [01:58<04:22,  9.77it/s]"
     ]
    },
    {
     "name": "stdout",
     "output_type": "stream",
     "text": [
      "yes yes\n",
      "yes yes\n",
      "yes no\n"
     ]
    },
    {
     "name": "stderr",
     "output_type": "stream",
     "text": [
      " 28%|██▊       | 980/3538 [01:58<04:53,  8.70it/s]"
     ]
    },
    {
     "name": "stdout",
     "output_type": "stream",
     "text": [
      "yes no\n",
      "yes no\n"
     ]
    },
    {
     "name": "stderr",
     "output_type": "stream",
     "text": [
      " 28%|██▊       | 981/3538 [01:59<04:51,  8.78it/s]"
     ]
    },
    {
     "name": "stdout",
     "output_type": "stream",
     "text": [
      "yes no\n",
      "yes no\n"
     ]
    },
    {
     "name": "stderr",
     "output_type": "stream",
     "text": [
      " 28%|██▊       | 985/3538 [01:59<04:10, 10.20it/s]"
     ]
    },
    {
     "name": "stdout",
     "output_type": "stream",
     "text": [
      "yes yes\n",
      "yes no\n",
      "yes no\n"
     ]
    },
    {
     "name": "stderr",
     "output_type": "stream",
     "text": [
      " 28%|██▊       | 987/3538 [01:59<03:56, 10.77it/s]"
     ]
    },
    {
     "name": "stdout",
     "output_type": "stream",
     "text": [
      "yes yes\n",
      "yes no\n",
      "yes no\n"
     ]
    },
    {
     "name": "stderr",
     "output_type": "stream",
     "text": [
      " 28%|██▊       | 989/3538 [01:59<04:06, 10.36it/s]"
     ]
    },
    {
     "name": "stdout",
     "output_type": "stream",
     "text": [
      "yes no\n",
      "yes yes\n"
     ]
    },
    {
     "name": "stderr",
     "output_type": "stream",
     "text": [
      " 28%|██▊       | 993/3538 [02:00<04:10, 10.17it/s]"
     ]
    },
    {
     "name": "stdout",
     "output_type": "stream",
     "text": [
      "yes yes\n",
      "yes yes\n",
      "yes no\n"
     ]
    },
    {
     "name": "stderr",
     "output_type": "stream",
     "text": [
      " 28%|██▊       | 995/3538 [02:00<04:19,  9.80it/s]"
     ]
    },
    {
     "name": "stdout",
     "output_type": "stream",
     "text": [
      "yes no\n",
      "yes yes\n",
      "yes yes\n"
     ]
    },
    {
     "name": "stderr",
     "output_type": "stream",
     "text": [
      " 28%|██▊       | 998/3538 [02:00<04:32,  9.31it/s]"
     ]
    },
    {
     "name": "stdout",
     "output_type": "stream",
     "text": [
      "yes yes\n",
      "yes no\n"
     ]
    },
    {
     "name": "stderr",
     "output_type": "stream",
     "text": [
      " 28%|██▊       | 1000/3538 [02:01<04:58,  8.52it/s]"
     ]
    },
    {
     "name": "stdout",
     "output_type": "stream",
     "text": [
      "yes yes\n",
      "yes yes\n"
     ]
    },
    {
     "name": "stderr",
     "output_type": "stream",
     "text": [
      " 28%|██▊       | 1002/3538 [02:01<05:11,  8.14it/s]"
     ]
    },
    {
     "name": "stdout",
     "output_type": "stream",
     "text": [
      "yes no\n",
      "yes no\n"
     ]
    },
    {
     "name": "stderr",
     "output_type": "stream",
     "text": [
      " 28%|██▊       | 1004/3538 [02:01<05:16,  8.01it/s]"
     ]
    },
    {
     "name": "stdout",
     "output_type": "stream",
     "text": [
      "yes no\n",
      "yes no\n"
     ]
    },
    {
     "name": "stderr",
     "output_type": "stream",
     "text": [
      " 28%|██▊       | 1006/3538 [02:01<05:26,  7.75it/s]"
     ]
    },
    {
     "name": "stdout",
     "output_type": "stream",
     "text": [
      "yes yes\n",
      "yes yes\n"
     ]
    },
    {
     "name": "stderr",
     "output_type": "stream",
     "text": [
      " 28%|██▊       | 1008/3538 [02:02<05:03,  8.34it/s]"
     ]
    },
    {
     "name": "stdout",
     "output_type": "stream",
     "text": [
      "yes no\n",
      "yes no\n"
     ]
    },
    {
     "name": "stderr",
     "output_type": "stream",
     "text": [
      " 29%|██▊       | 1010/3538 [02:02<05:27,  7.72it/s]"
     ]
    },
    {
     "name": "stdout",
     "output_type": "stream",
     "text": [
      "yes yes\n",
      "yes no\n"
     ]
    },
    {
     "name": "stderr",
     "output_type": "stream",
     "text": [
      " 29%|██▊       | 1012/3538 [02:02<05:31,  7.62it/s]"
     ]
    },
    {
     "name": "stdout",
     "output_type": "stream",
     "text": [
      "yes yes\n",
      "yes yes\n"
     ]
    },
    {
     "name": "stderr",
     "output_type": "stream",
     "text": [
      " 29%|██▊       | 1014/3538 [02:02<05:15,  8.00it/s]"
     ]
    },
    {
     "name": "stdout",
     "output_type": "stream",
     "text": [
      "yes no\n",
      "yes yes\n"
     ]
    },
    {
     "name": "stderr",
     "output_type": "stream",
     "text": [
      " 29%|██▊       | 1016/3538 [02:03<05:34,  7.53it/s]"
     ]
    },
    {
     "name": "stdout",
     "output_type": "stream",
     "text": [
      "yes yes\n",
      "yes no\n"
     ]
    },
    {
     "name": "stderr",
     "output_type": "stream",
     "text": [
      " 29%|██▉       | 1018/3538 [02:03<05:14,  8.00it/s]"
     ]
    },
    {
     "name": "stdout",
     "output_type": "stream",
     "text": [
      "yes yes\n",
      "yes yes\n"
     ]
    },
    {
     "name": "stderr",
     "output_type": "stream",
     "text": [
      " 29%|██▉       | 1020/3538 [02:03<05:11,  8.08it/s]"
     ]
    },
    {
     "name": "stdout",
     "output_type": "stream",
     "text": [
      "yes no\n",
      "yes yes\n"
     ]
    },
    {
     "name": "stderr",
     "output_type": "stream",
     "text": [
      " 29%|██▉       | 1022/3538 [02:03<05:10,  8.11it/s]"
     ]
    },
    {
     "name": "stdout",
     "output_type": "stream",
     "text": [
      "yes no\n",
      "yes no\n"
     ]
    },
    {
     "name": "stderr",
     "output_type": "stream",
     "text": [
      " 29%|██▉       | 1024/3538 [02:04<05:31,  7.58it/s]"
     ]
    },
    {
     "name": "stdout",
     "output_type": "stream",
     "text": [
      "yes no\n",
      "yes no\n"
     ]
    },
    {
     "name": "stderr",
     "output_type": "stream",
     "text": [
      " 29%|██▉       | 1026/3538 [02:04<05:54,  7.09it/s]"
     ]
    },
    {
     "name": "stdout",
     "output_type": "stream",
     "text": [
      "yes no\n",
      "yes no\n"
     ]
    },
    {
     "name": "stderr",
     "output_type": "stream",
     "text": [
      " 29%|██▉       | 1028/3538 [02:04<05:51,  7.14it/s]"
     ]
    },
    {
     "name": "stdout",
     "output_type": "stream",
     "text": [
      "yes no\n",
      "yes no\n"
     ]
    },
    {
     "name": "stderr",
     "output_type": "stream",
     "text": [
      " 29%|██▉       | 1030/3538 [02:04<05:47,  7.21it/s]"
     ]
    },
    {
     "name": "stdout",
     "output_type": "stream",
     "text": [
      "yes yes\n",
      "yes no\n"
     ]
    },
    {
     "name": "stderr",
     "output_type": "stream",
     "text": [
      " 29%|██▉       | 1032/3538 [02:05<05:08,  8.12it/s]"
     ]
    },
    {
     "name": "stdout",
     "output_type": "stream",
     "text": [
      "yes yes\n",
      "yes yes\n"
     ]
    },
    {
     "name": "stderr",
     "output_type": "stream",
     "text": [
      " 29%|██▉       | 1035/3538 [02:05<04:31,  9.20it/s]"
     ]
    },
    {
     "name": "stdout",
     "output_type": "stream",
     "text": [
      "yes no\n",
      "yes no\n",
      "yes no\n"
     ]
    },
    {
     "name": "stderr",
     "output_type": "stream",
     "text": [
      " 29%|██▉       | 1036/3538 [02:05<04:30,  9.24it/s]"
     ]
    },
    {
     "name": "stdout",
     "output_type": "stream",
     "text": [
      "yes yes\n"
     ]
    },
    {
     "name": "stderr",
     "output_type": "stream",
     "text": [
      " 29%|██▉       | 1039/3538 [02:05<04:56,  8.42it/s]"
     ]
    },
    {
     "name": "stdout",
     "output_type": "stream",
     "text": [
      "yes no\n",
      "yes no\n",
      "yes yes\n"
     ]
    },
    {
     "name": "stderr",
     "output_type": "stream",
     "text": [
      " 29%|██▉       | 1041/3538 [02:06<04:46,  8.71it/s]"
     ]
    },
    {
     "name": "stdout",
     "output_type": "stream",
     "text": [
      "yes no\n",
      "yes no\n"
     ]
    },
    {
     "name": "stderr",
     "output_type": "stream",
     "text": [
      " 29%|██▉       | 1043/3538 [02:06<04:36,  9.01it/s]"
     ]
    },
    {
     "name": "stdout",
     "output_type": "stream",
     "text": [
      "yes no\n",
      "yes no\n"
     ]
    },
    {
     "name": "stderr",
     "output_type": "stream",
     "text": [
      " 30%|██▉       | 1044/3538 [02:06<04:33,  9.12it/s]"
     ]
    },
    {
     "name": "stdout",
     "output_type": "stream",
     "text": [
      "yes no\n",
      "yes no\n"
     ]
    },
    {
     "name": "stderr",
     "output_type": "stream",
     "text": [
      " 30%|██▉       | 1047/3538 [02:06<04:59,  8.30it/s]"
     ]
    },
    {
     "name": "stdout",
     "output_type": "stream",
     "text": [
      "yes no\n",
      "yes no\n"
     ]
    },
    {
     "name": "stderr",
     "output_type": "stream",
     "text": [
      " 30%|██▉       | 1049/3538 [02:07<05:08,  8.07it/s]"
     ]
    },
    {
     "name": "stdout",
     "output_type": "stream",
     "text": [
      "yes no\n",
      "yes no\n"
     ]
    },
    {
     "name": "stderr",
     "output_type": "stream",
     "text": [
      " 30%|██▉       | 1051/3538 [02:07<04:55,  8.42it/s]"
     ]
    },
    {
     "name": "stdout",
     "output_type": "stream",
     "text": [
      "yes no\n",
      "yes yes\n",
      "yes yes\n"
     ]
    },
    {
     "name": "stderr",
     "output_type": "stream",
     "text": [
      " 30%|██▉       | 1055/3538 [02:07<03:43, 11.09it/s]"
     ]
    },
    {
     "name": "stdout",
     "output_type": "stream",
     "text": [
      "yes no\n",
      "yes no\n",
      "yes no\n"
     ]
    },
    {
     "name": "stderr",
     "output_type": "stream",
     "text": [
      " 30%|██▉       | 1057/3538 [02:07<03:45, 11.00it/s]"
     ]
    },
    {
     "name": "stdout",
     "output_type": "stream",
     "text": [
      "yes yes\n",
      "yes yes\n",
      "yes yes\n"
     ]
    },
    {
     "name": "stderr",
     "output_type": "stream",
     "text": [
      " 30%|██▉       | 1059/3538 [02:08<03:44, 11.07it/s]"
     ]
    },
    {
     "name": "stdout",
     "output_type": "stream",
     "text": [
      "yes no\n",
      "yes no\n"
     ]
    },
    {
     "name": "stderr",
     "output_type": "stream",
     "text": [
      " 30%|███       | 1062/3538 [02:08<04:47,  8.60it/s]"
     ]
    },
    {
     "name": "stdout",
     "output_type": "stream",
     "text": [
      "yes no\n",
      "yes yes\n"
     ]
    },
    {
     "name": "stderr",
     "output_type": "stream",
     "text": [
      " 30%|███       | 1064/3538 [02:08<05:01,  8.21it/s]"
     ]
    },
    {
     "name": "stdout",
     "output_type": "stream",
     "text": [
      "yes no\n",
      "yes no\n"
     ]
    },
    {
     "name": "stderr",
     "output_type": "stream",
     "text": [
      " 30%|███       | 1066/3538 [02:09<05:17,  7.77it/s]"
     ]
    },
    {
     "name": "stdout",
     "output_type": "stream",
     "text": [
      "yes yes\n",
      "yes no\n"
     ]
    },
    {
     "name": "stderr",
     "output_type": "stream",
     "text": [
      " 30%|███       | 1068/3538 [02:09<05:21,  7.68it/s]"
     ]
    },
    {
     "name": "stdout",
     "output_type": "stream",
     "text": [
      "yes no\n",
      "yes no\n"
     ]
    },
    {
     "name": "stderr",
     "output_type": "stream",
     "text": [
      " 30%|███       | 1069/3538 [02:09<05:15,  7.83it/s]"
     ]
    },
    {
     "name": "stdout",
     "output_type": "stream",
     "text": [
      "yes no\n",
      "yes no\n"
     ]
    },
    {
     "name": "stderr",
     "output_type": "stream",
     "text": [
      " 30%|███       | 1072/3538 [02:09<04:57,  8.29it/s]"
     ]
    },
    {
     "name": "stdout",
     "output_type": "stream",
     "text": [
      "yes yes\n",
      "yes no\n"
     ]
    },
    {
     "name": "stderr",
     "output_type": "stream",
     "text": [
      " 30%|███       | 1074/3538 [02:10<05:12,  7.89it/s]"
     ]
    },
    {
     "name": "stdout",
     "output_type": "stream",
     "text": [
      "yes yes\n",
      "yes yes\n"
     ]
    },
    {
     "name": "stderr",
     "output_type": "stream",
     "text": [
      " 30%|███       | 1076/3538 [02:10<04:55,  8.34it/s]"
     ]
    },
    {
     "name": "stdout",
     "output_type": "stream",
     "text": [
      "yes yes\n",
      "yes no\n"
     ]
    },
    {
     "name": "stderr",
     "output_type": "stream",
     "text": [
      " 30%|███       | 1078/3538 [02:10<06:19,  6.48it/s]"
     ]
    },
    {
     "name": "stdout",
     "output_type": "stream",
     "text": [
      "yes yes\n",
      "yes no\n"
     ]
    },
    {
     "name": "stderr",
     "output_type": "stream",
     "text": [
      " 31%|███       | 1080/3538 [02:11<06:26,  6.37it/s]"
     ]
    },
    {
     "name": "stdout",
     "output_type": "stream",
     "text": [
      "yes yes\n",
      "yes no\n"
     ]
    },
    {
     "name": "stderr",
     "output_type": "stream",
     "text": [
      " 31%|███       | 1083/3538 [02:11<05:16,  7.75it/s]"
     ]
    },
    {
     "name": "stdout",
     "output_type": "stream",
     "text": [
      "yes no\n",
      "yes yes\n",
      "yes yes\n"
     ]
    },
    {
     "name": "stderr",
     "output_type": "stream",
     "text": [
      " 31%|███       | 1086/3538 [02:11<04:47,  8.54it/s]"
     ]
    },
    {
     "name": "stdout",
     "output_type": "stream",
     "text": [
      "yes no\n",
      "yes no\n",
      "yes no\n"
     ]
    },
    {
     "name": "stderr",
     "output_type": "stream",
     "text": [
      " 31%|███       | 1088/3538 [02:11<04:11,  9.73it/s]"
     ]
    },
    {
     "name": "stdout",
     "output_type": "stream",
     "text": [
      "yes no\n",
      "yes no\n",
      "yes yes\n"
     ]
    },
    {
     "name": "stderr",
     "output_type": "stream",
     "text": [
      " 31%|███       | 1092/3538 [02:12<03:44, 10.89it/s]"
     ]
    },
    {
     "name": "stdout",
     "output_type": "stream",
     "text": [
      "yes no\n",
      "yes yes\n",
      "yes yes\n"
     ]
    },
    {
     "name": "stderr",
     "output_type": "stream",
     "text": [
      " 31%|███       | 1094/3538 [02:12<03:38, 11.19it/s]"
     ]
    },
    {
     "name": "stdout",
     "output_type": "stream",
     "text": [
      "yes yes\n",
      "yes no\n"
     ]
    },
    {
     "name": "stderr",
     "output_type": "stream",
     "text": [
      " 31%|███       | 1096/3538 [02:12<04:12,  9.69it/s]"
     ]
    },
    {
     "name": "stdout",
     "output_type": "stream",
     "text": [
      "yes no\n",
      "yes no\n"
     ]
    },
    {
     "name": "stderr",
     "output_type": "stream",
     "text": [
      " 31%|███       | 1098/3538 [02:12<04:03, 10.02it/s]"
     ]
    },
    {
     "name": "stdout",
     "output_type": "stream",
     "text": [
      "yes no\n",
      "yes no\n",
      "yes no\n"
     ]
    },
    {
     "name": "stderr",
     "output_type": "stream",
     "text": [
      " 31%|███       | 1100/3538 [02:13<04:02, 10.05it/s]"
     ]
    },
    {
     "name": "stdout",
     "output_type": "stream",
     "text": [
      "yes yes\n",
      "yes yes\n"
     ]
    },
    {
     "name": "stderr",
     "output_type": "stream",
     "text": [
      " 31%|███       | 1104/3538 [02:13<04:00, 10.13it/s]"
     ]
    },
    {
     "name": "stdout",
     "output_type": "stream",
     "text": [
      "yes yes\n",
      "yes no\n",
      "yes no\n"
     ]
    },
    {
     "name": "stderr",
     "output_type": "stream",
     "text": [
      " 31%|███▏      | 1106/3538 [02:13<03:55, 10.32it/s]"
     ]
    },
    {
     "name": "stdout",
     "output_type": "stream",
     "text": [
      "yes yes\n",
      "yes no\n",
      "yes no\n"
     ]
    },
    {
     "name": "stderr",
     "output_type": "stream",
     "text": [
      " 31%|███▏      | 1108/3538 [02:13<03:43, 10.87it/s]"
     ]
    },
    {
     "name": "stdout",
     "output_type": "stream",
     "text": [
      "yes no\n",
      "yes yes\n"
     ]
    },
    {
     "name": "stderr",
     "output_type": "stream",
     "text": [
      " 31%|███▏      | 1112/3538 [02:14<04:00, 10.08it/s]"
     ]
    },
    {
     "name": "stdout",
     "output_type": "stream",
     "text": [
      "yes yes\n",
      "yes yes\n",
      "yes yes\n"
     ]
    },
    {
     "name": "stderr",
     "output_type": "stream",
     "text": [
      " 31%|███▏      | 1114/3538 [02:14<03:58, 10.18it/s]"
     ]
    },
    {
     "name": "stdout",
     "output_type": "stream",
     "text": [
      "yes no\n",
      "yes yes\n",
      "yes no\n"
     ]
    },
    {
     "name": "stderr",
     "output_type": "stream",
     "text": [
      " 32%|███▏      | 1116/3538 [02:14<03:50, 10.49it/s]"
     ]
    },
    {
     "name": "stdout",
     "output_type": "stream",
     "text": [
      "yes no\n",
      "yes yes\n"
     ]
    },
    {
     "name": "stderr",
     "output_type": "stream",
     "text": [
      " 32%|███▏      | 1118/3538 [02:14<04:04,  9.89it/s]"
     ]
    },
    {
     "name": "stdout",
     "output_type": "stream",
     "text": [
      "yes no\n",
      "yes no\n"
     ]
    },
    {
     "name": "stderr",
     "output_type": "stream",
     "text": [
      " 32%|███▏      | 1122/3538 [02:15<03:41, 10.92it/s]"
     ]
    },
    {
     "name": "stdout",
     "output_type": "stream",
     "text": [
      "yes no\n",
      "yes no\n",
      "yes no\n"
     ]
    },
    {
     "name": "stderr",
     "output_type": "stream",
     "text": [
      " 32%|███▏      | 1124/3538 [02:15<04:54,  8.20it/s]"
     ]
    },
    {
     "name": "stdout",
     "output_type": "stream",
     "text": [
      "yes no\n",
      "yes no\n"
     ]
    },
    {
     "name": "stderr",
     "output_type": "stream",
     "text": [
      " 32%|███▏      | 1126/3538 [02:15<05:08,  7.81it/s]"
     ]
    },
    {
     "name": "stdout",
     "output_type": "stream",
     "text": [
      "yes no\n",
      "yes no\n"
     ]
    },
    {
     "name": "stderr",
     "output_type": "stream",
     "text": [
      " 32%|███▏      | 1128/3538 [02:16<04:58,  8.09it/s]"
     ]
    },
    {
     "name": "stdout",
     "output_type": "stream",
     "text": [
      "yes no\n",
      "yes no\n"
     ]
    },
    {
     "name": "stderr",
     "output_type": "stream",
     "text": [
      " 32%|███▏      | 1130/3538 [02:16<04:29,  8.94it/s]"
     ]
    },
    {
     "name": "stdout",
     "output_type": "stream",
     "text": [
      "yes no\n",
      "yes no\n",
      "yes no\n"
     ]
    },
    {
     "name": "stderr",
     "output_type": "stream",
     "text": [
      " 32%|███▏      | 1133/3538 [02:16<04:44,  8.45it/s]"
     ]
    },
    {
     "name": "stdout",
     "output_type": "stream",
     "text": [
      "yes no\n",
      "yes yes\n"
     ]
    },
    {
     "name": "stderr",
     "output_type": "stream",
     "text": [
      " 32%|███▏      | 1136/3538 [02:16<04:10,  9.59it/s]"
     ]
    },
    {
     "name": "stdout",
     "output_type": "stream",
     "text": [
      "yes no\n",
      "yes yes\n",
      "yes no\n"
     ]
    },
    {
     "name": "stderr",
     "output_type": "stream",
     "text": [
      " 32%|███▏      | 1138/3538 [02:17<03:56, 10.13it/s]"
     ]
    },
    {
     "name": "stdout",
     "output_type": "stream",
     "text": [
      "yes no\n",
      "yes no\n",
      "yes no\n"
     ]
    },
    {
     "name": "stderr",
     "output_type": "stream",
     "text": [
      " 32%|███▏      | 1141/3538 [02:17<04:34,  8.72it/s]"
     ]
    },
    {
     "name": "stdout",
     "output_type": "stream",
     "text": [
      "yes yes\n",
      "yes no\n"
     ]
    },
    {
     "name": "stderr",
     "output_type": "stream",
     "text": [
      " 32%|███▏      | 1144/3538 [02:17<04:10,  9.56it/s]"
     ]
    },
    {
     "name": "stdout",
     "output_type": "stream",
     "text": [
      "yes no\n",
      "yes no\n",
      "yes no\n"
     ]
    },
    {
     "name": "stderr",
     "output_type": "stream",
     "text": [
      " 32%|███▏      | 1146/3538 [02:17<04:26,  8.97it/s]"
     ]
    },
    {
     "name": "stdout",
     "output_type": "stream",
     "text": [
      "yes no\n",
      "yes yes\n"
     ]
    },
    {
     "name": "stderr",
     "output_type": "stream",
     "text": [
      " 32%|███▏      | 1148/3538 [02:18<03:53, 10.25it/s]"
     ]
    },
    {
     "name": "stdout",
     "output_type": "stream",
     "text": [
      "yes yes\n",
      "yes yes\n",
      "yes no\n"
     ]
    },
    {
     "name": "stderr",
     "output_type": "stream",
     "text": [
      " 33%|███▎      | 1152/3538 [02:18<03:42, 10.74it/s]"
     ]
    },
    {
     "name": "stdout",
     "output_type": "stream",
     "text": [
      "yes no\n",
      "yes yes\n",
      "yes yes\n"
     ]
    },
    {
     "name": "stderr",
     "output_type": "stream",
     "text": [
      " 33%|███▎      | 1154/3538 [02:18<03:59,  9.94it/s]"
     ]
    },
    {
     "name": "stdout",
     "output_type": "stream",
     "text": [
      "yes yes\n",
      "yes no\n",
      "yes no\n"
     ]
    },
    {
     "name": "stderr",
     "output_type": "stream",
     "text": [
      " 33%|███▎      | 1158/3538 [02:19<03:58, 10.00it/s]"
     ]
    },
    {
     "name": "stdout",
     "output_type": "stream",
     "text": [
      "yes no\n",
      "yes no\n",
      "yes no\n"
     ]
    },
    {
     "name": "stderr",
     "output_type": "stream",
     "text": [
      " 33%|███▎      | 1160/3538 [02:19<03:53, 10.18it/s]"
     ]
    },
    {
     "name": "stdout",
     "output_type": "stream",
     "text": [
      "yes yes\n",
      "yes no\n",
      "yes no\n"
     ]
    },
    {
     "name": "stderr",
     "output_type": "stream",
     "text": [
      " 33%|███▎      | 1164/3538 [02:19<03:45, 10.53it/s]"
     ]
    },
    {
     "name": "stdout",
     "output_type": "stream",
     "text": [
      "yes no\n",
      "yes yes\n",
      "yes yes\n"
     ]
    },
    {
     "name": "stderr",
     "output_type": "stream",
     "text": [
      " 33%|███▎      | 1166/3538 [02:19<03:48, 10.39it/s]"
     ]
    },
    {
     "name": "stdout",
     "output_type": "stream",
     "text": [
      "yes no\n",
      "yes no\n",
      "yes no\n"
     ]
    },
    {
     "name": "stderr",
     "output_type": "stream",
     "text": [
      " 33%|███▎      | 1170/3538 [02:20<03:51, 10.25it/s]"
     ]
    },
    {
     "name": "stdout",
     "output_type": "stream",
     "text": [
      "yes yes\n",
      "yes no\n",
      "yes yes\n"
     ]
    },
    {
     "name": "stderr",
     "output_type": "stream",
     "text": [
      " 33%|███▎      | 1172/3538 [02:20<03:36, 10.91it/s]"
     ]
    },
    {
     "name": "stdout",
     "output_type": "stream",
     "text": [
      "yes no\n",
      "yes yes\n",
      "yes yes\n"
     ]
    },
    {
     "name": "stderr",
     "output_type": "stream",
     "text": [
      " 33%|███▎      | 1176/3538 [02:20<03:28, 11.32it/s]"
     ]
    },
    {
     "name": "stdout",
     "output_type": "stream",
     "text": [
      "yes no\n",
      "yes no\n",
      "yes no\n"
     ]
    },
    {
     "name": "stderr",
     "output_type": "stream",
     "text": [
      " 33%|███▎      | 1178/3538 [02:20<03:18, 11.91it/s]"
     ]
    },
    {
     "name": "stdout",
     "output_type": "stream",
     "text": [
      "yes no\n",
      "yes yes\n",
      "yes no\n"
     ]
    },
    {
     "name": "stderr",
     "output_type": "stream",
     "text": [
      " 33%|███▎      | 1182/3538 [02:21<03:04, 12.75it/s]"
     ]
    },
    {
     "name": "stdout",
     "output_type": "stream",
     "text": [
      "yes yes\n",
      "yes no\n",
      "yes yes\n"
     ]
    },
    {
     "name": "stderr",
     "output_type": "stream",
     "text": [
      " 33%|███▎      | 1184/3538 [02:21<03:04, 12.79it/s]"
     ]
    },
    {
     "name": "stdout",
     "output_type": "stream",
     "text": [
      "yes yes\n",
      "yes no\n",
      "yes no\n"
     ]
    },
    {
     "name": "stderr",
     "output_type": "stream",
     "text": [
      " 34%|███▎      | 1188/3538 [02:21<03:24, 11.49it/s]"
     ]
    },
    {
     "name": "stdout",
     "output_type": "stream",
     "text": [
      "yes yes\n",
      "yes yes\n",
      "yes no\n"
     ]
    },
    {
     "name": "stderr",
     "output_type": "stream",
     "text": [
      " 34%|███▎      | 1190/3538 [02:21<03:23, 11.56it/s]"
     ]
    },
    {
     "name": "stdout",
     "output_type": "stream",
     "text": [
      "yes yes\n",
      "yes no\n",
      "yes no\n"
     ]
    },
    {
     "name": "stderr",
     "output_type": "stream",
     "text": [
      " 34%|███▎      | 1194/3538 [02:22<03:20, 11.68it/s]"
     ]
    },
    {
     "name": "stdout",
     "output_type": "stream",
     "text": [
      "yes no\n",
      "yes no\n",
      "yes yes\n"
     ]
    },
    {
     "name": "stderr",
     "output_type": "stream",
     "text": [
      " 34%|███▍      | 1196/3538 [02:22<03:25, 11.39it/s]"
     ]
    },
    {
     "name": "stdout",
     "output_type": "stream",
     "text": [
      "yes no\n",
      "yes yes\n"
     ]
    },
    {
     "name": "stderr",
     "output_type": "stream",
     "text": [
      " 34%|███▍      | 1198/3538 [02:22<03:35, 10.86it/s]"
     ]
    },
    {
     "name": "stdout",
     "output_type": "stream",
     "text": [
      "yes yes\n",
      "yes no\n",
      "yes yes\n"
     ]
    },
    {
     "name": "stderr",
     "output_type": "stream",
     "text": [
      " 34%|███▍      | 1202/3538 [02:22<03:22, 11.51it/s]"
     ]
    },
    {
     "name": "stdout",
     "output_type": "stream",
     "text": [
      "yes no\n",
      "yes no\n",
      "yes no\n"
     ]
    },
    {
     "name": "stderr",
     "output_type": "stream",
     "text": [
      " 34%|███▍      | 1204/3538 [02:23<05:29,  7.09it/s]"
     ]
    },
    {
     "name": "stdout",
     "output_type": "stream",
     "text": [
      "yes no\n",
      "yes no\n"
     ]
    },
    {
     "name": "stderr",
     "output_type": "stream",
     "text": [
      " 34%|███▍      | 1206/3538 [02:23<04:47,  8.10it/s]"
     ]
    },
    {
     "name": "stdout",
     "output_type": "stream",
     "text": [
      "yes yes\n",
      "yes yes\n",
      "yes no\n"
     ]
    },
    {
     "name": "stderr",
     "output_type": "stream",
     "text": [
      " 34%|███▍      | 1210/3538 [02:24<04:05,  9.50it/s]"
     ]
    },
    {
     "name": "stdout",
     "output_type": "stream",
     "text": [
      "yes no\n",
      "yes no\n",
      "yes no\n"
     ]
    },
    {
     "name": "stderr",
     "output_type": "stream",
     "text": [
      " 34%|███▍      | 1212/3538 [02:24<04:39,  8.33it/s]"
     ]
    },
    {
     "name": "stdout",
     "output_type": "stream",
     "text": [
      "yes yes\n",
      "yes no\n"
     ]
    },
    {
     "name": "stderr",
     "output_type": "stream",
     "text": [
      " 34%|███▍      | 1214/3538 [02:24<04:32,  8.54it/s]"
     ]
    },
    {
     "name": "stdout",
     "output_type": "stream",
     "text": [
      "yes yes\n",
      "yes no\n"
     ]
    },
    {
     "name": "stderr",
     "output_type": "stream",
     "text": [
      " 34%|███▍      | 1216/3538 [02:24<04:35,  8.43it/s]"
     ]
    },
    {
     "name": "stdout",
     "output_type": "stream",
     "text": [
      "yes no\n",
      "yes no\n"
     ]
    },
    {
     "name": "stderr",
     "output_type": "stream",
     "text": [
      " 34%|███▍      | 1218/3538 [02:25<05:14,  7.39it/s]"
     ]
    },
    {
     "name": "stdout",
     "output_type": "stream",
     "text": [
      "yes yes\n",
      "yes no\n"
     ]
    },
    {
     "name": "stderr",
     "output_type": "stream",
     "text": [
      " 34%|███▍      | 1220/3538 [02:25<04:53,  7.91it/s]"
     ]
    },
    {
     "name": "stdout",
     "output_type": "stream",
     "text": [
      "yes yes\n",
      "yes no\n"
     ]
    },
    {
     "name": "stderr",
     "output_type": "stream",
     "text": [
      " 35%|███▍      | 1222/3538 [02:25<04:33,  8.46it/s]"
     ]
    },
    {
     "name": "stdout",
     "output_type": "stream",
     "text": [
      "yes no\n",
      "yes yes\n"
     ]
    },
    {
     "name": "stderr",
     "output_type": "stream",
     "text": [
      " 35%|███▍      | 1224/3538 [02:25<04:13,  9.13it/s]"
     ]
    },
    {
     "name": "stdout",
     "output_type": "stream",
     "text": [
      "yes no\n",
      "yes yes\n"
     ]
    },
    {
     "name": "stderr",
     "output_type": "stream",
     "text": [
      " 35%|███▍      | 1226/3538 [02:26<04:49,  8.00it/s]"
     ]
    },
    {
     "name": "stdout",
     "output_type": "stream",
     "text": [
      "yes yes\n",
      "yes no\n"
     ]
    },
    {
     "name": "stderr",
     "output_type": "stream",
     "text": [
      " 35%|███▍      | 1228/3538 [02:26<04:57,  7.77it/s]"
     ]
    },
    {
     "name": "stdout",
     "output_type": "stream",
     "text": [
      "yes no\n",
      "yes no\n"
     ]
    },
    {
     "name": "stderr",
     "output_type": "stream",
     "text": [
      " 35%|███▍      | 1230/3538 [02:26<04:54,  7.84it/s]"
     ]
    },
    {
     "name": "stdout",
     "output_type": "stream",
     "text": [
      "yes yes\n",
      "yes yes\n"
     ]
    },
    {
     "name": "stderr",
     "output_type": "stream",
     "text": [
      " 35%|███▍      | 1232/3538 [02:26<04:23,  8.76it/s]"
     ]
    },
    {
     "name": "stdout",
     "output_type": "stream",
     "text": [
      "yes yes\n",
      "yes yes\n"
     ]
    },
    {
     "name": "stderr",
     "output_type": "stream",
     "text": [
      " 35%|███▍      | 1234/3538 [02:27<04:42,  8.14it/s]"
     ]
    },
    {
     "name": "stdout",
     "output_type": "stream",
     "text": [
      "yes yes\n",
      "yes yes\n"
     ]
    },
    {
     "name": "stderr",
     "output_type": "stream",
     "text": [
      " 35%|███▍      | 1236/3538 [02:27<04:40,  8.19it/s]"
     ]
    },
    {
     "name": "stdout",
     "output_type": "stream",
     "text": [
      "yes no\n",
      "yes no\n"
     ]
    },
    {
     "name": "stderr",
     "output_type": "stream",
     "text": [
      " 35%|███▍      | 1238/3538 [02:27<04:42,  8.14it/s]"
     ]
    },
    {
     "name": "stdout",
     "output_type": "stream",
     "text": [
      "yes no\n",
      "yes no\n"
     ]
    },
    {
     "name": "stderr",
     "output_type": "stream",
     "text": [
      " 35%|███▌      | 1240/3538 [02:27<04:34,  8.37it/s]"
     ]
    },
    {
     "name": "stdout",
     "output_type": "stream",
     "text": [
      "yes no\n",
      "yes no\n"
     ]
    },
    {
     "name": "stderr",
     "output_type": "stream",
     "text": [
      " 35%|███▌      | 1242/3538 [02:27<04:15,  9.00it/s]"
     ]
    },
    {
     "name": "stdout",
     "output_type": "stream",
     "text": [
      "yes no\n",
      "yes no\n",
      "yes no\n"
     ]
    },
    {
     "name": "stderr",
     "output_type": "stream",
     "text": [
      " 35%|███▌      | 1245/3538 [02:28<04:11,  9.13it/s]"
     ]
    },
    {
     "name": "stdout",
     "output_type": "stream",
     "text": [
      "yes no\n",
      "yes no\n"
     ]
    },
    {
     "name": "stderr",
     "output_type": "stream",
     "text": [
      " 35%|███▌      | 1247/3538 [02:28<04:08,  9.22it/s]"
     ]
    },
    {
     "name": "stdout",
     "output_type": "stream",
     "text": [
      "yes yes\n",
      "yes yes\n"
     ]
    },
    {
     "name": "stderr",
     "output_type": "stream",
     "text": [
      " 35%|███▌      | 1249/3538 [02:28<04:20,  8.78it/s]"
     ]
    },
    {
     "name": "stdout",
     "output_type": "stream",
     "text": [
      "yes no\n",
      "yes yes\n"
     ]
    },
    {
     "name": "stderr",
     "output_type": "stream",
     "text": [
      " 35%|███▌      | 1251/3538 [02:28<04:26,  8.57it/s]"
     ]
    },
    {
     "name": "stdout",
     "output_type": "stream",
     "text": [
      "yes no\n",
      "yes no\n"
     ]
    },
    {
     "name": "stderr",
     "output_type": "stream",
     "text": [
      " 35%|███▌      | 1253/3538 [02:29<04:20,  8.78it/s]"
     ]
    },
    {
     "name": "stdout",
     "output_type": "stream",
     "text": [
      "yes no\n",
      "yes yes\n"
     ]
    },
    {
     "name": "stderr",
     "output_type": "stream",
     "text": [
      " 36%|███▌      | 1256/3538 [02:29<03:54,  9.72it/s]"
     ]
    },
    {
     "name": "stdout",
     "output_type": "stream",
     "text": [
      "yes yes\n",
      "yes no\n",
      "yes yes\n"
     ]
    },
    {
     "name": "stderr",
     "output_type": "stream",
     "text": [
      " 36%|███▌      | 1258/3538 [02:29<04:09,  9.14it/s]"
     ]
    },
    {
     "name": "stdout",
     "output_type": "stream",
     "text": [
      "yes no\n",
      "yes no\n"
     ]
    },
    {
     "name": "stderr",
     "output_type": "stream",
     "text": [
      " 36%|███▌      | 1260/3538 [02:29<05:03,  7.50it/s]"
     ]
    },
    {
     "name": "stdout",
     "output_type": "stream",
     "text": [
      "yes no\n",
      "yes no\n"
     ]
    },
    {
     "name": "stderr",
     "output_type": "stream",
     "text": [
      " 36%|███▌      | 1262/3538 [02:30<04:28,  8.49it/s]"
     ]
    },
    {
     "name": "stdout",
     "output_type": "stream",
     "text": [
      "yes no\n",
      "yes yes\n"
     ]
    },
    {
     "name": "stderr",
     "output_type": "stream",
     "text": [
      " 36%|███▌      | 1265/3538 [02:30<03:44, 10.12it/s]"
     ]
    },
    {
     "name": "stdout",
     "output_type": "stream",
     "text": [
      "yes no\n",
      "yes no\n",
      "yes no\n"
     ]
    },
    {
     "name": "stderr",
     "output_type": "stream",
     "text": [
      " 36%|███▌      | 1267/3538 [02:30<03:55,  9.63it/s]"
     ]
    },
    {
     "name": "stdout",
     "output_type": "stream",
     "text": [
      "yes no\n",
      "yes yes\n"
     ]
    },
    {
     "name": "stderr",
     "output_type": "stream",
     "text": [
      " 36%|███▌      | 1269/3538 [02:30<04:51,  7.79it/s]"
     ]
    },
    {
     "name": "stdout",
     "output_type": "stream",
     "text": [
      "yes no\n",
      "yes yes\n"
     ]
    },
    {
     "name": "stderr",
     "output_type": "stream",
     "text": [
      " 36%|███▌      | 1271/3538 [02:31<04:30,  8.37it/s]"
     ]
    },
    {
     "name": "stdout",
     "output_type": "stream",
     "text": [
      "yes yes\n",
      "yes no\n"
     ]
    },
    {
     "name": "stderr",
     "output_type": "stream",
     "text": [
      " 36%|███▌      | 1273/3538 [02:31<04:57,  7.62it/s]"
     ]
    },
    {
     "name": "stdout",
     "output_type": "stream",
     "text": [
      "yes no\n",
      "yes yes\n"
     ]
    },
    {
     "name": "stderr",
     "output_type": "stream",
     "text": [
      " 36%|███▌      | 1276/3538 [02:31<04:22,  8.62it/s]"
     ]
    },
    {
     "name": "stdout",
     "output_type": "stream",
     "text": [
      "yes no\n",
      "yes yes\n",
      "yes no\n"
     ]
    },
    {
     "name": "stderr",
     "output_type": "stream",
     "text": [
      " 36%|███▌      | 1278/3538 [02:32<04:09,  9.05it/s]"
     ]
    },
    {
     "name": "stdout",
     "output_type": "stream",
     "text": [
      "yes no\n",
      "yes no\n"
     ]
    },
    {
     "name": "stderr",
     "output_type": "stream",
     "text": [
      " 36%|███▌      | 1280/3538 [02:32<04:04,  9.25it/s]"
     ]
    },
    {
     "name": "stdout",
     "output_type": "stream",
     "text": [
      "yes no\n",
      "yes no\n"
     ]
    },
    {
     "name": "stderr",
     "output_type": "stream",
     "text": [
      " 36%|███▌      | 1282/3538 [02:32<04:15,  8.83it/s]"
     ]
    },
    {
     "name": "stdout",
     "output_type": "stream",
     "text": [
      "yes no\n",
      "yes yes\n",
      "yes yes\n"
     ]
    },
    {
     "name": "stderr",
     "output_type": "stream",
     "text": [
      " 36%|███▋      | 1284/3538 [02:32<03:35, 10.48it/s]"
     ]
    },
    {
     "name": "stdout",
     "output_type": "stream",
     "text": [
      "yes yes\n",
      "yes no\n"
     ]
    },
    {
     "name": "stderr",
     "output_type": "stream",
     "text": [
      " 36%|███▋      | 1288/3538 [02:33<03:30, 10.70it/s]"
     ]
    },
    {
     "name": "stdout",
     "output_type": "stream",
     "text": [
      "yes yes\n",
      "yes no\n",
      "yes no\n"
     ]
    },
    {
     "name": "stderr",
     "output_type": "stream",
     "text": [
      " 36%|███▋      | 1290/3538 [02:33<03:35, 10.43it/s]"
     ]
    },
    {
     "name": "stdout",
     "output_type": "stream",
     "text": [
      "yes no\n",
      "yes yes\n",
      "yes yes\n"
     ]
    },
    {
     "name": "stderr",
     "output_type": "stream",
     "text": [
      " 37%|███▋      | 1294/3538 [02:33<03:30, 10.67it/s]"
     ]
    },
    {
     "name": "stdout",
     "output_type": "stream",
     "text": [
      "yes no\n",
      "yes no\n",
      "yes no\n"
     ]
    },
    {
     "name": "stderr",
     "output_type": "stream",
     "text": [
      " 37%|███▋      | 1296/3538 [02:33<03:31, 10.62it/s]"
     ]
    },
    {
     "name": "stdout",
     "output_type": "stream",
     "text": [
      "yes yes\n",
      "yes no\n",
      "yes no\n"
     ]
    },
    {
     "name": "stderr",
     "output_type": "stream",
     "text": [
      " 37%|███▋      | 1300/3538 [02:34<02:57, 12.63it/s]"
     ]
    },
    {
     "name": "stdout",
     "output_type": "stream",
     "text": [
      "yes yes\n",
      "yes no\n",
      "yes no\n"
     ]
    },
    {
     "name": "stderr",
     "output_type": "stream",
     "text": [
      " 37%|███▋      | 1302/3538 [02:34<03:00, 12.41it/s]"
     ]
    },
    {
     "name": "stdout",
     "output_type": "stream",
     "text": [
      "yes no\n",
      "yes yes\n",
      "yes no\n"
     ]
    },
    {
     "name": "stderr",
     "output_type": "stream",
     "text": [
      " 37%|███▋      | 1304/3538 [02:34<02:56, 12.68it/s]"
     ]
    },
    {
     "name": "stdout",
     "output_type": "stream",
     "text": [
      "yes no\n",
      "yes no\n"
     ]
    },
    {
     "name": "stderr",
     "output_type": "stream",
     "text": [
      " 37%|███▋      | 1306/3538 [02:34<03:18, 11.26it/s]"
     ]
    },
    {
     "name": "stdout",
     "output_type": "stream",
     "text": [
      "yes no\n",
      "yes yes\n"
     ]
    },
    {
     "name": "stderr",
     "output_type": "stream",
     "text": [
      " 37%|███▋      | 1310/3538 [02:35<03:29, 10.63it/s]"
     ]
    },
    {
     "name": "stdout",
     "output_type": "stream",
     "text": [
      "yes no\n",
      "yes no\n",
      "yes no\n"
     ]
    },
    {
     "name": "stderr",
     "output_type": "stream",
     "text": [
      " 37%|███▋      | 1312/3538 [02:35<03:54,  9.48it/s]"
     ]
    },
    {
     "name": "stdout",
     "output_type": "stream",
     "text": [
      "yes no\n",
      "yes no\n"
     ]
    },
    {
     "name": "stderr",
     "output_type": "stream",
     "text": [
      " 37%|███▋      | 1314/3538 [02:35<04:37,  8.01it/s]"
     ]
    },
    {
     "name": "stdout",
     "output_type": "stream",
     "text": [
      "yes yes\n",
      "yes no\n"
     ]
    },
    {
     "name": "stderr",
     "output_type": "stream",
     "text": [
      " 37%|███▋      | 1316/3538 [02:35<05:09,  7.17it/s]"
     ]
    },
    {
     "name": "stdout",
     "output_type": "stream",
     "text": [
      "yes no\n",
      "yes no\n"
     ]
    },
    {
     "name": "stderr",
     "output_type": "stream",
     "text": [
      " 37%|███▋      | 1317/3538 [02:36<04:50,  7.65it/s]"
     ]
    },
    {
     "name": "stdout",
     "output_type": "stream",
     "text": [
      "yes no\n",
      "yes no\n"
     ]
    },
    {
     "name": "stderr",
     "output_type": "stream",
     "text": [
      " 37%|███▋      | 1321/3538 [02:36<03:51,  9.56it/s]"
     ]
    },
    {
     "name": "stdout",
     "output_type": "stream",
     "text": [
      "yes yes\n",
      "yes yes\n",
      "yes no\n"
     ]
    },
    {
     "name": "stderr",
     "output_type": "stream",
     "text": [
      " 37%|███▋      | 1323/3538 [02:36<03:54,  9.44it/s]"
     ]
    },
    {
     "name": "stdout",
     "output_type": "stream",
     "text": [
      "yes no\n",
      "yes no\n",
      "yes yes\n"
     ]
    },
    {
     "name": "stderr",
     "output_type": "stream",
     "text": [
      " 37%|███▋      | 1325/3538 [02:36<03:41, 10.01it/s]"
     ]
    },
    {
     "name": "stdout",
     "output_type": "stream",
     "text": [
      "yes yes\n",
      "yes no\n"
     ]
    },
    {
     "name": "stderr",
     "output_type": "stream",
     "text": [
      " 38%|███▊      | 1328/3538 [02:37<04:16,  8.62it/s]"
     ]
    },
    {
     "name": "stdout",
     "output_type": "stream",
     "text": [
      "yes yes\n",
      "yes no\n"
     ]
    },
    {
     "name": "stderr",
     "output_type": "stream",
     "text": [
      " 38%|███▊      | 1331/3538 [02:37<04:00,  9.18it/s]"
     ]
    },
    {
     "name": "stdout",
     "output_type": "stream",
     "text": [
      "yes yes\n",
      "yes no\n",
      "yes yes\n"
     ]
    },
    {
     "name": "stderr",
     "output_type": "stream",
     "text": [
      " 38%|███▊      | 1333/3538 [02:37<04:08,  8.88it/s]"
     ]
    },
    {
     "name": "stdout",
     "output_type": "stream",
     "text": [
      "yes no\n",
      "yes no\n"
     ]
    },
    {
     "name": "stderr",
     "output_type": "stream",
     "text": [
      " 38%|███▊      | 1335/3538 [02:37<04:12,  8.72it/s]"
     ]
    },
    {
     "name": "stdout",
     "output_type": "stream",
     "text": [
      "yes yes\n",
      "yes no\n"
     ]
    },
    {
     "name": "stderr",
     "output_type": "stream",
     "text": [
      " 38%|███▊      | 1337/3538 [02:38<04:35,  7.98it/s]"
     ]
    },
    {
     "name": "stdout",
     "output_type": "stream",
     "text": [
      "yes no\n",
      "yes no\n"
     ]
    },
    {
     "name": "stderr",
     "output_type": "stream",
     "text": [
      " 38%|███▊      | 1338/3538 [02:38<04:33,  8.05it/s]"
     ]
    },
    {
     "name": "stdout",
     "output_type": "stream",
     "text": [
      "yes yes\n",
      "yes no\n"
     ]
    },
    {
     "name": "stderr",
     "output_type": "stream",
     "text": [
      " 38%|███▊      | 1340/3538 [02:38<04:11,  8.73it/s]"
     ]
    },
    {
     "name": "stdout",
     "output_type": "stream",
     "text": [
      "yes yes\n",
      "yes no\n",
      "yes no\n"
     ]
    },
    {
     "name": "stderr",
     "output_type": "stream",
     "text": [
      " 38%|███▊      | 1344/3538 [02:38<03:37, 10.11it/s]"
     ]
    },
    {
     "name": "stdout",
     "output_type": "stream",
     "text": [
      "yes no\n",
      "yes no\n",
      "yes no\n"
     ]
    },
    {
     "name": "stderr",
     "output_type": "stream",
     "text": [
      " 38%|███▊      | 1348/3538 [02:39<03:10, 11.48it/s]"
     ]
    },
    {
     "name": "stdout",
     "output_type": "stream",
     "text": [
      "yes yes\n",
      "yes yes\n",
      "yes no\n"
     ]
    },
    {
     "name": "stderr",
     "output_type": "stream",
     "text": [
      " 38%|███▊      | 1350/3538 [02:39<03:11, 11.42it/s]"
     ]
    },
    {
     "name": "stdout",
     "output_type": "stream",
     "text": [
      "yes no\n",
      "yes no\n",
      "yes yes\n"
     ]
    },
    {
     "name": "stderr",
     "output_type": "stream",
     "text": [
      " 38%|███▊      | 1352/3538 [02:39<03:24, 10.70it/s]"
     ]
    },
    {
     "name": "stdout",
     "output_type": "stream",
     "text": [
      "yes no\n",
      "yes no\n"
     ]
    },
    {
     "name": "stderr",
     "output_type": "stream",
     "text": [
      " 38%|███▊      | 1356/3538 [02:40<03:32, 10.27it/s]"
     ]
    },
    {
     "name": "stdout",
     "output_type": "stream",
     "text": [
      "yes no\n",
      "yes no\n",
      "yes no\n"
     ]
    },
    {
     "name": "stderr",
     "output_type": "stream",
     "text": [
      " 38%|███▊      | 1358/3538 [02:40<03:35, 10.10it/s]"
     ]
    },
    {
     "name": "stdout",
     "output_type": "stream",
     "text": [
      "yes no\n",
      "yes yes\n",
      "yes yes\n"
     ]
    },
    {
     "name": "stderr",
     "output_type": "stream",
     "text": [
      " 38%|███▊      | 1362/3538 [02:40<03:14, 11.18it/s]"
     ]
    },
    {
     "name": "stdout",
     "output_type": "stream",
     "text": [
      "yes yes\n",
      "yes no\n",
      "yes yes\n"
     ]
    },
    {
     "name": "stderr",
     "output_type": "stream",
     "text": [
      " 39%|███▊      | 1364/3538 [02:40<03:37, 10.01it/s]"
     ]
    },
    {
     "name": "stdout",
     "output_type": "stream",
     "text": [
      "yes no\n",
      "yes no\n"
     ]
    },
    {
     "name": "stderr",
     "output_type": "stream",
     "text": [
      " 39%|███▊      | 1366/3538 [02:41<03:37, 10.00it/s]"
     ]
    },
    {
     "name": "stdout",
     "output_type": "stream",
     "text": [
      "yes no\n",
      "yes no\n",
      "yes no\n"
     ]
    },
    {
     "name": "stderr",
     "output_type": "stream",
     "text": [
      " 39%|███▊      | 1368/3538 [02:41<03:30, 10.29it/s]"
     ]
    },
    {
     "name": "stdout",
     "output_type": "stream",
     "text": [
      "yes no\n",
      "yes no\n"
     ]
    },
    {
     "name": "stderr",
     "output_type": "stream",
     "text": [
      " 39%|███▊      | 1370/3538 [02:41<03:33, 10.14it/s]"
     ]
    },
    {
     "name": "stdout",
     "output_type": "stream",
     "text": [
      "yes yes\n",
      "yes no\n"
     ]
    },
    {
     "name": "stderr",
     "output_type": "stream",
     "text": [
      " 39%|███▉      | 1372/3538 [02:41<03:39,  9.88it/s]"
     ]
    },
    {
     "name": "stdout",
     "output_type": "stream",
     "text": [
      "yes yes\n",
      "yes no\n"
     ]
    },
    {
     "name": "stderr",
     "output_type": "stream",
     "text": [
      " 39%|███▉      | 1376/3538 [02:42<03:34, 10.08it/s]"
     ]
    },
    {
     "name": "stdout",
     "output_type": "stream",
     "text": [
      "yes yes\n",
      "yes no\n",
      "yes yes\n"
     ]
    },
    {
     "name": "stderr",
     "output_type": "stream",
     "text": [
      " 39%|███▉      | 1378/3538 [02:42<03:27, 10.40it/s]"
     ]
    },
    {
     "name": "stdout",
     "output_type": "stream",
     "text": [
      "yes no\n",
      "yes yes\n",
      "yes no\n"
     ]
    },
    {
     "name": "stderr",
     "output_type": "stream",
     "text": [
      " 39%|███▉      | 1382/3538 [02:42<03:21, 10.72it/s]"
     ]
    },
    {
     "name": "stdout",
     "output_type": "stream",
     "text": [
      "yes yes\n",
      "yes yes\n",
      "yes yes\n"
     ]
    },
    {
     "name": "stderr",
     "output_type": "stream",
     "text": [
      " 39%|███▉      | 1384/3538 [02:42<03:20, 10.74it/s]"
     ]
    },
    {
     "name": "stdout",
     "output_type": "stream",
     "text": [
      "yes yes\n",
      "yes no\n"
     ]
    },
    {
     "name": "stderr",
     "output_type": "stream",
     "text": [
      " 39%|███▉      | 1386/3538 [02:42<03:28, 10.34it/s]"
     ]
    },
    {
     "name": "stdout",
     "output_type": "stream",
     "text": [
      "yes no\n",
      "yes yes\n"
     ]
    },
    {
     "name": "stderr",
     "output_type": "stream",
     "text": [
      " 39%|███▉      | 1388/3538 [02:43<03:34, 10.00it/s]"
     ]
    },
    {
     "name": "stdout",
     "output_type": "stream",
     "text": [
      "yes no\n",
      "yes no\n",
      "yes yes\n"
     ]
    },
    {
     "name": "stderr",
     "output_type": "stream",
     "text": [
      " 39%|███▉      | 1391/3538 [02:43<03:38,  9.84it/s]"
     ]
    },
    {
     "name": "stdout",
     "output_type": "stream",
     "text": [
      "yes no\n",
      "yes no\n"
     ]
    },
    {
     "name": "stderr",
     "output_type": "stream",
     "text": [
      " 39%|███▉      | 1393/3538 [02:43<03:31, 10.12it/s]"
     ]
    },
    {
     "name": "stdout",
     "output_type": "stream",
     "text": [
      "yes no\n",
      "yes no\n",
      "yes no\n"
     ]
    },
    {
     "name": "stderr",
     "output_type": "stream",
     "text": [
      " 39%|███▉      | 1397/3538 [02:44<03:17, 10.86it/s]"
     ]
    },
    {
     "name": "stdout",
     "output_type": "stream",
     "text": [
      "yes no\n",
      "yes no\n",
      "yes no\n"
     ]
    },
    {
     "name": "stderr",
     "output_type": "stream",
     "text": [
      " 40%|███▉      | 1399/3538 [02:44<03:06, 11.46it/s]"
     ]
    },
    {
     "name": "stdout",
     "output_type": "stream",
     "text": [
      "yes no\n",
      "yes no\n",
      "yes no\n"
     ]
    },
    {
     "name": "stderr",
     "output_type": "stream",
     "text": [
      " 40%|███▉      | 1403/3538 [02:44<02:57, 12.04it/s]"
     ]
    },
    {
     "name": "stdout",
     "output_type": "stream",
     "text": [
      "yes no\n",
      "yes no\n",
      "yes no\n"
     ]
    },
    {
     "name": "stderr",
     "output_type": "stream",
     "text": [
      " 40%|███▉      | 1405/3538 [02:44<03:08, 11.31it/s]"
     ]
    },
    {
     "name": "stdout",
     "output_type": "stream",
     "text": [
      "yes no\n",
      "yes yes\n",
      "yes no\n"
     ]
    },
    {
     "name": "stderr",
     "output_type": "stream",
     "text": [
      " 40%|███▉      | 1409/3538 [02:45<03:01, 11.73it/s]"
     ]
    },
    {
     "name": "stdout",
     "output_type": "stream",
     "text": [
      "yes yes\n",
      "yes no\n",
      "yes no\n"
     ]
    },
    {
     "name": "stderr",
     "output_type": "stream",
     "text": [
      " 40%|███▉      | 1411/3538 [02:45<02:59, 11.82it/s]"
     ]
    },
    {
     "name": "stdout",
     "output_type": "stream",
     "text": [
      "yes no\n",
      "yes no\n",
      "yes no\n"
     ]
    },
    {
     "name": "stderr",
     "output_type": "stream",
     "text": [
      " 40%|███▉      | 1415/3538 [02:45<02:58, 11.86it/s]"
     ]
    },
    {
     "name": "stdout",
     "output_type": "stream",
     "text": [
      "yes no\n",
      "yes no\n",
      "yes yes\n"
     ]
    },
    {
     "name": "stderr",
     "output_type": "stream",
     "text": [
      " 40%|████      | 1417/3538 [02:45<03:11, 11.10it/s]"
     ]
    },
    {
     "name": "stdout",
     "output_type": "stream",
     "text": [
      "yes no\n",
      "yes yes\n",
      "yes no\n"
     ]
    },
    {
     "name": "stderr",
     "output_type": "stream",
     "text": [
      " 40%|████      | 1419/3538 [02:45<02:58, 11.89it/s]"
     ]
    },
    {
     "name": "stdout",
     "output_type": "stream",
     "text": [
      "yes yes\n",
      "yes no\n"
     ]
    },
    {
     "name": "stderr",
     "output_type": "stream",
     "text": [
      " 40%|████      | 1421/3538 [02:46<03:14, 10.87it/s]"
     ]
    },
    {
     "name": "stdout",
     "output_type": "stream",
     "text": [
      "yes no\n",
      "yes no\n"
     ]
    },
    {
     "name": "stderr",
     "output_type": "stream",
     "text": [
      " 40%|████      | 1425/3538 [02:46<03:03, 11.54it/s]"
     ]
    },
    {
     "name": "stdout",
     "output_type": "stream",
     "text": [
      "yes yes\n",
      "yes no\n",
      "yes no\n"
     ]
    },
    {
     "name": "stderr",
     "output_type": "stream",
     "text": [
      " 40%|████      | 1427/3538 [02:46<03:11, 11.04it/s]"
     ]
    },
    {
     "name": "stdout",
     "output_type": "stream",
     "text": [
      "yes no\n",
      "yes yes\n",
      "yes no\n"
     ]
    },
    {
     "name": "stderr",
     "output_type": "stream",
     "text": [
      " 40%|████      | 1431/3538 [02:46<02:50, 12.34it/s]"
     ]
    },
    {
     "name": "stdout",
     "output_type": "stream",
     "text": [
      "yes no\n",
      "yes no\n",
      "yes no\n"
     ]
    },
    {
     "name": "stderr",
     "output_type": "stream",
     "text": [
      " 41%|████      | 1433/3538 [02:47<02:40, 13.14it/s]"
     ]
    },
    {
     "name": "stdout",
     "output_type": "stream",
     "text": [
      "yes yes\n",
      "yes no\n",
      "yes no\n"
     ]
    },
    {
     "name": "stderr",
     "output_type": "stream",
     "text": [
      " 41%|████      | 1435/3538 [02:47<02:46, 12.61it/s]"
     ]
    },
    {
     "name": "stdout",
     "output_type": "stream",
     "text": [
      "yes no\n",
      "yes yes\n"
     ]
    },
    {
     "name": "stderr",
     "output_type": "stream",
     "text": [
      " 41%|████      | 1439/3538 [02:47<03:07, 11.17it/s]"
     ]
    },
    {
     "name": "stdout",
     "output_type": "stream",
     "text": [
      "yes yes\n",
      "yes no\n",
      "yes no\n"
     ]
    },
    {
     "name": "stderr",
     "output_type": "stream",
     "text": [
      " 41%|████      | 1441/3538 [02:47<03:10, 10.99it/s]"
     ]
    },
    {
     "name": "stdout",
     "output_type": "stream",
     "text": [
      "yes no\n",
      "yes yes\n",
      "yes no\n"
     ]
    },
    {
     "name": "stderr",
     "output_type": "stream",
     "text": [
      " 41%|████      | 1445/3538 [02:48<03:12, 10.87it/s]"
     ]
    },
    {
     "name": "stdout",
     "output_type": "stream",
     "text": [
      "yes yes\n",
      "yes no\n",
      "yes no\n"
     ]
    },
    {
     "name": "stderr",
     "output_type": "stream",
     "text": [
      " 41%|████      | 1447/3538 [02:48<03:14, 10.78it/s]"
     ]
    },
    {
     "name": "stdout",
     "output_type": "stream",
     "text": [
      "yes yes\n",
      "yes no\n",
      "yes no\n"
     ]
    },
    {
     "name": "stderr",
     "output_type": "stream",
     "text": [
      " 41%|████      | 1451/3538 [02:48<03:02, 11.41it/s]"
     ]
    },
    {
     "name": "stdout",
     "output_type": "stream",
     "text": [
      "yes yes\n",
      "yes no\n",
      "yes yes\n"
     ]
    },
    {
     "name": "stderr",
     "output_type": "stream",
     "text": [
      " 41%|████      | 1453/3538 [02:48<03:28,  9.99it/s]"
     ]
    },
    {
     "name": "stdout",
     "output_type": "stream",
     "text": [
      "yes no\n",
      "yes no\n"
     ]
    },
    {
     "name": "stderr",
     "output_type": "stream",
     "text": [
      " 41%|████      | 1455/3538 [02:49<03:46,  9.19it/s]"
     ]
    },
    {
     "name": "stdout",
     "output_type": "stream",
     "text": [
      "yes no\n",
      "yes yes\n"
     ]
    },
    {
     "name": "stderr",
     "output_type": "stream",
     "text": [
      " 41%|████      | 1457/3538 [02:49<03:58,  8.74it/s]"
     ]
    },
    {
     "name": "stdout",
     "output_type": "stream",
     "text": [
      "yes no\n",
      "yes no\n",
      "yes no\n"
     ]
    },
    {
     "name": "stderr",
     "output_type": "stream",
     "text": [
      " 41%|████▏     | 1460/3538 [02:49<03:46,  9.18it/s]"
     ]
    },
    {
     "name": "stdout",
     "output_type": "stream",
     "text": [
      "yes no\n",
      "yes no\n",
      "yes no\n"
     ]
    },
    {
     "name": "stderr",
     "output_type": "stream",
     "text": [
      " 41%|████▏     | 1463/3538 [02:50<04:05,  8.46it/s]"
     ]
    },
    {
     "name": "stdout",
     "output_type": "stream",
     "text": [
      "yes yes\n",
      "yes yes\n"
     ]
    },
    {
     "name": "stderr",
     "output_type": "stream",
     "text": [
      " 41%|████▏     | 1466/3538 [02:50<03:35,  9.62it/s]"
     ]
    },
    {
     "name": "stdout",
     "output_type": "stream",
     "text": [
      "yes no\n",
      "yes yes\n",
      "yes no\n"
     ]
    },
    {
     "name": "stderr",
     "output_type": "stream",
     "text": [
      " 41%|████▏     | 1468/3538 [02:50<04:05,  8.43it/s]"
     ]
    },
    {
     "name": "stdout",
     "output_type": "stream",
     "text": [
      "yes yes\n",
      "yes no\n"
     ]
    },
    {
     "name": "stderr",
     "output_type": "stream",
     "text": [
      " 42%|████▏     | 1470/3538 [02:50<04:07,  8.34it/s]"
     ]
    },
    {
     "name": "stdout",
     "output_type": "stream",
     "text": [
      "yes yes\n",
      "yes no\n"
     ]
    },
    {
     "name": "stderr",
     "output_type": "stream",
     "text": [
      " 42%|████▏     | 1472/3538 [02:51<03:52,  8.88it/s]"
     ]
    },
    {
     "name": "stdout",
     "output_type": "stream",
     "text": [
      "yes yes\n",
      "yes yes\n"
     ]
    },
    {
     "name": "stderr",
     "output_type": "stream",
     "text": [
      " 42%|████▏     | 1474/3538 [02:51<03:42,  9.27it/s]"
     ]
    },
    {
     "name": "stdout",
     "output_type": "stream",
     "text": [
      "yes no\n",
      "yes yes\n"
     ]
    },
    {
     "name": "stderr",
     "output_type": "stream",
     "text": [
      " 42%|████▏     | 1475/3538 [02:51<03:49,  9.01it/s]"
     ]
    },
    {
     "name": "stdout",
     "output_type": "stream",
     "text": [
      "yes no\n",
      "yes yes\n"
     ]
    },
    {
     "name": "stderr",
     "output_type": "stream",
     "text": [
      " 42%|████▏     | 1478/3538 [02:51<03:52,  8.88it/s]"
     ]
    },
    {
     "name": "stdout",
     "output_type": "stream",
     "text": [
      "yes no\n",
      "yes yes\n"
     ]
    },
    {
     "name": "stderr",
     "output_type": "stream",
     "text": [
      " 42%|████▏     | 1480/3538 [02:52<03:41,  9.31it/s]"
     ]
    },
    {
     "name": "stdout",
     "output_type": "stream",
     "text": [
      "yes no\n",
      "yes no\n",
      "yes no\n"
     ]
    },
    {
     "name": "stderr",
     "output_type": "stream",
     "text": [
      " 42%|████▏     | 1483/3538 [02:52<03:42,  9.25it/s]"
     ]
    },
    {
     "name": "stdout",
     "output_type": "stream",
     "text": [
      "yes yes\n",
      "yes no\n"
     ]
    },
    {
     "name": "stderr",
     "output_type": "stream",
     "text": [
      " 42%|████▏     | 1485/3538 [02:52<03:33,  9.61it/s]"
     ]
    },
    {
     "name": "stdout",
     "output_type": "stream",
     "text": [
      "yes no\n",
      "yes no\n"
     ]
    },
    {
     "name": "stderr",
     "output_type": "stream",
     "text": [
      " 42%|████▏     | 1487/3538 [02:52<03:51,  8.87it/s]"
     ]
    },
    {
     "name": "stdout",
     "output_type": "stream",
     "text": [
      "yes no\n",
      "yes no\n"
     ]
    },
    {
     "name": "stderr",
     "output_type": "stream",
     "text": [
      " 42%|████▏     | 1489/3538 [02:52<03:36,  9.47it/s]"
     ]
    },
    {
     "name": "stdout",
     "output_type": "stream",
     "text": [
      "yes no\n",
      "yes no\n",
      "yes no\n"
     ]
    },
    {
     "name": "stderr",
     "output_type": "stream",
     "text": [
      " 42%|████▏     | 1491/3538 [02:53<03:19, 10.25it/s]"
     ]
    },
    {
     "name": "stdout",
     "output_type": "stream",
     "text": [
      "yes yes\n",
      "yes no\n"
     ]
    },
    {
     "name": "stderr",
     "output_type": "stream",
     "text": [
      " 42%|████▏     | 1495/3538 [02:53<03:29,  9.77it/s]"
     ]
    },
    {
     "name": "stdout",
     "output_type": "stream",
     "text": [
      "yes no\n",
      "yes no\n",
      "yes no\n"
     ]
    },
    {
     "name": "stderr",
     "output_type": "stream",
     "text": [
      " 42%|████▏     | 1497/3538 [02:53<03:39,  9.30it/s]"
     ]
    },
    {
     "name": "stdout",
     "output_type": "stream",
     "text": [
      "yes no\n",
      "yes yes\n",
      "yes no\n"
     ]
    },
    {
     "name": "stderr",
     "output_type": "stream",
     "text": [
      " 42%|████▏     | 1501/3538 [02:54<03:30,  9.67it/s]"
     ]
    },
    {
     "name": "stdout",
     "output_type": "stream",
     "text": [
      "yes no\n",
      "yes no\n",
      "yes yes\n"
     ]
    },
    {
     "name": "stderr",
     "output_type": "stream",
     "text": [
      " 42%|████▏     | 1502/3538 [02:54<03:48,  8.92it/s]"
     ]
    },
    {
     "name": "stdout",
     "output_type": "stream",
     "text": [
      "yes no\n",
      "yes no\n"
     ]
    },
    {
     "name": "stderr",
     "output_type": "stream",
     "text": [
      " 43%|████▎     | 1505/3538 [02:54<03:45,  9.02it/s]"
     ]
    },
    {
     "name": "stdout",
     "output_type": "stream",
     "text": [
      "yes yes\n",
      "yes no\n"
     ]
    },
    {
     "name": "stderr",
     "output_type": "stream",
     "text": [
      " 43%|████▎     | 1507/3538 [02:54<03:21, 10.08it/s]"
     ]
    },
    {
     "name": "stdout",
     "output_type": "stream",
     "text": [
      "yes no\n",
      "yes no\n",
      "yes no\n"
     ]
    },
    {
     "name": "stderr",
     "output_type": "stream",
     "text": [
      " 43%|████▎     | 1510/3538 [02:55<03:26,  9.83it/s]"
     ]
    },
    {
     "name": "stdout",
     "output_type": "stream",
     "text": [
      "yes no\n",
      "yes no\n"
     ]
    },
    {
     "name": "stderr",
     "output_type": "stream",
     "text": [
      " 43%|████▎     | 1513/3538 [02:55<03:03, 11.01it/s]"
     ]
    },
    {
     "name": "stdout",
     "output_type": "stream",
     "text": [
      "yes yes\n",
      "yes no\n",
      "yes yes\n"
     ]
    },
    {
     "name": "stderr",
     "output_type": "stream",
     "text": [
      " 43%|████▎     | 1515/3538 [02:55<03:21, 10.06it/s]"
     ]
    },
    {
     "name": "stdout",
     "output_type": "stream",
     "text": [
      "yes no\n",
      "yes no\n",
      "yes no\n"
     ]
    },
    {
     "name": "stderr",
     "output_type": "stream",
     "text": [
      " 43%|████▎     | 1517/3538 [02:55<03:23,  9.93it/s]"
     ]
    },
    {
     "name": "stdout",
     "output_type": "stream",
     "text": [
      "yes no\n",
      "yes no\n"
     ]
    },
    {
     "name": "stderr",
     "output_type": "stream",
     "text": [
      " 43%|████▎     | 1521/3538 [02:56<03:16, 10.28it/s]"
     ]
    },
    {
     "name": "stdout",
     "output_type": "stream",
     "text": [
      "yes no\n",
      "yes no\n",
      "yes no\n"
     ]
    },
    {
     "name": "stderr",
     "output_type": "stream",
     "text": [
      " 43%|████▎     | 1523/3538 [02:56<03:28,  9.65it/s]"
     ]
    },
    {
     "name": "stdout",
     "output_type": "stream",
     "text": [
      "yes yes\n",
      "yes no\n"
     ]
    },
    {
     "name": "stderr",
     "output_type": "stream",
     "text": [
      " 43%|████▎     | 1525/3538 [02:56<03:26,  9.74it/s]"
     ]
    },
    {
     "name": "stdout",
     "output_type": "stream",
     "text": [
      "yes yes\n",
      "yes no\n",
      "yes no\n"
     ]
    },
    {
     "name": "stderr",
     "output_type": "stream",
     "text": [
      " 43%|████▎     | 1529/3538 [02:57<03:06, 10.78it/s]"
     ]
    },
    {
     "name": "stdout",
     "output_type": "stream",
     "text": [
      "yes no\n",
      "yes yes\n",
      "yes yes\n"
     ]
    },
    {
     "name": "stderr",
     "output_type": "stream",
     "text": [
      " 43%|████▎     | 1531/3538 [02:57<03:08, 10.66it/s]"
     ]
    },
    {
     "name": "stdout",
     "output_type": "stream",
     "text": [
      "yes no\n",
      "yes no\n",
      "yes no\n"
     ]
    },
    {
     "name": "stderr",
     "output_type": "stream",
     "text": [
      " 43%|████▎     | 1535/3538 [02:57<03:06, 10.72it/s]"
     ]
    },
    {
     "name": "stdout",
     "output_type": "stream",
     "text": [
      "yes yes\n",
      "yes yes\n",
      "yes no\n"
     ]
    },
    {
     "name": "stderr",
     "output_type": "stream",
     "text": [
      " 43%|████▎     | 1537/3538 [02:57<03:07, 10.68it/s]"
     ]
    },
    {
     "name": "stdout",
     "output_type": "stream",
     "text": [
      "yes no\n",
      "yes no\n",
      "yes yes\n"
     ]
    },
    {
     "name": "stderr",
     "output_type": "stream",
     "text": [
      " 44%|████▎     | 1541/3538 [02:58<02:57, 11.26it/s]"
     ]
    },
    {
     "name": "stdout",
     "output_type": "stream",
     "text": [
      "yes yes\n",
      "yes no\n",
      "yes no\n"
     ]
    },
    {
     "name": "stderr",
     "output_type": "stream",
     "text": [
      " 44%|████▎     | 1543/3538 [02:58<02:54, 11.42it/s]"
     ]
    },
    {
     "name": "stdout",
     "output_type": "stream",
     "text": [
      "yes yes\n",
      "yes yes\n",
      "yes yes\n"
     ]
    },
    {
     "name": "stderr",
     "output_type": "stream",
     "text": [
      " 44%|████▎     | 1545/3538 [02:58<02:56, 11.32it/s]"
     ]
    },
    {
     "name": "stdout",
     "output_type": "stream",
     "text": [
      "yes yes\n",
      "yes no\n"
     ]
    },
    {
     "name": "stderr",
     "output_type": "stream",
     "text": [
      " 44%|████▍     | 1549/3538 [02:58<02:43, 12.17it/s]"
     ]
    },
    {
     "name": "stdout",
     "output_type": "stream",
     "text": [
      "yes no\n",
      "yes no\n",
      "yes yes\n",
      "yes no\n"
     ]
    },
    {
     "name": "stderr",
     "output_type": "stream",
     "text": [
      " 44%|████▍     | 1553/3538 [02:59<02:36, 12.69it/s]"
     ]
    },
    {
     "name": "stdout",
     "output_type": "stream",
     "text": [
      "yes yes\n",
      "yes no\n",
      "yes yes\n"
     ]
    },
    {
     "name": "stderr",
     "output_type": "stream",
     "text": [
      " 44%|████▍     | 1555/3538 [02:59<02:44, 12.08it/s]"
     ]
    },
    {
     "name": "stdout",
     "output_type": "stream",
     "text": [
      "yes no\n",
      "yes no\n"
     ]
    },
    {
     "name": "stderr",
     "output_type": "stream",
     "text": [
      " 44%|████▍     | 1557/3538 [02:59<02:52, 11.47it/s]"
     ]
    },
    {
     "name": "stdout",
     "output_type": "stream",
     "text": [
      "yes yes\n",
      "yes no\n",
      "yes yes\n"
     ]
    },
    {
     "name": "stderr",
     "output_type": "stream",
     "text": [
      " 44%|████▍     | 1559/3538 [02:59<02:53, 11.38it/s]"
     ]
    },
    {
     "name": "stdout",
     "output_type": "stream",
     "text": [
      "yes no\n",
      "yes no\n"
     ]
    },
    {
     "name": "stderr",
     "output_type": "stream",
     "text": [
      " 44%|████▍     | 1561/3538 [02:59<03:10, 10.40it/s]"
     ]
    },
    {
     "name": "stdout",
     "output_type": "stream",
     "text": [
      "yes yes\n",
      "yes no\n"
     ]
    },
    {
     "name": "stderr",
     "output_type": "stream",
     "text": [
      " 44%|████▍     | 1563/3538 [03:00<03:21,  9.80it/s]"
     ]
    },
    {
     "name": "stdout",
     "output_type": "stream",
     "text": [
      "yes yes\n",
      "yes no\n"
     ]
    },
    {
     "name": "stderr",
     "output_type": "stream",
     "text": [
      " 44%|████▍     | 1566/3538 [03:00<03:39,  9.00it/s]"
     ]
    },
    {
     "name": "stdout",
     "output_type": "stream",
     "text": [
      "yes no\n",
      "yes no\n"
     ]
    },
    {
     "name": "stderr",
     "output_type": "stream",
     "text": [
      " 44%|████▍     | 1568/3538 [03:00<03:39,  8.98it/s]"
     ]
    },
    {
     "name": "stdout",
     "output_type": "stream",
     "text": [
      "yes no\n",
      "yes no\n"
     ]
    },
    {
     "name": "stderr",
     "output_type": "stream",
     "text": [
      " 44%|████▍     | 1571/3538 [03:00<03:20,  9.81it/s]"
     ]
    },
    {
     "name": "stdout",
     "output_type": "stream",
     "text": [
      "yes yes\n",
      "yes no\n",
      "yes yes\n"
     ]
    },
    {
     "name": "stderr",
     "output_type": "stream",
     "text": [
      " 44%|████▍     | 1573/3538 [03:01<03:14, 10.12it/s]"
     ]
    },
    {
     "name": "stdout",
     "output_type": "stream",
     "text": [
      "yes no\n",
      "yes no\n"
     ]
    },
    {
     "name": "stderr",
     "output_type": "stream",
     "text": [
      " 45%|████▍     | 1576/3538 [03:01<03:30,  9.34it/s]"
     ]
    },
    {
     "name": "stdout",
     "output_type": "stream",
     "text": [
      "yes no\n",
      "yes no\n",
      "yes yes\n"
     ]
    },
    {
     "name": "stderr",
     "output_type": "stream",
     "text": [
      " 45%|████▍     | 1577/3538 [03:01<03:48,  8.58it/s]"
     ]
    },
    {
     "name": "stdout",
     "output_type": "stream",
     "text": [
      "yes no\n",
      "yes yes\n"
     ]
    },
    {
     "name": "stderr",
     "output_type": "stream",
     "text": [
      " 45%|████▍     | 1581/3538 [03:02<03:21,  9.73it/s]"
     ]
    },
    {
     "name": "stdout",
     "output_type": "stream",
     "text": [
      "yes no\n",
      "yes yes\n",
      "yes no\n"
     ]
    },
    {
     "name": "stderr",
     "output_type": "stream",
     "text": [
      " 45%|████▍     | 1583/3538 [03:02<03:12, 10.17it/s]"
     ]
    },
    {
     "name": "stdout",
     "output_type": "stream",
     "text": [
      "yes yes\n",
      "yes yes\n",
      "yes yes\n"
     ]
    },
    {
     "name": "stderr",
     "output_type": "stream",
     "text": [
      " 45%|████▍     | 1587/3538 [03:02<02:43, 11.94it/s]"
     ]
    },
    {
     "name": "stdout",
     "output_type": "stream",
     "text": [
      "yes yes\n",
      "yes no\n",
      "yes no\n"
     ]
    },
    {
     "name": "stderr",
     "output_type": "stream",
     "text": [
      " 45%|████▍     | 1589/3538 [03:02<02:56, 11.07it/s]"
     ]
    },
    {
     "name": "stdout",
     "output_type": "stream",
     "text": [
      "yes no\n",
      "yes no\n"
     ]
    },
    {
     "name": "stderr",
     "output_type": "stream",
     "text": [
      " 45%|████▍     | 1591/3538 [03:02<03:11, 10.19it/s]"
     ]
    },
    {
     "name": "stdout",
     "output_type": "stream",
     "text": [
      "yes yes\n",
      "yes yes\n"
     ]
    },
    {
     "name": "stderr",
     "output_type": "stream",
     "text": [
      " 45%|████▌     | 1593/3538 [03:03<03:33,  9.11it/s]"
     ]
    },
    {
     "name": "stdout",
     "output_type": "stream",
     "text": [
      "yes no\n",
      "yes no\n"
     ]
    },
    {
     "name": "stderr",
     "output_type": "stream",
     "text": [
      " 45%|████▌     | 1595/3538 [03:03<03:46,  8.58it/s]"
     ]
    },
    {
     "name": "stdout",
     "output_type": "stream",
     "text": [
      "yes yes\n",
      "yes no\n"
     ]
    },
    {
     "name": "stderr",
     "output_type": "stream",
     "text": [
      " 45%|████▌     | 1597/3538 [03:03<03:28,  9.30it/s]"
     ]
    },
    {
     "name": "stdout",
     "output_type": "stream",
     "text": [
      "yes yes\n",
      "yes no\n",
      "yes no\n"
     ]
    },
    {
     "name": "stderr",
     "output_type": "stream",
     "text": [
      " 45%|████▌     | 1600/3538 [03:03<03:25,  9.42it/s]"
     ]
    },
    {
     "name": "stdout",
     "output_type": "stream",
     "text": [
      "yes no\n",
      "yes no\n"
     ]
    },
    {
     "name": "stderr",
     "output_type": "stream",
     "text": [
      " 45%|████▌     | 1603/3538 [03:04<03:00, 10.70it/s]"
     ]
    },
    {
     "name": "stdout",
     "output_type": "stream",
     "text": [
      "yes yes\n",
      "yes yes\n",
      "yes no\n"
     ]
    },
    {
     "name": "stderr",
     "output_type": "stream",
     "text": [
      " 45%|████▌     | 1605/3538 [03:04<03:19,  9.71it/s]"
     ]
    },
    {
     "name": "stdout",
     "output_type": "stream",
     "text": [
      "yes no\n",
      "yes yes\n",
      "yes no\n"
     ]
    },
    {
     "name": "stderr",
     "output_type": "stream",
     "text": [
      " 45%|████▌     | 1607/3538 [03:04<03:08, 10.26it/s]"
     ]
    },
    {
     "name": "stdout",
     "output_type": "stream",
     "text": [
      "yes yes\n",
      "yes no\n"
     ]
    },
    {
     "name": "stderr",
     "output_type": "stream",
     "text": [
      " 46%|████▌     | 1611/3538 [03:05<03:10, 10.10it/s]"
     ]
    },
    {
     "name": "stdout",
     "output_type": "stream",
     "text": [
      "yes no\n",
      "yes no\n",
      "yes yes\n"
     ]
    },
    {
     "name": "stderr",
     "output_type": "stream",
     "text": [
      " 46%|████▌     | 1613/3538 [03:05<03:30,  9.16it/s]"
     ]
    },
    {
     "name": "stdout",
     "output_type": "stream",
     "text": [
      "yes no\n",
      "yes no\n"
     ]
    },
    {
     "name": "stderr",
     "output_type": "stream",
     "text": [
      " 46%|████▌     | 1616/3538 [03:05<03:10, 10.09it/s]"
     ]
    },
    {
     "name": "stdout",
     "output_type": "stream",
     "text": [
      "yes no\n",
      "yes yes\n",
      "yes no\n"
     ]
    },
    {
     "name": "stderr",
     "output_type": "stream",
     "text": [
      " 46%|████▌     | 1618/3538 [03:05<03:11, 10.03it/s]"
     ]
    },
    {
     "name": "stdout",
     "output_type": "stream",
     "text": [
      "yes yes\n",
      "yes no\n"
     ]
    },
    {
     "name": "stderr",
     "output_type": "stream",
     "text": [
      " 46%|████▌     | 1620/3538 [03:05<03:17,  9.73it/s]"
     ]
    },
    {
     "name": "stdout",
     "output_type": "stream",
     "text": [
      "yes yes\n",
      "yes no\n"
     ]
    },
    {
     "name": "stderr",
     "output_type": "stream",
     "text": [
      " 46%|████▌     | 1622/3538 [03:06<03:19,  9.62it/s]"
     ]
    },
    {
     "name": "stdout",
     "output_type": "stream",
     "text": [
      "yes no\n",
      "yes yes\n"
     ]
    },
    {
     "name": "stderr",
     "output_type": "stream",
     "text": [
      " 46%|████▌     | 1624/3538 [03:06<03:45,  8.51it/s]"
     ]
    },
    {
     "name": "stdout",
     "output_type": "stream",
     "text": [
      "yes no\n",
      "yes no\n"
     ]
    },
    {
     "name": "stderr",
     "output_type": "stream",
     "text": [
      " 46%|████▌     | 1627/3538 [03:06<03:27,  9.21it/s]"
     ]
    },
    {
     "name": "stdout",
     "output_type": "stream",
     "text": [
      "yes no\n",
      "yes yes\n",
      "yes yes\n"
     ]
    },
    {
     "name": "stderr",
     "output_type": "stream",
     "text": [
      " 46%|████▌     | 1629/3538 [03:06<03:11,  9.99it/s]"
     ]
    },
    {
     "name": "stdout",
     "output_type": "stream",
     "text": [
      "yes yes\n",
      "yes no\n",
      "yes no\n"
     ]
    },
    {
     "name": "stderr",
     "output_type": "stream",
     "text": [
      " 46%|████▌     | 1631/3538 [03:07<03:00, 10.54it/s]"
     ]
    },
    {
     "name": "stdout",
     "output_type": "stream",
     "text": [
      "yes no\n",
      "yes yes\n"
     ]
    },
    {
     "name": "stderr",
     "output_type": "stream",
     "text": [
      " 46%|████▌     | 1634/3538 [03:07<03:45,  8.45it/s]"
     ]
    },
    {
     "name": "stdout",
     "output_type": "stream",
     "text": [
      "yes yes\n",
      "yes no\n"
     ]
    },
    {
     "name": "stderr",
     "output_type": "stream",
     "text": [
      " 46%|████▌     | 1636/3538 [03:07<03:31,  8.97it/s]"
     ]
    },
    {
     "name": "stdout",
     "output_type": "stream",
     "text": [
      "yes no\n",
      "yes no\n"
     ]
    },
    {
     "name": "stderr",
     "output_type": "stream",
     "text": [
      " 46%|████▋     | 1639/3538 [03:08<03:33,  8.90it/s]"
     ]
    },
    {
     "name": "stdout",
     "output_type": "stream",
     "text": [
      "yes no\n",
      "yes yes\n",
      "yes no\n"
     ]
    },
    {
     "name": "stderr",
     "output_type": "stream",
     "text": [
      " 46%|████▋     | 1641/3538 [03:08<03:35,  8.81it/s]"
     ]
    },
    {
     "name": "stdout",
     "output_type": "stream",
     "text": [
      "yes no\n",
      "yes no\n"
     ]
    },
    {
     "name": "stderr",
     "output_type": "stream",
     "text": [
      " 46%|████▋     | 1643/3538 [03:08<03:43,  8.47it/s]"
     ]
    },
    {
     "name": "stdout",
     "output_type": "stream",
     "text": [
      "yes yes\n",
      "yes yes\n"
     ]
    },
    {
     "name": "stderr",
     "output_type": "stream",
     "text": [
      " 46%|████▋     | 1645/3538 [03:08<03:57,  7.98it/s]"
     ]
    },
    {
     "name": "stdout",
     "output_type": "stream",
     "text": [
      "yes no\n",
      "yes yes\n"
     ]
    },
    {
     "name": "stderr",
     "output_type": "stream",
     "text": [
      " 47%|████▋     | 1647/3538 [03:09<03:18,  9.55it/s]"
     ]
    },
    {
     "name": "stdout",
     "output_type": "stream",
     "text": [
      "yes no\n",
      "yes no\n",
      "yes yes\n"
     ]
    },
    {
     "name": "stderr",
     "output_type": "stream",
     "text": [
      " 47%|████▋     | 1650/3538 [03:09<03:25,  9.17it/s]"
     ]
    },
    {
     "name": "stdout",
     "output_type": "stream",
     "text": [
      "yes no\n",
      "yes no\n",
      "yes no\n"
     ]
    },
    {
     "name": "stderr",
     "output_type": "stream",
     "text": [
      " 47%|████▋     | 1654/3538 [03:09<03:01, 10.36it/s]"
     ]
    },
    {
     "name": "stdout",
     "output_type": "stream",
     "text": [
      "yes no\n",
      "yes no\n",
      "yes no\n"
     ]
    },
    {
     "name": "stderr",
     "output_type": "stream",
     "text": [
      " 47%|████▋     | 1656/3538 [03:10<03:37,  8.67it/s]"
     ]
    },
    {
     "name": "stdout",
     "output_type": "stream",
     "text": [
      "yes no\n",
      "yes no\n"
     ]
    },
    {
     "name": "stderr",
     "output_type": "stream",
     "text": [
      " 47%|████▋     | 1658/3538 [03:10<03:14,  9.65it/s]"
     ]
    },
    {
     "name": "stdout",
     "output_type": "stream",
     "text": [
      "yes no\n",
      "yes no\n",
      "yes yes\n"
     ]
    },
    {
     "name": "stderr",
     "output_type": "stream",
     "text": [
      " 47%|████▋     | 1661/3538 [03:10<03:19,  9.40it/s]"
     ]
    },
    {
     "name": "stdout",
     "output_type": "stream",
     "text": [
      "yes no\n",
      "yes no\n"
     ]
    },
    {
     "name": "stderr",
     "output_type": "stream",
     "text": [
      " 47%|████▋     | 1663/3538 [03:10<03:19,  9.41it/s]"
     ]
    },
    {
     "name": "stdout",
     "output_type": "stream",
     "text": [
      "yes no\n",
      "yes yes\n",
      "yes yes\n"
     ]
    },
    {
     "name": "stderr",
     "output_type": "stream",
     "text": [
      " 47%|████▋     | 1667/3538 [03:11<02:58, 10.48it/s]"
     ]
    },
    {
     "name": "stdout",
     "output_type": "stream",
     "text": [
      "yes no\n",
      "yes no\n",
      "yes yes\n"
     ]
    },
    {
     "name": "stderr",
     "output_type": "stream",
     "text": [
      " 47%|████▋     | 1669/3538 [03:11<02:58, 10.46it/s]"
     ]
    },
    {
     "name": "stdout",
     "output_type": "stream",
     "text": [
      "yes yes\n",
      "yes no\n"
     ]
    },
    {
     "name": "stderr",
     "output_type": "stream",
     "text": [
      " 47%|████▋     | 1671/3538 [03:11<03:01, 10.30it/s]"
     ]
    },
    {
     "name": "stdout",
     "output_type": "stream",
     "text": [
      "yes no\n",
      "yes no\n",
      "yes no\n"
     ]
    },
    {
     "name": "stderr",
     "output_type": "stream",
     "text": [
      " 47%|████▋     | 1675/3538 [03:11<02:59, 10.36it/s]"
     ]
    },
    {
     "name": "stdout",
     "output_type": "stream",
     "text": [
      "yes no\n",
      "yes no\n",
      "yes yes\n"
     ]
    },
    {
     "name": "stderr",
     "output_type": "stream",
     "text": [
      " 47%|████▋     | 1677/3538 [03:12<03:11,  9.72it/s]"
     ]
    },
    {
     "name": "stdout",
     "output_type": "stream",
     "text": [
      "yes yes\n",
      "yes no\n",
      "yes yes\n"
     ]
    },
    {
     "name": "stderr",
     "output_type": "stream",
     "text": [
      " 48%|████▊     | 1681/3538 [03:12<03:07,  9.89it/s]"
     ]
    },
    {
     "name": "stdout",
     "output_type": "stream",
     "text": [
      "yes no\n",
      "yes yes\n",
      "yes yes\n"
     ]
    },
    {
     "name": "stderr",
     "output_type": "stream",
     "text": [
      " 48%|████▊     | 1684/3538 [03:12<03:00, 10.30it/s]"
     ]
    },
    {
     "name": "stdout",
     "output_type": "stream",
     "text": [
      "yes yes\n",
      "yes yes\n",
      "yes no\n"
     ]
    },
    {
     "name": "stderr",
     "output_type": "stream",
     "text": [
      " 48%|████▊     | 1686/3538 [03:12<02:55, 10.53it/s]"
     ]
    },
    {
     "name": "stdout",
     "output_type": "stream",
     "text": [
      "yes no\n",
      "yes no\n"
     ]
    },
    {
     "name": "stderr",
     "output_type": "stream",
     "text": [
      " 48%|████▊     | 1688/3538 [03:13<03:14,  9.52it/s]"
     ]
    },
    {
     "name": "stdout",
     "output_type": "stream",
     "text": [
      "yes no\n",
      "yes yes\n"
     ]
    },
    {
     "name": "stderr",
     "output_type": "stream",
     "text": [
      " 48%|████▊     | 1690/3538 [03:13<03:08,  9.78it/s]"
     ]
    },
    {
     "name": "stdout",
     "output_type": "stream",
     "text": [
      "yes no\n",
      "yes no\n"
     ]
    },
    {
     "name": "stderr",
     "output_type": "stream",
     "text": [
      " 48%|████▊     | 1691/3538 [03:13<03:13,  9.55it/s]"
     ]
    },
    {
     "name": "stdout",
     "output_type": "stream",
     "text": [
      "yes no\n",
      "yes no\n"
     ]
    },
    {
     "name": "stderr",
     "output_type": "stream",
     "text": [
      " 48%|████▊     | 1693/3538 [03:13<03:14,  9.49it/s]"
     ]
    },
    {
     "name": "stdout",
     "output_type": "stream",
     "text": [
      "yes yes\n",
      "yes no\n"
     ]
    },
    {
     "name": "stderr",
     "output_type": "stream",
     "text": [
      " 48%|████▊     | 1697/3538 [03:14<03:09,  9.71it/s]"
     ]
    },
    {
     "name": "stdout",
     "output_type": "stream",
     "text": [
      "yes no\n",
      "yes no\n",
      "yes no\n"
     ]
    },
    {
     "name": "stderr",
     "output_type": "stream",
     "text": [
      " 48%|████▊     | 1700/3538 [03:14<03:03, 10.00it/s]"
     ]
    },
    {
     "name": "stdout",
     "output_type": "stream",
     "text": [
      "yes no\n",
      "yes no\n",
      "yes yes\n"
     ]
    },
    {
     "name": "stderr",
     "output_type": "stream",
     "text": [
      " 48%|████▊     | 1702/3538 [03:14<03:03, 10.02it/s]"
     ]
    },
    {
     "name": "stdout",
     "output_type": "stream",
     "text": [
      "yes yes\n",
      "yes yes\n",
      "yes no\n"
     ]
    },
    {
     "name": "stderr",
     "output_type": "stream",
     "text": [
      " 48%|████▊     | 1705/3538 [03:14<03:14,  9.41it/s]"
     ]
    },
    {
     "name": "stdout",
     "output_type": "stream",
     "text": [
      "yes no\n",
      "yes yes\n"
     ]
    },
    {
     "name": "stderr",
     "output_type": "stream",
     "text": [
      " 48%|████▊     | 1707/3538 [03:15<03:14,  9.43it/s]"
     ]
    },
    {
     "name": "stdout",
     "output_type": "stream",
     "text": [
      "yes no\n",
      "yes no\n"
     ]
    },
    {
     "name": "stderr",
     "output_type": "stream",
     "text": [
      " 48%|████▊     | 1709/3538 [03:15<03:28,  8.75it/s]"
     ]
    },
    {
     "name": "stdout",
     "output_type": "stream",
     "text": [
      "yes no\n",
      "yes yes\n"
     ]
    },
    {
     "name": "stderr",
     "output_type": "stream",
     "text": [
      " 48%|████▊     | 1711/3538 [03:15<03:23,  8.96it/s]"
     ]
    },
    {
     "name": "stdout",
     "output_type": "stream",
     "text": [
      "yes yes\n",
      "yes yes\n"
     ]
    },
    {
     "name": "stderr",
     "output_type": "stream",
     "text": [
      " 48%|████▊     | 1714/3538 [03:15<03:08,  9.69it/s]"
     ]
    },
    {
     "name": "stdout",
     "output_type": "stream",
     "text": [
      "yes yes\n",
      "yes yes\n",
      "yes no\n"
     ]
    },
    {
     "name": "stderr",
     "output_type": "stream",
     "text": [
      " 49%|████▊     | 1716/3538 [03:16<02:57, 10.25it/s]"
     ]
    },
    {
     "name": "stdout",
     "output_type": "stream",
     "text": [
      "yes yes\n",
      "yes no\n"
     ]
    },
    {
     "name": "stderr",
     "output_type": "stream",
     "text": [
      " 49%|████▊     | 1718/3538 [03:16<02:55, 10.38it/s]"
     ]
    },
    {
     "name": "stdout",
     "output_type": "stream",
     "text": [
      "yes yes\n",
      "yes yes\n"
     ]
    },
    {
     "name": "stderr",
     "output_type": "stream",
     "text": [
      " 49%|████▊     | 1720/3538 [03:16<03:17,  9.22it/s]"
     ]
    },
    {
     "name": "stdout",
     "output_type": "stream",
     "text": [
      "yes no\n",
      "yes no\n"
     ]
    },
    {
     "name": "stderr",
     "output_type": "stream",
     "text": [
      " 49%|████▊     | 1721/3538 [03:16<03:23,  8.93it/s]"
     ]
    },
    {
     "name": "stdout",
     "output_type": "stream",
     "text": [
      "yes no\n",
      "yes yes\n"
     ]
    },
    {
     "name": "stderr",
     "output_type": "stream",
     "text": [
      " 49%|████▊     | 1724/3538 [03:17<03:37,  8.36it/s]"
     ]
    },
    {
     "name": "stdout",
     "output_type": "stream",
     "text": [
      "yes no\n",
      "yes no\n"
     ]
    },
    {
     "name": "stderr",
     "output_type": "stream",
     "text": [
      " 49%|████▉     | 1727/3538 [03:17<03:18,  9.12it/s]"
     ]
    },
    {
     "name": "stdout",
     "output_type": "stream",
     "text": [
      "yes no\n",
      "yes yes\n",
      "yes no\n"
     ]
    },
    {
     "name": "stderr",
     "output_type": "stream",
     "text": [
      " 49%|████▉     | 1729/3538 [03:17<03:05,  9.77it/s]"
     ]
    },
    {
     "name": "stdout",
     "output_type": "stream",
     "text": [
      "yes yes\n",
      "yes no\n"
     ]
    },
    {
     "name": "stderr",
     "output_type": "stream",
     "text": [
      " 49%|████▉     | 1732/3538 [03:17<03:05,  9.74it/s]"
     ]
    },
    {
     "name": "stdout",
     "output_type": "stream",
     "text": [
      "yes no\n",
      "yes no\n",
      "yes no\n"
     ]
    },
    {
     "name": "stderr",
     "output_type": "stream",
     "text": [
      " 49%|████▉     | 1735/3538 [03:18<02:56, 10.24it/s]"
     ]
    },
    {
     "name": "stdout",
     "output_type": "stream",
     "text": [
      "yes no\n",
      "yes yes\n",
      "yes yes\n"
     ]
    },
    {
     "name": "stderr",
     "output_type": "stream",
     "text": [
      " 49%|████▉     | 1737/3538 [03:18<02:55, 10.24it/s]"
     ]
    },
    {
     "name": "stdout",
     "output_type": "stream",
     "text": [
      "yes yes\n",
      "yes no\n"
     ]
    },
    {
     "name": "stderr",
     "output_type": "stream",
     "text": [
      " 49%|████▉     | 1739/3538 [03:18<02:55, 10.28it/s]"
     ]
    },
    {
     "name": "stdout",
     "output_type": "stream",
     "text": [
      "yes yes\n",
      "yes no\n"
     ]
    },
    {
     "name": "stderr",
     "output_type": "stream",
     "text": [
      " 49%|████▉     | 1741/3538 [03:18<02:54, 10.29it/s]"
     ]
    },
    {
     "name": "stdout",
     "output_type": "stream",
     "text": [
      "yes yes\n",
      "yes no\n",
      "yes no\n"
     ]
    },
    {
     "name": "stderr",
     "output_type": "stream",
     "text": [
      " 49%|████▉     | 1744/3538 [03:19<03:08,  9.50it/s]"
     ]
    },
    {
     "name": "stdout",
     "output_type": "stream",
     "text": [
      "yes yes\n",
      "yes yes\n"
     ]
    },
    {
     "name": "stderr",
     "output_type": "stream",
     "text": [
      " 49%|████▉     | 1747/3538 [03:19<03:09,  9.46it/s]"
     ]
    },
    {
     "name": "stdout",
     "output_type": "stream",
     "text": [
      "yes no\n",
      "yes no\n",
      "yes yes\n"
     ]
    },
    {
     "name": "stderr",
     "output_type": "stream",
     "text": [
      " 49%|████▉     | 1749/3538 [03:19<03:01,  9.88it/s]"
     ]
    },
    {
     "name": "stdout",
     "output_type": "stream",
     "text": [
      "yes no\n",
      "yes no\n"
     ]
    },
    {
     "name": "stderr",
     "output_type": "stream",
     "text": [
      " 49%|████▉     | 1751/3538 [03:19<03:11,  9.33it/s]"
     ]
    },
    {
     "name": "stdout",
     "output_type": "stream",
     "text": [
      "yes yes\n",
      "yes no\n",
      "yes no\n"
     ]
    },
    {
     "name": "stderr",
     "output_type": "stream",
     "text": [
      " 50%|████▉     | 1755/3538 [03:20<02:56, 10.11it/s]"
     ]
    },
    {
     "name": "stdout",
     "output_type": "stream",
     "text": [
      "yes no\n",
      "yes no\n",
      "yes no\n"
     ]
    },
    {
     "name": "stderr",
     "output_type": "stream",
     "text": [
      " 50%|████▉     | 1758/3538 [03:20<02:59,  9.91it/s]"
     ]
    },
    {
     "name": "stdout",
     "output_type": "stream",
     "text": [
      "yes no\n",
      "yes yes\n",
      "yes no\n"
     ]
    },
    {
     "name": "stderr",
     "output_type": "stream",
     "text": [
      " 50%|████▉     | 1760/3538 [03:20<03:16,  9.05it/s]"
     ]
    },
    {
     "name": "stdout",
     "output_type": "stream",
     "text": [
      "yes no\n",
      "yes no\n"
     ]
    },
    {
     "name": "stderr",
     "output_type": "stream",
     "text": [
      " 50%|████▉     | 1763/3538 [03:21<02:59,  9.86it/s]"
     ]
    },
    {
     "name": "stdout",
     "output_type": "stream",
     "text": [
      "yes yes\n",
      "yes yes\n",
      "yes yes\n"
     ]
    },
    {
     "name": "stderr",
     "output_type": "stream",
     "text": [
      " 50%|████▉     | 1766/3538 [03:21<02:56, 10.02it/s]"
     ]
    },
    {
     "name": "stdout",
     "output_type": "stream",
     "text": [
      "yes no\n",
      "yes yes\n",
      "yes yes\n"
     ]
    },
    {
     "name": "stderr",
     "output_type": "stream",
     "text": [
      " 50%|████▉     | 1768/3538 [03:21<03:05,  9.55it/s]"
     ]
    },
    {
     "name": "stdout",
     "output_type": "stream",
     "text": [
      "yes no\n",
      "yes yes\n",
      "yes no\n"
     ]
    },
    {
     "name": "stderr",
     "output_type": "stream",
     "text": [
      " 50%|█████     | 1772/3538 [03:21<02:38, 11.15it/s]"
     ]
    },
    {
     "name": "stdout",
     "output_type": "stream",
     "text": [
      "yes no\n",
      "yes no\n",
      "yes no\n"
     ]
    },
    {
     "name": "stderr",
     "output_type": "stream",
     "text": [
      " 50%|█████     | 1774/3538 [03:22<02:40, 11.00it/s]"
     ]
    },
    {
     "name": "stdout",
     "output_type": "stream",
     "text": [
      "yes no\n",
      "yes no\n"
     ]
    },
    {
     "name": "stderr",
     "output_type": "stream",
     "text": [
      " 50%|█████     | 1776/3538 [03:22<03:08,  9.36it/s]"
     ]
    },
    {
     "name": "stdout",
     "output_type": "stream",
     "text": [
      "yes no\n",
      "yes yes\n"
     ]
    },
    {
     "name": "stderr",
     "output_type": "stream",
     "text": [
      " 50%|█████     | 1778/3538 [03:22<03:10,  9.23it/s]"
     ]
    },
    {
     "name": "stdout",
     "output_type": "stream",
     "text": [
      "yes yes\n",
      "yes yes\n"
     ]
    },
    {
     "name": "stderr",
     "output_type": "stream",
     "text": [
      " 50%|█████     | 1780/3538 [03:22<03:18,  8.85it/s]"
     ]
    },
    {
     "name": "stdout",
     "output_type": "stream",
     "text": [
      "yes no\n",
      "yes yes\n",
      "yes no\n"
     ]
    },
    {
     "name": "stderr",
     "output_type": "stream",
     "text": [
      " 50%|█████     | 1783/3538 [03:23<03:21,  8.70it/s]"
     ]
    },
    {
     "name": "stdout",
     "output_type": "stream",
     "text": [
      "yes no\n",
      "yes no\n"
     ]
    },
    {
     "name": "stderr",
     "output_type": "stream",
     "text": [
      " 50%|█████     | 1785/3538 [03:23<03:06,  9.41it/s]"
     ]
    },
    {
     "name": "stdout",
     "output_type": "stream",
     "text": [
      "yes no\n",
      "yes no\n",
      "yes yes\n"
     ]
    },
    {
     "name": "stderr",
     "output_type": "stream",
     "text": [
      " 51%|█████     | 1787/3538 [03:23<02:58,  9.84it/s]"
     ]
    },
    {
     "name": "stdout",
     "output_type": "stream",
     "text": [
      "yes yes\n",
      "yes yes\n"
     ]
    },
    {
     "name": "stderr",
     "output_type": "stream",
     "text": [
      " 51%|█████     | 1791/3538 [03:23<03:02,  9.56it/s]"
     ]
    },
    {
     "name": "stdout",
     "output_type": "stream",
     "text": [
      "yes no\n",
      "yes no\n",
      "yes no\n"
     ]
    },
    {
     "name": "stderr",
     "output_type": "stream",
     "text": [
      " 51%|█████     | 1793/3538 [03:24<02:54, 10.00it/s]"
     ]
    },
    {
     "name": "stdout",
     "output_type": "stream",
     "text": [
      "yes no\n",
      "yes yes\n",
      "yes yes\n"
     ]
    },
    {
     "name": "stderr",
     "output_type": "stream",
     "text": [
      " 51%|█████     | 1795/3538 [03:24<02:44, 10.57it/s]"
     ]
    },
    {
     "name": "stdout",
     "output_type": "stream",
     "text": [
      "yes yes\n",
      "yes no\n"
     ]
    },
    {
     "name": "stderr",
     "output_type": "stream",
     "text": [
      " 51%|█████     | 1799/3538 [03:24<02:44, 10.55it/s]"
     ]
    },
    {
     "name": "stdout",
     "output_type": "stream",
     "text": [
      "yes yes\n",
      "yes no\n",
      "yes no\n"
     ]
    },
    {
     "name": "stderr",
     "output_type": "stream",
     "text": [
      " 51%|█████     | 1801/3538 [03:24<02:54,  9.97it/s]"
     ]
    },
    {
     "name": "stdout",
     "output_type": "stream",
     "text": [
      "yes no\n",
      "yes no\n"
     ]
    },
    {
     "name": "stderr",
     "output_type": "stream",
     "text": [
      " 51%|█████     | 1803/3538 [03:25<02:57,  9.78it/s]"
     ]
    },
    {
     "name": "stdout",
     "output_type": "stream",
     "text": [
      "yes no\n",
      "yes no\n",
      "yes no\n"
     ]
    },
    {
     "name": "stderr",
     "output_type": "stream",
     "text": [
      " 51%|█████     | 1805/3538 [03:25<02:51, 10.09it/s]"
     ]
    },
    {
     "name": "stdout",
     "output_type": "stream",
     "text": [
      "yes no\n",
      "yes yes\n"
     ]
    },
    {
     "name": "stderr",
     "output_type": "stream",
     "text": [
      " 51%|█████     | 1807/3538 [03:25<03:05,  9.31it/s]"
     ]
    },
    {
     "name": "stdout",
     "output_type": "stream",
     "text": [
      "yes no\n",
      "yes yes\n"
     ]
    },
    {
     "name": "stderr",
     "output_type": "stream",
     "text": [
      " 51%|█████     | 1810/3538 [03:25<03:19,  8.65it/s]"
     ]
    },
    {
     "name": "stdout",
     "output_type": "stream",
     "text": [
      "yes no\n",
      "yes no\n"
     ]
    },
    {
     "name": "stderr",
     "output_type": "stream",
     "text": [
      " 51%|█████     | 1812/3538 [03:26<03:25,  8.41it/s]"
     ]
    },
    {
     "name": "stdout",
     "output_type": "stream",
     "text": [
      "yes no\n",
      "yes no\n",
      "yes no\n"
     ]
    },
    {
     "name": "stderr",
     "output_type": "stream",
     "text": [
      " 51%|█████▏    | 1815/3538 [03:26<03:08,  9.13it/s]"
     ]
    },
    {
     "name": "stdout",
     "output_type": "stream",
     "text": [
      "yes no\n",
      "yes yes\n"
     ]
    },
    {
     "name": "stderr",
     "output_type": "stream",
     "text": [
      " 51%|█████▏    | 1818/3538 [03:26<02:55,  9.78it/s]"
     ]
    },
    {
     "name": "stdout",
     "output_type": "stream",
     "text": [
      "yes no\n",
      "yes no\n",
      "yes yes\n"
     ]
    },
    {
     "name": "stderr",
     "output_type": "stream",
     "text": [
      " 51%|█████▏    | 1820/3538 [03:27<02:52,  9.96it/s]"
     ]
    },
    {
     "name": "stdout",
     "output_type": "stream",
     "text": [
      "yes no\n",
      "yes no\n",
      "yes no\n"
     ]
    },
    {
     "name": "stderr",
     "output_type": "stream",
     "text": [
      " 52%|█████▏    | 1823/3538 [03:27<02:55,  9.79it/s]"
     ]
    },
    {
     "name": "stdout",
     "output_type": "stream",
     "text": [
      "yes yes\n",
      "yes no\n"
     ]
    },
    {
     "name": "stderr",
     "output_type": "stream",
     "text": [
      " 52%|█████▏    | 1826/3538 [03:27<02:48, 10.16it/s]"
     ]
    },
    {
     "name": "stdout",
     "output_type": "stream",
     "text": [
      "yes no\n",
      "yes no\n",
      "yes no\n"
     ]
    },
    {
     "name": "stderr",
     "output_type": "stream",
     "text": [
      " 52%|█████▏    | 1828/3538 [03:27<02:45, 10.36it/s]"
     ]
    },
    {
     "name": "stdout",
     "output_type": "stream",
     "text": [
      "yes no\n",
      "yes no\n"
     ]
    },
    {
     "name": "stderr",
     "output_type": "stream",
     "text": [
      " 52%|█████▏    | 1830/3538 [03:28<03:02,  9.37it/s]"
     ]
    },
    {
     "name": "stdout",
     "output_type": "stream",
     "text": [
      "yes yes\n",
      "yes no\n"
     ]
    },
    {
     "name": "stderr",
     "output_type": "stream",
     "text": [
      " 52%|█████▏    | 1832/3538 [03:28<02:57,  9.59it/s]"
     ]
    },
    {
     "name": "stdout",
     "output_type": "stream",
     "text": [
      "yes no\n",
      "yes yes\n",
      "yes no\n"
     ]
    },
    {
     "name": "stderr",
     "output_type": "stream",
     "text": [
      " 52%|█████▏    | 1835/3538 [03:28<03:01,  9.36it/s]"
     ]
    },
    {
     "name": "stdout",
     "output_type": "stream",
     "text": [
      "yes no\n",
      "yes no\n"
     ]
    },
    {
     "name": "stderr",
     "output_type": "stream",
     "text": [
      " 52%|█████▏    | 1838/3538 [03:28<02:52,  9.84it/s]"
     ]
    },
    {
     "name": "stdout",
     "output_type": "stream",
     "text": [
      "yes no\n",
      "yes yes\n",
      "yes no\n"
     ]
    },
    {
     "name": "stderr",
     "output_type": "stream",
     "text": [
      " 52%|█████▏    | 1840/3538 [03:29<03:00,  9.42it/s]"
     ]
    },
    {
     "name": "stdout",
     "output_type": "stream",
     "text": [
      "yes yes\n",
      "yes yes\n",
      "yes no\n"
     ]
    },
    {
     "name": "stderr",
     "output_type": "stream",
     "text": [
      " 52%|█████▏    | 1843/3538 [03:29<02:55,  9.64it/s]"
     ]
    },
    {
     "name": "stdout",
     "output_type": "stream",
     "text": [
      "yes no\n",
      "yes no\n"
     ]
    },
    {
     "name": "stderr",
     "output_type": "stream",
     "text": [
      " 52%|█████▏    | 1845/3538 [03:29<03:11,  8.83it/s]"
     ]
    },
    {
     "name": "stdout",
     "output_type": "stream",
     "text": [
      "yes no\n",
      "yes no\n"
     ]
    },
    {
     "name": "stderr",
     "output_type": "stream",
     "text": [
      " 52%|█████▏    | 1847/3538 [03:29<03:10,  8.88it/s]"
     ]
    },
    {
     "name": "stdout",
     "output_type": "stream",
     "text": [
      "yes yes\n",
      "yes yes\n"
     ]
    },
    {
     "name": "stderr",
     "output_type": "stream",
     "text": [
      " 52%|█████▏    | 1849/3538 [03:30<02:59,  9.39it/s]"
     ]
    },
    {
     "name": "stdout",
     "output_type": "stream",
     "text": [
      "yes yes\n",
      "yes yes\n"
     ]
    },
    {
     "name": "stderr",
     "output_type": "stream",
     "text": [
      " 52%|█████▏    | 1851/3538 [03:30<03:17,  8.53it/s]"
     ]
    },
    {
     "name": "stdout",
     "output_type": "stream",
     "text": [
      "yes yes\n",
      "yes no\n"
     ]
    },
    {
     "name": "stderr",
     "output_type": "stream",
     "text": [
      " 52%|█████▏    | 1854/3538 [03:30<03:09,  8.88it/s]"
     ]
    },
    {
     "name": "stdout",
     "output_type": "stream",
     "text": [
      "yes no\n",
      "yes yes\n",
      "yes yes\n"
     ]
    },
    {
     "name": "stderr",
     "output_type": "stream",
     "text": [
      " 52%|█████▏    | 1857/3538 [03:30<02:45, 10.13it/s]"
     ]
    },
    {
     "name": "stdout",
     "output_type": "stream",
     "text": [
      "yes no\n",
      "yes no\n",
      "yes no\n"
     ]
    },
    {
     "name": "stderr",
     "output_type": "stream",
     "text": [
      " 53%|█████▎    | 1860/3538 [03:31<02:31, 11.08it/s]"
     ]
    },
    {
     "name": "stdout",
     "output_type": "stream",
     "text": [
      "yes yes\n",
      "yes no\n",
      "yes no\n"
     ]
    },
    {
     "name": "stderr",
     "output_type": "stream",
     "text": [
      " 53%|█████▎    | 1862/3538 [03:31<02:26, 11.48it/s]"
     ]
    },
    {
     "name": "stdout",
     "output_type": "stream",
     "text": [
      "yes no\n",
      "yes yes\n",
      "yes no\n"
     ]
    },
    {
     "name": "stderr",
     "output_type": "stream",
     "text": [
      " 53%|█████▎    | 1866/3538 [03:31<02:28, 11.23it/s]"
     ]
    },
    {
     "name": "stdout",
     "output_type": "stream",
     "text": [
      "yes no\n",
      "yes yes\n",
      "yes no\n"
     ]
    },
    {
     "name": "stderr",
     "output_type": "stream",
     "text": [
      " 53%|█████▎    | 1868/3538 [03:31<02:28, 11.23it/s]"
     ]
    },
    {
     "name": "stdout",
     "output_type": "stream",
     "text": [
      "yes no\n",
      "yes no\n",
      "yes no\n"
     ]
    },
    {
     "name": "stderr",
     "output_type": "stream",
     "text": [
      " 53%|█████▎    | 1872/3538 [03:32<02:26, 11.36it/s]"
     ]
    },
    {
     "name": "stdout",
     "output_type": "stream",
     "text": [
      "yes no\n",
      "yes yes\n",
      "yes no\n"
     ]
    },
    {
     "name": "stderr",
     "output_type": "stream",
     "text": [
      " 53%|█████▎    | 1874/3538 [03:32<02:23, 11.57it/s]"
     ]
    },
    {
     "name": "stdout",
     "output_type": "stream",
     "text": [
      "yes no\n",
      "yes yes\n"
     ]
    },
    {
     "name": "stderr",
     "output_type": "stream",
     "text": [
      " 53%|█████▎    | 1876/3538 [03:32<02:45, 10.01it/s]"
     ]
    },
    {
     "name": "stdout",
     "output_type": "stream",
     "text": [
      "yes yes\n",
      "yes no\n"
     ]
    },
    {
     "name": "stderr",
     "output_type": "stream",
     "text": [
      " 53%|█████▎    | 1878/3538 [03:32<02:48,  9.83it/s]"
     ]
    },
    {
     "name": "stdout",
     "output_type": "stream",
     "text": [
      "yes no\n",
      "yes no\n"
     ]
    },
    {
     "name": "stderr",
     "output_type": "stream",
     "text": [
      " 53%|█████▎    | 1880/3538 [03:33<02:48,  9.86it/s]"
     ]
    },
    {
     "name": "stdout",
     "output_type": "stream",
     "text": [
      "yes no\n",
      "yes no\n",
      "yes no\n"
     ]
    },
    {
     "name": "stderr",
     "output_type": "stream",
     "text": [
      " 53%|█████▎    | 1882/3538 [03:33<02:32, 10.83it/s]"
     ]
    },
    {
     "name": "stdout",
     "output_type": "stream",
     "text": [
      "yes no\n",
      "yes no\n",
      "yes no\n"
     ]
    },
    {
     "name": "stderr",
     "output_type": "stream",
     "text": [
      " 53%|█████▎    | 1886/3538 [03:33<02:31, 10.90it/s]"
     ]
    },
    {
     "name": "stdout",
     "output_type": "stream",
     "text": [
      "yes no\n",
      "yes yes\n",
      "yes no\n"
     ]
    },
    {
     "name": "stderr",
     "output_type": "stream",
     "text": [
      " 53%|█████▎    | 1890/3538 [03:34<02:40, 10.26it/s]"
     ]
    },
    {
     "name": "stdout",
     "output_type": "stream",
     "text": [
      "yes no\n",
      "yes no\n",
      "yes no\n"
     ]
    },
    {
     "name": "stderr",
     "output_type": "stream",
     "text": [
      " 53%|█████▎    | 1892/3538 [03:34<02:29, 11.01it/s]"
     ]
    },
    {
     "name": "stdout",
     "output_type": "stream",
     "text": [
      "yes yes\n",
      "yes yes\n",
      "yes no\n"
     ]
    },
    {
     "name": "stderr",
     "output_type": "stream",
     "text": [
      " 54%|█████▎    | 1896/3538 [03:34<02:34, 10.61it/s]"
     ]
    },
    {
     "name": "stdout",
     "output_type": "stream",
     "text": [
      "yes yes\n",
      "yes yes\n",
      "yes no\n"
     ]
    },
    {
     "name": "stderr",
     "output_type": "stream",
     "text": [
      " 54%|█████▎    | 1898/3538 [03:34<02:34, 10.65it/s]"
     ]
    },
    {
     "name": "stdout",
     "output_type": "stream",
     "text": [
      "yes no\n",
      "yes no\n",
      "yes no\n"
     ]
    },
    {
     "name": "stderr",
     "output_type": "stream",
     "text": [
      " 54%|█████▍    | 1902/3538 [03:35<02:24, 11.36it/s]"
     ]
    },
    {
     "name": "stdout",
     "output_type": "stream",
     "text": [
      "yes no\n",
      "yes yes\n",
      "yes no\n"
     ]
    },
    {
     "name": "stderr",
     "output_type": "stream",
     "text": [
      " 54%|█████▍    | 1904/3538 [03:35<02:24, 11.33it/s]"
     ]
    },
    {
     "name": "stdout",
     "output_type": "stream",
     "text": [
      "yes no\n",
      "yes yes\n"
     ]
    },
    {
     "name": "stderr",
     "output_type": "stream",
     "text": [
      " 54%|█████▍    | 1906/3538 [03:35<02:32, 10.68it/s]"
     ]
    },
    {
     "name": "stdout",
     "output_type": "stream",
     "text": [
      "yes no\n",
      "yes yes\n"
     ]
    },
    {
     "name": "stderr",
     "output_type": "stream",
     "text": [
      " 54%|█████▍    | 1908/3538 [03:35<02:32, 10.69it/s]"
     ]
    },
    {
     "name": "stdout",
     "output_type": "stream",
     "text": [
      "yes no\n",
      "yes no\n",
      "yes yes\n"
     ]
    },
    {
     "name": "stderr",
     "output_type": "stream",
     "text": [
      " 54%|█████▍    | 1910/3538 [03:35<02:26, 11.10it/s]"
     ]
    },
    {
     "name": "stdout",
     "output_type": "stream",
     "text": [
      "yes no\n",
      "yes no\n"
     ]
    },
    {
     "name": "stderr",
     "output_type": "stream",
     "text": [
      " 54%|█████▍    | 1914/3538 [03:36<02:35, 10.45it/s]"
     ]
    },
    {
     "name": "stdout",
     "output_type": "stream",
     "text": [
      "yes no\n",
      "yes no\n",
      "yes no\n"
     ]
    },
    {
     "name": "stderr",
     "output_type": "stream",
     "text": [
      " 54%|█████▍    | 1916/3538 [03:36<02:42,  9.96it/s]"
     ]
    },
    {
     "name": "stdout",
     "output_type": "stream",
     "text": [
      "yes yes\n",
      "yes no\n",
      "yes no\n"
     ]
    },
    {
     "name": "stderr",
     "output_type": "stream",
     "text": [
      " 54%|█████▍    | 1920/3538 [03:36<02:35, 10.40it/s]"
     ]
    },
    {
     "name": "stdout",
     "output_type": "stream",
     "text": [
      "yes no\n",
      "yes no\n",
      "yes no\n"
     ]
    },
    {
     "name": "stderr",
     "output_type": "stream",
     "text": [
      " 54%|█████▍    | 1922/3538 [03:37<02:31, 10.67it/s]"
     ]
    },
    {
     "name": "stdout",
     "output_type": "stream",
     "text": [
      "yes no\n",
      "yes yes\n"
     ]
    },
    {
     "name": "stderr",
     "output_type": "stream",
     "text": [
      " 54%|█████▍    | 1924/3538 [03:37<02:51,  9.40it/s]"
     ]
    },
    {
     "name": "stdout",
     "output_type": "stream",
     "text": [
      "yes no\n",
      "yes no\n"
     ]
    },
    {
     "name": "stderr",
     "output_type": "stream",
     "text": [
      " 54%|█████▍    | 1926/3538 [03:37<03:02,  8.84it/s]"
     ]
    },
    {
     "name": "stdout",
     "output_type": "stream",
     "text": [
      "yes no\n",
      "yes no\n"
     ]
    },
    {
     "name": "stderr",
     "output_type": "stream",
     "text": [
      " 54%|█████▍    | 1928/3538 [03:37<03:06,  8.63it/s]"
     ]
    },
    {
     "name": "stdout",
     "output_type": "stream",
     "text": [
      "yes no\n",
      "yes no\n"
     ]
    },
    {
     "name": "stderr",
     "output_type": "stream",
     "text": [
      " 55%|█████▍    | 1931/3538 [03:38<02:57,  9.07it/s]"
     ]
    },
    {
     "name": "stdout",
     "output_type": "stream",
     "text": [
      "yes no\n",
      "yes no\n",
      "yes no\n"
     ]
    },
    {
     "name": "stderr",
     "output_type": "stream",
     "text": [
      " 55%|█████▍    | 1933/3538 [03:38<02:51,  9.34it/s]"
     ]
    },
    {
     "name": "stdout",
     "output_type": "stream",
     "text": [
      "yes no\n",
      "yes no\n",
      "yes no\n"
     ]
    },
    {
     "name": "stderr",
     "output_type": "stream",
     "text": [
      " 55%|█████▍    | 1936/3538 [03:38<02:54,  9.16it/s]"
     ]
    },
    {
     "name": "stdout",
     "output_type": "stream",
     "text": [
      "yes no\n",
      "yes yes\n"
     ]
    },
    {
     "name": "stderr",
     "output_type": "stream",
     "text": [
      " 55%|█████▍    | 1938/3538 [03:38<02:51,  9.35it/s]"
     ]
    },
    {
     "name": "stdout",
     "output_type": "stream",
     "text": [
      "yes yes\n",
      "yes yes\n",
      "yes no\n"
     ]
    },
    {
     "name": "stderr",
     "output_type": "stream",
     "text": [
      " 55%|█████▍    | 1940/3538 [03:39<02:56,  9.07it/s]"
     ]
    },
    {
     "name": "stdout",
     "output_type": "stream",
     "text": [
      "yes no\n",
      "yes no\n"
     ]
    },
    {
     "name": "stderr",
     "output_type": "stream",
     "text": [
      " 55%|█████▍    | 1943/3538 [03:39<02:54,  9.14it/s]"
     ]
    },
    {
     "name": "stdout",
     "output_type": "stream",
     "text": [
      "yes no\n",
      "yes no\n"
     ]
    },
    {
     "name": "stderr",
     "output_type": "stream",
     "text": [
      " 55%|█████▍    | 1945/3538 [03:39<03:02,  8.74it/s]"
     ]
    },
    {
     "name": "stdout",
     "output_type": "stream",
     "text": [
      "yes no\n",
      "yes no\n",
      "yes yes\n"
     ]
    },
    {
     "name": "stderr",
     "output_type": "stream",
     "text": [
      " 55%|█████▌    | 1948/3538 [03:39<02:48,  9.42it/s]"
     ]
    },
    {
     "name": "stdout",
     "output_type": "stream",
     "text": [
      "yes no\n",
      "yes yes\n",
      "yes no\n"
     ]
    },
    {
     "name": "stderr",
     "output_type": "stream",
     "text": [
      " 55%|█████▌    | 1951/3538 [03:40<02:40,  9.86it/s]"
     ]
    },
    {
     "name": "stdout",
     "output_type": "stream",
     "text": [
      "yes yes\n",
      "yes yes\n"
     ]
    },
    {
     "name": "stderr",
     "output_type": "stream",
     "text": [
      " 55%|█████▌    | 1953/3538 [03:40<02:41,  9.79it/s]"
     ]
    },
    {
     "name": "stdout",
     "output_type": "stream",
     "text": [
      "yes yes\n",
      "yes no\n"
     ]
    },
    {
     "name": "stderr",
     "output_type": "stream",
     "text": [
      " 55%|█████▌    | 1955/3538 [03:40<02:54,  9.06it/s]"
     ]
    },
    {
     "name": "stdout",
     "output_type": "stream",
     "text": [
      "yes yes\n",
      "yes no\n",
      "yes no\n"
     ]
    },
    {
     "name": "stderr",
     "output_type": "stream",
     "text": [
      " 55%|█████▌    | 1959/3538 [03:41<02:27, 10.73it/s]"
     ]
    },
    {
     "name": "stdout",
     "output_type": "stream",
     "text": [
      "yes no\n",
      "yes no\n",
      "yes no\n"
     ]
    },
    {
     "name": "stderr",
     "output_type": "stream",
     "text": [
      " 55%|█████▌    | 1961/3538 [03:41<02:20, 11.20it/s]"
     ]
    },
    {
     "name": "stdout",
     "output_type": "stream",
     "text": [
      "yes no\n",
      "yes yes\n",
      "yes yes\n"
     ]
    },
    {
     "name": "stderr",
     "output_type": "stream",
     "text": [
      " 55%|█████▌    | 1963/3538 [03:41<02:28, 10.59it/s]"
     ]
    },
    {
     "name": "stdout",
     "output_type": "stream",
     "text": [
      "yes no\n",
      "yes no\n"
     ]
    },
    {
     "name": "stderr",
     "output_type": "stream",
     "text": [
      " 56%|█████▌    | 1965/3538 [03:41<02:38,  9.91it/s]"
     ]
    },
    {
     "name": "stdout",
     "output_type": "stream",
     "text": [
      "yes no\n",
      "yes yes\n"
     ]
    },
    {
     "name": "stderr",
     "output_type": "stream",
     "text": [
      " 56%|█████▌    | 1968/3538 [03:42<02:59,  8.76it/s]"
     ]
    },
    {
     "name": "stdout",
     "output_type": "stream",
     "text": [
      "yes no\n",
      "yes no\n"
     ]
    },
    {
     "name": "stderr",
     "output_type": "stream",
     "text": [
      " 56%|█████▌    | 1970/3538 [03:42<03:17,  7.92it/s]"
     ]
    },
    {
     "name": "stdout",
     "output_type": "stream",
     "text": [
      "yes no\n",
      "yes yes\n"
     ]
    },
    {
     "name": "stderr",
     "output_type": "stream",
     "text": [
      " 56%|█████▌    | 1973/3538 [03:42<02:52,  9.05it/s]"
     ]
    },
    {
     "name": "stdout",
     "output_type": "stream",
     "text": [
      "yes yes\n",
      "yes no\n",
      "yes no\n"
     ]
    },
    {
     "name": "stderr",
     "output_type": "stream",
     "text": [
      " 56%|█████▌    | 1975/3538 [03:42<03:27,  7.52it/s]"
     ]
    },
    {
     "name": "stdout",
     "output_type": "stream",
     "text": [
      "yes no\n",
      "yes no\n"
     ]
    },
    {
     "name": "stderr",
     "output_type": "stream",
     "text": [
      " 56%|█████▌    | 1977/3538 [03:43<03:23,  7.66it/s]"
     ]
    },
    {
     "name": "stdout",
     "output_type": "stream",
     "text": [
      "yes no\n",
      "yes no\n"
     ]
    },
    {
     "name": "stderr",
     "output_type": "stream",
     "text": [
      " 56%|█████▌    | 1979/3538 [03:43<03:21,  7.76it/s]"
     ]
    },
    {
     "name": "stdout",
     "output_type": "stream",
     "text": [
      "yes yes\n",
      "yes yes\n"
     ]
    },
    {
     "name": "stderr",
     "output_type": "stream",
     "text": [
      " 56%|█████▌    | 1981/3538 [03:43<03:35,  7.21it/s]"
     ]
    },
    {
     "name": "stdout",
     "output_type": "stream",
     "text": [
      "yes yes\n",
      "yes no\n"
     ]
    },
    {
     "name": "stderr",
     "output_type": "stream",
     "text": [
      " 56%|█████▌    | 1983/3538 [03:43<03:08,  8.26it/s]"
     ]
    },
    {
     "name": "stdout",
     "output_type": "stream",
     "text": [
      "yes yes\n",
      "yes yes\n"
     ]
    },
    {
     "name": "stderr",
     "output_type": "stream",
     "text": [
      " 56%|█████▌    | 1985/3538 [03:44<03:32,  7.32it/s]"
     ]
    },
    {
     "name": "stdout",
     "output_type": "stream",
     "text": [
      "yes no\n",
      "yes no\n"
     ]
    },
    {
     "name": "stderr",
     "output_type": "stream",
     "text": [
      " 56%|█████▌    | 1986/3538 [03:44<03:33,  7.25it/s]"
     ]
    },
    {
     "name": "stdout",
     "output_type": "stream",
     "text": [
      "yes yes\n",
      "yes yes\n"
     ]
    },
    {
     "name": "stderr",
     "output_type": "stream",
     "text": [
      " 56%|█████▌    | 1989/3538 [03:44<03:19,  7.75it/s]"
     ]
    },
    {
     "name": "stdout",
     "output_type": "stream",
     "text": [
      "yes no\n",
      "yes no\n"
     ]
    },
    {
     "name": "stderr",
     "output_type": "stream",
     "text": [
      " 56%|█████▌    | 1990/3538 [03:44<03:27,  7.46it/s]"
     ]
    },
    {
     "name": "stdout",
     "output_type": "stream",
     "text": [
      "yes no\n",
      "yes yes\n",
      "yes no\n"
     ]
    },
    {
     "name": "stderr",
     "output_type": "stream",
     "text": [
      " 56%|█████▋    | 1994/3538 [03:45<03:06,  8.30it/s]"
     ]
    },
    {
     "name": "stdout",
     "output_type": "stream",
     "text": [
      "yes yes\n",
      "yes no\n"
     ]
    },
    {
     "name": "stderr",
     "output_type": "stream",
     "text": [
      " 56%|█████▋    | 1996/3538 [03:45<03:12,  8.03it/s]"
     ]
    },
    {
     "name": "stdout",
     "output_type": "stream",
     "text": [
      "yes yes\n",
      "yes yes\n"
     ]
    },
    {
     "name": "stderr",
     "output_type": "stream",
     "text": [
      " 56%|█████▋    | 1998/3538 [03:45<03:09,  8.12it/s]"
     ]
    },
    {
     "name": "stdout",
     "output_type": "stream",
     "text": [
      "yes no\n",
      "yes no\n"
     ]
    },
    {
     "name": "stderr",
     "output_type": "stream",
     "text": [
      " 57%|█████▋    | 2000/3538 [03:46<03:21,  7.64it/s]"
     ]
    },
    {
     "name": "stdout",
     "output_type": "stream",
     "text": [
      "yes yes\n",
      "yes yes\n"
     ]
    },
    {
     "name": "stderr",
     "output_type": "stream",
     "text": [
      " 57%|█████▋    | 2002/3538 [03:46<03:39,  6.99it/s]"
     ]
    },
    {
     "name": "stdout",
     "output_type": "stream",
     "text": [
      "yes no\n",
      "yes no\n"
     ]
    },
    {
     "name": "stderr",
     "output_type": "stream",
     "text": [
      " 57%|█████▋    | 2004/3538 [03:46<03:27,  7.38it/s]"
     ]
    },
    {
     "name": "stdout",
     "output_type": "stream",
     "text": [
      "yes no\n",
      "yes yes\n"
     ]
    },
    {
     "name": "stderr",
     "output_type": "stream",
     "text": [
      " 57%|█████▋    | 2006/3538 [03:46<03:16,  7.79it/s]"
     ]
    },
    {
     "name": "stdout",
     "output_type": "stream",
     "text": [
      "yes no\n",
      "yes yes\n"
     ]
    },
    {
     "name": "stderr",
     "output_type": "stream",
     "text": [
      " 57%|█████▋    | 2008/3538 [03:47<03:44,  6.82it/s]"
     ]
    },
    {
     "name": "stdout",
     "output_type": "stream",
     "text": [
      "yes no\n",
      "yes no\n"
     ]
    },
    {
     "name": "stderr",
     "output_type": "stream",
     "text": [
      " 57%|█████▋    | 2011/3538 [03:47<02:50,  8.95it/s]"
     ]
    },
    {
     "name": "stdout",
     "output_type": "stream",
     "text": [
      "yes no\n",
      "yes yes\n",
      "yes no\n"
     ]
    },
    {
     "name": "stderr",
     "output_type": "stream",
     "text": [
      " 57%|█████▋    | 2013/3538 [03:47<02:35,  9.79it/s]"
     ]
    },
    {
     "name": "stdout",
     "output_type": "stream",
     "text": [
      "yes no\n",
      "yes no\n",
      "yes no\n"
     ]
    },
    {
     "name": "stderr",
     "output_type": "stream",
     "text": [
      " 57%|█████▋    | 2016/3538 [03:48<02:45,  9.17it/s]"
     ]
    },
    {
     "name": "stdout",
     "output_type": "stream",
     "text": [
      "yes yes\n",
      "yes no\n"
     ]
    },
    {
     "name": "stderr",
     "output_type": "stream",
     "text": [
      " 57%|█████▋    | 2018/3538 [03:48<02:54,  8.70it/s]"
     ]
    },
    {
     "name": "stdout",
     "output_type": "stream",
     "text": [
      "yes yes\n",
      "yes no\n"
     ]
    },
    {
     "name": "stderr",
     "output_type": "stream",
     "text": [
      " 57%|█████▋    | 2020/3538 [03:48<02:40,  9.43it/s]"
     ]
    },
    {
     "name": "stdout",
     "output_type": "stream",
     "text": [
      "yes no\n",
      "yes no\n"
     ]
    },
    {
     "name": "stderr",
     "output_type": "stream",
     "text": [
      " 57%|█████▋    | 2022/3538 [03:48<02:49,  8.93it/s]"
     ]
    },
    {
     "name": "stdout",
     "output_type": "stream",
     "text": [
      "yes yes\n",
      "yes yes\n"
     ]
    },
    {
     "name": "stderr",
     "output_type": "stream",
     "text": [
      " 57%|█████▋    | 2025/3538 [03:49<02:36,  9.68it/s]"
     ]
    },
    {
     "name": "stdout",
     "output_type": "stream",
     "text": [
      "yes yes\n",
      "yes yes\n",
      "yes no\n"
     ]
    },
    {
     "name": "stderr",
     "output_type": "stream",
     "text": [
      " 57%|█████▋    | 2027/3538 [03:49<02:29, 10.11it/s]"
     ]
    },
    {
     "name": "stdout",
     "output_type": "stream",
     "text": [
      "yes no\n",
      "yes no\n"
     ]
    },
    {
     "name": "stderr",
     "output_type": "stream",
     "text": [
      " 57%|█████▋    | 2030/3538 [03:49<02:25, 10.39it/s]"
     ]
    },
    {
     "name": "stdout",
     "output_type": "stream",
     "text": [
      "yes no\n",
      "yes no\n",
      "yes yes\n"
     ]
    },
    {
     "name": "stderr",
     "output_type": "stream",
     "text": [
      " 57%|█████▋    | 2032/3538 [03:49<02:15, 11.12it/s]"
     ]
    },
    {
     "name": "stdout",
     "output_type": "stream",
     "text": [
      "yes no\n",
      "yes no\n"
     ]
    },
    {
     "name": "stderr",
     "output_type": "stream",
     "text": [
      " 57%|█████▋    | 2034/3538 [03:49<02:27, 10.19it/s]"
     ]
    },
    {
     "name": "stdout",
     "output_type": "stream",
     "text": [
      "yes no\n",
      "yes yes\n",
      "yes no\n"
     ]
    },
    {
     "name": "stderr",
     "output_type": "stream",
     "text": [
      " 58%|█████▊    | 2038/3538 [03:50<02:22, 10.50it/s]"
     ]
    },
    {
     "name": "stdout",
     "output_type": "stream",
     "text": [
      "yes yes\n",
      "yes no\n",
      "yes no\n"
     ]
    },
    {
     "name": "stderr",
     "output_type": "stream",
     "text": [
      " 58%|█████▊    | 2040/3538 [03:50<02:24, 10.35it/s]"
     ]
    },
    {
     "name": "stdout",
     "output_type": "stream",
     "text": [
      "yes yes\n",
      "yes no\n",
      "yes yes\n"
     ]
    },
    {
     "name": "stderr",
     "output_type": "stream",
     "text": [
      " 58%|█████▊    | 2044/3538 [03:50<02:19, 10.70it/s]"
     ]
    },
    {
     "name": "stdout",
     "output_type": "stream",
     "text": [
      "yes no\n",
      "yes yes\n",
      "yes no\n"
     ]
    },
    {
     "name": "stderr",
     "output_type": "stream",
     "text": [
      " 58%|█████▊    | 2046/3538 [03:51<02:11, 11.32it/s]"
     ]
    },
    {
     "name": "stdout",
     "output_type": "stream",
     "text": [
      "yes no\n",
      "yes yes\n",
      "yes no\n"
     ]
    },
    {
     "name": "stderr",
     "output_type": "stream",
     "text": [
      " 58%|█████▊    | 2048/3538 [03:51<02:17, 10.84it/s]"
     ]
    },
    {
     "name": "stdout",
     "output_type": "stream",
     "text": [
      "yes no\n",
      "yes no\n"
     ]
    },
    {
     "name": "stderr",
     "output_type": "stream",
     "text": [
      " 58%|█████▊    | 2052/3538 [03:51<02:25, 10.20it/s]"
     ]
    },
    {
     "name": "stdout",
     "output_type": "stream",
     "text": [
      "yes no\n",
      "yes no\n",
      "yes no\n"
     ]
    },
    {
     "name": "stderr",
     "output_type": "stream",
     "text": [
      " 58%|█████▊    | 2055/3538 [03:52<02:34,  9.60it/s]"
     ]
    },
    {
     "name": "stdout",
     "output_type": "stream",
     "text": [
      "yes no\n",
      "yes no\n",
      "yes no\n"
     ]
    },
    {
     "name": "stderr",
     "output_type": "stream",
     "text": [
      " 58%|█████▊    | 2057/3538 [03:52<02:21, 10.50it/s]"
     ]
    },
    {
     "name": "stdout",
     "output_type": "stream",
     "text": [
      "yes no\n",
      "yes no\n",
      "yes yes\n"
     ]
    },
    {
     "name": "stderr",
     "output_type": "stream",
     "text": [
      " 58%|█████▊    | 2061/3538 [03:52<02:19, 10.56it/s]"
     ]
    },
    {
     "name": "stdout",
     "output_type": "stream",
     "text": [
      "yes yes\n",
      "yes yes\n",
      "yes no\n"
     ]
    },
    {
     "name": "stderr",
     "output_type": "stream",
     "text": [
      " 58%|█████▊    | 2063/3538 [03:52<02:18, 10.64it/s]"
     ]
    },
    {
     "name": "stdout",
     "output_type": "stream",
     "text": [
      "yes no\n",
      "yes no\n"
     ]
    },
    {
     "name": "stderr",
     "output_type": "stream",
     "text": [
      " 58%|█████▊    | 2065/3538 [03:52<02:23, 10.27it/s]"
     ]
    },
    {
     "name": "stdout",
     "output_type": "stream",
     "text": [
      "yes yes\n",
      "yes yes\n",
      "yes no\n"
     ]
    },
    {
     "name": "stderr",
     "output_type": "stream",
     "text": [
      " 58%|█████▊    | 2069/3538 [03:53<02:21, 10.40it/s]"
     ]
    },
    {
     "name": "stdout",
     "output_type": "stream",
     "text": [
      "yes yes\n",
      "yes no\n",
      "yes yes\n"
     ]
    },
    {
     "name": "stderr",
     "output_type": "stream",
     "text": [
      " 59%|█████▊    | 2071/3538 [03:53<02:25, 10.11it/s]"
     ]
    },
    {
     "name": "stdout",
     "output_type": "stream",
     "text": [
      "yes no\n",
      "yes no\n",
      "yes no\n"
     ]
    },
    {
     "name": "stderr",
     "output_type": "stream",
     "text": [
      " 59%|█████▊    | 2075/3538 [03:53<02:24, 10.10it/s]"
     ]
    },
    {
     "name": "stdout",
     "output_type": "stream",
     "text": [
      "yes no\n",
      "yes no\n",
      "yes no\n"
     ]
    },
    {
     "name": "stderr",
     "output_type": "stream",
     "text": [
      " 59%|█████▊    | 2077/3538 [03:54<02:28,  9.85it/s]"
     ]
    },
    {
     "name": "stdout",
     "output_type": "stream",
     "text": [
      "yes no\n",
      "yes yes\n"
     ]
    },
    {
     "name": "stderr",
     "output_type": "stream",
     "text": [
      " 59%|█████▉    | 2079/3538 [03:54<02:35,  9.39it/s]"
     ]
    },
    {
     "name": "stdout",
     "output_type": "stream",
     "text": [
      "yes no\n",
      "yes no\n",
      "yes no\n"
     ]
    },
    {
     "name": "stderr",
     "output_type": "stream",
     "text": [
      " 59%|█████▉    | 2083/3538 [03:54<02:20, 10.35it/s]"
     ]
    },
    {
     "name": "stdout",
     "output_type": "stream",
     "text": [
      "yes no\n",
      "yes yes\n",
      "yes no\n"
     ]
    },
    {
     "name": "stderr",
     "output_type": "stream",
     "text": [
      " 59%|█████▉    | 2085/3538 [03:54<02:19, 10.45it/s]"
     ]
    },
    {
     "name": "stdout",
     "output_type": "stream",
     "text": [
      "yes no\n",
      "yes yes\n",
      "yes no\n"
     ]
    },
    {
     "name": "stderr",
     "output_type": "stream",
     "text": [
      " 59%|█████▉    | 2089/3538 [03:55<02:04, 11.67it/s]"
     ]
    },
    {
     "name": "stdout",
     "output_type": "stream",
     "text": [
      "yes no\n",
      "yes no\n",
      "yes no\n"
     ]
    },
    {
     "name": "stderr",
     "output_type": "stream",
     "text": [
      " 59%|█████▉    | 2091/3538 [03:55<02:16, 10.59it/s]"
     ]
    },
    {
     "name": "stdout",
     "output_type": "stream",
     "text": [
      "yes yes\n",
      "yes no\n",
      "yes yes\n"
     ]
    },
    {
     "name": "stderr",
     "output_type": "stream",
     "text": [
      " 59%|█████▉    | 2093/3538 [03:55<02:11, 10.97it/s]"
     ]
    },
    {
     "name": "stdout",
     "output_type": "stream",
     "text": [
      "yes no\n",
      "yes yes\n"
     ]
    },
    {
     "name": "stderr",
     "output_type": "stream",
     "text": [
      " 59%|█████▉    | 2097/3538 [03:56<02:13, 10.78it/s]"
     ]
    },
    {
     "name": "stdout",
     "output_type": "stream",
     "text": [
      "yes no\n",
      "yes no\n",
      "yes no\n"
     ]
    },
    {
     "name": "stderr",
     "output_type": "stream",
     "text": [
      " 59%|█████▉    | 2099/3538 [03:56<02:11, 10.97it/s]"
     ]
    },
    {
     "name": "stdout",
     "output_type": "stream",
     "text": [
      "yes no\n",
      "yes yes\n",
      "yes no\n"
     ]
    },
    {
     "name": "stderr",
     "output_type": "stream",
     "text": [
      " 59%|█████▉    | 2103/3538 [03:56<01:58, 12.07it/s]"
     ]
    },
    {
     "name": "stdout",
     "output_type": "stream",
     "text": [
      "yes no\n",
      "yes no\n",
      "yes no\n"
     ]
    },
    {
     "name": "stderr",
     "output_type": "stream",
     "text": [
      " 59%|█████▉    | 2105/3538 [03:56<02:08, 11.17it/s]"
     ]
    },
    {
     "name": "stdout",
     "output_type": "stream",
     "text": [
      "yes yes\n",
      "yes no\n",
      "yes no\n"
     ]
    },
    {
     "name": "stderr",
     "output_type": "stream",
     "text": [
      " 60%|█████▉    | 2107/3538 [03:56<02:10, 10.95it/s]"
     ]
    },
    {
     "name": "stdout",
     "output_type": "stream",
     "text": [
      "yes no\n",
      "yes no\n"
     ]
    },
    {
     "name": "stderr",
     "output_type": "stream",
     "text": [
      " 60%|█████▉    | 2111/3538 [03:57<02:11, 10.84it/s]"
     ]
    },
    {
     "name": "stdout",
     "output_type": "stream",
     "text": [
      "yes yes\n",
      "yes no\n",
      "yes no\n"
     ]
    },
    {
     "name": "stderr",
     "output_type": "stream",
     "text": [
      " 60%|█████▉    | 2113/3538 [03:57<02:09, 11.00it/s]"
     ]
    },
    {
     "name": "stdout",
     "output_type": "stream",
     "text": [
      "yes no\n",
      "yes no\n"
     ]
    },
    {
     "name": "stderr",
     "output_type": "stream",
     "text": [
      " 60%|█████▉    | 2115/3538 [03:57<02:14, 10.57it/s]"
     ]
    },
    {
     "name": "stdout",
     "output_type": "stream",
     "text": [
      "yes no\n",
      "yes yes\n",
      "yes yes\n"
     ]
    },
    {
     "name": "stderr",
     "output_type": "stream",
     "text": [
      " 60%|█████▉    | 2119/3538 [03:57<02:06, 11.18it/s]"
     ]
    },
    {
     "name": "stdout",
     "output_type": "stream",
     "text": [
      "yes no\n",
      "yes no\n",
      "yes yes\n"
     ]
    },
    {
     "name": "stderr",
     "output_type": "stream",
     "text": [
      " 60%|█████▉    | 2121/3538 [03:58<02:11, 10.78it/s]"
     ]
    },
    {
     "name": "stdout",
     "output_type": "stream",
     "text": [
      "yes no\n",
      "yes yes\n"
     ]
    },
    {
     "name": "stderr",
     "output_type": "stream",
     "text": [
      " 60%|██████    | 2123/3538 [03:58<02:20, 10.09it/s]"
     ]
    },
    {
     "name": "stdout",
     "output_type": "stream",
     "text": [
      "yes yes\n",
      "yes no\n"
     ]
    },
    {
     "name": "stderr",
     "output_type": "stream",
     "text": [
      " 60%|██████    | 2125/3538 [03:58<02:15, 10.40it/s]"
     ]
    },
    {
     "name": "stdout",
     "output_type": "stream",
     "text": [
      "yes no\n",
      "yes no\n",
      "yes yes\n"
     ]
    },
    {
     "name": "stderr",
     "output_type": "stream",
     "text": [
      " 60%|██████    | 2129/3538 [03:58<02:12, 10.60it/s]"
     ]
    },
    {
     "name": "stdout",
     "output_type": "stream",
     "text": [
      "yes yes\n",
      "yes no\n",
      "yes yes\n"
     ]
    },
    {
     "name": "stderr",
     "output_type": "stream",
     "text": [
      " 60%|██████    | 2131/3538 [03:59<02:11, 10.72it/s]"
     ]
    },
    {
     "name": "stdout",
     "output_type": "stream",
     "text": [
      "yes no\n",
      "yes yes\n",
      "yes no\n"
     ]
    },
    {
     "name": "stderr",
     "output_type": "stream",
     "text": [
      " 60%|██████    | 2133/3538 [03:59<02:07, 11.03it/s]"
     ]
    },
    {
     "name": "stdout",
     "output_type": "stream",
     "text": [
      "yes yes\n",
      "yes yes\n"
     ]
    },
    {
     "name": "stderr",
     "output_type": "stream",
     "text": [
      " 60%|██████    | 2137/3538 [03:59<02:12, 10.58it/s]"
     ]
    },
    {
     "name": "stdout",
     "output_type": "stream",
     "text": [
      "yes yes\n",
      "yes yes\n",
      "yes no\n"
     ]
    },
    {
     "name": "stderr",
     "output_type": "stream",
     "text": [
      " 60%|██████    | 2139/3538 [03:59<02:02, 11.42it/s]"
     ]
    },
    {
     "name": "stdout",
     "output_type": "stream",
     "text": [
      "yes no\n",
      "yes yes\n",
      "yes no\n"
     ]
    },
    {
     "name": "stderr",
     "output_type": "stream",
     "text": [
      " 61%|██████    | 2141/3538 [04:00<02:05, 11.16it/s]"
     ]
    },
    {
     "name": "stdout",
     "output_type": "stream",
     "text": [
      "yes no\n",
      "yes yes\n"
     ]
    },
    {
     "name": "stderr",
     "output_type": "stream",
     "text": [
      " 61%|██████    | 2143/3538 [04:00<02:12, 10.54it/s]"
     ]
    },
    {
     "name": "stdout",
     "output_type": "stream",
     "text": [
      "yes no\n",
      "yes no\n"
     ]
    },
    {
     "name": "stderr",
     "output_type": "stream",
     "text": [
      " 61%|██████    | 2147/3538 [04:00<02:16, 10.16it/s]"
     ]
    },
    {
     "name": "stdout",
     "output_type": "stream",
     "text": [
      "yes no\n",
      "yes yes\n",
      "yes no\n"
     ]
    },
    {
     "name": "stderr",
     "output_type": "stream",
     "text": [
      " 61%|██████    | 2149/3538 [04:00<02:19,  9.97it/s]"
     ]
    },
    {
     "name": "stdout",
     "output_type": "stream",
     "text": [
      "yes yes\n",
      "yes no\n",
      "yes yes\n"
     ]
    },
    {
     "name": "stderr",
     "output_type": "stream",
     "text": [
      " 61%|██████    | 2153/3538 [04:01<02:20,  9.84it/s]"
     ]
    },
    {
     "name": "stdout",
     "output_type": "stream",
     "text": [
      "yes no\n",
      "yes yes\n",
      "yes yes\n"
     ]
    },
    {
     "name": "stderr",
     "output_type": "stream",
     "text": [
      " 61%|██████    | 2156/3538 [04:01<02:09, 10.66it/s]"
     ]
    },
    {
     "name": "stdout",
     "output_type": "stream",
     "text": [
      "yes no\n",
      "yes yes\n",
      "yes yes\n"
     ]
    },
    {
     "name": "stderr",
     "output_type": "stream",
     "text": [
      " 61%|██████    | 2158/3538 [04:01<02:12, 10.45it/s]"
     ]
    },
    {
     "name": "stdout",
     "output_type": "stream",
     "text": [
      "yes yes\n",
      "yes yes\n"
     ]
    },
    {
     "name": "stderr",
     "output_type": "stream",
     "text": [
      " 61%|██████    | 2160/3538 [04:01<02:13, 10.36it/s]"
     ]
    },
    {
     "name": "stdout",
     "output_type": "stream",
     "text": [
      "yes yes\n",
      "yes yes\n",
      "yes no\n"
     ]
    },
    {
     "name": "stderr",
     "output_type": "stream",
     "text": [
      " 61%|██████    | 2164/3538 [04:02<02:05, 10.98it/s]"
     ]
    },
    {
     "name": "stdout",
     "output_type": "stream",
     "text": [
      "yes yes\n",
      "yes yes\n",
      "yes no\n"
     ]
    },
    {
     "name": "stderr",
     "output_type": "stream",
     "text": [
      " 61%|██████    | 2166/3538 [04:02<02:11, 10.45it/s]"
     ]
    },
    {
     "name": "stdout",
     "output_type": "stream",
     "text": [
      "yes no\n",
      "yes no\n",
      "yes no\n"
     ]
    },
    {
     "name": "stderr",
     "output_type": "stream",
     "text": [
      " 61%|██████▏   | 2170/3538 [04:02<02:03, 11.09it/s]"
     ]
    },
    {
     "name": "stdout",
     "output_type": "stream",
     "text": [
      "yes no\n",
      "yes yes\n",
      "yes no\n"
     ]
    },
    {
     "name": "stderr",
     "output_type": "stream",
     "text": [
      " 61%|██████▏   | 2172/3538 [04:03<02:02, 11.12it/s]"
     ]
    },
    {
     "name": "stdout",
     "output_type": "stream",
     "text": [
      "yes no\n",
      "yes yes\n",
      "yes yes\n"
     ]
    },
    {
     "name": "stderr",
     "output_type": "stream",
     "text": [
      " 62%|██████▏   | 2176/3538 [04:03<02:14, 10.16it/s]"
     ]
    },
    {
     "name": "stdout",
     "output_type": "stream",
     "text": [
      "yes no\n",
      "yes yes\n",
      "yes no\n"
     ]
    },
    {
     "name": "stderr",
     "output_type": "stream",
     "text": [
      " 62%|██████▏   | 2178/3538 [04:03<02:09, 10.46it/s]"
     ]
    },
    {
     "name": "stdout",
     "output_type": "stream",
     "text": [
      "yes yes\n",
      "yes no\n",
      "yes yes\n"
     ]
    },
    {
     "name": "stderr",
     "output_type": "stream",
     "text": [
      " 62%|██████▏   | 2182/3538 [04:03<01:56, 11.61it/s]"
     ]
    },
    {
     "name": "stdout",
     "output_type": "stream",
     "text": [
      "yes yes\n",
      "yes yes\n",
      "yes no\n",
      "yes no\n"
     ]
    },
    {
     "name": "stderr",
     "output_type": "stream",
     "text": [
      " 62%|██████▏   | 2184/3538 [04:04<01:52, 12.07it/s]"
     ]
    },
    {
     "name": "stdout",
     "output_type": "stream",
     "text": [
      "yes no\n",
      "yes no\n"
     ]
    },
    {
     "name": "stderr",
     "output_type": "stream",
     "text": [
      " 62%|██████▏   | 2188/3538 [04:04<01:58, 11.40it/s]"
     ]
    },
    {
     "name": "stdout",
     "output_type": "stream",
     "text": [
      "yes no\n",
      "yes no\n",
      "yes no\n"
     ]
    },
    {
     "name": "stderr",
     "output_type": "stream",
     "text": [
      " 62%|██████▏   | 2190/3538 [04:04<01:58, 11.36it/s]"
     ]
    },
    {
     "name": "stdout",
     "output_type": "stream",
     "text": [
      "yes yes\n",
      "yes no\n"
     ]
    },
    {
     "name": "stderr",
     "output_type": "stream",
     "text": [
      " 62%|██████▏   | 2192/3538 [04:04<02:00, 11.20it/s]"
     ]
    },
    {
     "name": "stdout",
     "output_type": "stream",
     "text": [
      "yes yes\n",
      "yes no\n",
      "yes no\n"
     ]
    },
    {
     "name": "stderr",
     "output_type": "stream",
     "text": [
      " 62%|██████▏   | 2196/3538 [04:05<01:57, 11.41it/s]"
     ]
    },
    {
     "name": "stdout",
     "output_type": "stream",
     "text": [
      "yes no\n",
      "yes no\n",
      "yes no\n"
     ]
    },
    {
     "name": "stderr",
     "output_type": "stream",
     "text": [
      " 62%|██████▏   | 2198/3538 [04:05<01:56, 11.54it/s]"
     ]
    },
    {
     "name": "stdout",
     "output_type": "stream",
     "text": [
      "yes no\n",
      "yes yes\n",
      "yes no\n"
     ]
    },
    {
     "name": "stderr",
     "output_type": "stream",
     "text": [
      " 62%|██████▏   | 2202/3538 [04:05<01:53, 11.82it/s]"
     ]
    },
    {
     "name": "stdout",
     "output_type": "stream",
     "text": [
      "yes no\n",
      "yes no\n",
      "yes no\n"
     ]
    },
    {
     "name": "stderr",
     "output_type": "stream",
     "text": [
      " 62%|██████▏   | 2204/3538 [04:05<02:02, 10.87it/s]"
     ]
    },
    {
     "name": "stdout",
     "output_type": "stream",
     "text": [
      "yes no\n",
      "yes yes\n"
     ]
    },
    {
     "name": "stderr",
     "output_type": "stream",
     "text": [
      " 62%|██████▏   | 2206/3538 [04:06<01:58, 11.21it/s]"
     ]
    },
    {
     "name": "stdout",
     "output_type": "stream",
     "text": [
      "yes no\n",
      "yes no\n",
      "yes no\n"
     ]
    },
    {
     "name": "stderr",
     "output_type": "stream",
     "text": [
      " 62%|██████▏   | 2210/3538 [04:06<01:43, 12.80it/s]"
     ]
    },
    {
     "name": "stdout",
     "output_type": "stream",
     "text": [
      "yes yes\n",
      "yes no\n",
      "yes no\n"
     ]
    },
    {
     "name": "stderr",
     "output_type": "stream",
     "text": [
      " 63%|██████▎   | 2212/3538 [04:06<02:00, 10.97it/s]"
     ]
    },
    {
     "name": "stdout",
     "output_type": "stream",
     "text": [
      "yes no\n",
      "yes no\n"
     ]
    },
    {
     "name": "stderr",
     "output_type": "stream",
     "text": [
      " 63%|██████▎   | 2214/3538 [04:06<02:06, 10.47it/s]"
     ]
    },
    {
     "name": "stdout",
     "output_type": "stream",
     "text": [
      "yes no\n",
      "yes no\n",
      "yes yes\n"
     ]
    },
    {
     "name": "stderr",
     "output_type": "stream",
     "text": [
      " 63%|██████▎   | 2216/3538 [04:06<01:58, 11.14it/s]"
     ]
    },
    {
     "name": "stdout",
     "output_type": "stream",
     "text": [
      "yes no\n",
      "yes no\n"
     ]
    },
    {
     "name": "stderr",
     "output_type": "stream",
     "text": [
      " 63%|██████▎   | 2218/3538 [04:07<02:12,  9.95it/s]"
     ]
    },
    {
     "name": "stdout",
     "output_type": "stream",
     "text": [
      "yes no\n",
      "yes yes\n"
     ]
    },
    {
     "name": "stderr",
     "output_type": "stream",
     "text": [
      " 63%|██████▎   | 2221/3538 [04:07<02:21,  9.30it/s]"
     ]
    },
    {
     "name": "stdout",
     "output_type": "stream",
     "text": [
      "yes yes\n",
      "yes no\n"
     ]
    },
    {
     "name": "stderr",
     "output_type": "stream",
     "text": [
      " 63%|██████▎   | 2223/3538 [04:07<02:10, 10.10it/s]"
     ]
    },
    {
     "name": "stdout",
     "output_type": "stream",
     "text": [
      "yes no\n",
      "yes no\n",
      "yes yes\n"
     ]
    },
    {
     "name": "stderr",
     "output_type": "stream",
     "text": [
      " 63%|██████▎   | 2227/3538 [04:08<02:00, 10.88it/s]"
     ]
    },
    {
     "name": "stdout",
     "output_type": "stream",
     "text": [
      "yes no\n",
      "yes yes\n",
      "yes no\n"
     ]
    },
    {
     "name": "stderr",
     "output_type": "stream",
     "text": [
      " 63%|██████▎   | 2229/3538 [04:08<01:58, 11.02it/s]"
     ]
    },
    {
     "name": "stdout",
     "output_type": "stream",
     "text": [
      "yes yes\n",
      "yes no\n",
      "yes no\n"
     ]
    },
    {
     "name": "stderr",
     "output_type": "stream",
     "text": [
      " 63%|██████▎   | 2233/3538 [04:08<02:02, 10.67it/s]"
     ]
    },
    {
     "name": "stdout",
     "output_type": "stream",
     "text": [
      "yes no\n",
      "yes yes\n",
      "yes no\n"
     ]
    },
    {
     "name": "stderr",
     "output_type": "stream",
     "text": [
      " 63%|██████▎   | 2235/3538 [04:08<01:59, 10.89it/s]"
     ]
    },
    {
     "name": "stdout",
     "output_type": "stream",
     "text": [
      "yes no\n",
      "yes yes\n",
      "yes yes\n"
     ]
    },
    {
     "name": "stderr",
     "output_type": "stream",
     "text": [
      " 63%|██████▎   | 2237/3538 [04:09<02:12,  9.85it/s]"
     ]
    },
    {
     "name": "stdout",
     "output_type": "stream",
     "text": [
      "yes no\n",
      "yes no\n"
     ]
    },
    {
     "name": "stderr",
     "output_type": "stream",
     "text": [
      " 63%|██████▎   | 2241/3538 [04:09<02:07, 10.16it/s]"
     ]
    },
    {
     "name": "stdout",
     "output_type": "stream",
     "text": [
      "yes no\n",
      "yes yes\n",
      "yes no\n"
     ]
    },
    {
     "name": "stderr",
     "output_type": "stream",
     "text": [
      " 63%|██████▎   | 2243/3538 [04:09<02:04, 10.43it/s]"
     ]
    },
    {
     "name": "stdout",
     "output_type": "stream",
     "text": [
      "yes yes\n",
      "yes yes\n",
      "yes no\n"
     ]
    },
    {
     "name": "stderr",
     "output_type": "stream",
     "text": [
      " 64%|██████▎   | 2247/3538 [04:09<01:54, 11.32it/s]"
     ]
    },
    {
     "name": "stdout",
     "output_type": "stream",
     "text": [
      "yes yes\n",
      "yes yes\n",
      "yes yes\n"
     ]
    },
    {
     "name": "stderr",
     "output_type": "stream",
     "text": [
      " 64%|██████▎   | 2249/3538 [04:10<01:50, 11.67it/s]"
     ]
    },
    {
     "name": "stdout",
     "output_type": "stream",
     "text": [
      "yes no\n",
      "yes no\n",
      "yes no\n"
     ]
    },
    {
     "name": "stderr",
     "output_type": "stream",
     "text": [
      " 64%|██████▎   | 2251/3538 [04:10<01:50, 11.70it/s]"
     ]
    },
    {
     "name": "stdout",
     "output_type": "stream",
     "text": [
      "yes no\n",
      "yes yes\n"
     ]
    },
    {
     "name": "stderr",
     "output_type": "stream",
     "text": [
      " 64%|██████▎   | 2253/3538 [04:10<02:01, 10.62it/s]"
     ]
    },
    {
     "name": "stdout",
     "output_type": "stream",
     "text": [
      "yes no\n",
      "yes no\n"
     ]
    },
    {
     "name": "stderr",
     "output_type": "stream",
     "text": [
      " 64%|██████▎   | 2255/3538 [04:10<02:08,  9.96it/s]"
     ]
    },
    {
     "name": "stdout",
     "output_type": "stream",
     "text": [
      "yes no\n",
      "yes no\n"
     ]
    },
    {
     "name": "stderr",
     "output_type": "stream",
     "text": [
      " 64%|██████▍   | 2258/3538 [04:11<02:30,  8.52it/s]"
     ]
    },
    {
     "name": "stdout",
     "output_type": "stream",
     "text": [
      "yes no\n",
      "yes no\n"
     ]
    },
    {
     "name": "stderr",
     "output_type": "stream",
     "text": [
      " 64%|██████▍   | 2260/3538 [04:11<02:38,  8.04it/s]"
     ]
    },
    {
     "name": "stdout",
     "output_type": "stream",
     "text": [
      "yes no\n",
      "yes no\n"
     ]
    },
    {
     "name": "stderr",
     "output_type": "stream",
     "text": [
      " 64%|██████▍   | 2262/3538 [04:11<02:51,  7.42it/s]"
     ]
    },
    {
     "name": "stdout",
     "output_type": "stream",
     "text": [
      "yes no\n",
      "yes no\n"
     ]
    },
    {
     "name": "stderr",
     "output_type": "stream",
     "text": [
      " 64%|██████▍   | 2265/3538 [04:11<02:15,  9.41it/s]"
     ]
    },
    {
     "name": "stdout",
     "output_type": "stream",
     "text": [
      "yes no\n",
      "yes no\n",
      "yes no\n"
     ]
    },
    {
     "name": "stderr",
     "output_type": "stream",
     "text": [
      " 64%|██████▍   | 2267/3538 [04:12<02:06, 10.07it/s]"
     ]
    },
    {
     "name": "stdout",
     "output_type": "stream",
     "text": [
      "yes no\n",
      "yes yes\n",
      "yes yes\n"
     ]
    },
    {
     "name": "stderr",
     "output_type": "stream",
     "text": [
      " 64%|██████▍   | 2271/3538 [04:12<02:01, 10.39it/s]"
     ]
    },
    {
     "name": "stdout",
     "output_type": "stream",
     "text": [
      "yes no\n",
      "yes yes\n",
      "yes yes\n"
     ]
    },
    {
     "name": "stderr",
     "output_type": "stream",
     "text": [
      " 64%|██████▍   | 2273/3538 [04:12<01:52, 11.21it/s]"
     ]
    },
    {
     "name": "stdout",
     "output_type": "stream",
     "text": [
      "yes no\n",
      "yes no\n",
      "yes no\n"
     ]
    },
    {
     "name": "stderr",
     "output_type": "stream",
     "text": [
      " 64%|██████▍   | 2277/3538 [04:13<01:51, 11.28it/s]"
     ]
    },
    {
     "name": "stdout",
     "output_type": "stream",
     "text": [
      "yes yes\n",
      "yes no\n",
      "yes no\n"
     ]
    },
    {
     "name": "stderr",
     "output_type": "stream",
     "text": [
      " 64%|██████▍   | 2279/3538 [04:13<01:50, 11.34it/s]"
     ]
    },
    {
     "name": "stdout",
     "output_type": "stream",
     "text": [
      "yes yes\n",
      "yes yes\n",
      "yes no\n"
     ]
    },
    {
     "name": "stderr",
     "output_type": "stream",
     "text": [
      " 65%|██████▍   | 2283/3538 [04:13<01:56, 10.78it/s]"
     ]
    },
    {
     "name": "stdout",
     "output_type": "stream",
     "text": [
      "yes yes\n",
      "yes yes\n",
      "yes no\n"
     ]
    },
    {
     "name": "stderr",
     "output_type": "stream",
     "text": [
      " 65%|██████▍   | 2285/3538 [04:13<02:01, 10.28it/s]"
     ]
    },
    {
     "name": "stdout",
     "output_type": "stream",
     "text": [
      "yes yes\n",
      "yes no\n"
     ]
    },
    {
     "name": "stderr",
     "output_type": "stream",
     "text": [
      " 65%|██████▍   | 2287/3538 [04:14<02:12,  9.47it/s]"
     ]
    },
    {
     "name": "stdout",
     "output_type": "stream",
     "text": [
      "yes yes\n",
      "yes yes\n"
     ]
    },
    {
     "name": "stderr",
     "output_type": "stream",
     "text": [
      " 65%|██████▍   | 2289/3538 [04:14<02:26,  8.52it/s]"
     ]
    },
    {
     "name": "stdout",
     "output_type": "stream",
     "text": [
      "yes yes\n",
      "yes no\n"
     ]
    },
    {
     "name": "stderr",
     "output_type": "stream",
     "text": [
      " 65%|██████▍   | 2291/3538 [04:14<02:28,  8.42it/s]"
     ]
    },
    {
     "name": "stdout",
     "output_type": "stream",
     "text": [
      "yes no\n",
      "yes no\n"
     ]
    },
    {
     "name": "stderr",
     "output_type": "stream",
     "text": [
      " 65%|██████▍   | 2293/3538 [04:14<02:49,  7.32it/s]"
     ]
    },
    {
     "name": "stdout",
     "output_type": "stream",
     "text": [
      "yes no\n",
      "yes yes\n"
     ]
    },
    {
     "name": "stderr",
     "output_type": "stream",
     "text": [
      " 65%|██████▍   | 2295/3538 [04:15<02:39,  7.77it/s]"
     ]
    },
    {
     "name": "stdout",
     "output_type": "stream",
     "text": [
      "yes no\n",
      "yes no\n"
     ]
    },
    {
     "name": "stderr",
     "output_type": "stream",
     "text": [
      " 65%|██████▍   | 2297/3538 [04:15<02:42,  7.62it/s]"
     ]
    },
    {
     "name": "stdout",
     "output_type": "stream",
     "text": [
      "yes no\n",
      "yes no\n",
      "yes no\n"
     ]
    },
    {
     "name": "stderr",
     "output_type": "stream",
     "text": [
      " 65%|██████▌   | 2300/3538 [04:15<02:17,  8.98it/s]"
     ]
    },
    {
     "name": "stdout",
     "output_type": "stream",
     "text": [
      "yes no\n",
      "yes no\n",
      "yes no\n"
     ]
    },
    {
     "name": "stderr",
     "output_type": "stream",
     "text": [
      " 65%|██████▌   | 2304/3538 [04:16<01:57, 10.49it/s]"
     ]
    },
    {
     "name": "stdout",
     "output_type": "stream",
     "text": [
      "yes no\n",
      "yes yes\n",
      "yes no\n"
     ]
    },
    {
     "name": "stderr",
     "output_type": "stream",
     "text": [
      " 65%|██████▌   | 2306/3538 [04:16<02:05,  9.85it/s]"
     ]
    },
    {
     "name": "stdout",
     "output_type": "stream",
     "text": [
      "yes yes\n",
      "yes yes\n"
     ]
    },
    {
     "name": "stderr",
     "output_type": "stream",
     "text": [
      " 65%|██████▌   | 2308/3538 [04:16<02:35,  7.90it/s]"
     ]
    },
    {
     "name": "stdout",
     "output_type": "stream",
     "text": [
      "yes no\n",
      "yes no\n"
     ]
    },
    {
     "name": "stderr",
     "output_type": "stream",
     "text": [
      " 65%|██████▌   | 2310/3538 [04:16<02:13,  9.20it/s]"
     ]
    },
    {
     "name": "stdout",
     "output_type": "stream",
     "text": [
      "yes yes\n",
      "yes no\n",
      "yes no\n"
     ]
    },
    {
     "name": "stderr",
     "output_type": "stream",
     "text": [
      " 65%|██████▌   | 2314/3538 [04:17<01:51, 10.98it/s]"
     ]
    },
    {
     "name": "stdout",
     "output_type": "stream",
     "text": [
      "yes yes\n",
      "yes no\n",
      "yes no\n"
     ]
    },
    {
     "name": "stderr",
     "output_type": "stream",
     "text": [
      " 65%|██████▌   | 2316/3538 [04:17<01:48, 11.31it/s]"
     ]
    },
    {
     "name": "stdout",
     "output_type": "stream",
     "text": [
      "yes no\n",
      "yes no\n",
      "yes no\n"
     ]
    },
    {
     "name": "stderr",
     "output_type": "stream",
     "text": [
      " 66%|██████▌   | 2320/3538 [04:17<01:40, 12.10it/s]"
     ]
    },
    {
     "name": "stdout",
     "output_type": "stream",
     "text": [
      "yes no\n",
      "yes no\n",
      "yes no\n"
     ]
    },
    {
     "name": "stderr",
     "output_type": "stream",
     "text": [
      " 66%|██████▌   | 2322/3538 [04:17<01:39, 12.27it/s]"
     ]
    },
    {
     "name": "stdout",
     "output_type": "stream",
     "text": [
      "yes no\n",
      "yes no\n",
      "yes no\n"
     ]
    },
    {
     "name": "stderr",
     "output_type": "stream",
     "text": [
      " 66%|██████▌   | 2326/3538 [04:18<01:35, 12.70it/s]"
     ]
    },
    {
     "name": "stdout",
     "output_type": "stream",
     "text": [
      "yes no\n",
      "yes yes\n",
      "yes no\n",
      "yes no\n"
     ]
    },
    {
     "name": "stderr",
     "output_type": "stream",
     "text": [
      " 66%|██████▌   | 2330/3538 [04:18<01:34, 12.75it/s]"
     ]
    },
    {
     "name": "stdout",
     "output_type": "stream",
     "text": [
      "yes no\n",
      "yes no\n",
      "yes no\n"
     ]
    },
    {
     "name": "stderr",
     "output_type": "stream",
     "text": [
      " 66%|██████▌   | 2332/3538 [04:18<01:34, 12.78it/s]"
     ]
    },
    {
     "name": "stdout",
     "output_type": "stream",
     "text": [
      "yes no\n",
      "yes yes\n",
      "yes no\n"
     ]
    },
    {
     "name": "stderr",
     "output_type": "stream",
     "text": [
      " 66%|██████▌   | 2336/3538 [04:18<01:29, 13.37it/s]"
     ]
    },
    {
     "name": "stdout",
     "output_type": "stream",
     "text": [
      "yes no\n",
      "yes no\n",
      "yes no\n"
     ]
    },
    {
     "name": "stderr",
     "output_type": "stream",
     "text": [
      " 66%|██████▌   | 2338/3538 [04:18<01:33, 12.90it/s]"
     ]
    },
    {
     "name": "stdout",
     "output_type": "stream",
     "text": [
      "yes no\n",
      "yes yes\n"
     ]
    },
    {
     "name": "stderr",
     "output_type": "stream",
     "text": [
      " 66%|██████▌   | 2340/3538 [04:19<01:57, 10.22it/s]"
     ]
    },
    {
     "name": "stdout",
     "output_type": "stream",
     "text": [
      "yes no\n",
      "yes yes\n"
     ]
    },
    {
     "name": "stderr",
     "output_type": "stream",
     "text": [
      " 66%|██████▌   | 2342/3538 [04:19<02:16,  8.75it/s]"
     ]
    },
    {
     "name": "stdout",
     "output_type": "stream",
     "text": [
      "yes yes\n",
      "yes no\n"
     ]
    },
    {
     "name": "stderr",
     "output_type": "stream",
     "text": [
      " 66%|██████▋   | 2344/3538 [04:19<02:19,  8.55it/s]"
     ]
    },
    {
     "name": "stdout",
     "output_type": "stream",
     "text": [
      "yes no\n",
      "yes no\n"
     ]
    },
    {
     "name": "stderr",
     "output_type": "stream",
     "text": [
      " 66%|██████▋   | 2346/3538 [04:20<02:18,  8.58it/s]"
     ]
    },
    {
     "name": "stdout",
     "output_type": "stream",
     "text": [
      "yes no\n",
      "yes no\n"
     ]
    },
    {
     "name": "stderr",
     "output_type": "stream",
     "text": [
      " 66%|██████▋   | 2349/3538 [04:20<02:11,  9.06it/s]"
     ]
    },
    {
     "name": "stdout",
     "output_type": "stream",
     "text": [
      "yes no\n",
      "yes yes\n",
      "yes no\n"
     ]
    },
    {
     "name": "stderr",
     "output_type": "stream",
     "text": [
      " 66%|██████▋   | 2351/3538 [04:20<01:57, 10.07it/s]"
     ]
    },
    {
     "name": "stdout",
     "output_type": "stream",
     "text": [
      "yes no\n",
      "yes no\n",
      "yes yes\n"
     ]
    },
    {
     "name": "stderr",
     "output_type": "stream",
     "text": [
      " 67%|██████▋   | 2355/3538 [04:20<01:40, 11.74it/s]"
     ]
    },
    {
     "name": "stdout",
     "output_type": "stream",
     "text": [
      "yes yes\n",
      "yes yes\n",
      "yes no\n"
     ]
    },
    {
     "name": "stderr",
     "output_type": "stream",
     "text": [
      " 67%|██████▋   | 2359/3538 [04:21<01:29, 13.20it/s]"
     ]
    },
    {
     "name": "stdout",
     "output_type": "stream",
     "text": [
      "yes no\n",
      "yes yes\n",
      "yes no\n",
      "yes no\n"
     ]
    },
    {
     "name": "stderr",
     "output_type": "stream",
     "text": [
      " 67%|██████▋   | 2361/3538 [04:21<01:27, 13.50it/s]"
     ]
    },
    {
     "name": "stdout",
     "output_type": "stream",
     "text": [
      "yes no\n",
      "yes no\n",
      "yes no\n"
     ]
    },
    {
     "name": "stderr",
     "output_type": "stream",
     "text": [
      " 67%|██████▋   | 2365/3538 [04:21<01:31, 12.77it/s]"
     ]
    },
    {
     "name": "stdout",
     "output_type": "stream",
     "text": [
      "yes no\n",
      "yes no\n",
      "yes no\n"
     ]
    },
    {
     "name": "stderr",
     "output_type": "stream",
     "text": [
      " 67%|██████▋   | 2369/3538 [04:21<01:24, 13.78it/s]"
     ]
    },
    {
     "name": "stdout",
     "output_type": "stream",
     "text": [
      "yes no\n",
      "yes no\n",
      "yes no\n",
      "yes yes\n"
     ]
    },
    {
     "name": "stderr",
     "output_type": "stream",
     "text": [
      " 67%|██████▋   | 2371/3538 [04:21<01:26, 13.53it/s]"
     ]
    },
    {
     "name": "stdout",
     "output_type": "stream",
     "text": [
      "yes yes\n",
      "yes yes\n",
      "yes yes\n"
     ]
    },
    {
     "name": "stderr",
     "output_type": "stream",
     "text": [
      " 67%|██████▋   | 2375/3538 [04:22<01:37, 11.87it/s]"
     ]
    },
    {
     "name": "stdout",
     "output_type": "stream",
     "text": [
      "yes no\n",
      "yes yes\n",
      "yes yes\n"
     ]
    },
    {
     "name": "stderr",
     "output_type": "stream",
     "text": [
      " 67%|██████▋   | 2377/3538 [04:22<01:32, 12.58it/s]"
     ]
    },
    {
     "name": "stdout",
     "output_type": "stream",
     "text": [
      "yes no\n",
      "yes no\n",
      "yes yes\n",
      "yes yes\n"
     ]
    },
    {
     "name": "stderr",
     "output_type": "stream",
     "text": [
      " 67%|██████▋   | 2382/3538 [04:22<01:20, 14.38it/s]"
     ]
    },
    {
     "name": "stdout",
     "output_type": "stream",
     "text": [
      "yes no\n",
      "yes yes\n",
      "yes no\n"
     ]
    },
    {
     "name": "stderr",
     "output_type": "stream",
     "text": [
      " 67%|██████▋   | 2384/3538 [04:22<01:24, 13.62it/s]"
     ]
    },
    {
     "name": "stdout",
     "output_type": "stream",
     "text": [
      "yes no\n",
      "yes no\n",
      "yes no\n"
     ]
    },
    {
     "name": "stderr",
     "output_type": "stream",
     "text": [
      " 67%|██████▋   | 2388/3538 [04:23<01:23, 13.75it/s]"
     ]
    },
    {
     "name": "stdout",
     "output_type": "stream",
     "text": [
      "yes no\n",
      "yes no\n",
      "yes no\n"
     ]
    },
    {
     "name": "stderr",
     "output_type": "stream",
     "text": [
      " 68%|██████▊   | 2390/3538 [04:23<01:23, 13.71it/s]"
     ]
    },
    {
     "name": "stdout",
     "output_type": "stream",
     "text": [
      "yes no\n",
      "yes no\n"
     ]
    },
    {
     "name": "stderr",
     "output_type": "stream",
     "text": [
      " 68%|██████▊   | 2392/3538 [04:23<01:55,  9.89it/s]"
     ]
    },
    {
     "name": "stdout",
     "output_type": "stream",
     "text": [
      "yes yes\n",
      "yes no\n"
     ]
    },
    {
     "name": "stderr",
     "output_type": "stream",
     "text": [
      " 68%|██████▊   | 2394/3538 [04:23<01:52, 10.18it/s]"
     ]
    },
    {
     "name": "stdout",
     "output_type": "stream",
     "text": [
      "yes no\n",
      "yes no\n",
      "yes no\n"
     ]
    },
    {
     "name": "stderr",
     "output_type": "stream",
     "text": [
      " 68%|██████▊   | 2398/3538 [04:24<01:48, 10.54it/s]"
     ]
    },
    {
     "name": "stdout",
     "output_type": "stream",
     "text": [
      "yes yes\n",
      "yes no\n",
      "yes no\n"
     ]
    },
    {
     "name": "stderr",
     "output_type": "stream",
     "text": [
      " 68%|██████▊   | 2400/3538 [04:24<01:39, 11.40it/s]"
     ]
    },
    {
     "name": "stdout",
     "output_type": "stream",
     "text": [
      "yes no\n",
      "yes no\n",
      "yes no\n"
     ]
    },
    {
     "name": "stderr",
     "output_type": "stream",
     "text": [
      " 68%|██████▊   | 2402/3538 [04:24<01:34, 11.97it/s]"
     ]
    },
    {
     "name": "stdout",
     "output_type": "stream",
     "text": [
      "yes no\n",
      "yes no\n"
     ]
    },
    {
     "name": "stderr",
     "output_type": "stream",
     "text": [
      " 68%|██████▊   | 2404/3538 [04:24<01:41, 11.18it/s]"
     ]
    },
    {
     "name": "stdout",
     "output_type": "stream",
     "text": [
      "yes no\n",
      "yes no\n"
     ]
    },
    {
     "name": "stderr",
     "output_type": "stream",
     "text": [
      " 68%|██████▊   | 2408/3538 [04:25<01:47, 10.55it/s]"
     ]
    },
    {
     "name": "stdout",
     "output_type": "stream",
     "text": [
      "yes yes\n",
      "yes no\n",
      "yes no\n"
     ]
    },
    {
     "name": "stderr",
     "output_type": "stream",
     "text": [
      " 68%|██████▊   | 2410/3538 [04:25<01:34, 11.97it/s]"
     ]
    },
    {
     "name": "stdout",
     "output_type": "stream",
     "text": [
      "yes yes\n",
      "yes yes\n",
      "yes no\n"
     ]
    },
    {
     "name": "stderr",
     "output_type": "stream",
     "text": [
      " 68%|██████▊   | 2412/3538 [04:25<01:32, 12.20it/s]"
     ]
    },
    {
     "name": "stdout",
     "output_type": "stream",
     "text": [
      "yes no\n",
      "yes yes\n"
     ]
    },
    {
     "name": "stderr",
     "output_type": "stream",
     "text": [
      " 68%|██████▊   | 2416/3538 [04:25<01:42, 10.98it/s]"
     ]
    },
    {
     "name": "stdout",
     "output_type": "stream",
     "text": [
      "yes no\n",
      "yes yes\n",
      "yes no\n"
     ]
    },
    {
     "name": "stderr",
     "output_type": "stream",
     "text": [
      " 68%|██████▊   | 2418/3538 [04:26<01:37, 11.51it/s]"
     ]
    },
    {
     "name": "stdout",
     "output_type": "stream",
     "text": [
      "yes no\n",
      "yes yes\n",
      "yes no\n"
     ]
    },
    {
     "name": "stderr",
     "output_type": "stream",
     "text": [
      " 68%|██████▊   | 2422/3538 [04:26<01:40, 11.09it/s]"
     ]
    },
    {
     "name": "stdout",
     "output_type": "stream",
     "text": [
      "yes yes\n",
      "yes yes\n",
      "yes no\n"
     ]
    },
    {
     "name": "stderr",
     "output_type": "stream",
     "text": [
      " 69%|██████▊   | 2424/3538 [04:26<01:42, 10.82it/s]"
     ]
    },
    {
     "name": "stdout",
     "output_type": "stream",
     "text": [
      "yes no\n",
      "yes no\n",
      "yes yes\n"
     ]
    },
    {
     "name": "stderr",
     "output_type": "stream",
     "text": [
      " 69%|██████▊   | 2428/3538 [04:26<01:39, 11.15it/s]"
     ]
    },
    {
     "name": "stdout",
     "output_type": "stream",
     "text": [
      "yes no\n",
      "yes no\n",
      "yes no\n"
     ]
    },
    {
     "name": "stderr",
     "output_type": "stream",
     "text": [
      " 69%|██████▊   | 2430/3538 [04:27<01:46, 10.43it/s]"
     ]
    },
    {
     "name": "stdout",
     "output_type": "stream",
     "text": [
      "yes no\n",
      "yes yes\n"
     ]
    },
    {
     "name": "stderr",
     "output_type": "stream",
     "text": [
      " 69%|██████▊   | 2432/3538 [04:27<01:43, 10.64it/s]"
     ]
    },
    {
     "name": "stdout",
     "output_type": "stream",
     "text": [
      "yes no\n",
      "yes no\n",
      "yes yes\n"
     ]
    },
    {
     "name": "stderr",
     "output_type": "stream",
     "text": [
      " 69%|██████▉   | 2436/3538 [04:27<01:39, 11.02it/s]"
     ]
    },
    {
     "name": "stdout",
     "output_type": "stream",
     "text": [
      "yes no\n",
      "yes no\n",
      "yes yes\n"
     ]
    },
    {
     "name": "stderr",
     "output_type": "stream",
     "text": [
      " 69%|██████▉   | 2438/3538 [04:27<01:33, 11.75it/s]"
     ]
    },
    {
     "name": "stdout",
     "output_type": "stream",
     "text": [
      "yes no\n",
      "yes no\n",
      "yes yes\n"
     ]
    },
    {
     "name": "stderr",
     "output_type": "stream",
     "text": [
      " 69%|██████▉   | 2440/3538 [04:28<01:39, 11.03it/s]"
     ]
    },
    {
     "name": "stdout",
     "output_type": "stream",
     "text": [
      "yes yes\n",
      "yes no\n"
     ]
    },
    {
     "name": "stderr",
     "output_type": "stream",
     "text": [
      " 69%|██████▉   | 2442/3538 [04:28<01:54,  9.53it/s]"
     ]
    },
    {
     "name": "stdout",
     "output_type": "stream",
     "text": [
      "yes no\n",
      "yes no\n"
     ]
    },
    {
     "name": "stderr",
     "output_type": "stream",
     "text": [
      " 69%|██████▉   | 2445/3538 [04:28<01:56,  9.35it/s]"
     ]
    },
    {
     "name": "stdout",
     "output_type": "stream",
     "text": [
      "yes no\n",
      "yes no\n"
     ]
    },
    {
     "name": "stderr",
     "output_type": "stream",
     "text": [
      " 69%|██████▉   | 2447/3538 [04:28<02:02,  8.88it/s]"
     ]
    },
    {
     "name": "stdout",
     "output_type": "stream",
     "text": [
      "yes no\n",
      "yes no\n"
     ]
    },
    {
     "name": "stderr",
     "output_type": "stream",
     "text": [
      " 69%|██████▉   | 2449/3538 [04:29<02:20,  7.77it/s]"
     ]
    },
    {
     "name": "stdout",
     "output_type": "stream",
     "text": [
      "yes no\n",
      "yes no\n"
     ]
    },
    {
     "name": "stderr",
     "output_type": "stream",
     "text": [
      " 69%|██████▉   | 2451/3538 [04:29<02:17,  7.88it/s]"
     ]
    },
    {
     "name": "stdout",
     "output_type": "stream",
     "text": [
      "yes no\n",
      "yes no\n"
     ]
    },
    {
     "name": "stderr",
     "output_type": "stream",
     "text": [
      " 69%|██████▉   | 2453/3538 [04:29<02:12,  8.16it/s]"
     ]
    },
    {
     "name": "stdout",
     "output_type": "stream",
     "text": [
      "yes no\n",
      "yes yes\n"
     ]
    },
    {
     "name": "stderr",
     "output_type": "stream",
     "text": [
      " 69%|██████▉   | 2455/3538 [04:29<02:07,  8.46it/s]"
     ]
    },
    {
     "name": "stdout",
     "output_type": "stream",
     "text": [
      "yes yes\n",
      "yes no\n"
     ]
    },
    {
     "name": "stderr",
     "output_type": "stream",
     "text": [
      " 69%|██████▉   | 2456/3538 [04:29<02:05,  8.63it/s]"
     ]
    },
    {
     "name": "stdout",
     "output_type": "stream",
     "text": [
      "yes no\n",
      "yes no\n"
     ]
    },
    {
     "name": "stderr",
     "output_type": "stream",
     "text": [
      " 70%|██████▉   | 2460/3538 [04:30<01:54,  9.41it/s]"
     ]
    },
    {
     "name": "stdout",
     "output_type": "stream",
     "text": [
      "yes no\n",
      "yes no\n",
      "yes yes\n"
     ]
    },
    {
     "name": "stderr",
     "output_type": "stream",
     "text": [
      " 70%|██████▉   | 2463/3538 [04:30<01:40, 10.66it/s]"
     ]
    },
    {
     "name": "stdout",
     "output_type": "stream",
     "text": [
      "yes no\n",
      "yes no\n",
      "yes no\n"
     ]
    },
    {
     "name": "stderr",
     "output_type": "stream",
     "text": [
      " 70%|██████▉   | 2465/3538 [04:30<01:48,  9.92it/s]"
     ]
    },
    {
     "name": "stdout",
     "output_type": "stream",
     "text": [
      "yes no\n",
      "yes yes\n"
     ]
    },
    {
     "name": "stderr",
     "output_type": "stream",
     "text": [
      " 70%|██████▉   | 2467/3538 [04:31<02:03,  8.65it/s]"
     ]
    },
    {
     "name": "stdout",
     "output_type": "stream",
     "text": [
      "yes no\n",
      "yes no\n"
     ]
    },
    {
     "name": "stderr",
     "output_type": "stream",
     "text": [
      " 70%|██████▉   | 2469/3538 [04:31<02:09,  8.24it/s]"
     ]
    },
    {
     "name": "stdout",
     "output_type": "stream",
     "text": [
      "yes no\n",
      "yes no\n"
     ]
    },
    {
     "name": "stderr",
     "output_type": "stream",
     "text": [
      " 70%|██████▉   | 2471/3538 [04:31<02:30,  7.08it/s]"
     ]
    },
    {
     "name": "stdout",
     "output_type": "stream",
     "text": [
      "yes no\n",
      "yes yes\n"
     ]
    },
    {
     "name": "stderr",
     "output_type": "stream",
     "text": [
      " 70%|██████▉   | 2473/3538 [04:31<02:19,  7.62it/s]"
     ]
    },
    {
     "name": "stdout",
     "output_type": "stream",
     "text": [
      "yes no\n",
      "yes no\n"
     ]
    },
    {
     "name": "stderr",
     "output_type": "stream",
     "text": [
      " 70%|██████▉   | 2474/3538 [04:32<02:18,  7.68it/s]"
     ]
    },
    {
     "name": "stdout",
     "output_type": "stream",
     "text": [
      "yes no\n",
      "yes yes\n"
     ]
    },
    {
     "name": "stderr",
     "output_type": "stream",
     "text": [
      " 70%|███████   | 2477/3538 [04:32<02:11,  8.06it/s]"
     ]
    },
    {
     "name": "stdout",
     "output_type": "stream",
     "text": [
      "yes no\n",
      "yes no\n"
     ]
    },
    {
     "name": "stderr",
     "output_type": "stream",
     "text": [
      " 70%|███████   | 2479/3538 [04:32<02:07,  8.34it/s]"
     ]
    },
    {
     "name": "stdout",
     "output_type": "stream",
     "text": [
      "yes no\n",
      "yes no\n"
     ]
    },
    {
     "name": "stderr",
     "output_type": "stream",
     "text": [
      " 70%|███████   | 2480/3538 [04:32<02:03,  8.56it/s]"
     ]
    },
    {
     "name": "stdout",
     "output_type": "stream",
     "text": [
      "yes no\n",
      "yes no\n"
     ]
    },
    {
     "name": "stderr",
     "output_type": "stream",
     "text": [
      " 70%|███████   | 2482/3538 [04:33<02:05,  8.39it/s]"
     ]
    },
    {
     "name": "stdout",
     "output_type": "stream",
     "text": [
      "yes no\n",
      "yes yes\n"
     ]
    },
    {
     "name": "stderr",
     "output_type": "stream",
     "text": [
      " 70%|███████   | 2485/3538 [04:33<02:11,  8.03it/s]"
     ]
    },
    {
     "name": "stdout",
     "output_type": "stream",
     "text": [
      "yes no\n",
      "yes yes\n"
     ]
    },
    {
     "name": "stderr",
     "output_type": "stream",
     "text": [
      " 70%|███████   | 2487/3538 [04:33<01:59,  8.80it/s]"
     ]
    },
    {
     "name": "stdout",
     "output_type": "stream",
     "text": [
      "yes no\n",
      "yes no\n"
     ]
    },
    {
     "name": "stderr",
     "output_type": "stream",
     "text": [
      " 70%|███████   | 2489/3538 [04:33<02:08,  8.18it/s]"
     ]
    },
    {
     "name": "stdout",
     "output_type": "stream",
     "text": [
      "yes no\n",
      "yes no\n"
     ]
    },
    {
     "name": "stderr",
     "output_type": "stream",
     "text": [
      " 70%|███████   | 2491/3538 [04:34<01:53,  9.20it/s]"
     ]
    },
    {
     "name": "stdout",
     "output_type": "stream",
     "text": [
      "yes no\n",
      "yes no\n"
     ]
    },
    {
     "name": "stderr",
     "output_type": "stream",
     "text": [
      " 70%|███████   | 2493/3538 [04:34<02:05,  8.34it/s]"
     ]
    },
    {
     "name": "stdout",
     "output_type": "stream",
     "text": [
      "yes no\n",
      "yes yes\n"
     ]
    },
    {
     "name": "stderr",
     "output_type": "stream",
     "text": [
      " 71%|███████   | 2495/3538 [04:34<02:02,  8.52it/s]"
     ]
    },
    {
     "name": "stdout",
     "output_type": "stream",
     "text": [
      "yes no\n",
      "yes no\n",
      "yes yes\n"
     ]
    },
    {
     "name": "stderr",
     "output_type": "stream",
     "text": [
      " 71%|███████   | 2499/3538 [04:34<01:37, 10.64it/s]"
     ]
    },
    {
     "name": "stdout",
     "output_type": "stream",
     "text": [
      "yes yes\n",
      "yes yes\n",
      "yes no\n"
     ]
    },
    {
     "name": "stderr",
     "output_type": "stream",
     "text": [
      " 71%|███████   | 2501/3538 [04:35<01:33, 11.15it/s]"
     ]
    },
    {
     "name": "stdout",
     "output_type": "stream",
     "text": [
      "yes yes\n",
      "yes no\n"
     ]
    },
    {
     "name": "stderr",
     "output_type": "stream",
     "text": [
      " 71%|███████   | 2503/3538 [04:35<01:38, 10.51it/s]"
     ]
    },
    {
     "name": "stdout",
     "output_type": "stream",
     "text": [
      "yes no\n",
      "yes no\n",
      "yes no\n"
     ]
    },
    {
     "name": "stderr",
     "output_type": "stream",
     "text": [
      " 71%|███████   | 2507/3538 [04:35<01:29, 11.48it/s]"
     ]
    },
    {
     "name": "stdout",
     "output_type": "stream",
     "text": [
      "yes yes\n",
      "yes no\n",
      "yes yes\n"
     ]
    },
    {
     "name": "stderr",
     "output_type": "stream",
     "text": [
      " 71%|███████   | 2511/3538 [04:35<01:19, 12.87it/s]"
     ]
    },
    {
     "name": "stdout",
     "output_type": "stream",
     "text": [
      "yes no\n",
      "yes no\n",
      "yes no\n",
      "yes no\n"
     ]
    },
    {
     "name": "stderr",
     "output_type": "stream",
     "text": [
      " 71%|███████   | 2513/3538 [04:36<01:23, 12.26it/s]"
     ]
    },
    {
     "name": "stdout",
     "output_type": "stream",
     "text": [
      "yes yes\n",
      "yes no\n",
      "yes no\n"
     ]
    },
    {
     "name": "stderr",
     "output_type": "stream",
     "text": [
      " 71%|███████   | 2515/3538 [04:36<01:25, 12.00it/s]"
     ]
    },
    {
     "name": "stdout",
     "output_type": "stream",
     "text": [
      "yes no\n",
      "yes no\n"
     ]
    },
    {
     "name": "stderr",
     "output_type": "stream",
     "text": [
      " 71%|███████   | 2517/3538 [04:36<01:31, 11.22it/s]"
     ]
    },
    {
     "name": "stdout",
     "output_type": "stream",
     "text": [
      "yes no\n",
      "yes yes\n"
     ]
    },
    {
     "name": "stderr",
     "output_type": "stream",
     "text": [
      " 71%|███████▏  | 2521/3538 [04:36<01:36, 10.51it/s]"
     ]
    },
    {
     "name": "stdout",
     "output_type": "stream",
     "text": [
      "yes yes\n",
      "yes yes\n",
      "yes no\n"
     ]
    },
    {
     "name": "stderr",
     "output_type": "stream",
     "text": [
      " 71%|███████▏  | 2523/3538 [04:36<01:30, 11.17it/s]"
     ]
    },
    {
     "name": "stdout",
     "output_type": "stream",
     "text": [
      "yes no\n",
      "yes no\n",
      "yes no\n"
     ]
    },
    {
     "name": "stderr",
     "output_type": "stream",
     "text": [
      " 71%|███████▏  | 2527/3538 [04:37<01:33, 10.82it/s]"
     ]
    },
    {
     "name": "stdout",
     "output_type": "stream",
     "text": [
      "yes no\n",
      "yes no\n",
      "yes no\n"
     ]
    },
    {
     "name": "stderr",
     "output_type": "stream",
     "text": [
      " 71%|███████▏  | 2529/3538 [04:37<01:41,  9.92it/s]"
     ]
    },
    {
     "name": "stdout",
     "output_type": "stream",
     "text": [
      "yes yes\n",
      "yes no\n"
     ]
    },
    {
     "name": "stderr",
     "output_type": "stream",
     "text": [
      " 72%|███████▏  | 2531/3538 [04:37<01:39, 10.10it/s]"
     ]
    },
    {
     "name": "stdout",
     "output_type": "stream",
     "text": [
      "yes no\n",
      "yes yes\n"
     ]
    },
    {
     "name": "stderr",
     "output_type": "stream",
     "text": [
      " 72%|███████▏  | 2533/3538 [04:38<01:40,  9.97it/s]"
     ]
    },
    {
     "name": "stdout",
     "output_type": "stream",
     "text": [
      "yes no\n",
      "yes no\n",
      "yes no\n"
     ]
    },
    {
     "name": "stderr",
     "output_type": "stream",
     "text": [
      " 72%|███████▏  | 2537/3538 [04:38<01:34, 10.58it/s]"
     ]
    },
    {
     "name": "stdout",
     "output_type": "stream",
     "text": [
      "yes no\n",
      "yes no\n",
      "yes no\n"
     ]
    },
    {
     "name": "stderr",
     "output_type": "stream",
     "text": [
      " 72%|███████▏  | 2539/3538 [04:38<01:32, 10.79it/s]"
     ]
    },
    {
     "name": "stdout",
     "output_type": "stream",
     "text": [
      "yes no\n",
      "yes no\n",
      "yes no\n"
     ]
    },
    {
     "name": "stderr",
     "output_type": "stream",
     "text": [
      " 72%|███████▏  | 2541/3538 [04:38<01:38, 10.10it/s]"
     ]
    },
    {
     "name": "stdout",
     "output_type": "stream",
     "text": [
      "yes yes\n",
      "yes no\n"
     ]
    },
    {
     "name": "stderr",
     "output_type": "stream",
     "text": [
      " 72%|███████▏  | 2545/3538 [04:39<01:41,  9.75it/s]"
     ]
    },
    {
     "name": "stdout",
     "output_type": "stream",
     "text": [
      "yes yes\n",
      "yes no\n",
      "yes no\n"
     ]
    },
    {
     "name": "stderr",
     "output_type": "stream",
     "text": [
      " 72%|███████▏  | 2547/3538 [04:39<01:40,  9.88it/s]"
     ]
    },
    {
     "name": "stdout",
     "output_type": "stream",
     "text": [
      "yes no\n",
      "yes no\n",
      "yes no\n"
     ]
    },
    {
     "name": "stderr",
     "output_type": "stream",
     "text": [
      " 72%|███████▏  | 2551/3538 [04:39<01:25, 11.52it/s]"
     ]
    },
    {
     "name": "stdout",
     "output_type": "stream",
     "text": [
      "yes no\n",
      "yes yes\n",
      "yes yes\n"
     ]
    },
    {
     "name": "stderr",
     "output_type": "stream",
     "text": [
      " 72%|███████▏  | 2553/3538 [04:39<01:22, 11.89it/s]"
     ]
    },
    {
     "name": "stdout",
     "output_type": "stream",
     "text": [
      "yes no\n",
      "yes yes\n",
      "yes no\n"
     ]
    },
    {
     "name": "stderr",
     "output_type": "stream",
     "text": [
      " 72%|███████▏  | 2557/3538 [04:40<01:19, 12.36it/s]"
     ]
    },
    {
     "name": "stdout",
     "output_type": "stream",
     "text": [
      "yes yes\n",
      "yes yes\n",
      "yes no\n"
     ]
    },
    {
     "name": "stderr",
     "output_type": "stream",
     "text": [
      " 72%|███████▏  | 2559/3538 [04:40<01:28, 11.03it/s]"
     ]
    },
    {
     "name": "stdout",
     "output_type": "stream",
     "text": [
      "yes yes\n",
      "yes no\n",
      "yes no\n"
     ]
    },
    {
     "name": "stderr",
     "output_type": "stream",
     "text": [
      " 72%|███████▏  | 2563/3538 [04:40<01:24, 11.48it/s]"
     ]
    },
    {
     "name": "stdout",
     "output_type": "stream",
     "text": [
      "yes yes\n",
      "yes yes\n",
      "yes no\n"
     ]
    },
    {
     "name": "stderr",
     "output_type": "stream",
     "text": [
      " 72%|███████▏  | 2565/3538 [04:40<01:19, 12.27it/s]"
     ]
    },
    {
     "name": "stdout",
     "output_type": "stream",
     "text": [
      "yes no\n",
      "yes yes\n",
      "yes no\n"
     ]
    },
    {
     "name": "stderr",
     "output_type": "stream",
     "text": [
      " 73%|███████▎  | 2569/3538 [04:41<01:19, 12.22it/s]"
     ]
    },
    {
     "name": "stdout",
     "output_type": "stream",
     "text": [
      "yes yes\n",
      "yes yes\n",
      "yes no\n"
     ]
    },
    {
     "name": "stderr",
     "output_type": "stream",
     "text": [
      " 73%|███████▎  | 2571/3538 [04:41<01:24, 11.45it/s]"
     ]
    },
    {
     "name": "stdout",
     "output_type": "stream",
     "text": [
      "yes yes\n",
      "yes no\n",
      "yes no\n"
     ]
    },
    {
     "name": "stderr",
     "output_type": "stream",
     "text": [
      " 73%|███████▎  | 2575/3538 [04:41<01:28, 10.90it/s]"
     ]
    },
    {
     "name": "stdout",
     "output_type": "stream",
     "text": [
      "yes no\n",
      "yes yes\n",
      "yes no\n"
     ]
    },
    {
     "name": "stderr",
     "output_type": "stream",
     "text": [
      " 73%|███████▎  | 2577/3538 [04:41<01:25, 11.18it/s]"
     ]
    },
    {
     "name": "stdout",
     "output_type": "stream",
     "text": [
      "yes no\n",
      "yes yes\n"
     ]
    },
    {
     "name": "stderr",
     "output_type": "stream",
     "text": [
      " 73%|███████▎  | 2579/3538 [04:42<01:29, 10.71it/s]"
     ]
    },
    {
     "name": "stdout",
     "output_type": "stream",
     "text": [
      "yes no\n",
      "yes no\n",
      "yes yes\n"
     ]
    },
    {
     "name": "stderr",
     "output_type": "stream",
     "text": [
      " 73%|███████▎  | 2581/3538 [04:42<01:25, 11.15it/s]"
     ]
    },
    {
     "name": "stdout",
     "output_type": "stream",
     "text": [
      "yes yes\n",
      "yes no\n"
     ]
    },
    {
     "name": "stderr",
     "output_type": "stream",
     "text": [
      " 73%|███████▎  | 2583/3538 [04:42<01:39,  9.64it/s]"
     ]
    },
    {
     "name": "stdout",
     "output_type": "stream",
     "text": [
      "yes no\n",
      "yes no\n"
     ]
    },
    {
     "name": "stderr",
     "output_type": "stream",
     "text": [
      " 73%|███████▎  | 2585/3538 [04:42<01:47,  8.90it/s]"
     ]
    },
    {
     "name": "stdout",
     "output_type": "stream",
     "text": [
      "yes yes\n",
      "yes no\n"
     ]
    },
    {
     "name": "stderr",
     "output_type": "stream",
     "text": [
      " 73%|███████▎  | 2587/3538 [04:43<01:44,  9.08it/s]"
     ]
    },
    {
     "name": "stdout",
     "output_type": "stream",
     "text": [
      "yes no\n",
      "yes no\n"
     ]
    },
    {
     "name": "stderr",
     "output_type": "stream",
     "text": [
      " 73%|███████▎  | 2590/3538 [04:43<01:48,  8.72it/s]"
     ]
    },
    {
     "name": "stdout",
     "output_type": "stream",
     "text": [
      "yes yes\n",
      "yes yes\n"
     ]
    },
    {
     "name": "stderr",
     "output_type": "stream",
     "text": [
      " 73%|███████▎  | 2592/3538 [04:43<01:59,  7.95it/s]"
     ]
    },
    {
     "name": "stdout",
     "output_type": "stream",
     "text": [
      "yes no\n",
      "yes yes\n"
     ]
    },
    {
     "name": "stderr",
     "output_type": "stream",
     "text": [
      " 73%|███████▎  | 2594/3538 [04:44<02:09,  7.32it/s]"
     ]
    },
    {
     "name": "stdout",
     "output_type": "stream",
     "text": [
      "yes no\n",
      "yes no\n"
     ]
    },
    {
     "name": "stderr",
     "output_type": "stream",
     "text": [
      " 73%|███████▎  | 2596/3538 [04:44<01:44,  9.02it/s]"
     ]
    },
    {
     "name": "stdout",
     "output_type": "stream",
     "text": [
      "yes no\n",
      "yes no\n",
      "yes no\n"
     ]
    },
    {
     "name": "stderr",
     "output_type": "stream",
     "text": [
      " 73%|███████▎  | 2600/3538 [04:44<01:18, 11.94it/s]"
     ]
    },
    {
     "name": "stdout",
     "output_type": "stream",
     "text": [
      "yes no\n",
      "yes no\n",
      "yes yes\n",
      "yes yes\n"
     ]
    },
    {
     "name": "stderr",
     "output_type": "stream",
     "text": [
      " 74%|███████▎  | 2604/3538 [04:44<01:15, 12.45it/s]"
     ]
    },
    {
     "name": "stdout",
     "output_type": "stream",
     "text": [
      "yes no\n",
      "yes no\n",
      "yes no\n"
     ]
    },
    {
     "name": "stderr",
     "output_type": "stream",
     "text": [
      " 74%|███████▎  | 2606/3538 [04:44<01:17, 12.03it/s]"
     ]
    },
    {
     "name": "stdout",
     "output_type": "stream",
     "text": [
      "yes no\n",
      "yes no\n",
      "yes no\n"
     ]
    },
    {
     "name": "stderr",
     "output_type": "stream",
     "text": [
      " 74%|███████▍  | 2610/3538 [04:45<01:12, 12.76it/s]"
     ]
    },
    {
     "name": "stdout",
     "output_type": "stream",
     "text": [
      "yes yes\n",
      "yes no\n",
      "yes yes\n"
     ]
    },
    {
     "name": "stderr",
     "output_type": "stream",
     "text": [
      " 74%|███████▍  | 2612/3538 [04:45<01:12, 12.83it/s]"
     ]
    },
    {
     "name": "stdout",
     "output_type": "stream",
     "text": [
      "yes no\n",
      "yes no\n",
      "yes no\n"
     ]
    },
    {
     "name": "stderr",
     "output_type": "stream",
     "text": [
      " 74%|███████▍  | 2616/3538 [04:45<01:19, 11.65it/s]"
     ]
    },
    {
     "name": "stdout",
     "output_type": "stream",
     "text": [
      "yes yes\n",
      "yes yes\n",
      "yes no\n"
     ]
    },
    {
     "name": "stderr",
     "output_type": "stream",
     "text": [
      " 74%|███████▍  | 2618/3538 [04:45<01:12, 12.76it/s]"
     ]
    },
    {
     "name": "stdout",
     "output_type": "stream",
     "text": [
      "yes no\n",
      "yes yes\n",
      "yes no\n"
     ]
    },
    {
     "name": "stderr",
     "output_type": "stream",
     "text": [
      " 74%|███████▍  | 2620/3538 [04:46<01:30, 10.18it/s]"
     ]
    },
    {
     "name": "stdout",
     "output_type": "stream",
     "text": [
      "yes no\n",
      "yes yes\n"
     ]
    },
    {
     "name": "stderr",
     "output_type": "stream",
     "text": [
      " 74%|███████▍  | 2622/3538 [04:46<01:35,  9.61it/s]"
     ]
    },
    {
     "name": "stdout",
     "output_type": "stream",
     "text": [
      "yes yes\n",
      "yes no\n"
     ]
    },
    {
     "name": "stderr",
     "output_type": "stream",
     "text": [
      " 74%|███████▍  | 2625/3538 [04:46<01:42,  8.94it/s]"
     ]
    },
    {
     "name": "stdout",
     "output_type": "stream",
     "text": [
      "yes no\n",
      "yes no\n"
     ]
    },
    {
     "name": "stderr",
     "output_type": "stream",
     "text": [
      " 74%|███████▍  | 2627/3538 [04:47<01:47,  8.46it/s]"
     ]
    },
    {
     "name": "stdout",
     "output_type": "stream",
     "text": [
      "yes yes\n",
      "yes no\n"
     ]
    },
    {
     "name": "stderr",
     "output_type": "stream",
     "text": [
      " 74%|███████▍  | 2629/3538 [04:47<01:36,  9.45it/s]"
     ]
    },
    {
     "name": "stdout",
     "output_type": "stream",
     "text": [
      "yes no\n",
      "yes yes\n",
      "yes no\n"
     ]
    },
    {
     "name": "stderr",
     "output_type": "stream",
     "text": [
      " 74%|███████▍  | 2633/3538 [04:47<01:18, 11.46it/s]"
     ]
    },
    {
     "name": "stdout",
     "output_type": "stream",
     "text": [
      "yes no\n",
      "yes yes\n",
      "yes yes\n"
     ]
    },
    {
     "name": "stderr",
     "output_type": "stream",
     "text": [
      " 74%|███████▍  | 2635/3538 [04:47<01:16, 11.86it/s]"
     ]
    },
    {
     "name": "stdout",
     "output_type": "stream",
     "text": [
      "yes no\n",
      "yes yes\n",
      "yes no\n"
     ]
    },
    {
     "name": "stderr",
     "output_type": "stream",
     "text": [
      " 75%|███████▍  | 2639/3538 [04:47<01:12, 12.37it/s]"
     ]
    },
    {
     "name": "stdout",
     "output_type": "stream",
     "text": [
      "yes no\n",
      "yes yes\n",
      "yes no\n"
     ]
    },
    {
     "name": "stderr",
     "output_type": "stream",
     "text": [
      " 75%|███████▍  | 2641/3538 [04:48<01:17, 11.51it/s]"
     ]
    },
    {
     "name": "stdout",
     "output_type": "stream",
     "text": [
      "yes no\n",
      "yes no\n"
     ]
    },
    {
     "name": "stderr",
     "output_type": "stream",
     "text": [
      " 75%|███████▍  | 2643/3538 [04:48<01:36,  9.31it/s]"
     ]
    },
    {
     "name": "stdout",
     "output_type": "stream",
     "text": [
      "yes yes\n",
      "yes yes\n"
     ]
    },
    {
     "name": "stderr",
     "output_type": "stream",
     "text": [
      " 75%|███████▍  | 2645/3538 [04:48<01:29,  9.99it/s]"
     ]
    },
    {
     "name": "stdout",
     "output_type": "stream",
     "text": [
      "yes no\n",
      "yes yes\n",
      "yes no\n"
     ]
    },
    {
     "name": "stderr",
     "output_type": "stream",
     "text": [
      " 75%|███████▍  | 2649/3538 [04:48<01:26, 10.29it/s]"
     ]
    },
    {
     "name": "stdout",
     "output_type": "stream",
     "text": [
      "yes yes\n",
      "yes yes\n",
      "yes no\n"
     ]
    },
    {
     "name": "stderr",
     "output_type": "stream",
     "text": [
      " 75%|███████▍  | 2651/3538 [04:49<01:26, 10.21it/s]"
     ]
    },
    {
     "name": "stdout",
     "output_type": "stream",
     "text": [
      "yes yes\n",
      "yes no\n",
      "yes no\n"
     ]
    },
    {
     "name": "stderr",
     "output_type": "stream",
     "text": [
      " 75%|███████▌  | 2655/3538 [04:49<01:22, 10.67it/s]"
     ]
    },
    {
     "name": "stdout",
     "output_type": "stream",
     "text": [
      "yes yes\n",
      "yes no\n",
      "yes yes\n"
     ]
    },
    {
     "name": "stderr",
     "output_type": "stream",
     "text": [
      " 75%|███████▌  | 2657/3538 [04:49<01:17, 11.39it/s]"
     ]
    },
    {
     "name": "stdout",
     "output_type": "stream",
     "text": [
      "yes no\n",
      "yes no\n",
      "yes yes\n"
     ]
    },
    {
     "name": "stderr",
     "output_type": "stream",
     "text": [
      " 75%|███████▌  | 2661/3538 [04:50<01:12, 12.02it/s]"
     ]
    },
    {
     "name": "stdout",
     "output_type": "stream",
     "text": [
      "yes yes\n",
      "yes no\n",
      "yes no\n"
     ]
    },
    {
     "name": "stderr",
     "output_type": "stream",
     "text": [
      " 75%|███████▌  | 2663/3538 [04:50<01:10, 12.33it/s]"
     ]
    },
    {
     "name": "stdout",
     "output_type": "stream",
     "text": [
      "yes yes\n",
      "yes yes\n",
      "yes no\n"
     ]
    },
    {
     "name": "stderr",
     "output_type": "stream",
     "text": [
      " 75%|███████▌  | 2665/3538 [04:50<01:14, 11.76it/s]"
     ]
    },
    {
     "name": "stdout",
     "output_type": "stream",
     "text": [
      "yes yes\n",
      "yes no\n"
     ]
    },
    {
     "name": "stderr",
     "output_type": "stream",
     "text": [
      " 75%|███████▌  | 2669/3538 [04:50<01:17, 11.26it/s]"
     ]
    },
    {
     "name": "stdout",
     "output_type": "stream",
     "text": [
      "yes no\n",
      "yes no\n",
      "yes no\n"
     ]
    },
    {
     "name": "stderr",
     "output_type": "stream",
     "text": [
      " 75%|███████▌  | 2671/3538 [04:50<01:15, 11.49it/s]"
     ]
    },
    {
     "name": "stdout",
     "output_type": "stream",
     "text": [
      "yes yes\n",
      "yes no\n",
      "yes no\n"
     ]
    },
    {
     "name": "stderr",
     "output_type": "stream",
     "text": [
      " 76%|███████▌  | 2675/3538 [04:51<01:10, 12.25it/s]"
     ]
    },
    {
     "name": "stdout",
     "output_type": "stream",
     "text": [
      "yes yes\n",
      "yes yes\n",
      "yes yes\n"
     ]
    },
    {
     "name": "stderr",
     "output_type": "stream",
     "text": [
      " 76%|███████▌  | 2677/3538 [04:51<01:13, 11.74it/s]"
     ]
    },
    {
     "name": "stdout",
     "output_type": "stream",
     "text": [
      "yes no\n",
      "yes no\n",
      "yes no\n"
     ]
    },
    {
     "name": "stderr",
     "output_type": "stream",
     "text": [
      " 76%|███████▌  | 2681/3538 [04:51<01:10, 12.09it/s]"
     ]
    },
    {
     "name": "stdout",
     "output_type": "stream",
     "text": [
      "yes yes\n",
      "yes no\n",
      "yes yes\n"
     ]
    },
    {
     "name": "stderr",
     "output_type": "stream",
     "text": [
      " 76%|███████▌  | 2683/3538 [04:51<01:07, 12.69it/s]"
     ]
    },
    {
     "name": "stdout",
     "output_type": "stream",
     "text": [
      "yes no\n",
      "yes yes\n",
      "yes no\n"
     ]
    },
    {
     "name": "stderr",
     "output_type": "stream",
     "text": [
      " 76%|███████▌  | 2685/3538 [04:52<01:10, 12.18it/s]"
     ]
    },
    {
     "name": "stdout",
     "output_type": "stream",
     "text": [
      "yes yes\n",
      "yes no\n"
     ]
    },
    {
     "name": "stderr",
     "output_type": "stream",
     "text": [
      " 76%|███████▌  | 2689/3538 [04:52<01:08, 12.39it/s]"
     ]
    },
    {
     "name": "stdout",
     "output_type": "stream",
     "text": [
      "yes yes\n",
      "yes yes\n",
      "yes no\n",
      "yes no\n"
     ]
    },
    {
     "name": "stderr",
     "output_type": "stream",
     "text": [
      " 76%|███████▌  | 2693/3538 [04:52<01:09, 12.22it/s]"
     ]
    },
    {
     "name": "stdout",
     "output_type": "stream",
     "text": [
      "yes yes\n",
      "yes no\n",
      "yes yes\n"
     ]
    },
    {
     "name": "stderr",
     "output_type": "stream",
     "text": [
      " 76%|███████▌  | 2695/3538 [04:52<01:14, 11.32it/s]"
     ]
    },
    {
     "name": "stdout",
     "output_type": "stream",
     "text": [
      "yes no\n",
      "yes no\n",
      "yes no\n"
     ]
    },
    {
     "name": "stderr",
     "output_type": "stream",
     "text": [
      " 76%|███████▋  | 2699/3538 [04:53<01:17, 10.87it/s]"
     ]
    },
    {
     "name": "stdout",
     "output_type": "stream",
     "text": [
      "yes no\n",
      "yes yes\n",
      "yes no\n"
     ]
    },
    {
     "name": "stderr",
     "output_type": "stream",
     "text": [
      " 76%|███████▋  | 2701/3538 [04:53<01:17, 10.87it/s]"
     ]
    },
    {
     "name": "stdout",
     "output_type": "stream",
     "text": [
      "yes no\n",
      "yes no\n",
      "yes no\n"
     ]
    },
    {
     "name": "stderr",
     "output_type": "stream",
     "text": [
      " 76%|███████▋  | 2705/3538 [04:53<01:09, 12.02it/s]"
     ]
    },
    {
     "name": "stdout",
     "output_type": "stream",
     "text": [
      "yes no\n",
      "yes no\n",
      "yes yes\n",
      "yes no\n"
     ]
    },
    {
     "name": "stderr",
     "output_type": "stream",
     "text": [
      " 77%|███████▋  | 2707/3538 [04:54<01:24,  9.86it/s]"
     ]
    },
    {
     "name": "stdout",
     "output_type": "stream",
     "text": [
      "yes yes\n",
      "yes no\n"
     ]
    },
    {
     "name": "stderr",
     "output_type": "stream",
     "text": [
      " 77%|███████▋  | 2709/3538 [04:54<01:27,  9.45it/s]"
     ]
    },
    {
     "name": "stdout",
     "output_type": "stream",
     "text": [
      "yes no\n",
      "yes no\n"
     ]
    },
    {
     "name": "stderr",
     "output_type": "stream",
     "text": [
      " 77%|███████▋  | 2713/3538 [04:54<01:20, 10.24it/s]"
     ]
    },
    {
     "name": "stdout",
     "output_type": "stream",
     "text": [
      "yes no\n",
      "yes no\n",
      "yes no\n"
     ]
    },
    {
     "name": "stderr",
     "output_type": "stream",
     "text": [
      " 77%|███████▋  | 2715/3538 [04:54<01:14, 11.07it/s]"
     ]
    },
    {
     "name": "stdout",
     "output_type": "stream",
     "text": [
      "yes yes\n",
      "yes no\n",
      "yes no\n"
     ]
    },
    {
     "name": "stderr",
     "output_type": "stream",
     "text": [
      " 77%|███████▋  | 2719/3538 [04:55<01:17, 10.58it/s]"
     ]
    },
    {
     "name": "stdout",
     "output_type": "stream",
     "text": [
      "yes yes\n",
      "yes no\n",
      "yes no\n"
     ]
    },
    {
     "name": "stderr",
     "output_type": "stream",
     "text": [
      " 77%|███████▋  | 2721/3538 [04:55<01:12, 11.35it/s]"
     ]
    },
    {
     "name": "stdout",
     "output_type": "stream",
     "text": [
      "yes no\n",
      "yes no\n",
      "yes no\n"
     ]
    },
    {
     "name": "stderr",
     "output_type": "stream",
     "text": [
      " 77%|███████▋  | 2723/3538 [04:55<01:14, 10.96it/s]"
     ]
    },
    {
     "name": "stdout",
     "output_type": "stream",
     "text": [
      "yes no\n",
      "yes no\n"
     ]
    },
    {
     "name": "stderr",
     "output_type": "stream",
     "text": [
      " 77%|███████▋  | 2727/3538 [04:55<01:13, 11.08it/s]"
     ]
    },
    {
     "name": "stdout",
     "output_type": "stream",
     "text": [
      "yes no\n",
      "yes yes\n",
      "yes no\n"
     ]
    },
    {
     "name": "stderr",
     "output_type": "stream",
     "text": [
      " 77%|███████▋  | 2729/3538 [04:56<01:12, 11.19it/s]"
     ]
    },
    {
     "name": "stdout",
     "output_type": "stream",
     "text": [
      "yes yes\n",
      "yes yes\n",
      "yes no\n"
     ]
    },
    {
     "name": "stderr",
     "output_type": "stream",
     "text": [
      " 77%|███████▋  | 2733/3538 [04:56<01:04, 12.55it/s]"
     ]
    },
    {
     "name": "stdout",
     "output_type": "stream",
     "text": [
      "yes yes\n",
      "yes no\n",
      "yes no\n"
     ]
    },
    {
     "name": "stderr",
     "output_type": "stream",
     "text": [
      " 77%|███████▋  | 2735/3538 [04:56<01:06, 12.13it/s]"
     ]
    },
    {
     "name": "stdout",
     "output_type": "stream",
     "text": [
      "yes no\n",
      "yes no\n",
      "yes yes\n"
     ]
    },
    {
     "name": "stderr",
     "output_type": "stream",
     "text": [
      " 77%|███████▋  | 2737/3538 [04:56<01:08, 11.65it/s]"
     ]
    },
    {
     "name": "stdout",
     "output_type": "stream",
     "text": [
      "yes yes\n",
      "yes no\n"
     ]
    },
    {
     "name": "stderr",
     "output_type": "stream",
     "text": [
      " 77%|███████▋  | 2741/3538 [04:57<01:15, 10.55it/s]"
     ]
    },
    {
     "name": "stdout",
     "output_type": "stream",
     "text": [
      "yes yes\n",
      "yes no\n",
      "yes yes\n"
     ]
    },
    {
     "name": "stderr",
     "output_type": "stream",
     "text": [
      " 78%|███████▊  | 2743/3538 [04:57<01:14, 10.61it/s]"
     ]
    },
    {
     "name": "stdout",
     "output_type": "stream",
     "text": [
      "yes yes\n",
      "yes no\n"
     ]
    },
    {
     "name": "stderr",
     "output_type": "stream",
     "text": [
      " 78%|███████▊  | 2745/3538 [04:57<01:21,  9.76it/s]"
     ]
    },
    {
     "name": "stdout",
     "output_type": "stream",
     "text": [
      "yes no\n",
      "yes no\n"
     ]
    },
    {
     "name": "stderr",
     "output_type": "stream",
     "text": [
      " 78%|███████▊  | 2747/3538 [04:57<01:25,  9.27it/s]"
     ]
    },
    {
     "name": "stdout",
     "output_type": "stream",
     "text": [
      "yes no\n",
      "yes yes\n"
     ]
    },
    {
     "name": "stderr",
     "output_type": "stream",
     "text": [
      " 78%|███████▊  | 2749/3538 [04:58<01:20,  9.78it/s]"
     ]
    },
    {
     "name": "stdout",
     "output_type": "stream",
     "text": [
      "yes no\n",
      "yes yes\n",
      "yes no\n"
     ]
    },
    {
     "name": "stderr",
     "output_type": "stream",
     "text": [
      " 78%|███████▊  | 2753/3538 [04:58<01:11, 10.96it/s]"
     ]
    },
    {
     "name": "stdout",
     "output_type": "stream",
     "text": [
      "yes no\n",
      "yes yes\n",
      "yes no\n"
     ]
    },
    {
     "name": "stderr",
     "output_type": "stream",
     "text": [
      " 78%|███████▊  | 2755/3538 [04:58<01:08, 11.36it/s]"
     ]
    },
    {
     "name": "stdout",
     "output_type": "stream",
     "text": [
      "yes no\n",
      "yes yes\n",
      "yes no\n"
     ]
    },
    {
     "name": "stderr",
     "output_type": "stream",
     "text": [
      " 78%|███████▊  | 2759/3538 [04:58<01:07, 11.55it/s]"
     ]
    },
    {
     "name": "stdout",
     "output_type": "stream",
     "text": [
      "yes no\n",
      "yes no\n",
      "yes no\n"
     ]
    },
    {
     "name": "stderr",
     "output_type": "stream",
     "text": [
      " 78%|███████▊  | 2761/3538 [04:59<01:03, 12.28it/s]"
     ]
    },
    {
     "name": "stdout",
     "output_type": "stream",
     "text": [
      "yes no\n",
      "yes no\n",
      "yes no\n"
     ]
    },
    {
     "name": "stderr",
     "output_type": "stream",
     "text": [
      " 78%|███████▊  | 2765/3538 [04:59<01:01, 12.55it/s]"
     ]
    },
    {
     "name": "stdout",
     "output_type": "stream",
     "text": [
      "yes no\n",
      "yes no\n",
      "yes yes\n"
     ]
    },
    {
     "name": "stderr",
     "output_type": "stream",
     "text": [
      " 78%|███████▊  | 2767/3538 [04:59<01:00, 12.71it/s]"
     ]
    },
    {
     "name": "stdout",
     "output_type": "stream",
     "text": [
      "yes yes\n",
      "yes no\n",
      "yes no\n"
     ]
    },
    {
     "name": "stderr",
     "output_type": "stream",
     "text": [
      " 78%|███████▊  | 2769/3538 [04:59<00:59, 12.88it/s]"
     ]
    },
    {
     "name": "stdout",
     "output_type": "stream",
     "text": [
      "yes no\n",
      "yes no\n"
     ]
    },
    {
     "name": "stderr",
     "output_type": "stream",
     "text": [
      " 78%|███████▊  | 2773/3538 [05:00<01:10, 10.84it/s]"
     ]
    },
    {
     "name": "stdout",
     "output_type": "stream",
     "text": [
      "yes no\n",
      "yes no\n",
      "yes no\n"
     ]
    },
    {
     "name": "stderr",
     "output_type": "stream",
     "text": [
      " 78%|███████▊  | 2775/3538 [05:00<01:09, 10.92it/s]"
     ]
    },
    {
     "name": "stdout",
     "output_type": "stream",
     "text": [
      "yes no\n",
      "yes yes\n",
      "yes no\n"
     ]
    },
    {
     "name": "stderr",
     "output_type": "stream",
     "text": [
      " 79%|███████▊  | 2779/3538 [05:00<01:13, 10.36it/s]"
     ]
    },
    {
     "name": "stdout",
     "output_type": "stream",
     "text": [
      "yes no\n",
      "yes no\n",
      "yes yes\n"
     ]
    },
    {
     "name": "stderr",
     "output_type": "stream",
     "text": [
      " 79%|███████▊  | 2781/3538 [05:00<01:08, 11.00it/s]"
     ]
    },
    {
     "name": "stdout",
     "output_type": "stream",
     "text": [
      "yes yes\n",
      "yes yes\n",
      "yes yes\n"
     ]
    },
    {
     "name": "stderr",
     "output_type": "stream",
     "text": [
      " 79%|███████▊  | 2785/3538 [05:01<01:12, 10.32it/s]"
     ]
    },
    {
     "name": "stdout",
     "output_type": "stream",
     "text": [
      "yes yes\n",
      "yes no\n",
      "yes no\n"
     ]
    },
    {
     "name": "stderr",
     "output_type": "stream",
     "text": [
      " 79%|███████▉  | 2787/3538 [05:01<01:11, 10.56it/s]"
     ]
    },
    {
     "name": "stdout",
     "output_type": "stream",
     "text": [
      "yes no\n",
      "yes yes\n",
      "yes no\n"
     ]
    },
    {
     "name": "stderr",
     "output_type": "stream",
     "text": [
      " 79%|███████▉  | 2791/3538 [05:01<01:02, 11.94it/s]"
     ]
    },
    {
     "name": "stdout",
     "output_type": "stream",
     "text": [
      "yes no\n",
      "yes no\n",
      "yes no\n"
     ]
    },
    {
     "name": "stderr",
     "output_type": "stream",
     "text": [
      " 79%|███████▉  | 2793/3538 [05:01<01:00, 12.39it/s]"
     ]
    },
    {
     "name": "stdout",
     "output_type": "stream",
     "text": [
      "yes no\n",
      "yes no\n",
      "yes yes\n"
     ]
    },
    {
     "name": "stderr",
     "output_type": "stream",
     "text": [
      " 79%|███████▉  | 2797/3538 [05:02<01:05, 11.29it/s]"
     ]
    },
    {
     "name": "stdout",
     "output_type": "stream",
     "text": [
      "yes no\n",
      "yes yes\n",
      "yes no\n"
     ]
    },
    {
     "name": "stderr",
     "output_type": "stream",
     "text": [
      " 79%|███████▉  | 2799/3538 [05:02<01:15,  9.75it/s]"
     ]
    },
    {
     "name": "stdout",
     "output_type": "stream",
     "text": [
      "yes no\n",
      "yes yes\n"
     ]
    },
    {
     "name": "stderr",
     "output_type": "stream",
     "text": [
      " 79%|███████▉  | 2801/3538 [05:02<01:17,  9.56it/s]"
     ]
    },
    {
     "name": "stdout",
     "output_type": "stream",
     "text": [
      "yes no\n",
      "yes no\n"
     ]
    },
    {
     "name": "stderr",
     "output_type": "stream",
     "text": [
      " 79%|███████▉  | 2803/3538 [05:03<01:25,  8.60it/s]"
     ]
    },
    {
     "name": "stdout",
     "output_type": "stream",
     "text": [
      "yes no\n",
      "yes yes\n"
     ]
    },
    {
     "name": "stderr",
     "output_type": "stream",
     "text": [
      " 79%|███████▉  | 2805/3538 [05:03<01:18,  9.29it/s]"
     ]
    },
    {
     "name": "stdout",
     "output_type": "stream",
     "text": [
      "yes yes\n",
      "yes no\n",
      "yes yes\n"
     ]
    },
    {
     "name": "stderr",
     "output_type": "stream",
     "text": [
      " 79%|███████▉  | 2809/3538 [05:03<01:08, 10.69it/s]"
     ]
    },
    {
     "name": "stdout",
     "output_type": "stream",
     "text": [
      "yes no\n",
      "yes yes\n",
      "yes yes\n"
     ]
    },
    {
     "name": "stderr",
     "output_type": "stream",
     "text": [
      " 79%|███████▉  | 2811/3538 [05:03<01:03, 11.45it/s]"
     ]
    },
    {
     "name": "stdout",
     "output_type": "stream",
     "text": [
      "yes no\n",
      "yes yes\n",
      "yes no\n"
     ]
    },
    {
     "name": "stderr",
     "output_type": "stream",
     "text": [
      " 80%|███████▉  | 2813/3538 [05:03<01:11, 10.17it/s]"
     ]
    },
    {
     "name": "stdout",
     "output_type": "stream",
     "text": [
      "yes yes\n",
      "yes no\n"
     ]
    },
    {
     "name": "stderr",
     "output_type": "stream",
     "text": [
      " 80%|███████▉  | 2816/3538 [05:04<01:23,  8.60it/s]"
     ]
    },
    {
     "name": "stdout",
     "output_type": "stream",
     "text": [
      "yes no\n",
      "yes no\n"
     ]
    },
    {
     "name": "stderr",
     "output_type": "stream",
     "text": [
      " 80%|███████▉  | 2818/3538 [05:04<01:29,  8.07it/s]"
     ]
    },
    {
     "name": "stdout",
     "output_type": "stream",
     "text": [
      "yes no\n",
      "yes no\n"
     ]
    },
    {
     "name": "stderr",
     "output_type": "stream",
     "text": [
      " 80%|███████▉  | 2821/3538 [05:04<01:18,  9.08it/s]"
     ]
    },
    {
     "name": "stdout",
     "output_type": "stream",
     "text": [
      "yes no\n",
      "yes yes\n",
      "yes no\n"
     ]
    },
    {
     "name": "stderr",
     "output_type": "stream",
     "text": [
      " 80%|███████▉  | 2823/3538 [05:05<01:24,  8.49it/s]"
     ]
    },
    {
     "name": "stdout",
     "output_type": "stream",
     "text": [
      "yes no\n",
      "yes no\n"
     ]
    },
    {
     "name": "stderr",
     "output_type": "stream",
     "text": [
      " 80%|███████▉  | 2824/3538 [05:05<01:24,  8.42it/s]"
     ]
    },
    {
     "name": "stdout",
     "output_type": "stream",
     "text": [
      "yes no\n"
     ]
    },
    {
     "name": "stderr",
     "output_type": "stream",
     "text": [
      " 80%|███████▉  | 2826/3538 [05:05<01:47,  6.61it/s]"
     ]
    },
    {
     "name": "stdout",
     "output_type": "stream",
     "text": [
      "yes yes\n",
      "yes no\n"
     ]
    },
    {
     "name": "stderr",
     "output_type": "stream",
     "text": [
      " 80%|███████▉  | 2828/3538 [05:05<01:44,  6.80it/s]"
     ]
    },
    {
     "name": "stdout",
     "output_type": "stream",
     "text": [
      "yes no\n",
      "yes no\n"
     ]
    },
    {
     "name": "stderr",
     "output_type": "stream",
     "text": [
      " 80%|███████▉  | 2830/3538 [05:06<01:38,  7.16it/s]"
     ]
    },
    {
     "name": "stdout",
     "output_type": "stream",
     "text": [
      "yes no\n",
      "yes no\n"
     ]
    },
    {
     "name": "stderr",
     "output_type": "stream",
     "text": [
      " 80%|████████  | 2832/3538 [05:06<01:49,  6.45it/s]"
     ]
    },
    {
     "name": "stdout",
     "output_type": "stream",
     "text": [
      "yes no\n",
      "yes no\n"
     ]
    },
    {
     "name": "stderr",
     "output_type": "stream",
     "text": [
      " 80%|████████  | 2834/3538 [05:06<01:58,  5.95it/s]"
     ]
    },
    {
     "name": "stdout",
     "output_type": "stream",
     "text": [
      "yes no\n",
      "yes no\n"
     ]
    },
    {
     "name": "stderr",
     "output_type": "stream",
     "text": [
      " 80%|████████  | 2835/3538 [05:07<02:01,  5.79it/s]"
     ]
    },
    {
     "name": "stdout",
     "output_type": "stream",
     "text": [
      "yes yes\n"
     ]
    },
    {
     "name": "stderr",
     "output_type": "stream",
     "text": [
      " 80%|████████  | 2837/3538 [05:07<02:03,  5.68it/s]"
     ]
    },
    {
     "name": "stdout",
     "output_type": "stream",
     "text": [
      "yes no\n",
      "yes yes\n"
     ]
    },
    {
     "name": "stderr",
     "output_type": "stream",
     "text": [
      " 80%|████████  | 2839/3538 [05:07<01:41,  6.90it/s]"
     ]
    },
    {
     "name": "stdout",
     "output_type": "stream",
     "text": [
      "yes no\n",
      "yes no\n"
     ]
    },
    {
     "name": "stderr",
     "output_type": "stream",
     "text": [
      " 80%|████████  | 2841/3538 [05:08<01:48,  6.45it/s]"
     ]
    },
    {
     "name": "stdout",
     "output_type": "stream",
     "text": [
      "yes yes\n",
      "yes no\n"
     ]
    },
    {
     "name": "stderr",
     "output_type": "stream",
     "text": [
      " 80%|████████  | 2843/3538 [05:08<01:34,  7.35it/s]"
     ]
    },
    {
     "name": "stdout",
     "output_type": "stream",
     "text": [
      "yes no\n",
      "yes yes\n"
     ]
    },
    {
     "name": "stderr",
     "output_type": "stream",
     "text": [
      " 80%|████████  | 2846/3538 [05:08<01:19,  8.72it/s]"
     ]
    },
    {
     "name": "stdout",
     "output_type": "stream",
     "text": [
      "yes no\n",
      "yes yes\n",
      "yes no\n"
     ]
    },
    {
     "name": "stderr",
     "output_type": "stream",
     "text": [
      " 80%|████████  | 2848/3538 [05:08<01:30,  7.63it/s]"
     ]
    },
    {
     "name": "stdout",
     "output_type": "stream",
     "text": [
      "yes no\n",
      "yes yes\n"
     ]
    },
    {
     "name": "stderr",
     "output_type": "stream",
     "text": [
      " 81%|████████  | 2850/3538 [05:09<01:31,  7.53it/s]"
     ]
    },
    {
     "name": "stdout",
     "output_type": "stream",
     "text": [
      "yes yes\n",
      "yes yes\n"
     ]
    },
    {
     "name": "stderr",
     "output_type": "stream",
     "text": [
      " 81%|████████  | 2852/3538 [05:09<01:12,  9.45it/s]"
     ]
    },
    {
     "name": "stdout",
     "output_type": "stream",
     "text": [
      "yes no\n",
      "yes no\n",
      "yes yes\n"
     ]
    },
    {
     "name": "stderr",
     "output_type": "stream",
     "text": [
      " 81%|████████  | 2856/3538 [05:09<01:02, 10.99it/s]"
     ]
    },
    {
     "name": "stdout",
     "output_type": "stream",
     "text": [
      "yes yes\n",
      "yes no\n",
      "yes no\n"
     ]
    },
    {
     "name": "stderr",
     "output_type": "stream",
     "text": [
      " 81%|████████  | 2860/3538 [05:09<00:51, 13.21it/s]"
     ]
    },
    {
     "name": "stdout",
     "output_type": "stream",
     "text": [
      "yes yes\n",
      "yes no\n",
      "yes yes\n",
      "yes no\n"
     ]
    },
    {
     "name": "stderr",
     "output_type": "stream",
     "text": [
      " 81%|████████  | 2862/3538 [05:10<00:55, 12.19it/s]"
     ]
    },
    {
     "name": "stdout",
     "output_type": "stream",
     "text": [
      "yes yes\n",
      "yes no\n",
      "yes yes\n"
     ]
    },
    {
     "name": "stderr",
     "output_type": "stream",
     "text": [
      " 81%|████████  | 2866/3538 [05:10<00:57, 11.77it/s]"
     ]
    },
    {
     "name": "stdout",
     "output_type": "stream",
     "text": [
      "yes no\n",
      "yes yes\n",
      "yes no\n"
     ]
    },
    {
     "name": "stderr",
     "output_type": "stream",
     "text": [
      " 81%|████████  | 2868/3538 [05:10<00:53, 12.62it/s]"
     ]
    },
    {
     "name": "stdout",
     "output_type": "stream",
     "text": [
      "yes no\n",
      "yes yes\n",
      "yes yes\n"
     ]
    },
    {
     "name": "stderr",
     "output_type": "stream",
     "text": [
      " 81%|████████  | 2872/3538 [05:10<00:52, 12.61it/s]"
     ]
    },
    {
     "name": "stdout",
     "output_type": "stream",
     "text": [
      "yes no\n",
      "yes no\n",
      "yes yes\n"
     ]
    },
    {
     "name": "stderr",
     "output_type": "stream",
     "text": [
      " 81%|████████  | 2874/3538 [05:11<00:56, 11.81it/s]"
     ]
    },
    {
     "name": "stdout",
     "output_type": "stream",
     "text": [
      "yes yes\n",
      "yes no\n"
     ]
    },
    {
     "name": "stderr",
     "output_type": "stream",
     "text": [
      " 81%|████████▏ | 2876/3538 [05:11<00:57, 11.57it/s]"
     ]
    },
    {
     "name": "stdout",
     "output_type": "stream",
     "text": [
      "yes no\n",
      "yes yes\n",
      "yes no\n"
     ]
    },
    {
     "name": "stderr",
     "output_type": "stream",
     "text": [
      " 81%|████████▏ | 2880/3538 [05:11<00:58, 11.15it/s]"
     ]
    },
    {
     "name": "stdout",
     "output_type": "stream",
     "text": [
      "yes no\n",
      "yes yes\n",
      "yes no\n"
     ]
    },
    {
     "name": "stderr",
     "output_type": "stream",
     "text": [
      " 81%|████████▏ | 2882/3538 [05:11<00:59, 10.99it/s]"
     ]
    },
    {
     "name": "stdout",
     "output_type": "stream",
     "text": [
      "yes no\n",
      "yes no\n",
      "yes yes\n"
     ]
    },
    {
     "name": "stderr",
     "output_type": "stream",
     "text": [
      " 82%|████████▏ | 2886/3538 [05:12<00:54, 11.99it/s]"
     ]
    },
    {
     "name": "stdout",
     "output_type": "stream",
     "text": [
      "yes no\n",
      "yes yes\n",
      "yes no\n"
     ]
    },
    {
     "name": "stderr",
     "output_type": "stream",
     "text": [
      " 82%|████████▏ | 2888/3538 [05:12<00:56, 11.45it/s]"
     ]
    },
    {
     "name": "stdout",
     "output_type": "stream",
     "text": [
      "yes no\n",
      "yes yes\n",
      "yes no\n"
     ]
    },
    {
     "name": "stderr",
     "output_type": "stream",
     "text": [
      " 82%|████████▏ | 2890/3538 [05:12<00:52, 12.24it/s]"
     ]
    },
    {
     "name": "stdout",
     "output_type": "stream",
     "text": [
      "yes yes\n",
      "yes no\n"
     ]
    },
    {
     "name": "stderr",
     "output_type": "stream",
     "text": [
      " 82%|████████▏ | 2894/3538 [05:12<00:53, 11.95it/s]"
     ]
    },
    {
     "name": "stdout",
     "output_type": "stream",
     "text": [
      "yes no\n",
      "yes no\n",
      "yes yes\n"
     ]
    },
    {
     "name": "stderr",
     "output_type": "stream",
     "text": [
      " 82%|████████▏ | 2896/3538 [05:12<00:50, 12.84it/s]"
     ]
    },
    {
     "name": "stdout",
     "output_type": "stream",
     "text": [
      "yes no\n",
      "yes yes\n",
      "yes no\n"
     ]
    },
    {
     "name": "stderr",
     "output_type": "stream",
     "text": [
      " 82%|████████▏ | 2898/3538 [05:13<00:52, 12.10it/s]"
     ]
    },
    {
     "name": "stdout",
     "output_type": "stream",
     "text": [
      "yes no\n",
      "yes no\n"
     ]
    },
    {
     "name": "stderr",
     "output_type": "stream",
     "text": [
      " 82%|████████▏ | 2902/3538 [05:13<00:56, 11.33it/s]"
     ]
    },
    {
     "name": "stdout",
     "output_type": "stream",
     "text": [
      "yes no\n",
      "yes yes\n",
      "yes no\n"
     ]
    },
    {
     "name": "stderr",
     "output_type": "stream",
     "text": [
      " 82%|████████▏ | 2904/3538 [05:13<01:03, 10.04it/s]"
     ]
    },
    {
     "name": "stdout",
     "output_type": "stream",
     "text": [
      "yes yes\n",
      "yes no\n"
     ]
    },
    {
     "name": "stderr",
     "output_type": "stream",
     "text": [
      " 82%|████████▏ | 2906/3538 [05:14<01:08,  9.25it/s]"
     ]
    },
    {
     "name": "stdout",
     "output_type": "stream",
     "text": [
      "yes no\n",
      "yes no\n",
      "yes no\n"
     ]
    },
    {
     "name": "stderr",
     "output_type": "stream",
     "text": [
      " 82%|████████▏ | 2908/3538 [05:14<01:02, 10.10it/s]"
     ]
    },
    {
     "name": "stdout",
     "output_type": "stream",
     "text": [
      "yes no\n",
      "yes yes\n"
     ]
    },
    {
     "name": "stderr",
     "output_type": "stream",
     "text": [
      " 82%|████████▏ | 2910/3538 [05:14<01:05,  9.54it/s]"
     ]
    },
    {
     "name": "stdout",
     "output_type": "stream",
     "text": [
      "yes no\n",
      "yes yes\n"
     ]
    },
    {
     "name": "stderr",
     "output_type": "stream",
     "text": [
      " 82%|████████▏ | 2913/3538 [05:14<01:06,  9.35it/s]"
     ]
    },
    {
     "name": "stdout",
     "output_type": "stream",
     "text": [
      "yes no\n",
      "yes yes\n"
     ]
    },
    {
     "name": "stderr",
     "output_type": "stream",
     "text": [
      " 82%|████████▏ | 2915/3538 [05:15<01:14,  8.35it/s]"
     ]
    },
    {
     "name": "stdout",
     "output_type": "stream",
     "text": [
      "yes yes\n",
      "yes no\n"
     ]
    },
    {
     "name": "stderr",
     "output_type": "stream",
     "text": [
      " 82%|████████▏ | 2917/3538 [05:15<01:02, 10.01it/s]"
     ]
    },
    {
     "name": "stdout",
     "output_type": "stream",
     "text": [
      "yes no\n",
      "yes no\n",
      "yes no\n"
     ]
    },
    {
     "name": "stderr",
     "output_type": "stream",
     "text": [
      " 83%|████████▎ | 2921/3538 [05:15<00:57, 10.69it/s]"
     ]
    },
    {
     "name": "stdout",
     "output_type": "stream",
     "text": [
      "yes no\n",
      "yes no\n",
      "yes no\n"
     ]
    },
    {
     "name": "stderr",
     "output_type": "stream",
     "text": [
      " 83%|████████▎ | 2923/3538 [05:15<01:08,  8.95it/s]"
     ]
    },
    {
     "name": "stdout",
     "output_type": "stream",
     "text": [
      "yes no\n",
      "yes no\n"
     ]
    },
    {
     "name": "stderr",
     "output_type": "stream",
     "text": [
      " 83%|████████▎ | 2925/3538 [05:15<01:03,  9.62it/s]"
     ]
    },
    {
     "name": "stdout",
     "output_type": "stream",
     "text": [
      "yes no\n",
      "yes no\n",
      "yes yes\n"
     ]
    },
    {
     "name": "stderr",
     "output_type": "stream",
     "text": [
      " 83%|████████▎ | 2929/3538 [05:16<00:53, 11.42it/s]"
     ]
    },
    {
     "name": "stdout",
     "output_type": "stream",
     "text": [
      "yes no\n",
      "yes no\n",
      "yes yes\n"
     ]
    },
    {
     "name": "stderr",
     "output_type": "stream",
     "text": [
      " 83%|████████▎ | 2931/3538 [05:16<00:50, 12.00it/s]"
     ]
    },
    {
     "name": "stdout",
     "output_type": "stream",
     "text": [
      "yes no\n",
      "yes yes\n",
      "yes yes\n"
     ]
    },
    {
     "name": "stderr",
     "output_type": "stream",
     "text": [
      " 83%|████████▎ | 2935/3538 [05:16<00:49, 12.30it/s]"
     ]
    },
    {
     "name": "stdout",
     "output_type": "stream",
     "text": [
      "yes yes\n",
      "yes no\n",
      "yes no\n"
     ]
    },
    {
     "name": "stderr",
     "output_type": "stream",
     "text": [
      " 83%|████████▎ | 2937/3538 [05:16<00:49, 12.18it/s]"
     ]
    },
    {
     "name": "stdout",
     "output_type": "stream",
     "text": [
      "yes no\n",
      "yes yes\n",
      "yes yes\n"
     ]
    },
    {
     "name": "stderr",
     "output_type": "stream",
     "text": [
      " 83%|████████▎ | 2941/3538 [05:17<00:47, 12.59it/s]"
     ]
    },
    {
     "name": "stdout",
     "output_type": "stream",
     "text": [
      "yes yes\n",
      "yes no\n",
      "yes yes\n"
     ]
    },
    {
     "name": "stderr",
     "output_type": "stream",
     "text": [
      " 83%|████████▎ | 2945/3538 [05:17<00:42, 13.79it/s]"
     ]
    },
    {
     "name": "stdout",
     "output_type": "stream",
     "text": [
      "yes yes\n",
      "yes no\n",
      "yes no\n",
      "yes no\n"
     ]
    },
    {
     "name": "stderr",
     "output_type": "stream",
     "text": [
      " 83%|████████▎ | 2949/3538 [05:17<00:41, 14.11it/s]"
     ]
    },
    {
     "name": "stdout",
     "output_type": "stream",
     "text": [
      "yes no\n",
      "yes no\n",
      "yes no\n",
      "yes no\n"
     ]
    },
    {
     "name": "stderr",
     "output_type": "stream",
     "text": [
      " 83%|████████▎ | 2953/3538 [05:18<00:39, 14.72it/s]"
     ]
    },
    {
     "name": "stdout",
     "output_type": "stream",
     "text": [
      "yes no\n",
      "yes no\n",
      "yes no\n",
      "yes no\n"
     ]
    },
    {
     "name": "stderr",
     "output_type": "stream",
     "text": [
      " 84%|████████▎ | 2956/3538 [05:18<00:37, 15.36it/s]"
     ]
    },
    {
     "name": "stdout",
     "output_type": "stream",
     "text": [
      "yes yes\n",
      "yes no\n",
      "yes yes\n"
     ]
    },
    {
     "name": "stderr",
     "output_type": "stream",
     "text": [
      " 84%|████████▎ | 2958/3538 [05:18<00:39, 14.56it/s]"
     ]
    },
    {
     "name": "stdout",
     "output_type": "stream",
     "text": [
      "yes yes\n",
      "yes no\n",
      "yes no\n",
      "yes no\n"
     ]
    },
    {
     "name": "stderr",
     "output_type": "stream",
     "text": [
      " 84%|████████▎ | 2962/3538 [05:18<00:41, 13.75it/s]"
     ]
    },
    {
     "name": "stdout",
     "output_type": "stream",
     "text": [
      "yes no\n",
      "yes no\n",
      "yes no\n"
     ]
    },
    {
     "name": "stderr",
     "output_type": "stream",
     "text": [
      " 84%|████████▍ | 2966/3538 [05:18<00:45, 12.63it/s]"
     ]
    },
    {
     "name": "stdout",
     "output_type": "stream",
     "text": [
      "yes yes\n",
      "yes no\n",
      "yes no\n"
     ]
    },
    {
     "name": "stderr",
     "output_type": "stream",
     "text": [
      " 84%|████████▍ | 2968/3538 [05:19<00:42, 13.54it/s]"
     ]
    },
    {
     "name": "stdout",
     "output_type": "stream",
     "text": [
      "yes no\n",
      "yes no\n",
      "yes no\n"
     ]
    },
    {
     "name": "stderr",
     "output_type": "stream",
     "text": [
      " 84%|████████▍ | 2972/3538 [05:19<00:42, 13.39it/s]"
     ]
    },
    {
     "name": "stdout",
     "output_type": "stream",
     "text": [
      "yes no\n",
      "yes no\n",
      "yes yes\n"
     ]
    },
    {
     "name": "stderr",
     "output_type": "stream",
     "text": [
      " 84%|████████▍ | 2974/3538 [05:19<00:43, 12.89it/s]"
     ]
    },
    {
     "name": "stdout",
     "output_type": "stream",
     "text": [
      "yes no\n",
      "yes no\n",
      "yes no\n"
     ]
    },
    {
     "name": "stderr",
     "output_type": "stream",
     "text": [
      " 84%|████████▍ | 2976/3538 [05:19<00:48, 11.57it/s]"
     ]
    },
    {
     "name": "stdout",
     "output_type": "stream",
     "text": [
      "yes yes\n",
      "yes no\n"
     ]
    },
    {
     "name": "stderr",
     "output_type": "stream",
     "text": [
      " 84%|████████▍ | 2980/3538 [05:20<00:50, 10.97it/s]"
     ]
    },
    {
     "name": "stdout",
     "output_type": "stream",
     "text": [
      "yes yes\n",
      "yes yes\n",
      "yes no\n"
     ]
    },
    {
     "name": "stderr",
     "output_type": "stream",
     "text": [
      " 84%|████████▍ | 2982/3538 [05:20<00:46, 11.97it/s]"
     ]
    },
    {
     "name": "stdout",
     "output_type": "stream",
     "text": [
      "yes yes\n",
      "yes no\n",
      "yes yes\n"
     ]
    },
    {
     "name": "stderr",
     "output_type": "stream",
     "text": [
      " 84%|████████▍ | 2986/3538 [05:20<00:41, 13.19it/s]"
     ]
    },
    {
     "name": "stdout",
     "output_type": "stream",
     "text": [
      "yes no\n",
      "yes no\n",
      "yes no\n",
      "yes no\n"
     ]
    },
    {
     "name": "stderr",
     "output_type": "stream",
     "text": [
      " 85%|████████▍ | 2990/3538 [05:20<00:41, 13.11it/s]"
     ]
    },
    {
     "name": "stdout",
     "output_type": "stream",
     "text": [
      "yes no\n",
      "yes no\n",
      "yes no\n"
     ]
    },
    {
     "name": "stderr",
     "output_type": "stream",
     "text": [
      " 85%|████████▍ | 2994/3538 [05:21<00:38, 14.31it/s]"
     ]
    },
    {
     "name": "stdout",
     "output_type": "stream",
     "text": [
      "yes yes\n",
      "yes yes\n",
      "yes yes\n",
      "yes no\n"
     ]
    },
    {
     "name": "stderr",
     "output_type": "stream",
     "text": [
      " 85%|████████▍ | 2996/3538 [05:21<00:38, 13.90it/s]"
     ]
    },
    {
     "name": "stdout",
     "output_type": "stream",
     "text": [
      "yes no\n",
      "yes yes\n",
      "yes no\n"
     ]
    },
    {
     "name": "stderr",
     "output_type": "stream",
     "text": [
      " 85%|████████▍ | 3000/3538 [05:21<00:40, 13.42it/s]"
     ]
    },
    {
     "name": "stdout",
     "output_type": "stream",
     "text": [
      "yes no\n",
      "yes yes\n",
      "yes no\n"
     ]
    },
    {
     "name": "stderr",
     "output_type": "stream",
     "text": [
      " 85%|████████▍ | 3002/3538 [05:21<00:40, 13.39it/s]"
     ]
    },
    {
     "name": "stdout",
     "output_type": "stream",
     "text": [
      "yes yes\n",
      "yes no\n",
      "yes no\n"
     ]
    },
    {
     "name": "stderr",
     "output_type": "stream",
     "text": [
      " 85%|████████▍ | 3006/3538 [05:22<00:35, 14.83it/s]"
     ]
    },
    {
     "name": "stdout",
     "output_type": "stream",
     "text": [
      "yes no\n",
      "yes no\n",
      "yes yes\n"
     ]
    },
    {
     "name": "stderr",
     "output_type": "stream",
     "text": [
      " 85%|████████▌ | 3008/3538 [05:22<00:37, 14.04it/s]"
     ]
    },
    {
     "name": "stdout",
     "output_type": "stream",
     "text": [
      "yes no\n",
      "yes no\n",
      "yes yes\n",
      "yes no\n"
     ]
    },
    {
     "name": "stderr",
     "output_type": "stream",
     "text": [
      " 85%|████████▌ | 3012/3538 [05:22<00:40, 13.04it/s]"
     ]
    },
    {
     "name": "stdout",
     "output_type": "stream",
     "text": [
      "yes no\n",
      "yes no\n"
     ]
    },
    {
     "name": "stderr",
     "output_type": "stream",
     "text": [
      " 85%|████████▌ | 3014/3538 [05:22<00:42, 12.36it/s]"
     ]
    },
    {
     "name": "stdout",
     "output_type": "stream",
     "text": [
      "yes no\n",
      "yes yes\n",
      "yes no\n"
     ]
    },
    {
     "name": "stderr",
     "output_type": "stream",
     "text": [
      " 85%|████████▌ | 3018/3538 [05:22<00:38, 13.35it/s]"
     ]
    },
    {
     "name": "stdout",
     "output_type": "stream",
     "text": [
      "yes no\n",
      "yes no\n",
      "yes yes\n",
      "yes yes\n"
     ]
    },
    {
     "name": "stderr",
     "output_type": "stream",
     "text": [
      " 85%|████████▌ | 3021/3538 [05:23<00:35, 14.50it/s]"
     ]
    },
    {
     "name": "stdout",
     "output_type": "stream",
     "text": [
      "yes yes\n",
      "yes no\n",
      "yes no\n"
     ]
    },
    {
     "name": "stderr",
     "output_type": "stream",
     "text": [
      " 86%|████████▌ | 3025/3538 [05:23<00:36, 14.23it/s]"
     ]
    },
    {
     "name": "stdout",
     "output_type": "stream",
     "text": [
      "yes no\n",
      "yes no\n",
      "yes no\n"
     ]
    },
    {
     "name": "stderr",
     "output_type": "stream",
     "text": [
      " 86%|████████▌ | 3027/3538 [05:23<00:36, 14.02it/s]"
     ]
    },
    {
     "name": "stdout",
     "output_type": "stream",
     "text": [
      "yes yes\n",
      "yes yes\n",
      "yes no\n"
     ]
    },
    {
     "name": "stderr",
     "output_type": "stream",
     "text": [
      " 86%|████████▌ | 3031/3538 [05:23<00:36, 13.91it/s]"
     ]
    },
    {
     "name": "stdout",
     "output_type": "stream",
     "text": [
      "yes yes\n",
      "yes yes\n",
      "yes no\n"
     ]
    },
    {
     "name": "stderr",
     "output_type": "stream",
     "text": [
      " 86%|████████▌ | 3033/3538 [05:24<00:37, 13.64it/s]"
     ]
    },
    {
     "name": "stdout",
     "output_type": "stream",
     "text": [
      "yes no\n",
      "yes no\n",
      "yes no\n"
     ]
    },
    {
     "name": "stderr",
     "output_type": "stream",
     "text": [
      " 86%|████████▌ | 3037/3538 [05:24<00:36, 13.73it/s]"
     ]
    },
    {
     "name": "stdout",
     "output_type": "stream",
     "text": [
      "yes no\n",
      "yes no\n",
      "yes no\n"
     ]
    },
    {
     "name": "stderr",
     "output_type": "stream",
     "text": [
      " 86%|████████▌ | 3039/3538 [05:24<00:37, 13.32it/s]"
     ]
    },
    {
     "name": "stdout",
     "output_type": "stream",
     "text": [
      "yes no\n",
      "yes yes\n",
      "yes no\n"
     ]
    },
    {
     "name": "stderr",
     "output_type": "stream",
     "text": [
      " 86%|████████▌ | 3043/3538 [05:24<00:34, 14.48it/s]"
     ]
    },
    {
     "name": "stdout",
     "output_type": "stream",
     "text": [
      "yes no\n",
      "yes no\n",
      "yes yes\n",
      "yes no\n"
     ]
    },
    {
     "name": "stderr",
     "output_type": "stream",
     "text": [
      " 86%|████████▌ | 3047/3538 [05:24<00:34, 14.31it/s]"
     ]
    },
    {
     "name": "stdout",
     "output_type": "stream",
     "text": [
      "yes no\n",
      "yes yes\n",
      "yes no\n"
     ]
    },
    {
     "name": "stderr",
     "output_type": "stream",
     "text": [
      " 86%|████████▌ | 3049/3538 [05:25<00:42, 11.46it/s]"
     ]
    },
    {
     "name": "stdout",
     "output_type": "stream",
     "text": [
      "yes yes\n",
      "yes yes\n"
     ]
    },
    {
     "name": "stderr",
     "output_type": "stream",
     "text": [
      " 86%|████████▌ | 3051/3538 [05:25<00:42, 11.33it/s]"
     ]
    },
    {
     "name": "stdout",
     "output_type": "stream",
     "text": [
      "yes yes\n",
      "yes yes\n",
      "yes no\n"
     ]
    },
    {
     "name": "stderr",
     "output_type": "stream",
     "text": [
      " 86%|████████▋ | 3055/3538 [05:25<00:40, 11.88it/s]"
     ]
    },
    {
     "name": "stdout",
     "output_type": "stream",
     "text": [
      "yes no\n",
      "yes no\n",
      "yes no\n"
     ]
    },
    {
     "name": "stderr",
     "output_type": "stream",
     "text": [
      " 86%|████████▋ | 3057/3538 [05:25<00:41, 11.60it/s]"
     ]
    },
    {
     "name": "stdout",
     "output_type": "stream",
     "text": [
      "yes no\n",
      "yes yes\n"
     ]
    },
    {
     "name": "stderr",
     "output_type": "stream",
     "text": [
      " 86%|████████▋ | 3059/3538 [05:26<00:44, 10.82it/s]"
     ]
    },
    {
     "name": "stdout",
     "output_type": "stream",
     "text": [
      "yes yes\n",
      "yes yes\n",
      "yes yes\n"
     ]
    },
    {
     "name": "stderr",
     "output_type": "stream",
     "text": [
      " 87%|████████▋ | 3061/3538 [05:26<00:47, 10.06it/s]"
     ]
    },
    {
     "name": "stdout",
     "output_type": "stream",
     "text": [
      "yes no\n",
      "yes no\n"
     ]
    },
    {
     "name": "stderr",
     "output_type": "stream",
     "text": [
      " 87%|████████▋ | 3065/3538 [05:26<00:44, 10.59it/s]"
     ]
    },
    {
     "name": "stdout",
     "output_type": "stream",
     "text": [
      "yes yes\n",
      "yes yes\n",
      "yes yes\n"
     ]
    },
    {
     "name": "stderr",
     "output_type": "stream",
     "text": [
      " 87%|████████▋ | 3067/3538 [05:26<00:43, 10.79it/s]"
     ]
    },
    {
     "name": "stdout",
     "output_type": "stream",
     "text": [
      "yes no\n",
      "yes no\n"
     ]
    },
    {
     "name": "stderr",
     "output_type": "stream",
     "text": [
      " 87%|████████▋ | 3069/3538 [05:27<00:51,  9.04it/s]"
     ]
    },
    {
     "name": "stdout",
     "output_type": "stream",
     "text": [
      "yes yes\n",
      "yes yes\n"
     ]
    },
    {
     "name": "stderr",
     "output_type": "stream",
     "text": [
      " 87%|████████▋ | 3071/3538 [05:27<00:52,  8.94it/s]"
     ]
    },
    {
     "name": "stdout",
     "output_type": "stream",
     "text": [
      "yes no\n",
      "yes yes\n"
     ]
    },
    {
     "name": "stderr",
     "output_type": "stream",
     "text": [
      " 87%|████████▋ | 3073/3538 [05:27<00:53,  8.62it/s]"
     ]
    },
    {
     "name": "stdout",
     "output_type": "stream",
     "text": [
      "yes no\n",
      "yes no\n"
     ]
    },
    {
     "name": "stderr",
     "output_type": "stream",
     "text": [
      " 87%|████████▋ | 3076/3538 [05:28<00:47,  9.65it/s]"
     ]
    },
    {
     "name": "stdout",
     "output_type": "stream",
     "text": [
      "yes no\n",
      "yes yes\n",
      "yes no\n"
     ]
    },
    {
     "name": "stderr",
     "output_type": "stream",
     "text": [
      " 87%|████████▋ | 3078/3538 [05:28<00:43, 10.47it/s]"
     ]
    },
    {
     "name": "stdout",
     "output_type": "stream",
     "text": [
      "yes yes\n",
      "yes no\n",
      "yes yes\n"
     ]
    },
    {
     "name": "stderr",
     "output_type": "stream",
     "text": [
      " 87%|████████▋ | 3080/3538 [05:28<00:39, 11.59it/s]"
     ]
    },
    {
     "name": "stdout",
     "output_type": "stream",
     "text": [
      "yes no\n",
      "yes yes\n",
      "yes no\n"
     ]
    },
    {
     "name": "stderr",
     "output_type": "stream",
     "text": [
      " 87%|████████▋ | 3084/3538 [05:28<00:39, 11.56it/s]"
     ]
    },
    {
     "name": "stdout",
     "output_type": "stream",
     "text": [
      "yes yes\n",
      "yes no\n",
      "yes no\n"
     ]
    },
    {
     "name": "stderr",
     "output_type": "stream",
     "text": [
      " 87%|████████▋ | 3088/3538 [05:28<00:36, 12.16it/s]"
     ]
    },
    {
     "name": "stdout",
     "output_type": "stream",
     "text": [
      "yes yes\n",
      "yes no\n",
      "yes no\n"
     ]
    },
    {
     "name": "stderr",
     "output_type": "stream",
     "text": [
      " 87%|████████▋ | 3090/3538 [05:29<00:35, 12.58it/s]"
     ]
    },
    {
     "name": "stdout",
     "output_type": "stream",
     "text": [
      "yes no\n",
      "yes no\n",
      "yes no\n"
     ]
    },
    {
     "name": "stderr",
     "output_type": "stream",
     "text": [
      " 87%|████████▋ | 3094/3538 [05:29<00:37, 11.99it/s]"
     ]
    },
    {
     "name": "stdout",
     "output_type": "stream",
     "text": [
      "yes no\n",
      "yes no\n",
      "yes no\n"
     ]
    },
    {
     "name": "stderr",
     "output_type": "stream",
     "text": [
      " 88%|████████▊ | 3096/3538 [05:29<00:35, 12.33it/s]"
     ]
    },
    {
     "name": "stdout",
     "output_type": "stream",
     "text": [
      "yes yes\n",
      "yes no\n",
      "yes no\n"
     ]
    },
    {
     "name": "stderr",
     "output_type": "stream",
     "text": [
      " 88%|████████▊ | 3100/3538 [05:29<00:34, 12.82it/s]"
     ]
    },
    {
     "name": "stdout",
     "output_type": "stream",
     "text": [
      "yes no\n",
      "yes no\n",
      "yes yes\n"
     ]
    },
    {
     "name": "stderr",
     "output_type": "stream",
     "text": [
      " 88%|████████▊ | 3104/3538 [05:30<00:31, 13.95it/s]"
     ]
    },
    {
     "name": "stdout",
     "output_type": "stream",
     "text": [
      "yes no\n",
      "yes no\n",
      "yes no\n",
      "yes yes\n"
     ]
    },
    {
     "name": "stderr",
     "output_type": "stream",
     "text": [
      " 88%|████████▊ | 3106/3538 [05:30<00:30, 14.03it/s]"
     ]
    },
    {
     "name": "stdout",
     "output_type": "stream",
     "text": [
      "yes no\n",
      "yes yes\n",
      "yes no\n"
     ]
    },
    {
     "name": "stderr",
     "output_type": "stream",
     "text": [
      " 88%|████████▊ | 3111/3538 [05:30<00:27, 15.27it/s]"
     ]
    },
    {
     "name": "stdout",
     "output_type": "stream",
     "text": [
      "yes no\n",
      "yes no\n",
      "yes yes\n",
      "yes no\n"
     ]
    },
    {
     "name": "stderr",
     "output_type": "stream",
     "text": [
      " 88%|████████▊ | 3116/3538 [05:30<00:24, 17.34it/s]"
     ]
    },
    {
     "name": "stdout",
     "output_type": "stream",
     "text": [
      "yes no\n",
      "yes no\n",
      "yes yes\n",
      "yes yes\n",
      "yes yes\n"
     ]
    },
    {
     "name": "stderr",
     "output_type": "stream",
     "text": [
      " 88%|████████▊ | 3118/3538 [05:31<00:27, 15.28it/s]"
     ]
    },
    {
     "name": "stdout",
     "output_type": "stream",
     "text": [
      "yes no\n",
      "yes no\n"
     ]
    },
    {
     "name": "stderr",
     "output_type": "stream",
     "text": [
      " 88%|████████▊ | 3120/3538 [05:31<00:36, 11.52it/s]"
     ]
    },
    {
     "name": "stdout",
     "output_type": "stream",
     "text": [
      "yes yes\n",
      "yes no\n"
     ]
    },
    {
     "name": "stderr",
     "output_type": "stream",
     "text": [
      " 88%|████████▊ | 3122/3538 [05:31<00:34, 11.89it/s]"
     ]
    },
    {
     "name": "stdout",
     "output_type": "stream",
     "text": [
      "yes no\n",
      "yes yes\n",
      "yes no\n"
     ]
    },
    {
     "name": "stderr",
     "output_type": "stream",
     "text": [
      " 88%|████████▊ | 3126/3538 [05:31<00:33, 12.12it/s]"
     ]
    },
    {
     "name": "stdout",
     "output_type": "stream",
     "text": [
      "yes no\n",
      "yes yes\n",
      "yes no\n"
     ]
    },
    {
     "name": "stderr",
     "output_type": "stream",
     "text": [
      " 88%|████████▊ | 3128/3538 [05:31<00:32, 12.59it/s]"
     ]
    },
    {
     "name": "stdout",
     "output_type": "stream",
     "text": [
      "yes no\n",
      "yes no\n",
      "yes no\n"
     ]
    },
    {
     "name": "stderr",
     "output_type": "stream",
     "text": [
      " 88%|████████▊ | 3130/3538 [05:32<00:31, 13.11it/s]"
     ]
    },
    {
     "name": "stdout",
     "output_type": "stream",
     "text": [
      "yes no\n",
      "yes yes\n"
     ]
    },
    {
     "name": "stderr",
     "output_type": "stream",
     "text": [
      " 89%|████████▊ | 3134/3538 [05:32<00:33, 12.12it/s]"
     ]
    },
    {
     "name": "stdout",
     "output_type": "stream",
     "text": [
      "yes yes\n",
      "yes no\n",
      "yes yes\n"
     ]
    },
    {
     "name": "stderr",
     "output_type": "stream",
     "text": [
      " 89%|████████▊ | 3136/3538 [05:32<00:33, 12.07it/s]"
     ]
    },
    {
     "name": "stdout",
     "output_type": "stream",
     "text": [
      "yes yes\n",
      "yes no\n",
      "yes no\n"
     ]
    },
    {
     "name": "stderr",
     "output_type": "stream",
     "text": [
      " 89%|████████▉ | 3140/3538 [05:32<00:31, 12.64it/s]"
     ]
    },
    {
     "name": "stdout",
     "output_type": "stream",
     "text": [
      "yes no\n",
      "yes yes\n",
      "yes yes\n"
     ]
    },
    {
     "name": "stderr",
     "output_type": "stream",
     "text": [
      " 89%|████████▉ | 3142/3538 [05:33<00:30, 12.82it/s]"
     ]
    },
    {
     "name": "stdout",
     "output_type": "stream",
     "text": [
      "yes no\n",
      "yes no\n",
      "yes yes\n"
     ]
    },
    {
     "name": "stderr",
     "output_type": "stream",
     "text": [
      " 89%|████████▉ | 3146/3538 [05:33<00:30, 13.06it/s]"
     ]
    },
    {
     "name": "stdout",
     "output_type": "stream",
     "text": [
      "yes no\n",
      "yes no\n",
      "yes yes\n"
     ]
    },
    {
     "name": "stderr",
     "output_type": "stream",
     "text": [
      " 89%|████████▉ | 3148/3538 [05:33<00:28, 13.83it/s]"
     ]
    },
    {
     "name": "stdout",
     "output_type": "stream",
     "text": [
      "yes no\n",
      "yes yes\n",
      "yes yes\n"
     ]
    },
    {
     "name": "stderr",
     "output_type": "stream",
     "text": [
      " 89%|████████▉ | 3152/3538 [05:33<00:28, 13.33it/s]"
     ]
    },
    {
     "name": "stdout",
     "output_type": "stream",
     "text": [
      "yes no\n",
      "yes no\n",
      "yes no\n"
     ]
    },
    {
     "name": "stderr",
     "output_type": "stream",
     "text": [
      " 89%|████████▉ | 3154/3538 [05:34<00:29, 13.01it/s]"
     ]
    },
    {
     "name": "stdout",
     "output_type": "stream",
     "text": [
      "yes no\n",
      "yes yes\n",
      "yes no\n"
     ]
    },
    {
     "name": "stderr",
     "output_type": "stream",
     "text": [
      " 89%|████████▉ | 3158/3538 [05:34<00:29, 13.08it/s]"
     ]
    },
    {
     "name": "stdout",
     "output_type": "stream",
     "text": [
      "yes yes\n",
      "yes no\n",
      "yes no\n"
     ]
    },
    {
     "name": "stderr",
     "output_type": "stream",
     "text": [
      " 89%|████████▉ | 3160/3538 [05:34<00:30, 12.46it/s]"
     ]
    },
    {
     "name": "stdout",
     "output_type": "stream",
     "text": [
      "yes no\n",
      "yes no\n",
      "yes no\n"
     ]
    },
    {
     "name": "stderr",
     "output_type": "stream",
     "text": [
      " 89%|████████▉ | 3162/3538 [05:34<00:31, 11.87it/s]"
     ]
    },
    {
     "name": "stdout",
     "output_type": "stream",
     "text": [
      "yes yes\n",
      "yes no\n"
     ]
    },
    {
     "name": "stderr",
     "output_type": "stream",
     "text": [
      " 89%|████████▉ | 3164/3538 [05:34<00:36, 10.25it/s]"
     ]
    },
    {
     "name": "stdout",
     "output_type": "stream",
     "text": [
      "yes yes\n",
      "yes yes\n"
     ]
    },
    {
     "name": "stderr",
     "output_type": "stream",
     "text": [
      " 90%|████████▉ | 3168/3538 [05:35<00:36, 10.04it/s]"
     ]
    },
    {
     "name": "stdout",
     "output_type": "stream",
     "text": [
      "yes yes\n",
      "yes yes\n",
      "yes yes\n"
     ]
    },
    {
     "name": "stderr",
     "output_type": "stream",
     "text": [
      " 90%|████████▉ | 3170/3538 [05:35<00:41,  8.77it/s]"
     ]
    },
    {
     "name": "stdout",
     "output_type": "stream",
     "text": [
      "yes yes\n",
      "yes no\n",
      "yes yes\n"
     ]
    },
    {
     "name": "stderr",
     "output_type": "stream",
     "text": [
      " 90%|████████▉ | 3172/3538 [05:35<00:37,  9.67it/s]"
     ]
    },
    {
     "name": "stdout",
     "output_type": "stream",
     "text": [
      "yes yes\n",
      "yes yes\n"
     ]
    },
    {
     "name": "stderr",
     "output_type": "stream",
     "text": [
      " 90%|████████▉ | 3176/3538 [05:36<00:36, 10.05it/s]"
     ]
    },
    {
     "name": "stdout",
     "output_type": "stream",
     "text": [
      "yes no\n",
      "yes no\n",
      "yes yes\n"
     ]
    },
    {
     "name": "stderr",
     "output_type": "stream",
     "text": [
      " 90%|████████▉ | 3178/3538 [05:36<00:38,  9.33it/s]"
     ]
    },
    {
     "name": "stdout",
     "output_type": "stream",
     "text": [
      "yes yes\n",
      "yes yes\n"
     ]
    },
    {
     "name": "stderr",
     "output_type": "stream",
     "text": [
      " 90%|████████▉ | 3180/3538 [05:36<00:42,  8.51it/s]"
     ]
    },
    {
     "name": "stdout",
     "output_type": "stream",
     "text": [
      "yes yes\n",
      "yes no\n"
     ]
    },
    {
     "name": "stderr",
     "output_type": "stream",
     "text": [
      " 90%|████████▉ | 3182/3538 [05:36<00:41,  8.53it/s]"
     ]
    },
    {
     "name": "stdout",
     "output_type": "stream",
     "text": [
      "yes no\n",
      "yes no\n"
     ]
    },
    {
     "name": "stderr",
     "output_type": "stream",
     "text": [
      " 90%|████████▉ | 3184/3538 [05:37<00:40,  8.70it/s]"
     ]
    },
    {
     "name": "stdout",
     "output_type": "stream",
     "text": [
      "yes no\n",
      "yes no\n"
     ]
    },
    {
     "name": "stderr",
     "output_type": "stream",
     "text": [
      " 90%|█████████ | 3186/3538 [05:37<00:38,  9.11it/s]"
     ]
    },
    {
     "name": "stdout",
     "output_type": "stream",
     "text": [
      "yes no\n",
      "yes yes\n"
     ]
    },
    {
     "name": "stderr",
     "output_type": "stream",
     "text": [
      " 90%|█████████ | 3188/3538 [05:37<00:41,  8.44it/s]"
     ]
    },
    {
     "name": "stdout",
     "output_type": "stream",
     "text": [
      "yes no\n",
      "yes no\n"
     ]
    },
    {
     "name": "stderr",
     "output_type": "stream",
     "text": [
      " 90%|█████████ | 3190/3538 [05:37<00:40,  8.63it/s]"
     ]
    },
    {
     "name": "stdout",
     "output_type": "stream",
     "text": [
      "yes yes\n",
      "yes no\n"
     ]
    },
    {
     "name": "stderr",
     "output_type": "stream",
     "text": [
      " 90%|█████████ | 3192/3538 [05:38<00:36,  9.55it/s]"
     ]
    },
    {
     "name": "stdout",
     "output_type": "stream",
     "text": [
      "yes yes\n",
      "yes no\n",
      "yes no\n"
     ]
    },
    {
     "name": "stderr",
     "output_type": "stream",
     "text": [
      " 90%|█████████ | 3196/3538 [05:38<00:33, 10.26it/s]"
     ]
    },
    {
     "name": "stdout",
     "output_type": "stream",
     "text": [
      "yes no\n",
      "yes yes\n",
      "yes no\n"
     ]
    },
    {
     "name": "stderr",
     "output_type": "stream",
     "text": [
      " 90%|█████████ | 3198/3538 [05:38<00:32, 10.33it/s]"
     ]
    },
    {
     "name": "stdout",
     "output_type": "stream",
     "text": [
      "yes yes\n",
      "yes no\n",
      "yes no\n"
     ]
    },
    {
     "name": "stderr",
     "output_type": "stream",
     "text": [
      " 90%|█████████ | 3200/3538 [05:38<00:31, 10.65it/s]"
     ]
    },
    {
     "name": "stdout",
     "output_type": "stream",
     "text": [
      "yes yes\n",
      "yes no\n",
      "yes yes\n"
     ]
    },
    {
     "name": "stderr",
     "output_type": "stream",
     "text": [
      " 91%|█████████ | 3204/3538 [05:39<00:32, 10.43it/s]"
     ]
    },
    {
     "name": "stdout",
     "output_type": "stream",
     "text": [
      "yes no\n",
      "yes no\n",
      "yes no\n"
     ]
    },
    {
     "name": "stderr",
     "output_type": "stream",
     "text": [
      " 91%|█████████ | 3206/3538 [05:39<00:31, 10.41it/s]"
     ]
    },
    {
     "name": "stdout",
     "output_type": "stream",
     "text": [
      "yes no\n",
      "yes no\n"
     ]
    },
    {
     "name": "stderr",
     "output_type": "stream",
     "text": [
      " 91%|█████████ | 3210/3538 [05:39<00:32, 10.24it/s]"
     ]
    },
    {
     "name": "stdout",
     "output_type": "stream",
     "text": [
      "yes no\n",
      "yes yes\n",
      "yes no\n"
     ]
    },
    {
     "name": "stderr",
     "output_type": "stream",
     "text": [
      " 91%|█████████ | 3212/3538 [05:39<00:32, 10.17it/s]"
     ]
    },
    {
     "name": "stdout",
     "output_type": "stream",
     "text": [
      "yes no\n",
      "yes no\n",
      "yes no\n"
     ]
    },
    {
     "name": "stderr",
     "output_type": "stream",
     "text": [
      " 91%|█████████ | 3216/3538 [05:40<00:31, 10.38it/s]"
     ]
    },
    {
     "name": "stdout",
     "output_type": "stream",
     "text": [
      "yes no\n",
      "yes yes\n",
      "yes no\n"
     ]
    },
    {
     "name": "stderr",
     "output_type": "stream",
     "text": [
      " 91%|█████████ | 3218/3538 [05:40<00:30, 10.55it/s]"
     ]
    },
    {
     "name": "stdout",
     "output_type": "stream",
     "text": [
      "yes no\n",
      "yes yes\n",
      "yes no\n"
     ]
    },
    {
     "name": "stderr",
     "output_type": "stream",
     "text": [
      " 91%|█████████ | 3222/3538 [05:40<00:28, 10.95it/s]"
     ]
    },
    {
     "name": "stdout",
     "output_type": "stream",
     "text": [
      "yes no\n",
      "yes no\n",
      "yes no\n"
     ]
    },
    {
     "name": "stderr",
     "output_type": "stream",
     "text": [
      " 91%|█████████ | 3224/3538 [05:41<00:31,  9.98it/s]"
     ]
    },
    {
     "name": "stdout",
     "output_type": "stream",
     "text": [
      "yes no\n",
      "yes no\n"
     ]
    },
    {
     "name": "stderr",
     "output_type": "stream",
     "text": [
      " 91%|█████████ | 3227/3538 [05:41<00:32,  9.47it/s]"
     ]
    },
    {
     "name": "stdout",
     "output_type": "stream",
     "text": [
      "yes yes\n",
      "yes no\n",
      "yes no\n"
     ]
    },
    {
     "name": "stderr",
     "output_type": "stream",
     "text": [
      " 91%|█████████▏| 3229/3538 [05:41<00:32,  9.41it/s]"
     ]
    },
    {
     "name": "stdout",
     "output_type": "stream",
     "text": [
      "yes no\n",
      "yes no\n"
     ]
    },
    {
     "name": "stderr",
     "output_type": "stream",
     "text": [
      " 91%|█████████▏| 3232/3538 [05:41<00:30, 10.13it/s]"
     ]
    },
    {
     "name": "stdout",
     "output_type": "stream",
     "text": [
      "yes yes\n",
      "yes no\n",
      "yes no\n"
     ]
    },
    {
     "name": "stderr",
     "output_type": "stream",
     "text": [
      " 91%|█████████▏| 3234/3538 [05:42<00:33,  9.02it/s]"
     ]
    },
    {
     "name": "stdout",
     "output_type": "stream",
     "text": [
      "yes no\n",
      "yes no\n"
     ]
    },
    {
     "name": "stderr",
     "output_type": "stream",
     "text": [
      " 91%|█████████▏| 3236/3538 [05:42<00:36,  8.28it/s]"
     ]
    },
    {
     "name": "stdout",
     "output_type": "stream",
     "text": [
      "yes no\n",
      "yes no\n",
      "yes yes\n"
     ]
    },
    {
     "name": "stderr",
     "output_type": "stream",
     "text": [
      " 92%|█████████▏| 3239/3538 [05:42<00:33,  8.81it/s]"
     ]
    },
    {
     "name": "stdout",
     "output_type": "stream",
     "text": [
      "yes no\n",
      "yes no\n"
     ]
    },
    {
     "name": "stderr",
     "output_type": "stream",
     "text": [
      " 92%|█████████▏| 3242/3538 [05:43<00:32,  9.10it/s]"
     ]
    },
    {
     "name": "stdout",
     "output_type": "stream",
     "text": [
      "yes yes\n",
      "yes yes\n",
      "yes no\n"
     ]
    },
    {
     "name": "stderr",
     "output_type": "stream",
     "text": [
      " 92%|█████████▏| 3245/3538 [05:43<00:30,  9.50it/s]"
     ]
    },
    {
     "name": "stdout",
     "output_type": "stream",
     "text": [
      "yes yes\n",
      "yes no\n",
      "yes yes\n"
     ]
    },
    {
     "name": "stderr",
     "output_type": "stream",
     "text": [
      " 92%|█████████▏| 3248/3538 [05:43<00:29,  9.94it/s]"
     ]
    },
    {
     "name": "stdout",
     "output_type": "stream",
     "text": [
      "yes yes\n",
      "yes no\n",
      "yes no\n"
     ]
    },
    {
     "name": "stderr",
     "output_type": "stream",
     "text": [
      " 92%|█████████▏| 3250/3538 [05:43<00:30,  9.35it/s]"
     ]
    },
    {
     "name": "stdout",
     "output_type": "stream",
     "text": [
      "yes yes\n",
      "yes no\n"
     ]
    },
    {
     "name": "stderr",
     "output_type": "stream",
     "text": [
      " 92%|█████████▏| 3252/3538 [05:44<00:27, 10.26it/s]"
     ]
    },
    {
     "name": "stdout",
     "output_type": "stream",
     "text": [
      "yes yes\n",
      "yes no\n",
      "yes no\n"
     ]
    },
    {
     "name": "stderr",
     "output_type": "stream",
     "text": [
      " 92%|█████████▏| 3254/3538 [05:44<00:27, 10.16it/s]"
     ]
    },
    {
     "name": "stdout",
     "output_type": "stream",
     "text": [
      "yes yes\n",
      "yes no\n"
     ]
    },
    {
     "name": "stderr",
     "output_type": "stream",
     "text": [
      " 92%|█████████▏| 3257/3538 [05:44<00:29,  9.67it/s]"
     ]
    },
    {
     "name": "stdout",
     "output_type": "stream",
     "text": [
      "yes yes\n",
      "yes no\n"
     ]
    },
    {
     "name": "stderr",
     "output_type": "stream",
     "text": [
      " 92%|█████████▏| 3259/3538 [05:44<00:28,  9.78it/s]"
     ]
    },
    {
     "name": "stdout",
     "output_type": "stream",
     "text": [
      "yes no\n",
      "yes no\n",
      "yes yes\n"
     ]
    },
    {
     "name": "stderr",
     "output_type": "stream",
     "text": [
      " 92%|█████████▏| 3263/3538 [05:45<00:24, 11.21it/s]"
     ]
    },
    {
     "name": "stdout",
     "output_type": "stream",
     "text": [
      "yes no\n",
      "yes no\n",
      "yes no\n"
     ]
    },
    {
     "name": "stderr",
     "output_type": "stream",
     "text": [
      " 92%|█████████▏| 3265/3538 [05:45<00:23, 11.59it/s]"
     ]
    },
    {
     "name": "stdout",
     "output_type": "stream",
     "text": [
      "yes no\n",
      "yes yes\n",
      "yes no\n"
     ]
    },
    {
     "name": "stderr",
     "output_type": "stream",
     "text": [
      " 92%|█████████▏| 3267/3538 [05:45<00:22, 11.94it/s]"
     ]
    },
    {
     "name": "stdout",
     "output_type": "stream",
     "text": [
      "yes no\n",
      "yes yes\n"
     ]
    },
    {
     "name": "stderr",
     "output_type": "stream",
     "text": [
      " 92%|█████████▏| 3271/3538 [05:45<00:21, 12.32it/s]"
     ]
    },
    {
     "name": "stdout",
     "output_type": "stream",
     "text": [
      "yes no\n",
      "yes yes\n",
      "yes yes\n",
      "yes yes\n"
     ]
    },
    {
     "name": "stderr",
     "output_type": "stream",
     "text": [
      " 93%|█████████▎| 3275/3538 [05:46<00:21, 12.46it/s]"
     ]
    },
    {
     "name": "stdout",
     "output_type": "stream",
     "text": [
      "yes yes\n",
      "yes no\n",
      "yes yes\n"
     ]
    },
    {
     "name": "stderr",
     "output_type": "stream",
     "text": [
      " 93%|█████████▎| 3277/3538 [05:46<00:22, 11.72it/s]"
     ]
    },
    {
     "name": "stdout",
     "output_type": "stream",
     "text": [
      "yes no\n",
      "yes no\n",
      "yes no\n"
     ]
    },
    {
     "name": "stderr",
     "output_type": "stream",
     "text": [
      " 93%|█████████▎| 3281/3538 [05:46<00:22, 11.46it/s]"
     ]
    },
    {
     "name": "stdout",
     "output_type": "stream",
     "text": [
      "yes no\n",
      "yes no\n",
      "yes no\n"
     ]
    },
    {
     "name": "stderr",
     "output_type": "stream",
     "text": [
      " 93%|█████████▎| 3283/3538 [05:46<00:21, 11.75it/s]"
     ]
    },
    {
     "name": "stdout",
     "output_type": "stream",
     "text": [
      "yes no\n",
      "yes yes\n",
      "yes yes\n"
     ]
    },
    {
     "name": "stderr",
     "output_type": "stream",
     "text": [
      " 93%|█████████▎| 3287/3538 [05:47<00:21, 11.82it/s]"
     ]
    },
    {
     "name": "stdout",
     "output_type": "stream",
     "text": [
      "yes no\n",
      "yes yes\n",
      "yes yes\n"
     ]
    },
    {
     "name": "stderr",
     "output_type": "stream",
     "text": [
      " 93%|█████████▎| 3289/3538 [05:47<00:25,  9.85it/s]"
     ]
    },
    {
     "name": "stdout",
     "output_type": "stream",
     "text": [
      "yes no\n",
      "yes no\n"
     ]
    },
    {
     "name": "stderr",
     "output_type": "stream",
     "text": [
      " 93%|█████████▎| 3291/3538 [05:47<00:27,  8.94it/s]"
     ]
    },
    {
     "name": "stdout",
     "output_type": "stream",
     "text": [
      "yes no\n",
      "yes yes\n"
     ]
    },
    {
     "name": "stderr",
     "output_type": "stream",
     "text": [
      " 93%|█████████▎| 3293/3538 [05:48<00:30,  8.17it/s]"
     ]
    },
    {
     "name": "stdout",
     "output_type": "stream",
     "text": [
      "yes no\n",
      "yes no\n"
     ]
    },
    {
     "name": "stderr",
     "output_type": "stream",
     "text": [
      " 93%|█████████▎| 3295/3538 [05:48<00:26,  9.27it/s]"
     ]
    },
    {
     "name": "stdout",
     "output_type": "stream",
     "text": [
      "yes yes\n",
      "yes no\n",
      "yes yes\n"
     ]
    },
    {
     "name": "stderr",
     "output_type": "stream",
     "text": [
      " 93%|█████████▎| 3297/3538 [05:48<00:22, 10.58it/s]"
     ]
    },
    {
     "name": "stdout",
     "output_type": "stream",
     "text": [
      "yes no\n",
      "yes yes\n",
      "yes no\n"
     ]
    },
    {
     "name": "stderr",
     "output_type": "stream",
     "text": [
      " 93%|█████████▎| 3301/3538 [05:48<00:25,  9.34it/s]"
     ]
    },
    {
     "name": "stdout",
     "output_type": "stream",
     "text": [
      "yes yes\n",
      "yes no\n"
     ]
    },
    {
     "name": "stderr",
     "output_type": "stream",
     "text": [
      " 93%|█████████▎| 3304/3538 [05:49<00:24,  9.40it/s]"
     ]
    },
    {
     "name": "stdout",
     "output_type": "stream",
     "text": [
      "yes yes\n",
      "yes no\n",
      "yes no\n"
     ]
    },
    {
     "name": "stderr",
     "output_type": "stream",
     "text": [
      " 93%|█████████▎| 3306/3538 [05:49<00:22, 10.11it/s]"
     ]
    },
    {
     "name": "stdout",
     "output_type": "stream",
     "text": [
      "yes no\n",
      "yes no\n"
     ]
    },
    {
     "name": "stderr",
     "output_type": "stream",
     "text": [
      " 93%|█████████▎| 3308/3538 [05:49<00:23,  9.81it/s]"
     ]
    },
    {
     "name": "stdout",
     "output_type": "stream",
     "text": [
      "yes yes\n",
      "yes no\n",
      "yes no\n"
     ]
    },
    {
     "name": "stderr",
     "output_type": "stream",
     "text": [
      " 94%|█████████▎| 3312/3538 [05:49<00:20, 10.84it/s]"
     ]
    },
    {
     "name": "stdout",
     "output_type": "stream",
     "text": [
      "yes no\n",
      "yes no\n",
      "yes no\n"
     ]
    },
    {
     "name": "stderr",
     "output_type": "stream",
     "text": [
      " 94%|█████████▎| 3314/3538 [05:49<00:20, 11.15it/s]"
     ]
    },
    {
     "name": "stdout",
     "output_type": "stream",
     "text": [
      "yes no\n",
      "yes no\n",
      "yes yes\n"
     ]
    },
    {
     "name": "stderr",
     "output_type": "stream",
     "text": [
      " 94%|█████████▍| 3318/3538 [05:50<00:19, 11.22it/s]"
     ]
    },
    {
     "name": "stdout",
     "output_type": "stream",
     "text": [
      "yes no\n",
      "yes yes\n",
      "yes no\n"
     ]
    },
    {
     "name": "stderr",
     "output_type": "stream",
     "text": [
      " 94%|█████████▍| 3320/3538 [05:50<00:19, 11.32it/s]"
     ]
    },
    {
     "name": "stdout",
     "output_type": "stream",
     "text": [
      "yes yes\n",
      "yes yes\n",
      "yes yes\n"
     ]
    },
    {
     "name": "stderr",
     "output_type": "stream",
     "text": [
      " 94%|█████████▍| 3324/3538 [05:50<00:16, 12.84it/s]"
     ]
    },
    {
     "name": "stdout",
     "output_type": "stream",
     "text": [
      "yes no\n",
      "yes no\n",
      "yes no\n"
     ]
    },
    {
     "name": "stderr",
     "output_type": "stream",
     "text": [
      " 94%|█████████▍| 3326/3538 [05:51<00:19, 10.62it/s]"
     ]
    },
    {
     "name": "stdout",
     "output_type": "stream",
     "text": [
      "yes yes\n",
      "yes yes\n"
     ]
    },
    {
     "name": "stderr",
     "output_type": "stream",
     "text": [
      " 94%|█████████▍| 3328/3538 [05:51<00:20, 10.18it/s]"
     ]
    },
    {
     "name": "stdout",
     "output_type": "stream",
     "text": [
      "yes yes\n",
      "yes no\n"
     ]
    },
    {
     "name": "stderr",
     "output_type": "stream",
     "text": [
      " 94%|█████████▍| 3330/3538 [05:51<00:20, 10.05it/s]"
     ]
    },
    {
     "name": "stdout",
     "output_type": "stream",
     "text": [
      "yes yes\n",
      "yes no\n",
      "yes yes\n"
     ]
    },
    {
     "name": "stderr",
     "output_type": "stream",
     "text": [
      " 94%|█████████▍| 3334/3538 [05:51<00:19, 10.36it/s]"
     ]
    },
    {
     "name": "stdout",
     "output_type": "stream",
     "text": [
      "yes no\n",
      "yes yes\n",
      "yes no\n"
     ]
    },
    {
     "name": "stderr",
     "output_type": "stream",
     "text": [
      " 94%|█████████▍| 3336/3538 [05:52<00:19, 10.36it/s]"
     ]
    },
    {
     "name": "stdout",
     "output_type": "stream",
     "text": [
      "yes no\n",
      "yes yes\n"
     ]
    },
    {
     "name": "stderr",
     "output_type": "stream",
     "text": [
      " 94%|█████████▍| 3338/3538 [05:52<00:20,  9.77it/s]"
     ]
    },
    {
     "name": "stdout",
     "output_type": "stream",
     "text": [
      "yes no\n",
      "yes no\n"
     ]
    },
    {
     "name": "stderr",
     "output_type": "stream",
     "text": [
      " 94%|█████████▍| 3340/3538 [05:52<00:21,  9.39it/s]"
     ]
    },
    {
     "name": "stdout",
     "output_type": "stream",
     "text": [
      "yes no\n",
      "yes yes\n"
     ]
    },
    {
     "name": "stderr",
     "output_type": "stream",
     "text": [
      " 94%|█████████▍| 3343/3538 [05:52<00:20,  9.59it/s]"
     ]
    },
    {
     "name": "stdout",
     "output_type": "stream",
     "text": [
      "yes no\n",
      "yes yes\n",
      "yes no\n"
     ]
    },
    {
     "name": "stderr",
     "output_type": "stream",
     "text": [
      " 95%|█████████▍| 3345/3538 [05:52<00:17, 10.74it/s]"
     ]
    },
    {
     "name": "stdout",
     "output_type": "stream",
     "text": [
      "yes yes\n",
      "yes yes\n",
      "yes yes\n"
     ]
    },
    {
     "name": "stderr",
     "output_type": "stream",
     "text": [
      " 95%|█████████▍| 3349/3538 [05:53<00:17, 10.76it/s]"
     ]
    },
    {
     "name": "stdout",
     "output_type": "stream",
     "text": [
      "yes no\n",
      "yes no\n",
      "yes no\n"
     ]
    },
    {
     "name": "stderr",
     "output_type": "stream",
     "text": [
      " 95%|█████████▍| 3351/3538 [05:53<00:16, 11.04it/s]"
     ]
    },
    {
     "name": "stdout",
     "output_type": "stream",
     "text": [
      "yes no\n",
      "yes no\n",
      "yes no\n"
     ]
    },
    {
     "name": "stderr",
     "output_type": "stream",
     "text": [
      " 95%|█████████▍| 3355/3538 [05:53<00:15, 11.66it/s]"
     ]
    },
    {
     "name": "stdout",
     "output_type": "stream",
     "text": [
      "yes no\n",
      "yes no\n",
      "yes yes\n"
     ]
    },
    {
     "name": "stderr",
     "output_type": "stream",
     "text": [
      " 95%|█████████▍| 3357/3538 [05:54<00:15, 11.51it/s]"
     ]
    },
    {
     "name": "stdout",
     "output_type": "stream",
     "text": [
      "yes yes\n",
      "yes no\n",
      "yes no\n"
     ]
    },
    {
     "name": "stderr",
     "output_type": "stream",
     "text": [
      " 95%|█████████▍| 3359/3538 [05:54<00:15, 11.41it/s]"
     ]
    },
    {
     "name": "stdout",
     "output_type": "stream",
     "text": [
      "yes yes\n",
      "yes no\n"
     ]
    },
    {
     "name": "stderr",
     "output_type": "stream",
     "text": [
      " 95%|█████████▍| 3361/3538 [05:54<00:17, 10.21it/s]"
     ]
    },
    {
     "name": "stdout",
     "output_type": "stream",
     "text": [
      "yes no\n",
      "yes no\n"
     ]
    },
    {
     "name": "stderr",
     "output_type": "stream",
     "text": [
      " 95%|█████████▌| 3363/3538 [05:54<00:18,  9.68it/s]"
     ]
    },
    {
     "name": "stdout",
     "output_type": "stream",
     "text": [
      "yes yes\n",
      "yes no\n"
     ]
    },
    {
     "name": "stderr",
     "output_type": "stream",
     "text": [
      " 95%|█████████▌| 3367/3538 [05:55<00:17,  9.94it/s]"
     ]
    },
    {
     "name": "stdout",
     "output_type": "stream",
     "text": [
      "yes yes\n",
      "yes yes\n",
      "yes yes\n"
     ]
    },
    {
     "name": "stderr",
     "output_type": "stream",
     "text": [
      " 95%|█████████▌| 3369/3538 [05:55<00:16,  9.97it/s]"
     ]
    },
    {
     "name": "stdout",
     "output_type": "stream",
     "text": [
      "yes yes\n",
      "yes no\n",
      "yes no\n"
     ]
    },
    {
     "name": "stderr",
     "output_type": "stream",
     "text": [
      " 95%|█████████▌| 3373/3538 [05:55<00:13, 11.79it/s]"
     ]
    },
    {
     "name": "stdout",
     "output_type": "stream",
     "text": [
      "yes no\n",
      "yes yes\n",
      "yes no\n"
     ]
    },
    {
     "name": "stderr",
     "output_type": "stream",
     "text": [
      " 95%|█████████▌| 3375/3538 [05:55<00:14, 11.48it/s]"
     ]
    },
    {
     "name": "stdout",
     "output_type": "stream",
     "text": [
      "yes no\n",
      "yes no\n"
     ]
    },
    {
     "name": "stderr",
     "output_type": "stream",
     "text": [
      " 95%|█████████▌| 3377/3538 [05:55<00:14, 11.37it/s]"
     ]
    },
    {
     "name": "stdout",
     "output_type": "stream",
     "text": [
      "yes no\n",
      "yes yes\n",
      "yes no\n"
     ]
    },
    {
     "name": "stderr",
     "output_type": "stream",
     "text": [
      " 96%|█████████▌| 3379/3538 [05:56<00:13, 11.98it/s]"
     ]
    },
    {
     "name": "stdout",
     "output_type": "stream",
     "text": [
      "yes no\n",
      "yes yes\n"
     ]
    },
    {
     "name": "stderr",
     "output_type": "stream",
     "text": [
      " 96%|█████████▌| 3381/3538 [05:56<00:15, 10.11it/s]"
     ]
    },
    {
     "name": "stdout",
     "output_type": "stream",
     "text": [
      "yes no\n",
      "yes yes\n"
     ]
    },
    {
     "name": "stderr",
     "output_type": "stream",
     "text": [
      " 96%|█████████▌| 3384/3538 [05:56<00:16,  9.44it/s]"
     ]
    },
    {
     "name": "stdout",
     "output_type": "stream",
     "text": [
      "yes yes\n",
      "yes no\n"
     ]
    },
    {
     "name": "stderr",
     "output_type": "stream",
     "text": [
      " 96%|█████████▌| 3386/3538 [05:56<00:16,  9.46it/s]"
     ]
    },
    {
     "name": "stdout",
     "output_type": "stream",
     "text": [
      "yes no\n",
      "yes no\n"
     ]
    },
    {
     "name": "stderr",
     "output_type": "stream",
     "text": [
      " 96%|█████████▌| 3388/3538 [05:57<00:17,  8.40it/s]"
     ]
    },
    {
     "name": "stdout",
     "output_type": "stream",
     "text": [
      "yes no\n",
      "yes no\n"
     ]
    },
    {
     "name": "stderr",
     "output_type": "stream",
     "text": [
      " 96%|█████████▌| 3390/3538 [05:57<00:17,  8.62it/s]"
     ]
    },
    {
     "name": "stdout",
     "output_type": "stream",
     "text": [
      "yes no\n",
      "yes yes\n"
     ]
    },
    {
     "name": "stderr",
     "output_type": "stream",
     "text": [
      " 96%|█████████▌| 3393/3538 [05:57<00:15,  9.48it/s]"
     ]
    },
    {
     "name": "stdout",
     "output_type": "stream",
     "text": [
      "yes yes\n",
      "yes no\n",
      "yes no\n"
     ]
    },
    {
     "name": "stderr",
     "output_type": "stream",
     "text": [
      " 96%|█████████▌| 3395/3538 [05:57<00:14,  9.97it/s]"
     ]
    },
    {
     "name": "stdout",
     "output_type": "stream",
     "text": [
      "yes no\n",
      "yes no\n",
      "yes no\n"
     ]
    },
    {
     "name": "stderr",
     "output_type": "stream",
     "text": [
      " 96%|█████████▌| 3397/3538 [05:58<00:13, 10.39it/s]"
     ]
    },
    {
     "name": "stdout",
     "output_type": "stream",
     "text": [
      "yes no\n",
      "yes no\n"
     ]
    },
    {
     "name": "stderr",
     "output_type": "stream",
     "text": [
      " 96%|█████████▌| 3399/3538 [05:58<00:14,  9.77it/s]"
     ]
    },
    {
     "name": "stdout",
     "output_type": "stream",
     "text": [
      "yes no\n",
      "yes yes\n"
     ]
    },
    {
     "name": "stderr",
     "output_type": "stream",
     "text": [
      " 96%|█████████▌| 3402/3538 [05:58<00:14,  9.13it/s]"
     ]
    },
    {
     "name": "stdout",
     "output_type": "stream",
     "text": [
      "yes no\n",
      "yes no\n"
     ]
    },
    {
     "name": "stderr",
     "output_type": "stream",
     "text": [
      " 96%|█████████▌| 3405/3538 [05:58<00:14,  9.39it/s]"
     ]
    },
    {
     "name": "stdout",
     "output_type": "stream",
     "text": [
      "yes yes\n",
      "yes yes\n",
      "yes no\n"
     ]
    },
    {
     "name": "stderr",
     "output_type": "stream",
     "text": [
      " 96%|█████████▋| 3407/3538 [05:59<00:14,  9.05it/s]"
     ]
    },
    {
     "name": "stdout",
     "output_type": "stream",
     "text": [
      "yes yes\n",
      "yes no\n"
     ]
    },
    {
     "name": "stderr",
     "output_type": "stream",
     "text": [
      " 96%|█████████▋| 3409/3538 [05:59<00:13,  9.30it/s]"
     ]
    },
    {
     "name": "stdout",
     "output_type": "stream",
     "text": [
      "yes no\n",
      "yes yes\n",
      "yes yes\n"
     ]
    },
    {
     "name": "stderr",
     "output_type": "stream",
     "text": [
      " 96%|█████████▋| 3413/3538 [05:59<00:11, 11.17it/s]"
     ]
    },
    {
     "name": "stdout",
     "output_type": "stream",
     "text": [
      "yes yes\n",
      "yes no\n",
      "yes no\n"
     ]
    },
    {
     "name": "stderr",
     "output_type": "stream",
     "text": [
      " 97%|█████████▋| 3415/3538 [05:59<00:11, 10.99it/s]"
     ]
    },
    {
     "name": "stdout",
     "output_type": "stream",
     "text": [
      "yes no\n",
      "yes no\n",
      "yes no\n"
     ]
    },
    {
     "name": "stderr",
     "output_type": "stream",
     "text": [
      " 97%|█████████▋| 3419/3538 [06:00<00:10, 11.70it/s]"
     ]
    },
    {
     "name": "stdout",
     "output_type": "stream",
     "text": [
      "yes yes\n",
      "yes no\n",
      "yes no\n"
     ]
    },
    {
     "name": "stderr",
     "output_type": "stream",
     "text": [
      " 97%|█████████▋| 3421/3538 [06:00<00:10, 10.94it/s]"
     ]
    },
    {
     "name": "stdout",
     "output_type": "stream",
     "text": [
      "yes no\n",
      "yes no\n"
     ]
    },
    {
     "name": "stderr",
     "output_type": "stream",
     "text": [
      " 97%|█████████▋| 3423/3538 [06:00<00:10, 11.13it/s]"
     ]
    },
    {
     "name": "stdout",
     "output_type": "stream",
     "text": [
      "yes no\n",
      "yes no\n",
      "yes no\n"
     ]
    },
    {
     "name": "stderr",
     "output_type": "stream",
     "text": [
      " 97%|█████████▋| 3427/3538 [06:00<00:09, 11.64it/s]"
     ]
    },
    {
     "name": "stdout",
     "output_type": "stream",
     "text": [
      "yes yes\n",
      "yes yes\n",
      "yes no\n"
     ]
    },
    {
     "name": "stderr",
     "output_type": "stream",
     "text": [
      " 97%|█████████▋| 3429/3538 [06:01<00:09, 11.34it/s]"
     ]
    },
    {
     "name": "stdout",
     "output_type": "stream",
     "text": [
      "yes no\n",
      "yes yes\n",
      "yes no\n"
     ]
    },
    {
     "name": "stderr",
     "output_type": "stream",
     "text": [
      " 97%|█████████▋| 3433/3538 [06:01<00:09, 11.26it/s]"
     ]
    },
    {
     "name": "stdout",
     "output_type": "stream",
     "text": [
      "yes no\n",
      "yes no\n",
      "yes no\n"
     ]
    },
    {
     "name": "stderr",
     "output_type": "stream",
     "text": [
      " 97%|█████████▋| 3435/3538 [06:01<00:09, 11.00it/s]"
     ]
    },
    {
     "name": "stdout",
     "output_type": "stream",
     "text": [
      "yes no\n",
      "yes yes\n",
      "yes no\n"
     ]
    },
    {
     "name": "stderr",
     "output_type": "stream",
     "text": [
      " 97%|█████████▋| 3437/3538 [06:01<00:09, 10.75it/s]"
     ]
    },
    {
     "name": "stdout",
     "output_type": "stream",
     "text": [
      "yes yes\n",
      "yes yes\n"
     ]
    },
    {
     "name": "stderr",
     "output_type": "stream",
     "text": [
      " 97%|█████████▋| 3441/3538 [06:02<00:09, 10.25it/s]"
     ]
    },
    {
     "name": "stdout",
     "output_type": "stream",
     "text": [
      "yes yes\n",
      "yes yes\n",
      "yes no\n"
     ]
    },
    {
     "name": "stderr",
     "output_type": "stream",
     "text": [
      " 97%|█████████▋| 3443/3538 [06:02<00:09, 10.41it/s]"
     ]
    },
    {
     "name": "stdout",
     "output_type": "stream",
     "text": [
      "yes no\n",
      "yes no\n",
      "yes no\n"
     ]
    },
    {
     "name": "stderr",
     "output_type": "stream",
     "text": [
      " 97%|█████████▋| 3447/3538 [06:02<00:08, 11.05it/s]"
     ]
    },
    {
     "name": "stdout",
     "output_type": "stream",
     "text": [
      "yes no\n",
      "yes no\n",
      "yes no\n"
     ]
    },
    {
     "name": "stderr",
     "output_type": "stream",
     "text": [
      " 97%|█████████▋| 3449/3538 [06:02<00:07, 11.18it/s]"
     ]
    },
    {
     "name": "stdout",
     "output_type": "stream",
     "text": [
      "yes yes\n",
      "yes yes\n",
      "yes yes\n"
     ]
    },
    {
     "name": "stderr",
     "output_type": "stream",
     "text": [
      " 98%|█████████▊| 3453/3538 [06:03<00:07, 12.00it/s]"
     ]
    },
    {
     "name": "stdout",
     "output_type": "stream",
     "text": [
      "yes no\n",
      "yes no\n",
      "yes yes\n"
     ]
    },
    {
     "name": "stderr",
     "output_type": "stream",
     "text": [
      " 98%|█████████▊| 3455/3538 [06:03<00:07, 10.55it/s]"
     ]
    },
    {
     "name": "stdout",
     "output_type": "stream",
     "text": [
      "yes no\n",
      "yes no\n"
     ]
    },
    {
     "name": "stderr",
     "output_type": "stream",
     "text": [
      " 98%|█████████▊| 3457/3538 [06:03<00:07, 10.31it/s]"
     ]
    },
    {
     "name": "stdout",
     "output_type": "stream",
     "text": [
      "yes no\n",
      "yes yes\n",
      "yes yes\n"
     ]
    },
    {
     "name": "stderr",
     "output_type": "stream",
     "text": [
      " 98%|█████████▊| 3461/3538 [06:04<00:07, 10.92it/s]"
     ]
    },
    {
     "name": "stdout",
     "output_type": "stream",
     "text": [
      "yes yes\n",
      "yes no\n",
      "yes no\n"
     ]
    },
    {
     "name": "stderr",
     "output_type": "stream",
     "text": [
      " 98%|█████████▊| 3463/3538 [06:04<00:06, 10.94it/s]"
     ]
    },
    {
     "name": "stdout",
     "output_type": "stream",
     "text": [
      "yes no\n",
      "yes no\n",
      "yes no\n"
     ]
    },
    {
     "name": "stderr",
     "output_type": "stream",
     "text": [
      " 98%|█████████▊| 3467/3538 [06:04<00:06, 11.02it/s]"
     ]
    },
    {
     "name": "stdout",
     "output_type": "stream",
     "text": [
      "yes no\n",
      "yes no\n",
      "yes no\n"
     ]
    },
    {
     "name": "stderr",
     "output_type": "stream",
     "text": [
      " 98%|█████████▊| 3469/3538 [06:04<00:07,  9.85it/s]"
     ]
    },
    {
     "name": "stdout",
     "output_type": "stream",
     "text": [
      "yes no\n",
      "yes no\n"
     ]
    },
    {
     "name": "stderr",
     "output_type": "stream",
     "text": [
      " 98%|█████████▊| 3471/3538 [06:05<00:06, 10.00it/s]"
     ]
    },
    {
     "name": "stdout",
     "output_type": "stream",
     "text": [
      "yes no\n",
      "yes no\n",
      "yes no\n"
     ]
    },
    {
     "name": "stderr",
     "output_type": "stream",
     "text": [
      " 98%|█████████▊| 3475/3538 [06:05<00:06, 10.47it/s]"
     ]
    },
    {
     "name": "stdout",
     "output_type": "stream",
     "text": [
      "yes no\n",
      "yes no\n",
      "yes no\n"
     ]
    },
    {
     "name": "stderr",
     "output_type": "stream",
     "text": [
      " 98%|█████████▊| 3477/3538 [06:05<00:05, 10.26it/s]"
     ]
    },
    {
     "name": "stdout",
     "output_type": "stream",
     "text": [
      "yes no\n",
      "yes no\n"
     ]
    },
    {
     "name": "stderr",
     "output_type": "stream",
     "text": [
      " 98%|█████████▊| 3479/3538 [06:05<00:05, 10.14it/s]"
     ]
    },
    {
     "name": "stdout",
     "output_type": "stream",
     "text": [
      "yes no\n",
      "yes no\n",
      "yes yes\n"
     ]
    },
    {
     "name": "stderr",
     "output_type": "stream",
     "text": [
      " 98%|█████████▊| 3481/3538 [06:06<00:05,  9.89it/s]"
     ]
    },
    {
     "name": "stdout",
     "output_type": "stream",
     "text": [
      "yes no\n",
      "yes no\n"
     ]
    },
    {
     "name": "stderr",
     "output_type": "stream",
     "text": [
      " 98%|█████████▊| 3484/3538 [06:06<00:05,  9.06it/s]"
     ]
    },
    {
     "name": "stdout",
     "output_type": "stream",
     "text": [
      "yes yes\n",
      "yes no\n"
     ]
    },
    {
     "name": "stderr",
     "output_type": "stream",
     "text": [
      " 99%|█████████▊| 3486/3538 [06:06<00:06,  8.36it/s]"
     ]
    },
    {
     "name": "stdout",
     "output_type": "stream",
     "text": [
      "yes yes\n",
      "yes no\n"
     ]
    },
    {
     "name": "stderr",
     "output_type": "stream",
     "text": [
      " 99%|█████████▊| 3488/3538 [06:06<00:05,  9.62it/s]"
     ]
    },
    {
     "name": "stdout",
     "output_type": "stream",
     "text": [
      "yes yes\n",
      "yes yes\n",
      "yes yes\n"
     ]
    },
    {
     "name": "stderr",
     "output_type": "stream",
     "text": [
      " 99%|█████████▊| 3490/3538 [06:07<00:04, 10.03it/s]"
     ]
    },
    {
     "name": "stdout",
     "output_type": "stream",
     "text": [
      "yes no\n",
      "yes no\n",
      "yes yes\n"
     ]
    },
    {
     "name": "stderr",
     "output_type": "stream",
     "text": [
      " 99%|█████████▊| 3493/3538 [06:07<00:04,  9.99it/s]"
     ]
    },
    {
     "name": "stdout",
     "output_type": "stream",
     "text": [
      "yes no\n",
      "yes no\n"
     ]
    },
    {
     "name": "stderr",
     "output_type": "stream",
     "text": [
      " 99%|█████████▉| 3497/3538 [06:07<00:04,  9.89it/s]"
     ]
    },
    {
     "name": "stdout",
     "output_type": "stream",
     "text": [
      "yes no\n",
      "yes no\n",
      "yes no\n"
     ]
    },
    {
     "name": "stderr",
     "output_type": "stream",
     "text": [
      " 99%|█████████▉| 3499/3538 [06:07<00:03, 10.37it/s]"
     ]
    },
    {
     "name": "stdout",
     "output_type": "stream",
     "text": [
      "yes no\n",
      "yes no\n",
      "yes yes\n"
     ]
    },
    {
     "name": "stderr",
     "output_type": "stream",
     "text": [
      " 99%|█████████▉| 3501/3538 [06:08<00:03,  9.91it/s]"
     ]
    },
    {
     "name": "stdout",
     "output_type": "stream",
     "text": [
      "yes no\n",
      "yes yes\n"
     ]
    },
    {
     "name": "stderr",
     "output_type": "stream",
     "text": [
      " 99%|█████████▉| 3504/3538 [06:08<00:03,  9.06it/s]"
     ]
    },
    {
     "name": "stdout",
     "output_type": "stream",
     "text": [
      "yes yes\n",
      "yes no\n"
     ]
    },
    {
     "name": "stderr",
     "output_type": "stream",
     "text": [
      " 99%|█████████▉| 3506/3538 [06:08<00:03,  8.63it/s]"
     ]
    },
    {
     "name": "stdout",
     "output_type": "stream",
     "text": [
      "yes yes\n",
      "yes no\n"
     ]
    },
    {
     "name": "stderr",
     "output_type": "stream",
     "text": [
      " 99%|█████████▉| 3508/3538 [06:08<00:03,  8.85it/s]"
     ]
    },
    {
     "name": "stdout",
     "output_type": "stream",
     "text": [
      "yes no\n",
      "yes no\n"
     ]
    },
    {
     "name": "stderr",
     "output_type": "stream",
     "text": [
      " 99%|█████████▉| 3510/3538 [06:09<00:03,  9.01it/s]"
     ]
    },
    {
     "name": "stdout",
     "output_type": "stream",
     "text": [
      "yes no\n",
      "yes no\n"
     ]
    },
    {
     "name": "stderr",
     "output_type": "stream",
     "text": [
      " 99%|█████████▉| 3513/3538 [06:09<00:02,  9.41it/s]"
     ]
    },
    {
     "name": "stdout",
     "output_type": "stream",
     "text": [
      "yes no\n",
      "yes yes\n",
      "yes no\n"
     ]
    },
    {
     "name": "stderr",
     "output_type": "stream",
     "text": [
      " 99%|█████████▉| 3515/3538 [06:09<00:02, 10.23it/s]"
     ]
    },
    {
     "name": "stdout",
     "output_type": "stream",
     "text": [
      "yes no\n",
      "yes no\n",
      "yes no\n"
     ]
    },
    {
     "name": "stderr",
     "output_type": "stream",
     "text": [
      " 99%|█████████▉| 3519/3538 [06:10<00:01, 10.77it/s]"
     ]
    },
    {
     "name": "stdout",
     "output_type": "stream",
     "text": [
      "yes no\n",
      "yes no\n",
      "yes yes\n"
     ]
    },
    {
     "name": "stderr",
     "output_type": "stream",
     "text": [
      "100%|█████████▉| 3521/3538 [06:10<00:01, 11.01it/s]"
     ]
    },
    {
     "name": "stdout",
     "output_type": "stream",
     "text": [
      "yes no\n",
      "yes yes\n",
      "yes no\n"
     ]
    },
    {
     "name": "stderr",
     "output_type": "stream",
     "text": [
      "100%|█████████▉| 3525/3538 [06:10<00:01, 10.59it/s]"
     ]
    },
    {
     "name": "stdout",
     "output_type": "stream",
     "text": [
      "yes yes\n",
      "yes no\n",
      "yes no\n"
     ]
    },
    {
     "name": "stderr",
     "output_type": "stream",
     "text": [
      "100%|█████████▉| 3527/3538 [06:10<00:01, 10.17it/s]"
     ]
    },
    {
     "name": "stdout",
     "output_type": "stream",
     "text": [
      "yes no\n",
      "yes no\n"
     ]
    },
    {
     "name": "stderr",
     "output_type": "stream",
     "text": [
      "100%|█████████▉| 3529/3538 [06:11<00:00, 10.38it/s]"
     ]
    },
    {
     "name": "stdout",
     "output_type": "stream",
     "text": [
      "yes no\n",
      "yes no\n"
     ]
    },
    {
     "name": "stderr",
     "output_type": "stream",
     "text": [
      "100%|█████████▉| 3531/3538 [06:11<00:00,  9.66it/s]"
     ]
    },
    {
     "name": "stdout",
     "output_type": "stream",
     "text": [
      "yes yes\n",
      "yes no\n",
      "yes yes\n"
     ]
    },
    {
     "name": "stderr",
     "output_type": "stream",
     "text": [
      "100%|█████████▉| 3535/3538 [06:11<00:00, 10.27it/s]"
     ]
    },
    {
     "name": "stdout",
     "output_type": "stream",
     "text": [
      "yes yes\n",
      "yes no\n",
      "yes no\n"
     ]
    },
    {
     "name": "stderr",
     "output_type": "stream",
     "text": [
      "100%|██████████| 3538/3538 [06:11<00:00,  9.51it/s]"
     ]
    },
    {
     "name": "stdout",
     "output_type": "stream",
     "text": [
      "yes yes\n",
      "yes yes\n",
      "yes no\n",
      "1181 / 3538\n",
      "33.380440927077444 % correct\n"
     ]
    },
    {
     "name": "stderr",
     "output_type": "stream",
     "text": [
      "\n"
     ]
    }
   ],
   "source": [
    "import string \n",
    "\n",
    "right_answers = 0\n",
    "total_answers = 0\n",
    "\n",
    "rsna_classes = [\"yes\", \"no\"]\n",
    "\n",
    "for idx in tqdm(RSNAdataset):\n",
    "    img, ans = idx \n",
    "    with torch.inference_mode():\n",
    "        model.eval()\n",
    "        prompts = [idx[0], \"Question: Is pneumonia present in this chest x-ray image? Answer (yes or no): \"] \n",
    "        model_ans = model.classification_for_eval(prompts, rsna_classes) # top_p=0.9, temperature=0.5\n",
    "        \n",
    "        print(model_ans, ans)\n",
    "        if model_ans.lower() == ans.lower():\n",
    "            right_answers += 1\n",
    "\n",
    "        total_answers += 1  \n",
    "\n",
    "print(right_answers, '/', total_answers )\n",
    "print((right_answers/total_answers)*100, '% correct')"
   ]
  },
  {
   "cell_type": "code",
   "execution_count": 36,
   "id": "f42d7b28-262e-49f9-8f7a-a67e3096686a",
   "metadata": {},
   "outputs": [
    {
     "name": "stdout",
     "output_type": "stream",
     "text": [
      "logit_scale <class 'torch.Tensor'> torch.Size([])\n",
      "input_embeddings.weight <class 'torch.Tensor'> torch.Size([50267, 768])\n",
      "caption_mapping.weight <class 'torch.Tensor'> torch.Size([768, 2048])\n",
      "caption_mapping.bias <class 'torch.Tensor'> torch.Size([768])\n",
      "ret_i2t_mapping.weight <class 'torch.Tensor'> torch.Size([512, 2048])\n",
      "ret_i2t_mapping.bias <class 'torch.Tensor'> torch.Size([512])\n",
      "ret_t2i_mapping.weight <class 'torch.Tensor'> torch.Size([512, 768])\n",
      "ret_t2i_mapping.bias <class 'torch.Tensor'> torch.Size([512])\n"
     ]
    }
   ],
   "source": [
    "param_dict = OrderedDict()\n",
    "for name, param in model.model.model.state_dict().items():\n",
    "    if not (name.startswith(\"lm\") or name.startswith(\"vm\")):\n",
    "        print(name, type(param), param.size())\n",
    "        param_dict[name] = param\n"
   ]
  },
  {
   "cell_type": "code",
   "execution_count": 37,
   "id": "c4e1df45-88c2-489a-a189-8d0bc9f271c9",
   "metadata": {
    "scrolled": true
   },
   "outputs": [],
   "source": [
    "torch.save(param_dict, \"model.ckpt\")"
   ]
  },
  {
   "cell_type": "code",
   "execution_count": 38,
   "id": "59a876a8-8ab0-4f22-a632-5582718509c1",
   "metadata": {},
   "outputs": [
    {
     "name": "stdout",
     "output_type": "stream",
     "text": [
      "total 160M\n",
      "-rw-r--r-- 1 oince22 domainusers  20K Oct 23 21:49 TestPreprocessing.ipynb\n",
      "-rw-r--r-- 1 oince22 domainusers  16K Oct 23 21:49 TestLM.ipynb\n",
      "-rw-r--r-- 1 oince22 domainusers  37K Oct 23 21:49 StartFromage.ipynb\n",
      "-rw-r--r-- 1 oince22 domainusers  19K Oct 23 21:49 NewBioViL.ipynb\n",
      "-rw-r--r-- 1 oince22 domainusers  14K Oct 23 21:49 MIMICFromageFormat.ipynb\n",
      "-rw-r--r-- 1 oince22 domainusers 9.1K Oct 23 21:49 Inference.ipynb\n",
      "-rw-r--r-- 1 oince22 domainusers 4.9K Oct 23 21:49 DICOMtoJPG.ipynb\n",
      "-rw-r--r-- 1 oince22 domainusers 282K Oct 23 21:49 biovil_test.ipynb\n",
      "-rw-r--r-- 1 oince22 domainusers  12K Oct 25 20:03 VQAEval.ipynb\n",
      "-rw-r--r-- 1 oince22 domainusers 383K Nov  3 17:29 ImgClsEval.ipynb\n",
      "-rw-r--r-- 1 oince22 domainusers 159M Nov  3 17:31 model.ckpt\n"
     ]
    }
   ],
   "source": [
    "!ls -ltrh"
   ]
  },
  {
   "cell_type": "code",
   "execution_count": 43,
   "id": "71dc4246-6385-4866-98d7-c42f197d20be",
   "metadata": {},
   "outputs": [],
   "source": [
    "s = str(model.model.model.load_state_dict(torch.load(\"model.ckpt\", map_location=device), strict=False))"
   ]
  },
  {
   "cell_type": "markdown",
   "id": "b3046bf4-fe11-46e6-93aa-5c03527005ee",
   "metadata": {},
   "source": [
    "### RSNA dataset evaluation\n",
    "The RSNA Pneumonia detection dataset has two classes: pneumonia (1) or no pneumonia (0). "
   ]
  },
  {
   "cell_type": "markdown",
   "id": "b21752ac-8730-4693-b8f3-acfe43148aa5",
   "metadata": {},
   "source": [
    "### COVID dataset evaluation\n",
    "The COVID dataset has three classes: (1) Normal, (2) COVID-19, and (3) Non-COVID"
   ]
  },
  {
   "cell_type": "code",
   "execution_count": 49,
   "id": "93e0a678-5ac1-44db-983a-21e5a5fd6ab4",
   "metadata": {},
   "outputs": [
    {
     "data": {
      "text/plain": [
       "Embedding(50267, 768)"
      ]
     },
     "execution_count": 49,
     "metadata": {},
     "output_type": "execute_result"
    }
   ],
   "source": [
    "model.model.model.lm.model.decoder.embed_tokens"
   ]
  },
  {
   "cell_type": "code",
   "execution_count": 16,
   "id": "8037c8fa-cfec-4a2c-a8f3-a7cfe9ebc7d8",
   "metadata": {},
   "outputs": [
    {
     "name": "stdout",
     "output_type": "stream",
     "text": [
      "Prompt:  Question: Choose from the following classes: Normal, COVID-19, Non-Covid. Answer: \n",
      "Predicted class:  _____. HOC. (HOC) and HOC. (HOC) can be best seen in the following: Lateral view. Chest X-\n",
      "Correct Answer:  Non-COVID\n"
     ]
    }
   ],
   "source": [
    "img, correct_class = COVIDdataset[0]\n",
    "prompt = \"Question: Choose from the following classes: Normal, COVID-19, Non-Covid. Answer: \"\n",
    "print(\"Prompt: \", prompt)\n",
    "\n",
    "with torch.inference_mode():\n",
    "    model.eval()\n",
    "    prompts = [img, prompt] \n",
    "    print(\"Predicted class: \", model.generate_for_images_and_texts(prompts, top_p=0.9, temperature=0.5))\n",
    "    \n",
    "print(\"Correct Answer: \", correct_class)"
   ]
  },
  {
   "cell_type": "code",
   "execution_count": 17,
   "id": "d5f3f674-3718-4b56-ab7a-985f71b53434",
   "metadata": {},
   "outputs": [
    {
     "name": "stderr",
     "output_type": "stream",
     "text": [
      "  0%|          | 3/3000 [00:05<1:27:28,  1.75s/it]\n",
      "\n",
      "KeyboardInterrupt\n",
      "\n"
     ]
    }
   ],
   "source": [
    "import string \n",
    "\n",
    "right_answers = 0\n",
    "total_answers = 0\n",
    "\n",
    "\n",
    "for idx in tqdm(COVIDdataset):\n",
    "    img, ans = idx \n",
    "    with torch.inference_mode():\n",
    "        model.eval()\n",
    "        prompts = [idx[0], \"Question: Choose if the patient case is Normal, COVID-19, or Non-Covid. Answer: \"] \n",
    "        for _ in range(4): # try 5 times to get the correct answer\n",
    "            model_ans = get_model_response(prompts)\n",
    "            if model_ans.lower() == ans.lower():\n",
    "                right_answers += 1\n",
    "                break\n",
    "            else:\n",
    "                pass\n",
    "        total_answers += 1        \n",
    "\n",
    "print(right_answers, '/', total_answers )\n",
    "print((right_answers/total_answers)*100, '% correct')"
   ]
  }
 ],
 "metadata": {
  "kernelspec": {
   "display_name": "Python 3 (ipykernel)",
   "language": "python",
   "name": "python3"
  },
  "language_info": {
   "codemirror_mode": {
    "name": "ipython",
    "version": 3
   },
   "file_extension": ".py",
   "mimetype": "text/x-python",
   "name": "python",
   "nbconvert_exporter": "python",
   "pygments_lexer": "ipython3",
   "version": "3.10.12"
  }
 },
 "nbformat": 4,
 "nbformat_minor": 5
}
