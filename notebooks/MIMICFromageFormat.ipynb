{
 "cells": [
  {
   "cell_type": "code",
   "execution_count": 1,
   "id": "1e0f228f-0a68-4aa6-9f18-7597285e9521",
   "metadata": {
    "tags": []
   },
   "outputs": [],
   "source": [
    "import os\n",
    "import os.path as osp\n",
    "from glob import glob\n",
    "import re\n",
    "from pprint import pprint\n",
    "from tqdm import tqdm\n",
    "import pydicom as dicom\n",
    "import random\n",
    "import csv\n",
    "\n",
    "PATHS = [f'/datasets/mimic/cxr-jpg/physionet.org/files/mimic-cxr-jpg/2.0.0/files/p{s}' for s in range(10, 20)]\n",
    "TEXT_PATH_ROOT = '/datasets/mimic/cxr/physionet.org/files/mimic-cxr/2.0.0/files/'\n",
    "\n",
    "get_report_path = lambda img_path: Path.joinpath(TEXT_ROOT, img_path.parents[0]).with_suffix(\".txt\")\n",
    "\n",
    "def check_jpg_extension(filename):\n",
    "    pattern = r\"\\.jpg$\"\n",
    "    if re.search(pattern, filename):\n",
    "        return True\n",
    "    else:\n",
    "        return False"
   ]
  },
  {
   "cell_type": "code",
   "execution_count": 2,
   "id": "466248a8-1962-44a1-9310-b54207a24cf1",
   "metadata": {
    "scrolled": true
   },
   "outputs": [],
   "source": [
    "import csv\n",
    "\n",
    "splits = {\n",
    "    \"train\": set(),\n",
    "    \"validate\": set(),\n",
    "    \"test\": set(),\n",
    "}\n",
    "with open(\"/datasets/mimic/cxr-jpg/physionet.org/files/mimic-cxr-jpg/2.0.0/mimic-cxr-2.0.0-split.csv\", \"r\") as f:\n",
    "    reader = csv.reader(f)\n",
    "    for i, row in enumerate(reader):\n",
    "        if i == 0:\n",
    "            continue\n",
    "        splits[row[-1]].add(f\"p{row[-2]}\")"
   ]
  },
  {
   "cell_type": "code",
   "execution_count": 3,
   "id": "95e59701-58b1-498b-9345-c82012621c2a",
   "metadata": {},
   "outputs": [
    {
     "data": {
      "text/plain": [
       "[64586, 500, 293]"
      ]
     },
     "execution_count": 3,
     "metadata": {},
     "output_type": "execute_result"
    }
   ],
   "source": [
    "[len(splits[x]) for x in list(splits.keys())]"
   ]
  },
  {
   "cell_type": "code",
   "execution_count": 4,
   "id": "56076202-f2d4-445d-80dc-34c6828d65b9",
   "metadata": {},
   "outputs": [],
   "source": [
    "ALL_IMG_PATHS = {\n",
    "    \"train\": list(),\n",
    "    \"validate\": list(),\n",
    "    \"test\": list(),\n",
    "}\n",
    "\n",
    "ALL_TXT_PATHS = {\n",
    "    \"train\": list(),\n",
    "    \"validate\": list(),\n",
    "    \"test\": list(),\n",
    "}"
   ]
  },
  {
   "cell_type": "code",
   "execution_count": 5,
   "id": "59b9e1f2-915b-4e81-af27-a5929ba2de28",
   "metadata": {},
   "outputs": [],
   "source": [
    "get_txt_path = lambda s: TEXT_PATH_ROOT + \"/\".join(s.split(\"/\")[10:-1]).split(\".\")[0] + \".txt\"\n",
    "get_new_img_path = lambda s: \"/\".join(s.split(\"/\")[10:])"
   ]
  },
  {
   "cell_type": "code",
   "execution_count": 6,
   "id": "87c10cb3-b076-44c3-83ff-5cfdbd2d8156",
   "metadata": {},
   "outputs": [
    {
     "name": "stderr",
     "output_type": "stream",
     "text": [
      "100%|██████████| 6396/6396 [00:46<00:00, 137.98it/s]\n",
      "100%|██████████| 6571/6571 [00:50<00:00, 129.24it/s]\n",
      "100%|██████████| 6526/6526 [00:44<00:00, 146.32it/s]\n",
      "100%|██████████| 6548/6548 [00:50<00:00, 128.83it/s]\n",
      "100%|██████████| 6506/6506 [00:47<00:00, 138.20it/s]\n",
      "100%|██████████| 6592/6592 [00:48<00:00, 135.03it/s]\n",
      "100%|██████████| 6476/6476 [00:49<00:00, 131.48it/s]\n",
      "100%|██████████| 6642/6642 [00:52<00:00, 125.52it/s]\n",
      "100%|██████████| 6543/6543 [00:49<00:00, 131.80it/s]\n",
      "100%|██████████| 6579/6579 [00:50<00:00, 130.05it/s]\n"
     ]
    }
   ],
   "source": [
    "for PATH in PATHS:\n",
    "    top_dirs = [dir for dir in os.listdir(PATH) if dir.find(\".\") == -1]\n",
    "    for dir_name in tqdm(top_dirs):\n",
    "        paths = os.listdir(osp.join(PATH, dir_name))\n",
    "        img_dirs = [osp.join(PATH, dir_name, dir) for dir in paths if dir.find(\".\") == -1]\n",
    "        for img_dir in img_dirs:\n",
    "            img_paths = [osp.join(img_dir, img_name) for img_name in os.listdir(img_dir)]\n",
    "            img_paths = [path for path in img_paths if check_jpg_extension(path)]\n",
    "            for sname, split_set in splits.items():\n",
    "                if dir_name in split_set:\n",
    "                    ALL_IMG_PATHS[sname].extend([get_new_img_path(s) for s in img_paths])\n",
    "                    ALL_TXT_PATHS[sname].extend([get_txt_path(s) for s in img_paths])\n",
    "                    break\n",
    "            else:\n",
    "                assert False, \"No split is defined\"\n",
    "                "
   ]
  },
  {
   "cell_type": "code",
   "execution_count": 7,
   "id": "7e14f697-2ba3-49c6-9d2d-f34c608232fa",
   "metadata": {},
   "outputs": [],
   "source": [
    "for sname, split in ALL_TXT_PATHS.items():\n",
    "    for p_idx in range(len(split)):\n",
    "        path = split[p_idx]\n",
    "        subdirs = path.split(\"/\")\n",
    "        new_subdir = subdirs[9][:3]\n",
    "        subdirs.insert(9, new_subdir)\n",
    "        path = \"/\".join(subdirs)\n",
    "        split[p_idx] = path"
   ]
  },
  {
   "cell_type": "code",
   "execution_count": 8,
   "id": "6c862e0e-4a6d-415c-b3ec-896a83997d18",
   "metadata": {},
   "outputs": [],
   "source": [
    "ALL_TXT_PATHS_PATIENT = {\"train\": {}, \"validate\": {}, \"test\": {}}"
   ]
  },
  {
   "cell_type": "code",
   "execution_count": 9,
   "id": "3f2d2455-f87d-4431-9324-edfc76280c58",
   "metadata": {},
   "outputs": [],
   "source": [
    "for sname, split in ALL_TXT_PATHS.items():\n",
    "    for p_idx in range(len(split)):\n",
    "        path = split[p_idx]\n",
    "        subdirs = path.split(\"/\")\n",
    "        patient_id = subdirs[10]\n",
    "        study_id = subdirs[11]\n",
    "        if patient_id not in ALL_TXT_PATHS_PATIENT[sname]:\n",
    "            ALL_TXT_PATHS_PATIENT[sname][patient_id] = {study_id: path}\n",
    "        elif study_id not in ALL_TXT_PATHS_PATIENT[sname][patient_id]:\n",
    "            ALL_TXT_PATHS_PATIENT[sname][patient_id][study_id] = path"
   ]
  },
  {
   "cell_type": "code",
   "execution_count": 10,
   "id": "a46cf338-82a9-444c-8f22-d324aa9d298c",
   "metadata": {},
   "outputs": [
    {
     "name": "stdout",
     "output_type": "stream",
     "text": [
      "                                 FINAL REPORT\n",
      " PORTABLE CHEST, ___\n",
      " \n",
      " COMPARISON:  ___ chest x-ray.\n",
      " \n",
      " FINDINGS:  Cardiac silhouette remains enlarged and is accompanied by\n",
      " persistent pulmonary vascular congestion and interstitial edema.  Patchy\n",
      " bibasilar atelectasis also appears similar compared to the prior study.\n",
      "\n"
     ]
    }
   ],
   "source": [
    "idx = random.randint(0, len(ALL_TXT_PATHS)-1)\n",
    "f = open(\"/datasets/mimic/cxr/physionet.org/files/mimic-cxr/2.0.0/files/p10/p10975446/s58917552.txt\", \"r\")\n",
    "text = f.read()\n",
    "f.close()\n",
    "print(text)"
   ]
  },
  {
   "cell_type": "code",
   "execution_count": 11,
   "id": "4ece5c6b-5543-406c-b21c-04de98f3e5c4",
   "metadata": {},
   "outputs": [],
   "source": [
    "def clean_section(text):\n",
    "    text = re.sub(r'[\\S]+:', '', text)\n",
    "    text = re.sub(r\"_+\", \"_\", text)  # Remove multiple underscores\n",
    "    text = re.sub(r\"\\s\\s+\", \" \", text)\n",
    "    text = re.sub(\"[^a-zA-Z0-9 :.,-]\", \"\", text)\n",
    "    text = re.sub(r\" +\", \" \", text)\n",
    "    text = text.strip()\n",
    "    return text"
   ]
  },
  {
   "cell_type": "code",
   "execution_count": 12,
   "id": "747c8534-df7b-4f45-a794-c0ca7478f49b",
   "metadata": {},
   "outputs": [],
   "source": [
    "import string\n",
    "def preprocess_report(text):\n",
    "    # Remove unnecessary and insensible parts\n",
    "    text = re.sub(r\"EXAMINATION:.*\", \"\", text)  # Remove EXAMINATION line\n",
    "    text = re.sub(r\"WET READ:.*\", \"\", text)  # Remove WET READ line\n",
    "    text = re.sub(r\"FINAL REPORT\", \"\", text)  # Remove FINAL REPORT line\n",
    "    text = re.sub(r\"STUDY:.*\", \"\", text)  # Remove STUDY line\n",
    "    text = re.sub(r\"COMPARISON:.*\", \"\", text)  # Remove COMPARISON section\n",
    "    text = re.sub(r\"TECHNIQUE:.*\", \"\", text)  # Remove TECHNIQUE section\n",
    "    text = re.sub(r\"_+\", \"_\", text)  # Remove multiple underscores\n",
    "\n",
    "    # Clean up excessive newlines and spaces\n",
    "    text = re.sub(r\"\\s\\s+\", \" \", text)\n",
    "    text = re.sub(\"[^a-zA-Z0-9 :.,-]\", \"\", text)\n",
    "    text = re.sub(r\" +\", \" \", text)\n",
    "    text = text.strip()\n",
    "    return text"
   ]
  },
  {
   "cell_type": "code",
   "execution_count": 13,
   "id": "c0d3f009-4380-4783-830e-b51d9202278c",
   "metadata": {},
   "outputs": [],
   "source": [
    "def extract_sections(report_text):\n",
    "    findings_pattern = r'FINDINGS:[\\s\\S]*:'\n",
    "    impression_pattern = r'IMPRESSION:[\\s\\S]*'\n",
    "\n",
    "    findings_match = re.search(findings_pattern, report_text, re.IGNORECASE)\n",
    "    impression_match = re.search(impression_pattern, report_text, re.IGNORECASE)\n",
    "\n",
    "    findings = findings_match.group().strip() if findings_match else None\n",
    "    impression = impression_match.group().strip() if impression_match else None\n",
    "\n",
    "    if findings is None and impression is None:\n",
    "        return preprocess_report(report_text)\n",
    "    elif impression is None:\n",
    "        return clean_section(findings)\n",
    "    elif findings is None:\n",
    "        return clean_section(impression)\n",
    "    else:\n",
    "        return clean_section(findings) + \" \" + clean_section(impression)\n",
    "\n",
    "    return findings, impression"
   ]
  },
  {
   "cell_type": "code",
   "execution_count": 14,
   "id": "3c4079da-6c6a-4f9d-85e4-0008e665fe61",
   "metadata": {},
   "outputs": [],
   "source": [
    "img_positions = {}"
   ]
  },
  {
   "cell_type": "code",
   "execution_count": 15,
   "id": "922a37e2-0f26-4968-a9c1-edcb1800acd4",
   "metadata": {},
   "outputs": [],
   "source": [
    "frontal = {\"antero-posterior\", \"postero-anterior\", \"\"}\n",
    "lateral = {\"lateral\", \"left lateral\"}"
   ]
  },
  {
   "cell_type": "code",
   "execution_count": 16,
   "id": "c4987c9d-f236-4514-93e8-28c8fe1d83f0",
   "metadata": {},
   "outputs": [],
   "source": [
    "with open(\"../data/mimic-cxr-2.0.0-metadata.csv\") as f:\n",
    "    lines = [line.rstrip() for line in f][1:]\n",
    "    lines = [line for line in lines if line]\n",
    "    \n",
    "    for line in lines:\n",
    "        fields = line.split(\",\")\n",
    "        path = osp.join(f\"p{fields[1][:2]}\", f\"p{fields[1]}\", f\"s{fields[2]}\", f\"{fields[0]}.jpg\")\n",
    "        if f\"s{fields[2]}\" not in img_positions:\n",
    "            if fields[-2] in frontal:\n",
    "                img_positions[f\"s{fields[2]}\"] = [(path, \"frontal\")]\n",
    "            elif fields[-2] in lateral:\n",
    "                img_positions[f\"s{fields[2]}\"] = [(path, \"lateral\")]\n",
    "        else:\n",
    "            if fields[-2] in frontal:\n",
    "                img_positions[f\"s{fields[2]}\"].append((path, \"frontal\"))\n",
    "            elif fields[-2] in lateral:\n",
    "                img_positions[f\"s{fields[2]}\"].append((path, \"lateral\"))\n"
   ]
  },
  {
   "cell_type": "code",
   "execution_count": 17,
   "id": "bf3f22cc-8eda-41aa-b380-d4163e0e5b0b",
   "metadata": {},
   "outputs": [
    {
     "data": {
      "text/plain": [
       "[('s50414267',\n",
       "  [('p10/p10000032/s50414267/02aa804e-bde0afdd-112c0b34-7bc16630-4e384014.jpg',\n",
       "    'frontal'),\n",
       "   ('p10/p10000032/s50414267/174413ec-4ec4c1f7-34ea26b7-c5f994f8-79ef1962.jpg',\n",
       "    'lateral')]),\n",
       " ('s53189527',\n",
       "  [('p10/p10000032/s53189527/2a2277a9-b0ded155-c0de8eb9-c124d10e-82c5caab.jpg',\n",
       "    'frontal'),\n",
       "   ('p10/p10000032/s53189527/e084de3b-be89b11e-20fe3f9f-9c8d8dfe-4cfd202c.jpg',\n",
       "    'lateral')]),\n",
       " ('s53911762',\n",
       "  [('p10/p10000032/s53911762/68b5c4b1-227d0485-9cc38c3f-7b84ab51-4b472714.jpg',\n",
       "    'frontal'),\n",
       "   ('p10/p10000032/s53911762/fffabebf-74fd3a1f-673b6b41-96ec0ac9-2ab69818.jpg',\n",
       "    'frontal')]),\n",
       " ('s56699142',\n",
       "  [('p10/p10000032/s56699142/ea030e7a-2e3b1346-bc518786-7a8fd698-f673b44c.jpg',\n",
       "    'frontal')]),\n",
       " ('s57375967',\n",
       "  [('p10/p10000764/s57375967/096052b7-d256dc40-453a102b-fa7d01c6-1b22c6b4.jpg',\n",
       "    'frontal'),\n",
       "   ('p10/p10000764/s57375967/b79e55c3-735ce5ac-64412506-cdc9ea79-f1af521f.jpg',\n",
       "    'lateral'),\n",
       "   ('p10/p10000764/s57375967/dcfeeac4-1597e318-d0e6736a-8b2c2238-47ac3f1b.jpg',\n",
       "    'lateral')])]"
      ]
     },
     "execution_count": 17,
     "metadata": {},
     "output_type": "execute_result"
    }
   ],
   "source": [
    "list(img_positions.items())[:5]"
   ]
  },
  {
   "cell_type": "code",
   "execution_count": 18,
   "id": "db33ed09-cf48-4eb0-8ec4-4dd32b2a745d",
   "metadata": {},
   "outputs": [
    {
     "data": {
      "text/plain": [
       "['02aa804e-bde0afdd-112c0b34-7bc16630-4e384014',\n",
       " '10000032',\n",
       " '50414267',\n",
       " 'CHEST (PA AND LAT)',\n",
       " 'PA',\n",
       " '3056',\n",
       " '2544',\n",
       " '21800506',\n",
       " '213014.53100000002',\n",
       " 'CHEST (PA AND LAT)',\n",
       " 'postero-anterior',\n",
       " 'Erect']"
      ]
     },
     "execution_count": 18,
     "metadata": {},
     "output_type": "execute_result"
    }
   ],
   "source": [
    "lines[0].split(\",\")"
   ]
  },
  {
   "cell_type": "code",
   "execution_count": 19,
   "id": "cb1cc8cd-d061-4a7a-aa18-3f17258368db",
   "metadata": {},
   "outputs": [
    {
     "data": {
      "text/plain": [
       "'p10000032/s50414267/02aa804e-bde0afdd-112c0b34-7bc16630-4e384014.jpg'"
      ]
     },
     "execution_count": 19,
     "metadata": {},
     "output_type": "execute_result"
    }
   ],
   "source": [
    "ALL_IMG_PATHS[\"train\"][0]"
   ]
  },
  {
   "cell_type": "code",
   "execution_count": 20,
   "id": "7a175476-0241-4c27-8312-a1e057fc30d1",
   "metadata": {},
   "outputs": [
    {
     "data": {
      "text/plain": [
       "'PORTABLE CHEST, FINDINGS: Cardiac silhouette remains enlarged and is accompanied by persistent pulmonary vascular congestion and interstitial edema. Patchy bibasilar atelectasis also appears similar compared to the prior study.'"
      ]
     },
     "execution_count": 20,
     "metadata": {},
     "output_type": "execute_result"
    }
   ],
   "source": [
    "extract_sections(text)"
   ]
  },
  {
   "cell_type": "code",
   "execution_count": 21,
   "id": "bf83215a-eb21-4fd7-9542-6246f2369b9a",
   "metadata": {},
   "outputs": [],
   "source": [
    "def get_report_from_path(path):\n",
    "    try:\n",
    "        f = open(path, \"r\")\n",
    "        txt = extract_sections(f.read().strip())\n",
    "        f.close()\n",
    "    except FileNotFoundError as e:\n",
    "        print(str(e))\n",
    "        return None\n",
    "    return txt"
   ]
  },
  {
   "cell_type": "code",
   "execution_count": 24,
   "id": "67da606c-c5d7-406c-8777-6f6de3b1216e",
   "metadata": {},
   "outputs": [],
   "source": [
    "DATASET_PATH = \"/datasets/mimic/cxr-jpg/physionet.org/files/mimic-cxr-jpg/2.0.0/files/\"\n",
    "\n",
    "def images_n_locs_2_txt(study_id):\n",
    "    study_id = study_id.split(\".\")[0]\n",
    "    images = img_positions[study_id]\n",
    "\n",
    "    strings = []\n",
    "    for img_path_pairs in images:\n",
    "        if not osp.isfile(osp.join(DATASET_PATH, img_path_pairs[0])):\n",
    "            print(\"Image does not exist\")\n",
    "            return None\n",
    "\n",
    "        strings.append(\"[LOC_DELIM]\".join(img_path_pairs))\n",
    "\n",
    "    return \"[VIEW_DELIM]\".join(strings)"
   ]
  },
  {
   "cell_type": "code",
   "execution_count": 25,
   "id": "38542738-abd2-4d21-baaa-6066b0dae69c",
   "metadata": {},
   "outputs": [
    {
     "name": "stderr",
     "output_type": "stream",
     "text": [
      "  0%|          | 54/64213 [00:00<08:08, 131.44it/s]"
     ]
    },
    {
     "name": "stdout",
     "output_type": "stream",
     "text": [
      "Invalid image position\n",
      "Invalid image position\n"
     ]
    },
    {
     "name": "stderr",
     "output_type": "stream",
     "text": [
      "  0%|          | 132/64213 [00:01<09:24, 113.54it/s]"
     ]
    },
    {
     "name": "stdout",
     "output_type": "stream",
     "text": [
      "Invalid image position\n"
     ]
    },
    {
     "name": "stderr",
     "output_type": "stream",
     "text": [
      "  0%|          | 245/64213 [00:02<07:19, 145.44it/s]"
     ]
    },
    {
     "name": "stdout",
     "output_type": "stream",
     "text": [
      "Invalid image position\n"
     ]
    },
    {
     "name": "stderr",
     "output_type": "stream",
     "text": [
      "  1%|          | 531/64213 [00:04<08:50, 120.11it/s]"
     ]
    },
    {
     "name": "stdout",
     "output_type": "stream",
     "text": [
      "Invalid image position\n",
      "Invalid image position\n",
      "Invalid image position\n"
     ]
    },
    {
     "name": "stderr",
     "output_type": "stream",
     "text": [
      "  1%|          | 637/64213 [00:05<09:15, 114.38it/s]"
     ]
    },
    {
     "name": "stdout",
     "output_type": "stream",
     "text": [
      "Invalid image position\n"
     ]
    },
    {
     "name": "stderr",
     "output_type": "stream",
     "text": [
      "  2%|▏         | 1333/64213 [00:12<13:43, 76.32it/s] "
     ]
    },
    {
     "name": "stdout",
     "output_type": "stream",
     "text": [
      "Invalid image position\n",
      "Invalid image position\n"
     ]
    },
    {
     "name": "stderr",
     "output_type": "stream",
     "text": [
      "  2%|▏         | 1378/64213 [00:12<13:48, 75.88it/s]"
     ]
    },
    {
     "name": "stdout",
     "output_type": "stream",
     "text": [
      "Invalid image position\n",
      "Invalid image position\n",
      "Invalid image position\n"
     ]
    },
    {
     "name": "stderr",
     "output_type": "stream",
     "text": [
      "  3%|▎         | 1792/64213 [00:17<09:16, 112.10it/s]"
     ]
    },
    {
     "name": "stdout",
     "output_type": "stream",
     "text": [
      "Invalid image position\n",
      "Invalid image position\n"
     ]
    },
    {
     "name": "stderr",
     "output_type": "stream",
     "text": [
      "  3%|▎         | 1835/64213 [00:18<14:52, 69.90it/s] "
     ]
    },
    {
     "name": "stdout",
     "output_type": "stream",
     "text": [
      "Invalid image position\n",
      "Invalid image position\n"
     ]
    },
    {
     "name": "stderr",
     "output_type": "stream",
     "text": [
      "  3%|▎         | 2077/64213 [00:20<08:47, 117.76it/s]"
     ]
    },
    {
     "name": "stdout",
     "output_type": "stream",
     "text": [
      "Invalid image position\n"
     ]
    },
    {
     "name": "stderr",
     "output_type": "stream",
     "text": [
      "  3%|▎         | 2167/64213 [00:21<11:18, 91.50it/s] "
     ]
    },
    {
     "name": "stdout",
     "output_type": "stream",
     "text": [
      "Invalid image position\n",
      "Invalid image position\n"
     ]
    },
    {
     "name": "stderr",
     "output_type": "stream",
     "text": [
      "  4%|▍         | 2409/64213 [00:24<10:43, 96.01it/s] "
     ]
    },
    {
     "name": "stdout",
     "output_type": "stream",
     "text": [
      "Invalid image position\n",
      "Invalid image position\n"
     ]
    },
    {
     "name": "stderr",
     "output_type": "stream",
     "text": [
      "  4%|▍         | 2744/64213 [00:27<09:05, 112.78it/s]"
     ]
    },
    {
     "name": "stdout",
     "output_type": "stream",
     "text": [
      "Invalid image position\n",
      "Invalid image position\n"
     ]
    },
    {
     "name": "stderr",
     "output_type": "stream",
     "text": [
      "  5%|▌         | 3281/64213 [00:32<09:43, 104.41it/s]"
     ]
    },
    {
     "name": "stdout",
     "output_type": "stream",
     "text": [
      "Invalid image position\n"
     ]
    },
    {
     "name": "stderr",
     "output_type": "stream",
     "text": [
      "  5%|▌         | 3328/64213 [00:33<10:38, 95.39it/s] "
     ]
    },
    {
     "name": "stdout",
     "output_type": "stream",
     "text": [
      "Invalid image position\n"
     ]
    },
    {
     "name": "stderr",
     "output_type": "stream",
     "text": [
      "  5%|▌         | 3525/64213 [00:35<11:46, 85.93it/s] "
     ]
    },
    {
     "name": "stdout",
     "output_type": "stream",
     "text": [
      "Invalid image position\n",
      "Invalid image position\n"
     ]
    },
    {
     "name": "stderr",
     "output_type": "stream",
     "text": [
      "  7%|▋         | 4577/64213 [00:46<09:40, 102.75it/s]"
     ]
    },
    {
     "name": "stdout",
     "output_type": "stream",
     "text": [
      "Invalid image position\n",
      "Invalid image position\n"
     ]
    },
    {
     "name": "stderr",
     "output_type": "stream",
     "text": [
      "  7%|▋         | 4651/64213 [00:47<09:45, 101.66it/s]"
     ]
    },
    {
     "name": "stdout",
     "output_type": "stream",
     "text": [
      "Invalid image position\n",
      "Invalid image position\n"
     ]
    },
    {
     "name": "stderr",
     "output_type": "stream",
     "text": [
      "  7%|▋         | 4746/64213 [00:47<06:01, 164.30it/s]"
     ]
    },
    {
     "name": "stdout",
     "output_type": "stream",
     "text": [
      "Invalid image position\n"
     ]
    },
    {
     "name": "stderr",
     "output_type": "stream",
     "text": [
      "  7%|▋         | 4795/64213 [00:48<07:56, 124.58it/s]"
     ]
    },
    {
     "name": "stdout",
     "output_type": "stream",
     "text": [
      "Invalid image position\n",
      "Invalid image position\n"
     ]
    },
    {
     "name": "stderr",
     "output_type": "stream",
     "text": [
      "  8%|▊         | 5311/64213 [00:53<08:43, 112.49it/s]"
     ]
    },
    {
     "name": "stdout",
     "output_type": "stream",
     "text": [
      "Invalid image position\n"
     ]
    },
    {
     "name": "stderr",
     "output_type": "stream",
     "text": [
      "  8%|▊         | 5382/64213 [00:54<07:41, 127.60it/s]"
     ]
    },
    {
     "name": "stdout",
     "output_type": "stream",
     "text": [
      "Invalid image position\n",
      "Invalid image position\n"
     ]
    },
    {
     "name": "stderr",
     "output_type": "stream",
     "text": [
      "  9%|▊         | 5489/64213 [00:55<10:56, 89.45it/s] "
     ]
    },
    {
     "name": "stdout",
     "output_type": "stream",
     "text": [
      "Invalid image position\n",
      "Invalid image position\n"
     ]
    },
    {
     "name": "stderr",
     "output_type": "stream",
     "text": [
      "  9%|▉         | 5916/64213 [00:59<10:02, 96.73it/s] "
     ]
    },
    {
     "name": "stdout",
     "output_type": "stream",
     "text": [
      "Invalid image position\n"
     ]
    },
    {
     "name": "stderr",
     "output_type": "stream",
     "text": [
      "  9%|▉         | 5981/64213 [01:00<08:35, 113.05it/s]"
     ]
    },
    {
     "name": "stdout",
     "output_type": "stream",
     "text": [
      "Invalid image position\n"
     ]
    },
    {
     "name": "stderr",
     "output_type": "stream",
     "text": [
      " 10%|▉         | 6192/64213 [01:02<07:49, 123.65it/s]"
     ]
    },
    {
     "name": "stdout",
     "output_type": "stream",
     "text": [
      "Invalid image position\n",
      "Invalid image position\n"
     ]
    },
    {
     "name": "stderr",
     "output_type": "stream",
     "text": [
      " 10%|█         | 6557/64213 [01:06<08:47, 109.27it/s]"
     ]
    },
    {
     "name": "stdout",
     "output_type": "stream",
     "text": [
      "Invalid image position\n",
      "Invalid image position\n"
     ]
    },
    {
     "name": "stderr",
     "output_type": "stream",
     "text": [
      " 11%|█         | 7044/64213 [01:10<08:56, 106.62it/s]"
     ]
    },
    {
     "name": "stdout",
     "output_type": "stream",
     "text": [
      "Invalid image position\n",
      "Invalid image position\n"
     ]
    },
    {
     "name": "stderr",
     "output_type": "stream",
     "text": [
      " 11%|█         | 7124/64213 [01:11<10:07, 94.00it/s] "
     ]
    },
    {
     "name": "stdout",
     "output_type": "stream",
     "text": [
      "Invalid image position\n",
      "Invalid image position\n",
      "Invalid image position\n"
     ]
    },
    {
     "name": "stderr",
     "output_type": "stream",
     "text": [
      " 12%|█▏        | 7409/64213 [01:15<07:51, 120.49it/s]"
     ]
    },
    {
     "name": "stdout",
     "output_type": "stream",
     "text": [
      "Invalid image position\n",
      "Invalid image position\n"
     ]
    },
    {
     "name": "stderr",
     "output_type": "stream",
     "text": [
      " 12%|█▏        | 7616/64213 [01:17<10:38, 88.68it/s] "
     ]
    },
    {
     "name": "stdout",
     "output_type": "stream",
     "text": [
      "Invalid image position\n",
      "Invalid image position\n"
     ]
    },
    {
     "name": "stderr",
     "output_type": "stream",
     "text": [
      " 12%|█▏        | 7681/64213 [01:17<08:31, 110.48it/s]"
     ]
    },
    {
     "name": "stdout",
     "output_type": "stream",
     "text": [
      "Invalid image position\n",
      "Invalid image position\n"
     ]
    },
    {
     "name": "stderr",
     "output_type": "stream",
     "text": [
      " 13%|█▎        | 8097/64213 [01:22<07:36, 122.80it/s]"
     ]
    },
    {
     "name": "stdout",
     "output_type": "stream",
     "text": [
      "Invalid image position\n"
     ]
    },
    {
     "name": "stderr",
     "output_type": "stream",
     "text": [
      " 13%|█▎        | 8324/64213 [01:25<14:14, 65.40it/s] "
     ]
    },
    {
     "name": "stdout",
     "output_type": "stream",
     "text": [
      "Invalid image position\n",
      "Invalid image position\n"
     ]
    },
    {
     "name": "stderr",
     "output_type": "stream",
     "text": [
      " 13%|█▎        | 8347/64213 [01:25<12:38, 73.62it/s]"
     ]
    },
    {
     "name": "stdout",
     "output_type": "stream",
     "text": [
      "Invalid image position\n",
      "Invalid image position\n"
     ]
    },
    {
     "name": "stderr",
     "output_type": "stream",
     "text": [
      " 13%|█▎        | 8445/64213 [01:26<07:59, 116.31it/s]"
     ]
    },
    {
     "name": "stdout",
     "output_type": "stream",
     "text": [
      "Invalid image position\n"
     ]
    },
    {
     "name": "stderr",
     "output_type": "stream",
     "text": [
      " 14%|█▍        | 8898/64213 [01:31<10:12, 90.36it/s] "
     ]
    },
    {
     "name": "stdout",
     "output_type": "stream",
     "text": [
      "Invalid image position\n",
      "Invalid image position\n"
     ]
    },
    {
     "name": "stderr",
     "output_type": "stream",
     "text": [
      " 15%|█▍        | 9324/64213 [01:35<10:56, 83.62it/s] "
     ]
    },
    {
     "name": "stdout",
     "output_type": "stream",
     "text": [
      "Invalid image position\n",
      "Invalid image position\n"
     ]
    },
    {
     "name": "stderr",
     "output_type": "stream",
     "text": [
      " 15%|█▍        | 9487/64213 [01:37<08:36, 106.00it/s]"
     ]
    },
    {
     "name": "stdout",
     "output_type": "stream",
     "text": [
      "Invalid image position\n",
      "Invalid image position\n"
     ]
    },
    {
     "name": "stderr",
     "output_type": "stream",
     "text": [
      " 15%|█▌        | 9775/64213 [01:40<09:38, 94.10it/s] "
     ]
    },
    {
     "name": "stdout",
     "output_type": "stream",
     "text": [
      "Invalid image position\n",
      "Invalid image position\n",
      "Invalid image position\n"
     ]
    },
    {
     "name": "stderr",
     "output_type": "stream",
     "text": [
      " 16%|█▌        | 10085/64213 [01:44<10:33, 85.38it/s] "
     ]
    },
    {
     "name": "stdout",
     "output_type": "stream",
     "text": [
      "Invalid image position\n",
      "Invalid image position\n"
     ]
    },
    {
     "name": "stderr",
     "output_type": "stream",
     "text": [
      " 16%|█▌        | 10256/64213 [01:46<09:24, 95.59it/s] "
     ]
    },
    {
     "name": "stdout",
     "output_type": "stream",
     "text": [
      "Invalid image position\n"
     ]
    },
    {
     "name": "stderr",
     "output_type": "stream",
     "text": [
      " 16%|█▌        | 10411/64213 [01:47<09:42, 92.29it/s] "
     ]
    },
    {
     "name": "stdout",
     "output_type": "stream",
     "text": [
      "Invalid image position\n",
      "Invalid image position\n"
     ]
    },
    {
     "name": "stderr",
     "output_type": "stream",
     "text": [
      " 17%|█▋        | 10644/64213 [01:50<12:59, 68.71it/s] "
     ]
    },
    {
     "name": "stdout",
     "output_type": "stream",
     "text": [
      "Invalid image position\n",
      "Invalid image position\n",
      "Invalid image position\n",
      "Invalid image position\n"
     ]
    },
    {
     "name": "stderr",
     "output_type": "stream",
     "text": [
      " 17%|█▋        | 10869/64213 [01:52<07:52, 112.97it/s]"
     ]
    },
    {
     "name": "stdout",
     "output_type": "stream",
     "text": [
      "Invalid image position\n"
     ]
    },
    {
     "name": "stderr",
     "output_type": "stream",
     "text": [
      " 17%|█▋        | 10921/64213 [01:53<09:41, 91.57it/s] "
     ]
    },
    {
     "name": "stdout",
     "output_type": "stream",
     "text": [
      "Invalid image position\n"
     ]
    },
    {
     "name": "stderr",
     "output_type": "stream",
     "text": [
      " 18%|█▊        | 11317/64213 [01:57<08:23, 105.02it/s]"
     ]
    },
    {
     "name": "stdout",
     "output_type": "stream",
     "text": [
      "Invalid image position\n",
      "Invalid image position\n"
     ]
    },
    {
     "name": "stderr",
     "output_type": "stream",
     "text": [
      " 18%|█▊        | 11779/64213 [02:02<10:46, 81.05it/s] "
     ]
    },
    {
     "name": "stdout",
     "output_type": "stream",
     "text": [
      "Invalid image position\n",
      "Invalid image position\n"
     ]
    },
    {
     "name": "stderr",
     "output_type": "stream",
     "text": [
      " 18%|█▊        | 11838/64213 [02:03<07:28, 116.84it/s]"
     ]
    },
    {
     "name": "stdout",
     "output_type": "stream",
     "text": [
      "Invalid image position\n",
      "Invalid image position\n"
     ]
    },
    {
     "name": "stderr",
     "output_type": "stream",
     "text": [
      " 19%|█▊        | 11992/64213 [02:04<07:58, 109.06it/s]"
     ]
    },
    {
     "name": "stdout",
     "output_type": "stream",
     "text": [
      "Invalid image position\n",
      "Invalid image position\n"
     ]
    },
    {
     "name": "stderr",
     "output_type": "stream",
     "text": [
      " 19%|█▉        | 12357/64213 [02:08<09:11, 94.01it/s] "
     ]
    },
    {
     "name": "stdout",
     "output_type": "stream",
     "text": [
      "Invalid image position\n"
     ]
    },
    {
     "name": "stderr",
     "output_type": "stream",
     "text": [
      " 19%|█▉        | 12387/64213 [02:09<13:05, 65.98it/s]"
     ]
    },
    {
     "name": "stdout",
     "output_type": "stream",
     "text": [
      "Invalid image position\n",
      "Invalid image position\n"
     ]
    },
    {
     "name": "stderr",
     "output_type": "stream",
     "text": [
      " 20%|█▉        | 12641/64213 [02:12<12:30, 68.68it/s] "
     ]
    },
    {
     "name": "stdout",
     "output_type": "stream",
     "text": [
      "Invalid image position\n",
      "Invalid image position\n"
     ]
    },
    {
     "name": "stderr",
     "output_type": "stream",
     "text": [
      " 20%|█▉        | 12720/64213 [02:13<06:37, 129.65it/s]"
     ]
    },
    {
     "name": "stdout",
     "output_type": "stream",
     "text": [
      "Invalid image position\n",
      "Invalid image position\n"
     ]
    },
    {
     "name": "stderr",
     "output_type": "stream",
     "text": [
      " 20%|██        | 13126/64213 [02:17<12:03, 70.63it/s] "
     ]
    },
    {
     "name": "stdout",
     "output_type": "stream",
     "text": [
      "Invalid image position\n",
      "Invalid image position\n"
     ]
    },
    {
     "name": "stderr",
     "output_type": "stream",
     "text": [
      " 21%|██        | 13477/64213 [02:21<08:29, 99.64it/s] "
     ]
    },
    {
     "name": "stdout",
     "output_type": "stream",
     "text": [
      "Invalid image position\n"
     ]
    },
    {
     "name": "stderr",
     "output_type": "stream",
     "text": [
      " 21%|██        | 13539/64213 [02:22<10:36, 79.58it/s]"
     ]
    },
    {
     "name": "stdout",
     "output_type": "stream",
     "text": [
      "Invalid image position\n"
     ]
    },
    {
     "name": "stderr",
     "output_type": "stream",
     "text": [
      " 21%|██        | 13571/64213 [02:22<09:02, 93.39it/s]"
     ]
    },
    {
     "name": "stdout",
     "output_type": "stream",
     "text": [
      "Invalid image position\n",
      "Invalid image position\n"
     ]
    },
    {
     "name": "stderr",
     "output_type": "stream",
     "text": [
      " 22%|██▏       | 13822/64213 [02:25<10:20, 81.26it/s] "
     ]
    },
    {
     "name": "stdout",
     "output_type": "stream",
     "text": [
      "Invalid image position\n"
     ]
    },
    {
     "name": "stderr",
     "output_type": "stream",
     "text": [
      " 22%|██▏       | 13858/64213 [02:25<08:31, 98.48it/s]"
     ]
    },
    {
     "name": "stdout",
     "output_type": "stream",
     "text": [
      "Invalid image position\n",
      "Invalid image position\n"
     ]
    },
    {
     "name": "stderr",
     "output_type": "stream",
     "text": [
      " 22%|██▏       | 13895/64213 [02:26<07:25, 112.84it/s]"
     ]
    },
    {
     "name": "stdout",
     "output_type": "stream",
     "text": [
      "Invalid image position\n",
      "Invalid image position\n",
      "Invalid image position\n",
      "Invalid image position\n"
     ]
    },
    {
     "name": "stderr",
     "output_type": "stream",
     "text": [
      " 23%|██▎       | 14652/64213 [02:33<09:16, 89.08it/s] "
     ]
    },
    {
     "name": "stdout",
     "output_type": "stream",
     "text": [
      "Invalid image position\n",
      "Invalid image position\n"
     ]
    },
    {
     "name": "stderr",
     "output_type": "stream",
     "text": [
      " 23%|██▎       | 14844/64213 [02:35<06:10, 133.32it/s]"
     ]
    },
    {
     "name": "stdout",
     "output_type": "stream",
     "text": [
      "Invalid image position\n"
     ]
    },
    {
     "name": "stderr",
     "output_type": "stream",
     "text": [
      " 23%|██▎       | 14961/64213 [02:37<11:48, 69.49it/s] "
     ]
    },
    {
     "name": "stdout",
     "output_type": "stream",
     "text": [
      "Invalid image position\n",
      "Invalid image position\n"
     ]
    },
    {
     "name": "stderr",
     "output_type": "stream",
     "text": [
      " 23%|██▎       | 15001/64213 [02:37<07:54, 103.61it/s]"
     ]
    },
    {
     "name": "stdout",
     "output_type": "stream",
     "text": [
      "Invalid image position\n",
      "Invalid image position\n"
     ]
    },
    {
     "name": "stderr",
     "output_type": "stream",
     "text": [
      " 23%|██▎       | 15077/64213 [02:38<08:16, 98.99it/s] "
     ]
    },
    {
     "name": "stdout",
     "output_type": "stream",
     "text": [
      "Invalid image position\n"
     ]
    },
    {
     "name": "stderr",
     "output_type": "stream",
     "text": [
      " 24%|██▎       | 15120/64213 [02:38<11:25, 71.63it/s] "
     ]
    },
    {
     "name": "stdout",
     "output_type": "stream",
     "text": [
      "Invalid image position\n"
     ]
    },
    {
     "name": "stderr",
     "output_type": "stream",
     "text": [
      " 24%|██▍       | 15474/64213 [02:42<08:54, 91.17it/s] "
     ]
    },
    {
     "name": "stdout",
     "output_type": "stream",
     "text": [
      "Invalid image position\n",
      "Invalid image position\n",
      "Invalid image position\n",
      "Invalid image position\n"
     ]
    },
    {
     "name": "stderr",
     "output_type": "stream",
     "text": [
      " 24%|██▍       | 15557/64213 [02:43<08:10, 99.11it/s]"
     ]
    },
    {
     "name": "stdout",
     "output_type": "stream",
     "text": [
      "Invalid image position\n"
     ]
    },
    {
     "name": "stderr",
     "output_type": "stream",
     "text": [
      " 24%|██▍       | 15621/64213 [02:44<08:04, 100.34it/s]"
     ]
    },
    {
     "name": "stdout",
     "output_type": "stream",
     "text": [
      "Invalid image position\n",
      "Invalid image position\n"
     ]
    },
    {
     "name": "stderr",
     "output_type": "stream",
     "text": [
      " 25%|██▍       | 15938/64213 [02:48<06:51, 117.38it/s]"
     ]
    },
    {
     "name": "stdout",
     "output_type": "stream",
     "text": [
      "Invalid image position\n",
      "Invalid image position\n"
     ]
    },
    {
     "name": "stderr",
     "output_type": "stream",
     "text": [
      " 25%|██▌       | 16137/64213 [02:49<06:01, 133.01it/s]"
     ]
    },
    {
     "name": "stdout",
     "output_type": "stream",
     "text": [
      "Invalid image position\n"
     ]
    },
    {
     "name": "stderr",
     "output_type": "stream",
     "text": [
      " 26%|██▌       | 16440/64213 [02:52<07:39, 103.88it/s]"
     ]
    },
    {
     "name": "stdout",
     "output_type": "stream",
     "text": [
      "Invalid image position\n",
      "Invalid image position\n"
     ]
    },
    {
     "name": "stderr",
     "output_type": "stream",
     "text": [
      " 27%|██▋       | 17076/64213 [02:59<06:43, 116.84it/s]"
     ]
    },
    {
     "name": "stdout",
     "output_type": "stream",
     "text": [
      "Invalid image position\n",
      "Invalid image position\n"
     ]
    },
    {
     "name": "stderr",
     "output_type": "stream",
     "text": [
      " 27%|██▋       | 17295/64213 [03:01<07:38, 102.29it/s]"
     ]
    },
    {
     "name": "stdout",
     "output_type": "stream",
     "text": [
      "Invalid image position\n",
      "Invalid image position\n",
      "Invalid image position\n"
     ]
    },
    {
     "name": "stderr",
     "output_type": "stream",
     "text": [
      " 27%|██▋       | 17546/64213 [03:04<09:08, 85.15it/s] "
     ]
    },
    {
     "name": "stdout",
     "output_type": "stream",
     "text": [
      "Invalid image position\n",
      "Invalid image position\n"
     ]
    },
    {
     "name": "stderr",
     "output_type": "stream",
     "text": [
      " 28%|██▊       | 17701/64213 [03:05<05:37, 137.71it/s]"
     ]
    },
    {
     "name": "stdout",
     "output_type": "stream",
     "text": [
      "Invalid image position\n"
     ]
    },
    {
     "name": "stderr",
     "output_type": "stream",
     "text": [
      " 28%|██▊       | 17972/64213 [03:08<08:03, 95.60it/s] "
     ]
    },
    {
     "name": "stdout",
     "output_type": "stream",
     "text": [
      "Invalid image position\n",
      "Invalid image position\n"
     ]
    },
    {
     "name": "stderr",
     "output_type": "stream",
     "text": [
      " 28%|██▊       | 18224/64213 [03:11<07:05, 107.99it/s]"
     ]
    },
    {
     "name": "stdout",
     "output_type": "stream",
     "text": [
      "Invalid image position\n",
      "Invalid image position\n",
      "Invalid image position\n"
     ]
    },
    {
     "name": "stderr",
     "output_type": "stream",
     "text": [
      " 28%|██▊       | 18268/64213 [03:11<08:02, 95.16it/s] "
     ]
    },
    {
     "name": "stdout",
     "output_type": "stream",
     "text": [
      "Invalid image position\n",
      "Invalid image position\n",
      "Invalid image position\n"
     ]
    },
    {
     "name": "stderr",
     "output_type": "stream",
     "text": [
      " 29%|██▉       | 18643/64213 [03:15<08:04, 94.10it/s] "
     ]
    },
    {
     "name": "stdout",
     "output_type": "stream",
     "text": [
      "Invalid image position\n",
      "Invalid image position\n"
     ]
    },
    {
     "name": "stderr",
     "output_type": "stream",
     "text": [
      " 29%|██▉       | 18707/64213 [03:16<08:52, 85.52it/s]"
     ]
    },
    {
     "name": "stdout",
     "output_type": "stream",
     "text": [
      "Invalid image position\n",
      "Invalid image position\n"
     ]
    },
    {
     "name": "stderr",
     "output_type": "stream",
     "text": [
      " 30%|██▉       | 19136/64213 [03:20<06:26, 116.52it/s]"
     ]
    },
    {
     "name": "stdout",
     "output_type": "stream",
     "text": [
      "Invalid image position\n"
     ]
    },
    {
     "name": "stderr",
     "output_type": "stream",
     "text": [
      " 30%|███       | 19362/64213 [03:23<09:34, 78.04it/s] "
     ]
    },
    {
     "name": "stdout",
     "output_type": "stream",
     "text": [
      "Invalid image position\n"
     ]
    },
    {
     "name": "stderr",
     "output_type": "stream",
     "text": [
      " 30%|███       | 19431/64213 [03:24<08:55, 83.59it/s]"
     ]
    },
    {
     "name": "stdout",
     "output_type": "stream",
     "text": [
      "Invalid image position\n"
     ]
    },
    {
     "name": "stderr",
     "output_type": "stream",
     "text": [
      " 30%|███       | 19486/64213 [03:24<06:46, 110.12it/s]"
     ]
    },
    {
     "name": "stdout",
     "output_type": "stream",
     "text": [
      "Invalid image position\n",
      "Invalid image position\n"
     ]
    },
    {
     "name": "stderr",
     "output_type": "stream",
     "text": [
      " 30%|███       | 19573/64213 [03:25<08:00, 92.95it/s] "
     ]
    },
    {
     "name": "stdout",
     "output_type": "stream",
     "text": [
      "Invalid image position\n"
     ]
    },
    {
     "name": "stderr",
     "output_type": "stream",
     "text": [
      " 31%|███       | 19713/64213 [03:27<05:32, 133.89it/s]"
     ]
    },
    {
     "name": "stdout",
     "output_type": "stream",
     "text": [
      "Invalid image position\n",
      "Invalid image position\n",
      "Invalid image position\n",
      "Invalid image position\n"
     ]
    },
    {
     "name": "stderr",
     "output_type": "stream",
     "text": [
      " 31%|███       | 19991/64213 [03:29<06:54, 106.61it/s]"
     ]
    },
    {
     "name": "stdout",
     "output_type": "stream",
     "text": [
      "Invalid image position\n",
      "Invalid image position\n"
     ]
    },
    {
     "name": "stderr",
     "output_type": "stream",
     "text": [
      " 31%|███       | 20038/64213 [03:30<09:29, 77.51it/s] "
     ]
    },
    {
     "name": "stdout",
     "output_type": "stream",
     "text": [
      "Invalid image position\n",
      "Invalid image position\n"
     ]
    },
    {
     "name": "stderr",
     "output_type": "stream",
     "text": [
      " 32%|███▏      | 20480/64213 [03:34<08:13, 88.70it/s] "
     ]
    },
    {
     "name": "stdout",
     "output_type": "stream",
     "text": [
      "Invalid image position\n",
      "Invalid image position\n"
     ]
    },
    {
     "name": "stderr",
     "output_type": "stream",
     "text": [
      " 32%|███▏      | 20720/64213 [03:37<05:01, 144.33it/s]"
     ]
    },
    {
     "name": "stdout",
     "output_type": "stream",
     "text": [
      "Invalid image position\n"
     ]
    },
    {
     "name": "stderr",
     "output_type": "stream",
     "text": [
      " 32%|███▏      | 20756/64213 [03:37<06:31, 111.08it/s]"
     ]
    },
    {
     "name": "stdout",
     "output_type": "stream",
     "text": [
      "Invalid image position\n"
     ]
    },
    {
     "name": "stderr",
     "output_type": "stream",
     "text": [
      " 32%|███▏      | 20798/64213 [03:38<07:01, 103.07it/s]"
     ]
    },
    {
     "name": "stdout",
     "output_type": "stream",
     "text": [
      "Invalid image position\n",
      "Invalid image position\n"
     ]
    },
    {
     "name": "stderr",
     "output_type": "stream",
     "text": [
      " 32%|███▏      | 20837/64213 [03:38<06:30, 111.09it/s]"
     ]
    },
    {
     "name": "stdout",
     "output_type": "stream",
     "text": [
      "Invalid image position\n"
     ]
    },
    {
     "name": "stderr",
     "output_type": "stream",
     "text": [
      " 33%|███▎      | 21012/64213 [03:40<08:20, 86.32it/s] "
     ]
    },
    {
     "name": "stdout",
     "output_type": "stream",
     "text": [
      "Invalid image position\n"
     ]
    },
    {
     "name": "stderr",
     "output_type": "stream",
     "text": [
      " 33%|███▎      | 21077/64213 [03:41<08:02, 89.48it/s]"
     ]
    },
    {
     "name": "stdout",
     "output_type": "stream",
     "text": [
      "Invalid image position\n"
     ]
    },
    {
     "name": "stderr",
     "output_type": "stream",
     "text": [
      " 33%|███▎      | 21344/64213 [03:44<08:06, 88.05it/s] "
     ]
    },
    {
     "name": "stdout",
     "output_type": "stream",
     "text": [
      "Invalid image position\n",
      "Invalid image position\n"
     ]
    },
    {
     "name": "stderr",
     "output_type": "stream",
     "text": [
      " 34%|███▍      | 21861/64213 [03:49<06:11, 113.93it/s]"
     ]
    },
    {
     "name": "stdout",
     "output_type": "stream",
     "text": [
      "Invalid image position\n",
      "Invalid image position\n"
     ]
    },
    {
     "name": "stderr",
     "output_type": "stream",
     "text": [
      " 36%|███▌      | 23013/64213 [04:00<06:50, 100.37it/s]"
     ]
    },
    {
     "name": "stdout",
     "output_type": "stream",
     "text": [
      "Invalid image position\n",
      "Invalid image position\n"
     ]
    },
    {
     "name": "stderr",
     "output_type": "stream",
     "text": [
      " 36%|███▌      | 23269/64213 [04:03<05:44, 118.70it/s]"
     ]
    },
    {
     "name": "stdout",
     "output_type": "stream",
     "text": [
      "Invalid image position\n"
     ]
    },
    {
     "name": "stderr",
     "output_type": "stream",
     "text": [
      " 37%|███▋      | 23605/64213 [04:07<05:11, 130.34it/s]"
     ]
    },
    {
     "name": "stdout",
     "output_type": "stream",
     "text": [
      "Invalid image position\n",
      "Invalid image position\n",
      "Invalid image position\n",
      "Invalid image position\n"
     ]
    },
    {
     "name": "stderr",
     "output_type": "stream",
     "text": [
      " 38%|███▊      | 24307/64213 [04:14<05:38, 117.91it/s]"
     ]
    },
    {
     "name": "stdout",
     "output_type": "stream",
     "text": [
      "Invalid image position\n",
      "Invalid image position\n"
     ]
    },
    {
     "name": "stderr",
     "output_type": "stream",
     "text": [
      " 38%|███▊      | 24427/64213 [04:15<06:01, 110.08it/s]"
     ]
    },
    {
     "name": "stdout",
     "output_type": "stream",
     "text": [
      "Invalid image position\n"
     ]
    },
    {
     "name": "stderr",
     "output_type": "stream",
     "text": [
      " 39%|███▊      | 24735/64213 [04:18<05:41, 115.62it/s]"
     ]
    },
    {
     "name": "stdout",
     "output_type": "stream",
     "text": [
      "Invalid image position\n"
     ]
    },
    {
     "name": "stderr",
     "output_type": "stream",
     "text": [
      " 39%|███▉      | 25105/64213 [04:22<07:21, 88.67it/s] "
     ]
    },
    {
     "name": "stdout",
     "output_type": "stream",
     "text": [
      "Invalid image position\n",
      "Invalid image position\n"
     ]
    },
    {
     "name": "stderr",
     "output_type": "stream",
     "text": [
      " 40%|███▉      | 25494/64213 [04:26<05:34, 115.65it/s]"
     ]
    },
    {
     "name": "stdout",
     "output_type": "stream",
     "text": [
      "Invalid image position\n"
     ]
    },
    {
     "name": "stderr",
     "output_type": "stream",
     "text": [
      " 40%|███▉      | 25598/64213 [04:27<05:38, 114.12it/s]"
     ]
    },
    {
     "name": "stdout",
     "output_type": "stream",
     "text": [
      "Invalid image position\n"
     ]
    },
    {
     "name": "stderr",
     "output_type": "stream",
     "text": [
      " 40%|████      | 25846/64213 [04:30<08:02, 79.51it/s] "
     ]
    },
    {
     "name": "stdout",
     "output_type": "stream",
     "text": [
      "Invalid image position\n"
     ]
    },
    {
     "name": "stderr",
     "output_type": "stream",
     "text": [
      " 41%|████      | 26134/64213 [04:32<05:40, 111.88it/s]"
     ]
    },
    {
     "name": "stdout",
     "output_type": "stream",
     "text": [
      "Invalid image position\n",
      "Invalid image position\n"
     ]
    },
    {
     "name": "stderr",
     "output_type": "stream",
     "text": [
      " 41%|████      | 26247/64213 [04:34<06:39, 94.97it/s] "
     ]
    },
    {
     "name": "stdout",
     "output_type": "stream",
     "text": [
      "Invalid image position\n",
      "Invalid image position\n"
     ]
    },
    {
     "name": "stderr",
     "output_type": "stream",
     "text": [
      " 41%|████      | 26318/64213 [04:35<06:14, 101.11it/s]"
     ]
    },
    {
     "name": "stdout",
     "output_type": "stream",
     "text": [
      "Invalid image position\n",
      "Invalid image position\n"
     ]
    },
    {
     "name": "stderr",
     "output_type": "stream",
     "text": [
      " 41%|████▏     | 26605/64213 [04:37<06:03, 103.33it/s]"
     ]
    },
    {
     "name": "stdout",
     "output_type": "stream",
     "text": [
      "Invalid image position\n",
      "Invalid image position\n"
     ]
    },
    {
     "name": "stderr",
     "output_type": "stream",
     "text": [
      " 42%|████▏     | 26661/64213 [04:38<05:35, 111.94it/s]"
     ]
    },
    {
     "name": "stdout",
     "output_type": "stream",
     "text": [
      "Invalid image position\n"
     ]
    },
    {
     "name": "stderr",
     "output_type": "stream",
     "text": [
      " 42%|████▏     | 26716/64213 [04:39<06:24, 97.54it/s] "
     ]
    },
    {
     "name": "stdout",
     "output_type": "stream",
     "text": [
      "Invalid image position\n",
      "Invalid image position\n"
     ]
    },
    {
     "name": "stderr",
     "output_type": "stream",
     "text": [
      " 42%|████▏     | 26757/64213 [04:39<05:43, 109.07it/s]"
     ]
    },
    {
     "name": "stdout",
     "output_type": "stream",
     "text": [
      "Invalid image position\n",
      "Invalid image position\n"
     ]
    },
    {
     "name": "stderr",
     "output_type": "stream",
     "text": [
      " 42%|████▏     | 26980/64213 [04:41<07:08, 86.85it/s] "
     ]
    },
    {
     "name": "stdout",
     "output_type": "stream",
     "text": [
      "Invalid image position\n"
     ]
    },
    {
     "name": "stderr",
     "output_type": "stream",
     "text": [
      " 44%|████▎     | 28005/64213 [04:51<06:17, 95.85it/s] "
     ]
    },
    {
     "name": "stdout",
     "output_type": "stream",
     "text": [
      "Invalid image position\n"
     ]
    },
    {
     "name": "stderr",
     "output_type": "stream",
     "text": [
      " 44%|████▍     | 28137/64213 [04:52<07:13, 83.29it/s] "
     ]
    },
    {
     "name": "stdout",
     "output_type": "stream",
     "text": [
      "Invalid image position\n",
      "Invalid image position\n"
     ]
    },
    {
     "name": "stderr",
     "output_type": "stream",
     "text": [
      " 44%|████▍     | 28210/64213 [04:53<05:06, 117.34it/s]"
     ]
    },
    {
     "name": "stdout",
     "output_type": "stream",
     "text": [
      "Invalid image position\n",
      "Invalid image position\n"
     ]
    },
    {
     "name": "stderr",
     "output_type": "stream",
     "text": [
      " 44%|████▍     | 28527/64213 [04:56<04:31, 131.24it/s]"
     ]
    },
    {
     "name": "stdout",
     "output_type": "stream",
     "text": [
      "Invalid image position\n",
      "Invalid image position\n"
     ]
    },
    {
     "name": "stderr",
     "output_type": "stream",
     "text": [
      " 45%|████▍     | 28845/64213 [04:59<05:37, 104.72it/s]"
     ]
    },
    {
     "name": "stdout",
     "output_type": "stream",
     "text": [
      "Invalid image position\n"
     ]
    },
    {
     "name": "stderr",
     "output_type": "stream",
     "text": [
      " 45%|████▌     | 28942/64213 [05:00<06:38, 88.51it/s] "
     ]
    },
    {
     "name": "stdout",
     "output_type": "stream",
     "text": [
      "Invalid image position\n",
      "Invalid image position\n"
     ]
    },
    {
     "name": "stderr",
     "output_type": "stream",
     "text": [
      " 45%|████▌     | 29035/64213 [05:01<04:47, 122.49it/s]"
     ]
    },
    {
     "name": "stdout",
     "output_type": "stream",
     "text": [
      "Invalid image position\n"
     ]
    },
    {
     "name": "stderr",
     "output_type": "stream",
     "text": [
      " 45%|████▌     | 29077/64213 [05:01<04:59, 117.23it/s]"
     ]
    },
    {
     "name": "stdout",
     "output_type": "stream",
     "text": [
      "Invalid image position\n",
      "Invalid image position\n"
     ]
    },
    {
     "name": "stderr",
     "output_type": "stream",
     "text": [
      " 46%|████▌     | 29410/64213 [05:04<06:13, 93.23it/s] "
     ]
    },
    {
     "name": "stdout",
     "output_type": "stream",
     "text": [
      "Invalid image position\n"
     ]
    },
    {
     "name": "stderr",
     "output_type": "stream",
     "text": [
      " 46%|████▌     | 29589/64213 [05:06<05:44, 100.56it/s]"
     ]
    },
    {
     "name": "stdout",
     "output_type": "stream",
     "text": [
      "Invalid image position\n"
     ]
    },
    {
     "name": "stderr",
     "output_type": "stream",
     "text": [
      " 47%|████▋     | 30032/64213 [05:10<04:31, 125.81it/s]"
     ]
    },
    {
     "name": "stdout",
     "output_type": "stream",
     "text": [
      "Invalid image position\n",
      "Invalid image position\n"
     ]
    },
    {
     "name": "stderr",
     "output_type": "stream",
     "text": [
      " 47%|████▋     | 30117/64213 [05:11<05:20, 106.40it/s]"
     ]
    },
    {
     "name": "stdout",
     "output_type": "stream",
     "text": [
      "Invalid image position\n",
      "Invalid image position\n",
      "Invalid image position\n",
      "Invalid image position\n"
     ]
    },
    {
     "name": "stderr",
     "output_type": "stream",
     "text": [
      " 47%|████▋     | 30434/64213 [05:14<05:36, 100.33it/s]"
     ]
    },
    {
     "name": "stdout",
     "output_type": "stream",
     "text": [
      "Invalid image position\n",
      "Invalid image position\n"
     ]
    },
    {
     "name": "stderr",
     "output_type": "stream",
     "text": [
      " 48%|████▊     | 30821/64213 [05:18<07:14, 76.79it/s] "
     ]
    },
    {
     "name": "stdout",
     "output_type": "stream",
     "text": [
      "Invalid image position\n",
      "Invalid image position\n"
     ]
    },
    {
     "name": "stderr",
     "output_type": "stream",
     "text": [
      " 48%|████▊     | 30854/64213 [05:18<05:43, 97.16it/s]"
     ]
    },
    {
     "name": "stdout",
     "output_type": "stream",
     "text": [
      "Invalid image position\n"
     ]
    },
    {
     "name": "stderr",
     "output_type": "stream",
     "text": [
      " 48%|████▊     | 30876/64213 [05:19<06:19, 87.91it/s]"
     ]
    },
    {
     "name": "stdout",
     "output_type": "stream",
     "text": [
      "Invalid image position\n"
     ]
    },
    {
     "name": "stderr",
     "output_type": "stream",
     "text": [
      " 49%|████▊     | 31284/64213 [05:22<04:13, 129.85it/s]"
     ]
    },
    {
     "name": "stdout",
     "output_type": "stream",
     "text": [
      "Invalid image position\n"
     ]
    },
    {
     "name": "stderr",
     "output_type": "stream",
     "text": [
      " 49%|████▉     | 31567/64213 [05:26<05:25, 100.35it/s]"
     ]
    },
    {
     "name": "stdout",
     "output_type": "stream",
     "text": [
      "Invalid image position\n"
     ]
    },
    {
     "name": "stderr",
     "output_type": "stream",
     "text": [
      " 49%|████▉     | 31624/64213 [05:26<06:24, 84.71it/s] "
     ]
    },
    {
     "name": "stdout",
     "output_type": "stream",
     "text": [
      "Invalid image position\n",
      "Invalid image position\n"
     ]
    },
    {
     "name": "stderr",
     "output_type": "stream",
     "text": [
      " 49%|████▉     | 31772/64213 [05:28<06:20, 85.17it/s]"
     ]
    },
    {
     "name": "stdout",
     "output_type": "stream",
     "text": [
      "Invalid image position\n",
      "Invalid image position\n"
     ]
    },
    {
     "name": "stderr",
     "output_type": "stream",
     "text": [
      " 50%|█████     | 32107/64213 [05:31<05:23, 99.18it/s] "
     ]
    },
    {
     "name": "stdout",
     "output_type": "stream",
     "text": [
      "Invalid image position\n",
      "Invalid image position\n"
     ]
    },
    {
     "name": "stderr",
     "output_type": "stream",
     "text": [
      " 50%|█████     | 32400/64213 [05:35<04:17, 123.61it/s]"
     ]
    },
    {
     "name": "stdout",
     "output_type": "stream",
     "text": [
      "Invalid image position\n"
     ]
    },
    {
     "name": "stderr",
     "output_type": "stream",
     "text": [
      " 51%|█████     | 32877/64213 [05:39<05:45, 90.70it/s] "
     ]
    },
    {
     "name": "stdout",
     "output_type": "stream",
     "text": [
      "Invalid image position\n",
      "Invalid image position\n",
      "Invalid image position\n"
     ]
    },
    {
     "name": "stderr",
     "output_type": "stream",
     "text": [
      " 52%|█████▏    | 33118/64213 [05:42<04:11, 123.87it/s]"
     ]
    },
    {
     "name": "stdout",
     "output_type": "stream",
     "text": [
      "Invalid image position\n"
     ]
    },
    {
     "name": "stderr",
     "output_type": "stream",
     "text": [
      " 52%|█████▏    | 33131/64213 [05:42<04:53, 105.85it/s]"
     ]
    },
    {
     "name": "stdout",
     "output_type": "stream",
     "text": [
      "Invalid image position\n",
      "Invalid image position\n"
     ]
    },
    {
     "name": "stderr",
     "output_type": "stream",
     "text": [
      " 52%|█████▏    | 33345/64213 [05:44<04:22, 117.71it/s]"
     ]
    },
    {
     "name": "stdout",
     "output_type": "stream",
     "text": [
      "Invalid image position\n"
     ]
    },
    {
     "name": "stderr",
     "output_type": "stream",
     "text": [
      " 53%|█████▎    | 33868/64213 [05:50<04:21, 115.87it/s]"
     ]
    },
    {
     "name": "stdout",
     "output_type": "stream",
     "text": [
      "Invalid image position\n"
     ]
    },
    {
     "name": "stderr",
     "output_type": "stream",
     "text": [
      " 53%|█████▎    | 34015/64213 [05:51<04:11, 119.92it/s]"
     ]
    },
    {
     "name": "stdout",
     "output_type": "stream",
     "text": [
      "Invalid image position\n",
      "Invalid image position\n"
     ]
    },
    {
     "name": "stderr",
     "output_type": "stream",
     "text": [
      " 53%|█████▎    | 34223/64213 [05:54<05:36, 89.04it/s] "
     ]
    },
    {
     "name": "stdout",
     "output_type": "stream",
     "text": [
      "Invalid image position\n"
     ]
    },
    {
     "name": "stderr",
     "output_type": "stream",
     "text": [
      " 53%|█████▎    | 34296/64213 [05:54<04:30, 110.58it/s]"
     ]
    },
    {
     "name": "stdout",
     "output_type": "stream",
     "text": [
      "Invalid image position\n"
     ]
    },
    {
     "name": "stderr",
     "output_type": "stream",
     "text": [
      " 53%|█████▎    | 34308/64213 [05:55<04:26, 112.14it/s]"
     ]
    },
    {
     "name": "stdout",
     "output_type": "stream",
     "text": [
      "Invalid image position\n"
     ]
    },
    {
     "name": "stderr",
     "output_type": "stream",
     "text": [
      " 54%|█████▎    | 34400/64213 [05:56<05:54, 84.20it/s] "
     ]
    },
    {
     "name": "stdout",
     "output_type": "stream",
     "text": [
      "Invalid image position\n",
      "Invalid image position\n"
     ]
    },
    {
     "name": "stderr",
     "output_type": "stream",
     "text": [
      " 54%|█████▎    | 34458/64213 [05:56<05:41, 87.23it/s]"
     ]
    },
    {
     "name": "stdout",
     "output_type": "stream",
     "text": [
      "Invalid image position\n",
      "Invalid image position\n"
     ]
    },
    {
     "name": "stderr",
     "output_type": "stream",
     "text": [
      " 54%|█████▍    | 34947/64213 [06:01<05:09, 94.48it/s] "
     ]
    },
    {
     "name": "stdout",
     "output_type": "stream",
     "text": [
      "Invalid image position\n"
     ]
    },
    {
     "name": "stderr",
     "output_type": "stream",
     "text": [
      " 55%|█████▌    | 35359/64213 [06:06<05:54, 81.30it/s] "
     ]
    },
    {
     "name": "stdout",
     "output_type": "stream",
     "text": [
      "Invalid image position\n"
     ]
    },
    {
     "name": "stderr",
     "output_type": "stream",
     "text": [
      " 56%|█████▌    | 35975/64213 [06:12<04:25, 106.23it/s]"
     ]
    },
    {
     "name": "stdout",
     "output_type": "stream",
     "text": [
      "Invalid image position\n"
     ]
    },
    {
     "name": "stderr",
     "output_type": "stream",
     "text": [
      " 57%|█████▋    | 36333/64213 [06:16<04:06, 112.91it/s]"
     ]
    },
    {
     "name": "stdout",
     "output_type": "stream",
     "text": [
      "Invalid image position\n",
      "Invalid image position\n"
     ]
    },
    {
     "name": "stderr",
     "output_type": "stream",
     "text": [
      " 57%|█████▋    | 36393/64213 [06:16<05:07, 90.47it/s] "
     ]
    },
    {
     "name": "stdout",
     "output_type": "stream",
     "text": [
      "Invalid image position\n",
      "Invalid image position\n"
     ]
    },
    {
     "name": "stderr",
     "output_type": "stream",
     "text": [
      " 57%|█████▋    | 36450/64213 [06:17<03:37, 127.40it/s]"
     ]
    },
    {
     "name": "stdout",
     "output_type": "stream",
     "text": [
      "Invalid image position\n",
      "Invalid image position\n"
     ]
    },
    {
     "name": "stderr",
     "output_type": "stream",
     "text": [
      " 57%|█████▋    | 36730/64213 [06:20<08:47, 52.09it/s] "
     ]
    },
    {
     "name": "stdout",
     "output_type": "stream",
     "text": [
      "Invalid image position\n",
      "Invalid image position\n"
     ]
    },
    {
     "name": "stderr",
     "output_type": "stream",
     "text": [
      " 58%|█████▊    | 37405/64213 [06:27<05:13, 85.63it/s] "
     ]
    },
    {
     "name": "stdout",
     "output_type": "stream",
     "text": [
      "Invalid image position\n",
      "Invalid image position\n"
     ]
    },
    {
     "name": "stderr",
     "output_type": "stream",
     "text": [
      " 58%|█████▊    | 37458/64213 [06:27<04:26, 100.31it/s]"
     ]
    },
    {
     "name": "stdout",
     "output_type": "stream",
     "text": [
      "Invalid image position\n"
     ]
    },
    {
     "name": "stderr",
     "output_type": "stream",
     "text": [
      " 59%|█████▊    | 37696/64213 [06:29<03:35, 123.04it/s]"
     ]
    },
    {
     "name": "stdout",
     "output_type": "stream",
     "text": [
      "Invalid image position\n"
     ]
    },
    {
     "name": "stderr",
     "output_type": "stream",
     "text": [
      " 59%|█████▉    | 37848/64213 [06:31<04:32, 96.76it/s] "
     ]
    },
    {
     "name": "stdout",
     "output_type": "stream",
     "text": [
      "Invalid image position\n",
      "Invalid image position\n"
     ]
    },
    {
     "name": "stderr",
     "output_type": "stream",
     "text": [
      " 59%|█████▉    | 37959/64213 [06:32<03:40, 119.32it/s]"
     ]
    },
    {
     "name": "stdout",
     "output_type": "stream",
     "text": [
      "Invalid image position\n",
      "Invalid image position\n"
     ]
    },
    {
     "name": "stderr",
     "output_type": "stream",
     "text": [
      " 59%|█████▉    | 37985/64213 [06:32<04:05, 107.02it/s]"
     ]
    },
    {
     "name": "stdout",
     "output_type": "stream",
     "text": [
      "Invalid image position\n"
     ]
    },
    {
     "name": "stderr",
     "output_type": "stream",
     "text": [
      " 60%|█████▉    | 38422/64213 [06:38<04:42, 91.29it/s] "
     ]
    },
    {
     "name": "stdout",
     "output_type": "stream",
     "text": [
      "Invalid image position\n",
      "Invalid image position\n"
     ]
    },
    {
     "name": "stderr",
     "output_type": "stream",
     "text": [
      " 60%|█████▉    | 38470/64213 [06:38<04:43, 90.72it/s] "
     ]
    },
    {
     "name": "stdout",
     "output_type": "stream",
     "text": [
      "Invalid image position\n"
     ]
    },
    {
     "name": "stderr",
     "output_type": "stream",
     "text": [
      " 60%|██████    | 38619/64213 [06:40<03:24, 125.26it/s]"
     ]
    },
    {
     "name": "stdout",
     "output_type": "stream",
     "text": [
      "Invalid image position\n",
      "Invalid image position\n"
     ]
    },
    {
     "name": "stderr",
     "output_type": "stream",
     "text": [
      " 60%|██████    | 38813/64213 [06:42<03:45, 112.87it/s]"
     ]
    },
    {
     "name": "stdout",
     "output_type": "stream",
     "text": [
      "Invalid image position\n",
      "Invalid image position\n"
     ]
    },
    {
     "name": "stderr",
     "output_type": "stream",
     "text": [
      " 61%|██████    | 38853/64213 [06:42<04:06, 103.09it/s]"
     ]
    },
    {
     "name": "stdout",
     "output_type": "stream",
     "text": [
      "Invalid image position\n"
     ]
    },
    {
     "name": "stderr",
     "output_type": "stream",
     "text": [
      " 62%|██████▏   | 39496/64213 [06:49<03:48, 108.13it/s]"
     ]
    },
    {
     "name": "stdout",
     "output_type": "stream",
     "text": [
      "Invalid image position\n",
      "Invalid image position\n"
     ]
    },
    {
     "name": "stderr",
     "output_type": "stream",
     "text": [
      " 62%|██████▏   | 39789/64213 [06:52<04:53, 83.26it/s] "
     ]
    },
    {
     "name": "stdout",
     "output_type": "stream",
     "text": [
      "Invalid image position\n",
      "Invalid image position\n"
     ]
    },
    {
     "name": "stderr",
     "output_type": "stream",
     "text": [
      " 63%|██████▎   | 40224/64213 [06:56<03:56, 101.35it/s]"
     ]
    },
    {
     "name": "stdout",
     "output_type": "stream",
     "text": [
      "Invalid image position\n",
      "Invalid image position\n"
     ]
    },
    {
     "name": "stderr",
     "output_type": "stream",
     "text": [
      " 63%|██████▎   | 40475/64213 [06:58<03:30, 112.71it/s]"
     ]
    },
    {
     "name": "stdout",
     "output_type": "stream",
     "text": [
      "Invalid image position\n"
     ]
    },
    {
     "name": "stderr",
     "output_type": "stream",
     "text": [
      " 63%|██████▎   | 40523/64213 [06:59<04:35, 86.11it/s] "
     ]
    },
    {
     "name": "stdout",
     "output_type": "stream",
     "text": [
      "Invalid image position\n",
      "Invalid image position\n"
     ]
    },
    {
     "name": "stderr",
     "output_type": "stream",
     "text": [
      " 64%|██████▎   | 40777/64213 [07:02<03:42, 105.34it/s]"
     ]
    },
    {
     "name": "stdout",
     "output_type": "stream",
     "text": [
      "Invalid image position\n",
      "Invalid image position\n"
     ]
    },
    {
     "name": "stderr",
     "output_type": "stream",
     "text": [
      " 64%|██████▎   | 40816/64213 [07:02<03:52, 100.58it/s]"
     ]
    },
    {
     "name": "stdout",
     "output_type": "stream",
     "text": [
      "Invalid image position\n",
      "Invalid image position\n"
     ]
    },
    {
     "name": "stderr",
     "output_type": "stream",
     "text": [
      " 64%|██████▍   | 40949/64213 [07:04<03:18, 117.38it/s]"
     ]
    },
    {
     "name": "stdout",
     "output_type": "stream",
     "text": [
      "Image does not exist\n",
      "Image does not exist\n"
     ]
    },
    {
     "name": "stderr",
     "output_type": "stream",
     "text": [
      " 64%|██████▍   | 41012/64213 [07:04<02:43, 142.11it/s]"
     ]
    },
    {
     "name": "stdout",
     "output_type": "stream",
     "text": [
      "Image does not exist\n"
     ]
    },
    {
     "name": "stderr",
     "output_type": "stream",
     "text": [
      " 64%|██████▍   | 41081/64213 [07:05<02:47, 138.00it/s]"
     ]
    },
    {
     "name": "stdout",
     "output_type": "stream",
     "text": [
      "Invalid image position\n"
     ]
    },
    {
     "name": "stderr",
     "output_type": "stream",
     "text": [
      " 64%|██████▍   | 41375/64213 [07:08<03:40, 103.55it/s]"
     ]
    },
    {
     "name": "stdout",
     "output_type": "stream",
     "text": [
      "Image does not exist\n",
      "Image does not exist\n"
     ]
    },
    {
     "name": "stderr",
     "output_type": "stream",
     "text": [
      " 65%|██████▍   | 41708/64213 [07:11<02:35, 144.96it/s]"
     ]
    },
    {
     "name": "stdout",
     "output_type": "stream",
     "text": [
      "Invalid image position\n"
     ]
    },
    {
     "name": "stderr",
     "output_type": "stream",
     "text": [
      " 66%|██████▌   | 42196/64213 [07:15<03:43, 98.37it/s] "
     ]
    },
    {
     "name": "stdout",
     "output_type": "stream",
     "text": [
      "Invalid image position\n"
     ]
    },
    {
     "name": "stderr",
     "output_type": "stream",
     "text": [
      " 66%|██████▌   | 42370/64213 [07:17<02:59, 121.74it/s]"
     ]
    },
    {
     "name": "stdout",
     "output_type": "stream",
     "text": [
      "Invalid image position\n",
      "Invalid image position\n"
     ]
    },
    {
     "name": "stderr",
     "output_type": "stream",
     "text": [
      " 66%|██████▌   | 42441/64213 [07:17<03:06, 116.56it/s]"
     ]
    },
    {
     "name": "stdout",
     "output_type": "stream",
     "text": [
      "Invalid image position\n",
      "Invalid image position\n"
     ]
    },
    {
     "name": "stderr",
     "output_type": "stream",
     "text": [
      " 67%|██████▋   | 42836/64213 [07:21<02:52, 123.66it/s]"
     ]
    },
    {
     "name": "stdout",
     "output_type": "stream",
     "text": [
      "Invalid image position\n"
     ]
    },
    {
     "name": "stderr",
     "output_type": "stream",
     "text": [
      " 67%|██████▋   | 43028/64213 [07:23<03:29, 101.09it/s]"
     ]
    },
    {
     "name": "stdout",
     "output_type": "stream",
     "text": [
      "Invalid image position\n",
      "Invalid image position\n"
     ]
    },
    {
     "name": "stderr",
     "output_type": "stream",
     "text": [
      " 67%|██████▋   | 43150/64213 [07:24<02:59, 117.08it/s]"
     ]
    },
    {
     "name": "stdout",
     "output_type": "stream",
     "text": [
      "Invalid image position\n"
     ]
    },
    {
     "name": "stderr",
     "output_type": "stream",
     "text": [
      " 68%|██████▊   | 43519/64213 [07:28<03:54, 88.29it/s] "
     ]
    },
    {
     "name": "stdout",
     "output_type": "stream",
     "text": [
      "Invalid image position\n",
      "Invalid image position\n"
     ]
    },
    {
     "name": "stderr",
     "output_type": "stream",
     "text": [
      " 68%|██████▊   | 43803/64213 [07:30<02:59, 113.79it/s]"
     ]
    },
    {
     "name": "stdout",
     "output_type": "stream",
     "text": [
      "Invalid image position\n"
     ]
    },
    {
     "name": "stderr",
     "output_type": "stream",
     "text": [
      " 68%|██████▊   | 43921/64213 [07:31<03:05, 109.53it/s]"
     ]
    },
    {
     "name": "stdout",
     "output_type": "stream",
     "text": [
      "Invalid image position\n",
      "Invalid image position\n",
      "Invalid image position\n"
     ]
    },
    {
     "name": "stderr",
     "output_type": "stream",
     "text": [
      " 68%|██████▊   | 43983/64213 [07:32<02:22, 141.87it/s]"
     ]
    },
    {
     "name": "stdout",
     "output_type": "stream",
     "text": [
      "Image does not exist\n"
     ]
    },
    {
     "name": "stderr",
     "output_type": "stream",
     "text": [
      " 69%|██████▉   | 44184/64213 [07:34<04:19, 77.11it/s] "
     ]
    },
    {
     "name": "stdout",
     "output_type": "stream",
     "text": [
      "Invalid image position\n",
      "Invalid image position\n"
     ]
    },
    {
     "name": "stderr",
     "output_type": "stream",
     "text": [
      " 69%|██████▉   | 44207/64213 [07:34<03:37, 92.03it/s]"
     ]
    },
    {
     "name": "stdout",
     "output_type": "stream",
     "text": [
      "Invalid image position\n",
      "Invalid image position\n"
     ]
    },
    {
     "name": "stderr",
     "output_type": "stream",
     "text": [
      " 69%|██████▉   | 44501/64213 [07:38<04:13, 77.89it/s] "
     ]
    },
    {
     "name": "stdout",
     "output_type": "stream",
     "text": [
      "Invalid image position\n"
     ]
    },
    {
     "name": "stderr",
     "output_type": "stream",
     "text": [
      " 69%|██████▉   | 44530/64213 [07:38<03:17, 99.47it/s]"
     ]
    },
    {
     "name": "stdout",
     "output_type": "stream",
     "text": [
      "Invalid image position\n",
      "Invalid image position\n"
     ]
    },
    {
     "name": "stderr",
     "output_type": "stream",
     "text": [
      " 70%|██████▉   | 44657/64213 [07:39<02:42, 120.60it/s]"
     ]
    },
    {
     "name": "stdout",
     "output_type": "stream",
     "text": [
      "Invalid image position\n"
     ]
    },
    {
     "name": "stderr",
     "output_type": "stream",
     "text": [
      " 70%|██████▉   | 44838/64213 [07:41<03:41, 87.38it/s] "
     ]
    },
    {
     "name": "stdout",
     "output_type": "stream",
     "text": [
      "Invalid image position\n",
      "Invalid image position\n"
     ]
    },
    {
     "name": "stderr",
     "output_type": "stream",
     "text": [
      " 70%|███████   | 45191/64213 [07:44<03:22, 93.95it/s] "
     ]
    },
    {
     "name": "stdout",
     "output_type": "stream",
     "text": [
      "Invalid image position\n",
      "Invalid image position\n"
     ]
    },
    {
     "name": "stderr",
     "output_type": "stream",
     "text": [
      " 70%|███████   | 45253/64213 [07:45<02:46, 114.15it/s]"
     ]
    },
    {
     "name": "stdout",
     "output_type": "stream",
     "text": [
      "Invalid image position\n"
     ]
    },
    {
     "name": "stderr",
     "output_type": "stream",
     "text": [
      " 71%|███████   | 45369/64213 [07:46<03:52, 81.09it/s] "
     ]
    },
    {
     "name": "stdout",
     "output_type": "stream",
     "text": [
      "Invalid image position\n"
     ]
    },
    {
     "name": "stderr",
     "output_type": "stream",
     "text": [
      " 71%|███████   | 45453/64213 [07:47<02:23, 130.80it/s]"
     ]
    },
    {
     "name": "stdout",
     "output_type": "stream",
     "text": [
      "Invalid image position\n"
     ]
    },
    {
     "name": "stderr",
     "output_type": "stream",
     "text": [
      " 71%|███████   | 45645/64213 [07:49<02:53, 107.02it/s]"
     ]
    },
    {
     "name": "stdout",
     "output_type": "stream",
     "text": [
      "Invalid image position\n",
      "Invalid image position\n"
     ]
    },
    {
     "name": "stderr",
     "output_type": "stream",
     "text": [
      " 71%|███████   | 45723/64213 [07:50<04:04, 75.67it/s] "
     ]
    },
    {
     "name": "stdout",
     "output_type": "stream",
     "text": [
      "Invalid image position\n",
      "Invalid image position\n"
     ]
    },
    {
     "name": "stderr",
     "output_type": "stream",
     "text": [
      " 71%|███████▏  | 45771/64213 [07:51<03:27, 89.09it/s]"
     ]
    },
    {
     "name": "stdout",
     "output_type": "stream",
     "text": [
      "Invalid image position\n"
     ]
    },
    {
     "name": "stderr",
     "output_type": "stream",
     "text": [
      " 71%|███████▏  | 45868/64213 [07:51<02:26, 125.41it/s]"
     ]
    },
    {
     "name": "stdout",
     "output_type": "stream",
     "text": [
      "Invalid image position\n",
      "Invalid image position\n"
     ]
    },
    {
     "name": "stderr",
     "output_type": "stream",
     "text": [
      " 72%|███████▏  | 46028/64213 [07:53<03:04, 98.36it/s] "
     ]
    },
    {
     "name": "stdout",
     "output_type": "stream",
     "text": [
      "Invalid image position\n",
      "Invalid image position\n"
     ]
    },
    {
     "name": "stderr",
     "output_type": "stream",
     "text": [
      " 72%|███████▏  | 46192/64213 [07:55<03:04, 97.52it/s] "
     ]
    },
    {
     "name": "stdout",
     "output_type": "stream",
     "text": [
      "Invalid image position\n"
     ]
    },
    {
     "name": "stderr",
     "output_type": "stream",
     "text": [
      " 73%|███████▎  | 46747/64213 [08:01<03:36, 80.58it/s] "
     ]
    },
    {
     "name": "stdout",
     "output_type": "stream",
     "text": [
      "Invalid image position\n",
      "Invalid image position\n",
      "Invalid image position\n",
      "Invalid image position\n"
     ]
    },
    {
     "name": "stderr",
     "output_type": "stream",
     "text": [
      " 73%|███████▎  | 46802/64213 [08:02<03:07, 92.97it/s]"
     ]
    },
    {
     "name": "stdout",
     "output_type": "stream",
     "text": [
      "Invalid image position\n"
     ]
    },
    {
     "name": "stderr",
     "output_type": "stream",
     "text": [
      " 73%|███████▎  | 47024/64213 [08:04<03:05, 92.66it/s] "
     ]
    },
    {
     "name": "stdout",
     "output_type": "stream",
     "text": [
      "Invalid image position\n",
      "Invalid image position\n"
     ]
    },
    {
     "name": "stderr",
     "output_type": "stream",
     "text": [
      " 74%|███████▎  | 47332/64213 [08:06<02:13, 126.62it/s]"
     ]
    },
    {
     "name": "stdout",
     "output_type": "stream",
     "text": [
      "Invalid image position\n",
      "Invalid image position\n"
     ]
    },
    {
     "name": "stderr",
     "output_type": "stream",
     "text": [
      " 74%|███████▍  | 47418/64213 [08:07<02:42, 103.07it/s]"
     ]
    },
    {
     "name": "stdout",
     "output_type": "stream",
     "text": [
      "Invalid image position\n"
     ]
    },
    {
     "name": "stderr",
     "output_type": "stream",
     "text": [
      " 74%|███████▍  | 47523/64213 [08:08<02:28, 112.03it/s]"
     ]
    },
    {
     "name": "stdout",
     "output_type": "stream",
     "text": [
      "Invalid image position\n",
      "Invalid image position\n"
     ]
    },
    {
     "name": "stderr",
     "output_type": "stream",
     "text": [
      " 74%|███████▍  | 47606/64213 [08:09<02:45, 100.34it/s]"
     ]
    },
    {
     "name": "stdout",
     "output_type": "stream",
     "text": [
      "Invalid image position\n",
      "Invalid image position\n",
      "Invalid image position\n",
      "Invalid image position\n"
     ]
    },
    {
     "name": "stderr",
     "output_type": "stream",
     "text": [
      " 74%|███████▍  | 47714/64213 [08:11<03:58, 69.14it/s] "
     ]
    },
    {
     "name": "stdout",
     "output_type": "stream",
     "text": [
      "Invalid image position\n",
      "Invalid image position\n"
     ]
    },
    {
     "name": "stderr",
     "output_type": "stream",
     "text": [
      " 75%|███████▍  | 47942/64213 [08:14<03:33, 76.21it/s]"
     ]
    },
    {
     "name": "stdout",
     "output_type": "stream",
     "text": [
      "Invalid image position\n"
     ]
    },
    {
     "name": "stderr",
     "output_type": "stream",
     "text": [
      " 75%|███████▌  | 48169/64213 [08:16<02:42, 98.68it/s] "
     ]
    },
    {
     "name": "stdout",
     "output_type": "stream",
     "text": [
      "Invalid image position\n"
     ]
    },
    {
     "name": "stderr",
     "output_type": "stream",
     "text": [
      " 76%|███████▌  | 48493/64213 [08:19<02:44, 95.72it/s] "
     ]
    },
    {
     "name": "stdout",
     "output_type": "stream",
     "text": [
      "Invalid image position\n"
     ]
    },
    {
     "name": "stderr",
     "output_type": "stream",
     "text": [
      " 76%|███████▌  | 48753/64213 [08:22<02:50, 90.57it/s] "
     ]
    },
    {
     "name": "stdout",
     "output_type": "stream",
     "text": [
      "Invalid image position\n",
      "Invalid image position\n"
     ]
    },
    {
     "name": "stderr",
     "output_type": "stream",
     "text": [
      " 76%|███████▌  | 48854/64213 [08:23<02:21, 108.78it/s]"
     ]
    },
    {
     "name": "stdout",
     "output_type": "stream",
     "text": [
      "Invalid image position\n"
     ]
    },
    {
     "name": "stderr",
     "output_type": "stream",
     "text": [
      " 77%|███████▋  | 49336/64213 [08:27<02:22, 104.47it/s]"
     ]
    },
    {
     "name": "stdout",
     "output_type": "stream",
     "text": [
      "Invalid image position\n",
      "Invalid image position\n"
     ]
    },
    {
     "name": "stderr",
     "output_type": "stream",
     "text": [
      " 77%|███████▋  | 49456/64213 [08:29<02:14, 109.49it/s]"
     ]
    },
    {
     "name": "stdout",
     "output_type": "stream",
     "text": [
      "Invalid image position\n"
     ]
    },
    {
     "name": "stderr",
     "output_type": "stream",
     "text": [
      " 77%|███████▋  | 49656/64213 [08:30<01:44, 139.04it/s]"
     ]
    },
    {
     "name": "stdout",
     "output_type": "stream",
     "text": [
      "Invalid image position\n"
     ]
    },
    {
     "name": "stderr",
     "output_type": "stream",
     "text": [
      " 78%|███████▊  | 50008/64213 [08:33<01:44, 135.55it/s]"
     ]
    },
    {
     "name": "stdout",
     "output_type": "stream",
     "text": [
      "Invalid image position\n",
      "Invalid image position\n"
     ]
    },
    {
     "name": "stderr",
     "output_type": "stream",
     "text": [
      " 78%|███████▊  | 50068/64213 [08:34<02:18, 101.90it/s]"
     ]
    },
    {
     "name": "stdout",
     "output_type": "stream",
     "text": [
      "Invalid image position\n",
      "Invalid image position\n"
     ]
    },
    {
     "name": "stderr",
     "output_type": "stream",
     "text": [
      " 78%|███████▊  | 50295/64213 [08:36<02:16, 102.32it/s]"
     ]
    },
    {
     "name": "stdout",
     "output_type": "stream",
     "text": [
      "Invalid image position\n",
      "Invalid image position\n"
     ]
    },
    {
     "name": "stderr",
     "output_type": "stream",
     "text": [
      " 79%|███████▉  | 50630/64213 [08:39<01:56, 116.66it/s]"
     ]
    },
    {
     "name": "stdout",
     "output_type": "stream",
     "text": [
      "Invalid image position\n"
     ]
    },
    {
     "name": "stderr",
     "output_type": "stream",
     "text": [
      " 79%|███████▉  | 50866/64213 [08:41<02:15, 98.40it/s] "
     ]
    },
    {
     "name": "stdout",
     "output_type": "stream",
     "text": [
      "Image does not exist\n",
      "Image does not exist\n"
     ]
    },
    {
     "name": "stderr",
     "output_type": "stream",
     "text": [
      " 80%|███████▉  | 51127/64213 [08:43<02:06, 103.12it/s]"
     ]
    },
    {
     "name": "stdout",
     "output_type": "stream",
     "text": [
      "Invalid image position\n",
      "Invalid image position\n"
     ]
    },
    {
     "name": "stderr",
     "output_type": "stream",
     "text": [
      " 80%|███████▉  | 51310/64213 [08:45<02:03, 104.73it/s]"
     ]
    },
    {
     "name": "stdout",
     "output_type": "stream",
     "text": [
      "Invalid image position\n"
     ]
    },
    {
     "name": "stderr",
     "output_type": "stream",
     "text": [
      " 81%|████████  | 51817/64213 [08:51<01:59, 104.16it/s]"
     ]
    },
    {
     "name": "stdout",
     "output_type": "stream",
     "text": [
      "Invalid image position\n",
      "Invalid image position\n",
      "Invalid image position\n"
     ]
    },
    {
     "name": "stderr",
     "output_type": "stream",
     "text": [
      " 81%|████████  | 51869/64213 [08:51<01:30, 137.13it/s]"
     ]
    },
    {
     "name": "stdout",
     "output_type": "stream",
     "text": [
      "Invalid image position\n",
      "Invalid image position\n"
     ]
    },
    {
     "name": "stderr",
     "output_type": "stream",
     "text": [
      " 81%|████████  | 52166/64213 [08:54<01:57, 102.50it/s]"
     ]
    },
    {
     "name": "stdout",
     "output_type": "stream",
     "text": [
      "Invalid image position\n",
      "Invalid image position\n"
     ]
    },
    {
     "name": "stderr",
     "output_type": "stream",
     "text": [
      " 81%|████████▏ | 52281/64213 [08:56<02:04, 95.92it/s] "
     ]
    },
    {
     "name": "stdout",
     "output_type": "stream",
     "text": [
      "Invalid image position\n",
      "Invalid image position\n"
     ]
    },
    {
     "name": "stderr",
     "output_type": "stream",
     "text": [
      " 81%|████████▏ | 52321/64213 [08:56<02:10, 91.02it/s]"
     ]
    },
    {
     "name": "stdout",
     "output_type": "stream",
     "text": [
      "Invalid image position\n"
     ]
    },
    {
     "name": "stderr",
     "output_type": "stream",
     "text": [
      " 82%|████████▏ | 52642/64213 [08:59<01:28, 130.45it/s]"
     ]
    },
    {
     "name": "stdout",
     "output_type": "stream",
     "text": [
      "Invalid image position\n",
      "Invalid image position\n"
     ]
    },
    {
     "name": "stderr",
     "output_type": "stream",
     "text": [
      " 82%|████████▏ | 52681/64213 [08:59<02:04, 92.83it/s] "
     ]
    },
    {
     "name": "stdout",
     "output_type": "stream",
     "text": [
      "Invalid image position\n",
      "Invalid image position\n"
     ]
    },
    {
     "name": "stderr",
     "output_type": "stream",
     "text": [
      " 82%|████████▏ | 52782/64213 [09:00<01:28, 129.52it/s]"
     ]
    },
    {
     "name": "stdout",
     "output_type": "stream",
     "text": [
      "Invalid image position\n",
      "Invalid image position\n"
     ]
    },
    {
     "name": "stderr",
     "output_type": "stream",
     "text": [
      " 83%|████████▎ | 53014/64213 [09:02<02:12, 84.72it/s] "
     ]
    },
    {
     "name": "stdout",
     "output_type": "stream",
     "text": [
      "Invalid image position\n",
      "Invalid image position\n"
     ]
    },
    {
     "name": "stderr",
     "output_type": "stream",
     "text": [
      " 83%|████████▎ | 53066/64213 [09:03<01:46, 104.43it/s]"
     ]
    },
    {
     "name": "stdout",
     "output_type": "stream",
     "text": [
      "Invalid image position\n",
      "Invalid image position\n"
     ]
    },
    {
     "name": "stderr",
     "output_type": "stream",
     "text": [
      " 83%|████████▎ | 53593/64213 [09:09<02:22, 74.42it/s] "
     ]
    },
    {
     "name": "stdout",
     "output_type": "stream",
     "text": [
      "Invalid image position\n",
      "Invalid image position\n"
     ]
    },
    {
     "name": "stderr",
     "output_type": "stream",
     "text": [
      " 84%|████████▍ | 53831/64213 [09:11<01:28, 117.04it/s]"
     ]
    },
    {
     "name": "stdout",
     "output_type": "stream",
     "text": [
      "Invalid image position\n",
      "Invalid image position\n"
     ]
    },
    {
     "name": "stderr",
     "output_type": "stream",
     "text": [
      " 84%|████████▍ | 54038/64213 [09:13<01:28, 115.53it/s]"
     ]
    },
    {
     "name": "stdout",
     "output_type": "stream",
     "text": [
      "Invalid image position\n",
      "Invalid image position\n"
     ]
    },
    {
     "name": "stderr",
     "output_type": "stream",
     "text": [
      " 84%|████████▍ | 54083/64213 [09:14<01:24, 120.52it/s]"
     ]
    },
    {
     "name": "stdout",
     "output_type": "stream",
     "text": [
      "Invalid image position\n"
     ]
    },
    {
     "name": "stderr",
     "output_type": "stream",
     "text": [
      " 84%|████████▍ | 54106/64213 [09:14<01:10, 143.14it/s]"
     ]
    },
    {
     "name": "stdout",
     "output_type": "stream",
     "text": [
      "Invalid image position\n"
     ]
    },
    {
     "name": "stderr",
     "output_type": "stream",
     "text": [
      " 85%|████████▍ | 54537/64213 [09:18<01:13, 131.86it/s]"
     ]
    },
    {
     "name": "stdout",
     "output_type": "stream",
     "text": [
      "Invalid image position\n"
     ]
    },
    {
     "name": "stderr",
     "output_type": "stream",
     "text": [
      " 85%|████████▌ | 54687/64213 [09:20<01:32, 103.19it/s]"
     ]
    },
    {
     "name": "stdout",
     "output_type": "stream",
     "text": [
      "Invalid image position\n",
      "Invalid image position\n"
     ]
    },
    {
     "name": "stderr",
     "output_type": "stream",
     "text": [
      " 85%|████████▌ | 54742/64213 [09:20<01:20, 117.67it/s]"
     ]
    },
    {
     "name": "stdout",
     "output_type": "stream",
     "text": [
      "Invalid image position\n",
      "Invalid image position\n"
     ]
    },
    {
     "name": "stderr",
     "output_type": "stream",
     "text": [
      " 86%|████████▌ | 54980/64213 [09:22<01:17, 119.26it/s]"
     ]
    },
    {
     "name": "stdout",
     "output_type": "stream",
     "text": [
      "Invalid image position\n"
     ]
    },
    {
     "name": "stderr",
     "output_type": "stream",
     "text": [
      " 86%|████████▌ | 55134/64213 [09:24<01:15, 119.50it/s]"
     ]
    },
    {
     "name": "stdout",
     "output_type": "stream",
     "text": [
      "Invalid image position\n"
     ]
    },
    {
     "name": "stderr",
     "output_type": "stream",
     "text": [
      " 86%|████████▌ | 55232/64213 [09:25<01:06, 135.79it/s]"
     ]
    },
    {
     "name": "stdout",
     "output_type": "stream",
     "text": [
      "Invalid image position\n"
     ]
    },
    {
     "name": "stderr",
     "output_type": "stream",
     "text": [
      " 86%|████████▌ | 55381/64213 [09:26<01:51, 78.89it/s] "
     ]
    },
    {
     "name": "stdout",
     "output_type": "stream",
     "text": [
      "Invalid image position\n"
     ]
    },
    {
     "name": "stderr",
     "output_type": "stream",
     "text": [
      " 86%|████████▋ | 55498/64213 [09:27<01:19, 109.92it/s]"
     ]
    },
    {
     "name": "stdout",
     "output_type": "stream",
     "text": [
      "Invalid image position\n",
      "Invalid image position\n"
     ]
    },
    {
     "name": "stderr",
     "output_type": "stream",
     "text": [
      " 87%|████████▋ | 55616/64213 [09:29<01:48, 78.97it/s] "
     ]
    },
    {
     "name": "stdout",
     "output_type": "stream",
     "text": [
      "Invalid image position\n"
     ]
    },
    {
     "name": "stderr",
     "output_type": "stream",
     "text": [
      " 87%|████████▋ | 55930/64213 [09:32<01:12, 114.32it/s]"
     ]
    },
    {
     "name": "stdout",
     "output_type": "stream",
     "text": [
      "Invalid image position\n",
      "Invalid image position\n"
     ]
    },
    {
     "name": "stderr",
     "output_type": "stream",
     "text": [
      " 87%|████████▋ | 55971/64213 [09:32<01:33, 88.44it/s] "
     ]
    },
    {
     "name": "stdout",
     "output_type": "stream",
     "text": [
      "Invalid image position\n",
      "Invalid image position\n"
     ]
    },
    {
     "name": "stderr",
     "output_type": "stream",
     "text": [
      " 88%|████████▊ | 56285/64213 [09:35<01:10, 113.09it/s]"
     ]
    },
    {
     "name": "stdout",
     "output_type": "stream",
     "text": [
      "Invalid image position\n"
     ]
    },
    {
     "name": "stderr",
     "output_type": "stream",
     "text": [
      " 88%|████████▊ | 56454/64213 [09:37<01:27, 89.09it/s] "
     ]
    },
    {
     "name": "stdout",
     "output_type": "stream",
     "text": [
      "Invalid image position\n"
     ]
    },
    {
     "name": "stderr",
     "output_type": "stream",
     "text": [
      " 88%|████████▊ | 56766/64213 [09:40<00:53, 139.75it/s]"
     ]
    },
    {
     "name": "stdout",
     "output_type": "stream",
     "text": [
      "Invalid image position\n"
     ]
    },
    {
     "name": "stderr",
     "output_type": "stream",
     "text": [
      " 89%|████████▉ | 57350/64213 [09:46<01:14, 92.20it/s] "
     ]
    },
    {
     "name": "stdout",
     "output_type": "stream",
     "text": [
      "Invalid image position\n",
      "Invalid image position\n"
     ]
    },
    {
     "name": "stderr",
     "output_type": "stream",
     "text": [
      " 89%|████████▉ | 57458/64213 [09:47<00:58, 115.77it/s]"
     ]
    },
    {
     "name": "stdout",
     "output_type": "stream",
     "text": [
      "Invalid image position\n",
      "Invalid image position\n"
     ]
    },
    {
     "name": "stderr",
     "output_type": "stream",
     "text": [
      " 90%|████████▉ | 57585/64213 [09:48<01:03, 105.07it/s]"
     ]
    },
    {
     "name": "stdout",
     "output_type": "stream",
     "text": [
      "Invalid image position\n",
      "Invalid image position\n"
     ]
    },
    {
     "name": "stderr",
     "output_type": "stream",
     "text": [
      " 90%|█████████ | 57882/64213 [09:51<00:56, 112.90it/s]"
     ]
    },
    {
     "name": "stdout",
     "output_type": "stream",
     "text": [
      "Invalid image position\n"
     ]
    },
    {
     "name": "stderr",
     "output_type": "stream",
     "text": [
      " 91%|█████████ | 58269/64213 [09:55<00:47, 124.54it/s]"
     ]
    },
    {
     "name": "stdout",
     "output_type": "stream",
     "text": [
      "Invalid image position\n",
      "Invalid image position\n"
     ]
    },
    {
     "name": "stderr",
     "output_type": "stream",
     "text": [
      " 91%|█████████ | 58332/64213 [09:55<00:50, 116.88it/s]"
     ]
    },
    {
     "name": "stdout",
     "output_type": "stream",
     "text": [
      "Invalid image position\n",
      "Invalid image position\n"
     ]
    },
    {
     "name": "stderr",
     "output_type": "stream",
     "text": [
      " 91%|█████████▏| 58623/64213 [09:58<01:14, 75.54it/s] "
     ]
    },
    {
     "name": "stdout",
     "output_type": "stream",
     "text": [
      "Invalid image position\n",
      "Invalid image position\n"
     ]
    },
    {
     "name": "stderr",
     "output_type": "stream",
     "text": [
      " 91%|█████████▏| 58673/64213 [09:59<01:17, 71.77it/s]"
     ]
    },
    {
     "name": "stdout",
     "output_type": "stream",
     "text": [
      "Invalid image position\n",
      "Invalid image position\n"
     ]
    },
    {
     "name": "stderr",
     "output_type": "stream",
     "text": [
      " 91%|█████████▏| 58707/64213 [09:59<01:16, 72.02it/s]"
     ]
    },
    {
     "name": "stdout",
     "output_type": "stream",
     "text": [
      "Image does not exist\n",
      "Image does not exist\n"
     ]
    },
    {
     "name": "stderr",
     "output_type": "stream",
     "text": [
      " 92%|█████████▏| 58872/64213 [10:01<00:58, 91.70it/s] "
     ]
    },
    {
     "name": "stdout",
     "output_type": "stream",
     "text": [
      "Invalid image position\n"
     ]
    },
    {
     "name": "stderr",
     "output_type": "stream",
     "text": [
      " 92%|█████████▏| 59072/64213 [10:02<00:31, 164.92it/s]"
     ]
    },
    {
     "name": "stdout",
     "output_type": "stream",
     "text": [
      "Image does not exist\n",
      "Image does not exist\n"
     ]
    },
    {
     "name": "stderr",
     "output_type": "stream",
     "text": [
      " 93%|█████████▎| 59606/64213 [10:07<00:40, 114.62it/s]"
     ]
    },
    {
     "name": "stdout",
     "output_type": "stream",
     "text": [
      "Invalid image position\n",
      "Invalid image position\n",
      "Invalid image position\n",
      "Invalid image position\n"
     ]
    },
    {
     "name": "stderr",
     "output_type": "stream",
     "text": [
      " 94%|█████████▎| 60167/64213 [10:13<00:43, 93.53it/s] "
     ]
    },
    {
     "name": "stdout",
     "output_type": "stream",
     "text": [
      "Invalid image position\n",
      "Invalid image position\n"
     ]
    },
    {
     "name": "stderr",
     "output_type": "stream",
     "text": [
      " 94%|█████████▍| 60288/64213 [10:14<00:34, 113.94it/s]"
     ]
    },
    {
     "name": "stdout",
     "output_type": "stream",
     "text": [
      "Invalid image position\n"
     ]
    },
    {
     "name": "stderr",
     "output_type": "stream",
     "text": [
      " 94%|█████████▍| 60416/64213 [10:15<00:27, 139.57it/s]"
     ]
    },
    {
     "name": "stdout",
     "output_type": "stream",
     "text": [
      "Invalid image position\n"
     ]
    },
    {
     "name": "stderr",
     "output_type": "stream",
     "text": [
      " 94%|█████████▍| 60466/64213 [10:16<00:28, 132.89it/s]"
     ]
    },
    {
     "name": "stdout",
     "output_type": "stream",
     "text": [
      "Invalid image position\n",
      "Invalid image position\n"
     ]
    },
    {
     "name": "stderr",
     "output_type": "stream",
     "text": [
      " 95%|█████████▍| 60804/64213 [10:19<00:26, 127.75it/s]"
     ]
    },
    {
     "name": "stdout",
     "output_type": "stream",
     "text": [
      "Invalid image position\n",
      "Invalid image position\n"
     ]
    },
    {
     "name": "stderr",
     "output_type": "stream",
     "text": [
      " 95%|█████████▍| 60904/64213 [10:20<00:28, 116.15it/s]"
     ]
    },
    {
     "name": "stdout",
     "output_type": "stream",
     "text": [
      "Invalid image position\n",
      "Invalid image position\n"
     ]
    },
    {
     "name": "stderr",
     "output_type": "stream",
     "text": [
      " 95%|█████████▌| 61026/64213 [10:21<00:33, 94.98it/s] "
     ]
    },
    {
     "name": "stdout",
     "output_type": "stream",
     "text": [
      "Invalid image position\n",
      "Invalid image position\n"
     ]
    },
    {
     "name": "stderr",
     "output_type": "stream",
     "text": [
      " 95%|█████████▌| 61290/64213 [10:24<00:33, 88.55it/s] "
     ]
    },
    {
     "name": "stdout",
     "output_type": "stream",
     "text": [
      "Invalid image position\n"
     ]
    },
    {
     "name": "stderr",
     "output_type": "stream",
     "text": [
      " 96%|█████████▌| 61329/64213 [10:24<00:30, 95.97it/s]"
     ]
    },
    {
     "name": "stdout",
     "output_type": "stream",
     "text": [
      "Invalid image position\n"
     ]
    },
    {
     "name": "stderr",
     "output_type": "stream",
     "text": [
      " 96%|█████████▌| 61525/64213 [10:26<00:19, 135.50it/s]"
     ]
    },
    {
     "name": "stdout",
     "output_type": "stream",
     "text": [
      "Invalid image position\n",
      "Invalid image position\n"
     ]
    },
    {
     "name": "stderr",
     "output_type": "stream",
     "text": [
      " 96%|█████████▌| 61599/64213 [10:27<00:21, 122.97it/s]"
     ]
    },
    {
     "name": "stdout",
     "output_type": "stream",
     "text": [
      "Invalid image position\n",
      "Invalid image position\n",
      "Invalid image position\n"
     ]
    },
    {
     "name": "stderr",
     "output_type": "stream",
     "text": [
      " 96%|█████████▌| 61697/64213 [10:28<00:28, 88.65it/s] "
     ]
    },
    {
     "name": "stdout",
     "output_type": "stream",
     "text": [
      "Invalid image position\n",
      "Invalid image position\n"
     ]
    },
    {
     "name": "stderr",
     "output_type": "stream",
     "text": [
      " 97%|█████████▋| 62116/64213 [10:33<00:21, 99.46it/s] "
     ]
    },
    {
     "name": "stdout",
     "output_type": "stream",
     "text": [
      "Invalid image position\n",
      "Invalid image position\n"
     ]
    },
    {
     "name": "stderr",
     "output_type": "stream",
     "text": [
      " 97%|█████████▋| 62248/64213 [10:34<00:22, 86.84it/s]"
     ]
    },
    {
     "name": "stdout",
     "output_type": "stream",
     "text": [
      "Invalid image position\n",
      "Invalid image position\n"
     ]
    },
    {
     "name": "stderr",
     "output_type": "stream",
     "text": [
      " 97%|█████████▋| 62312/64213 [10:35<00:17, 109.03it/s]"
     ]
    },
    {
     "name": "stdout",
     "output_type": "stream",
     "text": [
      "Invalid image position\n",
      "Invalid image position\n"
     ]
    },
    {
     "name": "stderr",
     "output_type": "stream",
     "text": [
      " 97%|█████████▋| 62445/64213 [10:36<00:13, 134.69it/s]"
     ]
    },
    {
     "name": "stdout",
     "output_type": "stream",
     "text": [
      "Image does not exist\n"
     ]
    },
    {
     "name": "stderr",
     "output_type": "stream",
     "text": [
      " 97%|█████████▋| 62473/64213 [10:36<00:17, 97.78it/s] "
     ]
    },
    {
     "name": "stdout",
     "output_type": "stream",
     "text": [
      "Image does not exist\n",
      "Image does not exist\n"
     ]
    },
    {
     "name": "stderr",
     "output_type": "stream",
     "text": [
      " 97%|█████████▋| 62546/64213 [10:37<00:14, 118.72it/s]"
     ]
    },
    {
     "name": "stdout",
     "output_type": "stream",
     "text": [
      "Image does not exist\n"
     ]
    },
    {
     "name": "stderr",
     "output_type": "stream",
     "text": [
      " 98%|█████████▊| 62660/64213 [10:38<00:16, 93.13it/s] "
     ]
    },
    {
     "name": "stdout",
     "output_type": "stream",
     "text": [
      "Invalid image position\n"
     ]
    },
    {
     "name": "stderr",
     "output_type": "stream",
     "text": [
      " 98%|█████████▊| 62757/64213 [10:39<00:19, 75.95it/s] "
     ]
    },
    {
     "name": "stdout",
     "output_type": "stream",
     "text": [
      "Invalid image position\n",
      "Invalid image position\n"
     ]
    },
    {
     "name": "stderr",
     "output_type": "stream",
     "text": [
      " 98%|█████████▊| 62847/64213 [10:40<00:14, 93.97it/s]"
     ]
    },
    {
     "name": "stdout",
     "output_type": "stream",
     "text": [
      "Invalid image position\n",
      "Invalid image position\n"
     ]
    },
    {
     "name": "stderr",
     "output_type": "stream",
     "text": [
      " 99%|█████████▊| 63292/64213 [10:45<00:12, 72.80it/s] "
     ]
    },
    {
     "name": "stdout",
     "output_type": "stream",
     "text": [
      "Invalid image position\n",
      "Invalid image position\n"
     ]
    },
    {
     "name": "stderr",
     "output_type": "stream",
     "text": [
      " 99%|█████████▉| 63697/64213 [10:49<00:04, 123.94it/s]"
     ]
    },
    {
     "name": "stdout",
     "output_type": "stream",
     "text": [
      "Invalid image position\n"
     ]
    },
    {
     "name": "stderr",
     "output_type": "stream",
     "text": [
      " 99%|█████████▉| 63781/64213 [10:50<00:03, 109.91it/s]"
     ]
    },
    {
     "name": "stdout",
     "output_type": "stream",
     "text": [
      "Invalid image position\n"
     ]
    },
    {
     "name": "stderr",
     "output_type": "stream",
     "text": [
      " 99%|█████████▉| 63804/64213 [10:50<00:04, 90.70it/s] "
     ]
    },
    {
     "name": "stdout",
     "output_type": "stream",
     "text": [
      "Invalid image position\n",
      "Invalid image position\n"
     ]
    },
    {
     "name": "stderr",
     "output_type": "stream",
     "text": [
      "100%|█████████▉| 64153/64213 [10:53<00:00, 112.97it/s]"
     ]
    },
    {
     "name": "stdout",
     "output_type": "stream",
     "text": [
      "Invalid image position\n"
     ]
    },
    {
     "name": "stderr",
     "output_type": "stream",
     "text": [
      "100%|██████████| 64213/64213 [10:54<00:00, 98.09it/s] \n",
      " 19%|█▉        | 96/496 [00:01<00:08, 49.42it/s] "
     ]
    },
    {
     "name": "stdout",
     "output_type": "stream",
     "text": [
      "Invalid image position\n",
      "Invalid image position\n"
     ]
    },
    {
     "name": "stderr",
     "output_type": "stream",
     "text": [
      "100%|██████████| 496/496 [00:05<00:00, 91.27it/s] \n",
      " 10%|▉         | 29/293 [00:00<00:08, 29.57it/s]"
     ]
    },
    {
     "name": "stdout",
     "output_type": "stream",
     "text": [
      "Invalid image position\n",
      "Invalid image position\n"
     ]
    },
    {
     "name": "stderr",
     "output_type": "stream",
     "text": [
      " 28%|██▊       | 83/293 [00:02<00:07, 29.32it/s]"
     ]
    },
    {
     "name": "stdout",
     "output_type": "stream",
     "text": [
      "Invalid image position\n"
     ]
    },
    {
     "name": "stderr",
     "output_type": "stream",
     "text": [
      " 54%|█████▍    | 159/293 [00:05<00:05, 25.71it/s]"
     ]
    },
    {
     "name": "stdout",
     "output_type": "stream",
     "text": [
      "Invalid image position\n"
     ]
    },
    {
     "name": "stderr",
     "output_type": "stream",
     "text": [
      " 58%|█████▊    | 171/293 [00:06<00:03, 36.19it/s]"
     ]
    },
    {
     "name": "stdout",
     "output_type": "stream",
     "text": [
      "Invalid image position\n",
      "Invalid image position\n"
     ]
    },
    {
     "name": "stderr",
     "output_type": "stream",
     "text": [
      " 76%|███████▌  | 223/293 [00:07<00:01, 36.53it/s]"
     ]
    },
    {
     "name": "stdout",
     "output_type": "stream",
     "text": [
      "Invalid image position\n",
      "Invalid image position\n"
     ]
    },
    {
     "name": "stderr",
     "output_type": "stream",
     "text": [
      " 89%|████████▊ | 260/293 [00:08<00:01, 32.95it/s]"
     ]
    },
    {
     "name": "stdout",
     "output_type": "stream",
     "text": [
      "Invalid image position\n",
      "Invalid image position\n"
     ]
    },
    {
     "name": "stderr",
     "output_type": "stream",
     "text": [
      "100%|██████████| 293/293 [00:09<00:00, 29.61it/s]\n"
     ]
    }
   ],
   "source": [
    "import csv\n",
    "\n",
    "\n",
    "for sname, split in ALL_TXT_PATHS_PATIENT.items():\n",
    "    with open(f\"MIMIC_JPG_{sname[:5]}.tsv\", 'w') as f:\n",
    "        writer = csv.writer(f, delimiter='\\t')\n",
    "\n",
    "        for patient_id, studies in tqdm(split.items()):\n",
    "            studies = list(studies.items())\n",
    "            study_lim = len(studies) if len(studies) == 1 else len(studies) - 1\n",
    "    \n",
    "            if study_lim == 1:\n",
    "                cur_study_id, cur_report_path = studies[0]\n",
    "                cur_txt = get_report_from_path(cur_report_path)\n",
    "\n",
    "                try:\n",
    "                    cur_image_info = images_n_locs_2_txt(cur_study_id)\n",
    "                    if cur_image_info is None:\n",
    "                        continue\n",
    "                except:\n",
    "                    print(\"Invalid image position\")\n",
    "                    continue\n",
    "\n",
    "                writer.writerow([cur_txt, cur_image_info])\n",
    "            else:\n",
    "                for study_idx in range(study_lim):\n",
    "                    cur_study_id, cur_report_path = studies[study_idx]\n",
    "                    next_study_id, next_report_path = studies[study_idx+1]\n",
    "    \n",
    "                    cur_txt = get_report_from_path(cur_report_path)\n",
    "                    next_txt = get_report_from_path(next_report_path)\n",
    "    \n",
    "                    combined_txt = f\"{cur_txt}[NEXT_TXT]{next_txt}\"\n",
    "\n",
    "                    try:\n",
    "                        cur_image_info = images_n_locs_2_txt(cur_study_id)\n",
    "                        next_image_info = images_n_locs_2_txt(next_study_id)\n",
    "\n",
    "                        if cur_image_info is None or next_image_info is None:\n",
    "                            continue\n",
    "                    except:\n",
    "                        print(\"Invalid image position\")\n",
    "                        continue\n",
    "\n",
    "                    combined_img_info = f\"{cur_image_info}[NEXT_IMG]{next_image_info}\"\n",
    "                    writer.writerow([combined_txt, combined_img_info])\n"
   ]
  },
  {
   "cell_type": "code",
   "execution_count": 25,
   "id": "b634c399-a4f4-48bc-8e7a-8831534da8f8",
   "metadata": {},
   "outputs": [],
   "source": [
    "l = []"
   ]
  },
  {
   "cell_type": "code",
   "execution_count": 26,
   "id": "708562b2-e42d-41a7-adb9-e8c65b674d8e",
   "metadata": {},
   "outputs": [
    {
     "ename": "FileNotFoundError",
     "evalue": "[Errno 2] No such file or directory: 'MIMIC_JPG_train_trimmed.tsv'",
     "output_type": "error",
     "traceback": [
      "\u001b[0;31m---------------------------------------------------------------------------\u001b[0m",
      "\u001b[0;31mFileNotFoundError\u001b[0m                         Traceback (most recent call last)",
      "Cell \u001b[0;32mIn[26], line 1\u001b[0m\n\u001b[0;32m----> 1\u001b[0m \u001b[38;5;28;01mwith\u001b[39;00m \u001b[38;5;28;43mopen\u001b[39;49m\u001b[43m(\u001b[49m\u001b[38;5;124;43m\"\u001b[39;49m\u001b[38;5;124;43mMIMIC_JPG_train_trimmed.tsv\u001b[39;49m\u001b[38;5;124;43m\"\u001b[39;49m\u001b[43m,\u001b[49m\u001b[43m \u001b[49m\u001b[38;5;124;43m\"\u001b[39;49m\u001b[38;5;124;43mr\u001b[39;49m\u001b[38;5;124;43m\"\u001b[39;49m\u001b[43m)\u001b[49m \u001b[38;5;28;01mas\u001b[39;00m f:\n\u001b[1;32m      2\u001b[0m     reader \u001b[38;5;241m=\u001b[39m csv\u001b[38;5;241m.\u001b[39mreader(f, delimiter\u001b[38;5;241m=\u001b[39m\u001b[38;5;124m\"\u001b[39m\u001b[38;5;130;01m\\t\u001b[39;00m\u001b[38;5;124m\"\u001b[39m)\n\u001b[1;32m      3\u001b[0m     \u001b[38;5;28;01mfor\u001b[39;00m item \u001b[38;5;129;01min\u001b[39;00m reader:\n",
      "File \u001b[0;32m~/.conda/envs/fromage/lib/python3.10/site-packages/IPython/core/interactiveshell.py:284\u001b[0m, in \u001b[0;36m_modified_open\u001b[0;34m(file, *args, **kwargs)\u001b[0m\n\u001b[1;32m    277\u001b[0m \u001b[38;5;28;01mif\u001b[39;00m file \u001b[38;5;129;01min\u001b[39;00m {\u001b[38;5;241m0\u001b[39m, \u001b[38;5;241m1\u001b[39m, \u001b[38;5;241m2\u001b[39m}:\n\u001b[1;32m    278\u001b[0m     \u001b[38;5;28;01mraise\u001b[39;00m \u001b[38;5;167;01mValueError\u001b[39;00m(\n\u001b[1;32m    279\u001b[0m         \u001b[38;5;124mf\u001b[39m\u001b[38;5;124m\"\u001b[39m\u001b[38;5;124mIPython won\u001b[39m\u001b[38;5;124m'\u001b[39m\u001b[38;5;124mt let you open fd=\u001b[39m\u001b[38;5;132;01m{\u001b[39;00mfile\u001b[38;5;132;01m}\u001b[39;00m\u001b[38;5;124m by default \u001b[39m\u001b[38;5;124m\"\u001b[39m\n\u001b[1;32m    280\u001b[0m         \u001b[38;5;124m\"\u001b[39m\u001b[38;5;124mas it is likely to crash IPython. If you know what you are doing, \u001b[39m\u001b[38;5;124m\"\u001b[39m\n\u001b[1;32m    281\u001b[0m         \u001b[38;5;124m\"\u001b[39m\u001b[38;5;124myou can use builtins\u001b[39m\u001b[38;5;124m'\u001b[39m\u001b[38;5;124m open.\u001b[39m\u001b[38;5;124m\"\u001b[39m\n\u001b[1;32m    282\u001b[0m     )\n\u001b[0;32m--> 284\u001b[0m \u001b[38;5;28;01mreturn\u001b[39;00m \u001b[43mio_open\u001b[49m\u001b[43m(\u001b[49m\u001b[43mfile\u001b[49m\u001b[43m,\u001b[49m\u001b[43m \u001b[49m\u001b[38;5;241;43m*\u001b[39;49m\u001b[43margs\u001b[49m\u001b[43m,\u001b[49m\u001b[43m \u001b[49m\u001b[38;5;241;43m*\u001b[39;49m\u001b[38;5;241;43m*\u001b[39;49m\u001b[43mkwargs\u001b[49m\u001b[43m)\u001b[49m\n",
      "\u001b[0;31mFileNotFoundError\u001b[0m: [Errno 2] No such file or directory: 'MIMIC_JPG_train_trimmed.tsv'"
     ]
    }
   ],
   "source": [
    "with open(\"MIMIC_JPG_train_trimmed.tsv\", \"r\") as f:\n",
    "    reader = csv.reader(f, delimiter=\"\\t\")\n",
    "    for item in reader:\n",
    "        if \"[NEXT_IMG]\" not in item[-1]:\n",
    "            cur_img = item[-1]\n",
    "            cur_img_count, next_img_count = cur_img.count(\"LOC_DELIM\"), 0\n",
    "        else:\n",
    "            cur_img, next_img = item[-1].split(\"[NEXT_IMG]\")\n",
    "            cur_img_count, next_img_count = cur_img.count(\"LOC_DELIM\"), next_img.count(\"LOC_DELIM\")\n",
    "        l.append((cur_img_count, next_img_count))\n"
   ]
  },
  {
   "cell_type": "code",
   "execution_count": 28,
   "id": "b12b75cb-e720-457e-9911-b388c37cbd99",
   "metadata": {},
   "outputs": [
    {
     "name": "stderr",
     "output_type": "stream",
     "text": [
      "2934it [00:00, 12506.52it/s]\n"
     ]
    }
   ],
   "source": [
    "LIMIT = 2\n",
    "\n",
    "with open(\"MIMIC_JPG_test.tsv\", \"r\") as f, open(\"MIMIC_JPG_test_trimmed.tsv\", \"w\") as f_write:\n",
    "    reader = csv.reader(f, delimiter=\"\\t\")\n",
    "    writer = csv.writer(f_write, delimiter=\"\\t\")\n",
    "    for item in tqdm(reader):\n",
    "        if \"[NEXT_IMG]\" not in item[-1]:\n",
    "            cur_img = item[-1]\n",
    "            cur_img_count, next_img_count = cur_img.count(\"LOC_DELIM\"), 0\n",
    "        else:\n",
    "            cur_img, next_img = item[-1].split(\"[NEXT_IMG]\")\n",
    "            cur_img_count, next_img_count = cur_img.count(\"LOC_DELIM\"), next_img.count(\"LOC_DELIM\")\n",
    "\n",
    "        if cur_img_count > LIMIT:\n",
    "            cur_img = \"[VIEW_DELIM]\".join(cur_img.split(\"[VIEW_DELIM]\")[:LIMIT])\n",
    "        if next_img_count > LIMIT:\n",
    "            next_img = \"[VIEW_DELIM]\".join(next_img.split(\"[VIEW_DELIM]\")[:LIMIT])\n",
    "\n",
    "        views = cur_img.split(\"[VIEW_DELIM]\")\n",
    "        views = sorted(views, key=lambda view: view.split(\"[LOC_DELIM]\")[-1])\n",
    "        cur_img = \"[VIEW_DELIM]\".join(views)\n",
    "\n",
    "        if next_img_count != 0:\n",
    "            views = next_img.split(\"[VIEW_DELIM]\")\n",
    "            views = sorted(views, key=lambda view: view.split(\"[LOC_DELIM]\")[-1])\n",
    "            next_img = \"[VIEW_DELIM]\".join(views)\n",
    "\n",
    "        if \"[NEXT_IMG]\" in item[-1]:\n",
    "            cur_img = f\"{cur_img}[NEXT_IMG]{next_img}\"\n",
    "\n",
    "        item[-1] = cur_img\n",
    "        if \"[NEXT_IMG]\" not in item[-1]:\n",
    "            cur_img = item[-1]\n",
    "            cur_img_count, next_img_count = cur_img.count(\"LOC_DELIM\"), 0\n",
    "        else:\n",
    "            cur_img, next_img = item[-1].split(\"[NEXT_IMG]\")\n",
    "            cur_img_count, next_img_count = cur_img.count(\"LOC_DELIM\"), next_img.count(\"LOC_DELIM\")\n",
    "\n",
    "        item = (*item, cur_img_count, next_img_count)\n",
    "\n",
    "        writer.writerow(item)"
   ]
  },
  {
   "cell_type": "code",
   "execution_count": null,
   "id": "bf131d23-79af-4475-886b-dbb93fb8f1f5",
   "metadata": {},
   "outputs": [],
   "source": [
    "from collections import Counter\n",
    "c = Counter(l)"
   ]
  },
  {
   "cell_type": "code",
   "execution_count": 75,
   "id": "0d086bd9-0767-4933-861f-3e06db10bf3b",
   "metadata": {},
   "outputs": [
    {
     "data": {
      "text/plain": [
       "Counter({(1, 1): 52654,\n",
       "         (2, 2): 40642,\n",
       "         (2, 0): 34681,\n",
       "         (1, 2): 25935,\n",
       "         (2, 1): 25884,\n",
       "         (1, 0): 8285})"
      ]
     },
     "execution_count": 75,
     "metadata": {},
     "output_type": "execute_result"
    }
   ],
   "source": [
    "c"
   ]
  },
  {
   "cell_type": "code",
   "execution_count": 61,
   "id": "e6a38640-0da6-4541-9059-999e1cacc5f1",
   "metadata": {},
   "outputs": [
    {
     "data": {
      "text/plain": [
       "Counter({(1, 1): 52654,\n",
       "         (2, 0): 28731,\n",
       "         (2, 2): 28532,\n",
       "         (1, 2): 21655,\n",
       "         (2, 1): 21549,\n",
       "         (1, 0): 8285,\n",
       "         (3, 0): 5950,\n",
       "         (2, 3): 4962,\n",
       "         (3, 2): 4950,\n",
       "         (3, 1): 4335,\n",
       "         (1, 3): 4280,\n",
       "         (3, 3): 2198})"
      ]
     },
     "execution_count": 61,
     "metadata": {},
     "output_type": "execute_result"
    }
   ],
   "source": [
    "c"
   ]
  },
  {
   "cell_type": "code",
   "execution_count": 47,
   "id": "0c11bc02-a35d-4ea9-9e46-38d1dd00587b",
   "metadata": {},
   "outputs": [
    {
     "data": {
      "text/plain": [
       "Counter({(1, 1): 52654,\n",
       "         (2, 0): 28731,\n",
       "         (2, 2): 28534,\n",
       "         (1, 2): 21655,\n",
       "         (2, 1): 21550,\n",
       "         (1, 0): 8285,\n",
       "         (3, 0): 5378,\n",
       "         (2, 3): 4514,\n",
       "         (3, 2): 4501,\n",
       "         (3, 1): 3869,\n",
       "         (1, 3): 3794,\n",
       "         (3, 3): 1646,\n",
       "         (4, 0): 544,\n",
       "         (1, 4): 439,\n",
       "         (4, 1): 429,\n",
       "         (4, 2): 422,\n",
       "         (2, 4): 421,\n",
       "         (4, 3): 240,\n",
       "         (3, 4): 222,\n",
       "         (4, 4): 59,\n",
       "         (1, 5): 36,\n",
       "         (5, 1): 30,\n",
       "         (5, 2): 22,\n",
       "         (5, 0): 20,\n",
       "         (2, 5): 17,\n",
       "         (2, 6): 9,\n",
       "         (5, 3): 9,\n",
       "         (6, 0): 8,\n",
       "         (1, 6): 6,\n",
       "         (3, 5): 6,\n",
       "         (6, 1): 5,\n",
       "         (4, 5): 4,\n",
       "         (6, 6): 3,\n",
       "         (6, 4): 3,\n",
       "         (1, 8): 3,\n",
       "         (6, 2): 3,\n",
       "         (1, 7): 2,\n",
       "         (4, 6): 2,\n",
       "         (5, 4): 2,\n",
       "         (7, 6): 1,\n",
       "         (8, 4): 1,\n",
       "         (9, 1): 1,\n",
       "         (8, 1): 1,\n",
       "         (8, 2): 1,\n",
       "         (2, 11): 1,\n",
       "         (11, 2): 1})"
      ]
     },
     "execution_count": 47,
     "metadata": {},
     "output_type": "execute_result"
    }
   ],
   "source": [
    "c"
   ]
  },
  {
   "cell_type": "code",
   "execution_count": null,
   "id": "2fd053c1-4348-4a09-adcd-7d6ac4fe4b95",
   "metadata": {},
   "outputs": [],
   "source": []
  }
 ],
 "metadata": {
  "kernelspec": {
   "display_name": "Python 3 (ipykernel)",
   "language": "python",
   "name": "python3"
  },
  "language_info": {
   "codemirror_mode": {
    "name": "ipython",
    "version": 3
   },
   "file_extension": ".py",
   "mimetype": "text/x-python",
   "name": "python",
   "nbconvert_exporter": "python",
   "pygments_lexer": "ipython3",
   "version": "3.10.12"
  }
 },
 "nbformat": 4,
 "nbformat_minor": 5
}
