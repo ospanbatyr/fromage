{
 "cells": [
  {
   "cell_type": "code",
   "execution_count": 6,
   "id": "1e0f228f-0a68-4aa6-9f18-7597285e9521",
   "metadata": {
    "tags": []
   },
   "outputs": [],
   "source": [
    "import os\n",
    "import os.path as osp\n",
    "from glob import glob\n",
    "import re\n",
    "from pprint import pprint\n",
    "from tqdm import tqdm\n",
    "import pydicom as dicom\n",
    "\n",
    "PATHS = [f'/kuacc/users/oince22/hpc_run/physionet.org/files/mimic-cxr-jpg/2.0.0/files/p{s}' for s in range(10, 11)]\n",
    "TEXT_PATH_ROOT = '/datasets/mimic/cxr/physionet.org/files/mimic-cxr/2.0.0/files/'\n",
    "\n",
    "get_report_path = lambda img_path: Path.joinpath(TEXT_ROOT, img_path.parents[0]).with_suffix(\".txt\")\n",
    "\n",
    "def check_jpg_extension(filename):\n",
    "    pattern = r\"\\.jpg$\"\n",
    "    if re.search(pattern, filename):\n",
    "        return True\n",
    "    else:\n",
    "        return False"
   ]
  },
  {
   "cell_type": "code",
   "execution_count": 7,
   "id": "56076202-f2d4-445d-80dc-34c6828d65b9",
   "metadata": {},
   "outputs": [],
   "source": [
    "ALL_IMG_PATHS = []\n",
    "ALL_TXT_PATHS = []"
   ]
  },
  {
   "cell_type": "code",
   "execution_count": 8,
   "id": "59b9e1f2-915b-4e81-af27-a5929ba2de28",
   "metadata": {},
   "outputs": [],
   "source": [
    "get_txt_path = lambda s: TEXT_PATH_ROOT + \"/\".join(s.split(\"/\")[10:-1]).split(\".\")[0] + \".txt\"\n",
    "get_new_img_path = lambda s: \"/\".join(s.split(\"/\")[10:])"
   ]
  },
  {
   "cell_type": "code",
   "execution_count": 9,
   "id": "87c10cb3-b076-44c3-83ff-5cfdbd2d8156",
   "metadata": {
    "scrolled": true
   },
   "outputs": [
    {
     "name": "stderr",
     "output_type": "stream",
     "text": [
      "100%|██████████| 6396/6396 [00:17<00:00, 365.16it/s]\n"
     ]
    }
   ],
   "source": [
    "for PATH in PATHS:\n",
    "    top_dirs = [dir for dir in os.listdir(PATH) if dir.find(\".\") == -1]\n",
    "    for dir_name in tqdm(top_dirs):\n",
    "        paths = os.listdir(osp.join(PATH, dir_name))\n",
    "        img_dirs = [osp.join(PATH, dir_name, dir) for dir in paths if dir.find(\".\") == -1]\n",
    "        for img_dir in img_dirs:\n",
    "            img_paths = [osp.join(img_dir, img_name) for img_name in os.listdir(img_dir)]\n",
    "            img_paths = [path for path in img_paths if check_jpg_extension(path)]\n",
    "            ALL_IMG_PATHS.extend([get_new_img_path(s) for s in img_paths])\n",
    "            ALL_TXT_PATHS.extend([get_txt_path(s) for s in img_paths])"
   ]
  },
  {
   "cell_type": "code",
   "execution_count": 15,
   "id": "15848546-bf87-432b-bb99-eaab575bfe5b",
   "metadata": {},
   "outputs": [
    {
     "data": {
      "text/plain": [
       "\u001b[0;31mSignature:\u001b[0m \u001b[0mrandom\u001b[0m\u001b[0;34m.\u001b[0m\u001b[0mrandint\u001b[0m\u001b[0;34m(\u001b[0m\u001b[0ma\u001b[0m\u001b[0;34m,\u001b[0m \u001b[0mb\u001b[0m\u001b[0;34m)\u001b[0m\u001b[0;34m\u001b[0m\u001b[0;34m\u001b[0m\u001b[0m\n",
       "\u001b[0;31mDocstring:\u001b[0m\n",
       "Return random integer in range [a, b], including both end points.\n",
       "        \n",
       "\u001b[0;31mFile:\u001b[0m      ~/.conda/envs/fromage/lib/python3.10/random.py\n",
       "\u001b[0;31mType:\u001b[0m      method"
      ]
     },
     "metadata": {},
     "output_type": "display_data"
    }
   ],
   "source": [
    "import random\n",
    "?random.randint"
   ]
  },
  {
   "cell_type": "code",
   "execution_count": 22,
   "id": "a46cf338-82a9-444c-8f22-d324aa9d298c",
   "metadata": {},
   "outputs": [
    {
     "name": "stdout",
     "output_type": "stream",
     "text": [
      "                                 FINAL REPORT\n",
      " EXAMINATION:  CHEST (PA AND LAT)\n",
      " \n",
      " INDICATION:  History: ___F with fever and weakness.\n",
      " \n",
      " TECHNIQUE:  Chest PA and lateral\n",
      " \n",
      " COMPARISON:  ___\n",
      " \n",
      " FINDINGS: \n",
      " \n",
      " The lungs are clear.The cardiac, hilar and mediastinal contours are normal.No\n",
      " pleural abnormality is seen. Surgical drains from recent mastectomy are\n",
      " partially imaged.\n",
      " \n",
      " IMPRESSION: \n",
      " \n",
      " No acute cardiopulmonary process.\n",
      "\n"
     ]
    }
   ],
   "source": [
    "idx = random.randint(0, len(ALL_TXT_PATHS)-1)\n",
    "f = open(ALL_TXT_PATHS[idx], \"r\")\n",
    "text = f.read()\n",
    "f.close()\n",
    "print(text)"
   ]
  },
  {
   "cell_type": "code",
   "execution_count": 25,
   "id": "c0d3f009-4380-4783-830e-b51d9202278c",
   "metadata": {},
   "outputs": [],
   "source": [
    "def extract_sections(report_text):\n",
    "    findings_pattern = r'FINDINGS:(.*?)(?:\\n\\n|\\n\\n\\n|$)'\n",
    "    impression_pattern = r'IMPRESSION:(.*?)(?:\\n\\n|\\n\\n\\n|$)'\n",
    "\n",
    "    findings_match = re.search(findings_pattern, report_text, re.DOTALL | re.IGNORECASE)\n",
    "    impression_match = re.search(impression_pattern, report_text, re.DOTALL | re.IGNORECASE)\n",
    "\n",
    "    findings = findings_match.group(1).strip() if findings_match else None\n",
    "    impression = impression_match.group(1).strip() if impression_match else None\n",
    "\n",
    "    return findings, impression"
   ]
  },
  {
   "cell_type": "code",
   "execution_count": 26,
   "id": "7a175476-0241-4c27-8312-a1e057fc30d1",
   "metadata": {},
   "outputs": [
    {
     "ename": "error",
     "evalue": "unknown extension ?\\n at position 15",
     "output_type": "error",
     "traceback": [
      "\u001b[0;31m---------------------------------------------------------------------------\u001b[0m",
      "\u001b[0;31merror\u001b[0m                                     Traceback (most recent call last)",
      "Cell \u001b[0;32mIn[26], line 1\u001b[0m\n\u001b[0;32m----> 1\u001b[0m \u001b[43mextract_sections\u001b[49m\u001b[43m(\u001b[49m\u001b[43mtext\u001b[49m\u001b[43m)\u001b[49m\n",
      "Cell \u001b[0;32mIn[25], line 5\u001b[0m, in \u001b[0;36mextract_sections\u001b[0;34m(report_text)\u001b[0m\n\u001b[1;32m      2\u001b[0m findings_pattern \u001b[38;5;241m=\u001b[39m \u001b[38;5;124mr\u001b[39m\u001b[38;5;124m'\u001b[39m\u001b[38;5;124mFINDINGS:(.*?)(?\u001b[39m\u001b[38;5;124m\\\u001b[39m\u001b[38;5;124mn\u001b[39m\u001b[38;5;124m\\\u001b[39m\u001b[38;5;124mn|\u001b[39m\u001b[38;5;124m\\\u001b[39m\u001b[38;5;124mn\u001b[39m\u001b[38;5;124m\\\u001b[39m\u001b[38;5;124mn\u001b[39m\u001b[38;5;124m\\\u001b[39m\u001b[38;5;124mn|$)\u001b[39m\u001b[38;5;124m'\u001b[39m\n\u001b[1;32m      3\u001b[0m impression_pattern \u001b[38;5;241m=\u001b[39m \u001b[38;5;124mr\u001b[39m\u001b[38;5;124m'\u001b[39m\u001b[38;5;124mIMPRESSION:(.*?)(?:\u001b[39m\u001b[38;5;124m\\\u001b[39m\u001b[38;5;124mn\u001b[39m\u001b[38;5;124m\\\u001b[39m\u001b[38;5;124mn|\u001b[39m\u001b[38;5;124m\\\u001b[39m\u001b[38;5;124mn\u001b[39m\u001b[38;5;124m\\\u001b[39m\u001b[38;5;124mn\u001b[39m\u001b[38;5;124m\\\u001b[39m\u001b[38;5;124mn|$)\u001b[39m\u001b[38;5;124m'\u001b[39m\n\u001b[0;32m----> 5\u001b[0m findings_match \u001b[38;5;241m=\u001b[39m \u001b[43mre\u001b[49m\u001b[38;5;241;43m.\u001b[39;49m\u001b[43msearch\u001b[49m\u001b[43m(\u001b[49m\u001b[43mfindings_pattern\u001b[49m\u001b[43m,\u001b[49m\u001b[43m \u001b[49m\u001b[43mreport_text\u001b[49m\u001b[43m,\u001b[49m\u001b[43m \u001b[49m\u001b[43mre\u001b[49m\u001b[38;5;241;43m.\u001b[39;49m\u001b[43mDOTALL\u001b[49m\u001b[43m \u001b[49m\u001b[38;5;241;43m|\u001b[39;49m\u001b[43m \u001b[49m\u001b[43mre\u001b[49m\u001b[38;5;241;43m.\u001b[39;49m\u001b[43mIGNORECASE\u001b[49m\u001b[43m)\u001b[49m\n\u001b[1;32m      6\u001b[0m impression_match \u001b[38;5;241m=\u001b[39m re\u001b[38;5;241m.\u001b[39msearch(impression_pattern, report_text, re\u001b[38;5;241m.\u001b[39mDOTALL \u001b[38;5;241m|\u001b[39m re\u001b[38;5;241m.\u001b[39mIGNORECASE)\n\u001b[1;32m      8\u001b[0m findings \u001b[38;5;241m=\u001b[39m findings_match\u001b[38;5;241m.\u001b[39mgroup(\u001b[38;5;241m1\u001b[39m)\u001b[38;5;241m.\u001b[39mstrip() \u001b[38;5;28;01mif\u001b[39;00m findings_match \u001b[38;5;28;01melse\u001b[39;00m \u001b[38;5;28;01mNone\u001b[39;00m\n",
      "File \u001b[0;32m~/.conda/envs/fromage/lib/python3.10/re.py:200\u001b[0m, in \u001b[0;36msearch\u001b[0;34m(pattern, string, flags)\u001b[0m\n\u001b[1;32m    197\u001b[0m \u001b[38;5;28;01mdef\u001b[39;00m \u001b[38;5;21msearch\u001b[39m(pattern, string, flags\u001b[38;5;241m=\u001b[39m\u001b[38;5;241m0\u001b[39m):\n\u001b[1;32m    198\u001b[0m \u001b[38;5;250m    \u001b[39m\u001b[38;5;124;03m\"\"\"Scan through string looking for a match to the pattern, returning\u001b[39;00m\n\u001b[1;32m    199\u001b[0m \u001b[38;5;124;03m    a Match object, or None if no match was found.\"\"\"\u001b[39;00m\n\u001b[0;32m--> 200\u001b[0m     \u001b[38;5;28;01mreturn\u001b[39;00m \u001b[43m_compile\u001b[49m\u001b[43m(\u001b[49m\u001b[43mpattern\u001b[49m\u001b[43m,\u001b[49m\u001b[43m \u001b[49m\u001b[43mflags\u001b[49m\u001b[43m)\u001b[49m\u001b[38;5;241m.\u001b[39msearch(string)\n",
      "File \u001b[0;32m~/.conda/envs/fromage/lib/python3.10/re.py:303\u001b[0m, in \u001b[0;36m_compile\u001b[0;34m(pattern, flags)\u001b[0m\n\u001b[1;32m    301\u001b[0m \u001b[38;5;28;01mif\u001b[39;00m \u001b[38;5;129;01mnot\u001b[39;00m sre_compile\u001b[38;5;241m.\u001b[39misstring(pattern):\n\u001b[1;32m    302\u001b[0m     \u001b[38;5;28;01mraise\u001b[39;00m \u001b[38;5;167;01mTypeError\u001b[39;00m(\u001b[38;5;124m\"\u001b[39m\u001b[38;5;124mfirst argument must be string or compiled pattern\u001b[39m\u001b[38;5;124m\"\u001b[39m)\n\u001b[0;32m--> 303\u001b[0m p \u001b[38;5;241m=\u001b[39m \u001b[43msre_compile\u001b[49m\u001b[38;5;241;43m.\u001b[39;49m\u001b[43mcompile\u001b[49m\u001b[43m(\u001b[49m\u001b[43mpattern\u001b[49m\u001b[43m,\u001b[49m\u001b[43m \u001b[49m\u001b[43mflags\u001b[49m\u001b[43m)\u001b[49m\n\u001b[1;32m    304\u001b[0m \u001b[38;5;28;01mif\u001b[39;00m \u001b[38;5;129;01mnot\u001b[39;00m (flags \u001b[38;5;241m&\u001b[39m DEBUG):\n\u001b[1;32m    305\u001b[0m     \u001b[38;5;28;01mif\u001b[39;00m \u001b[38;5;28mlen\u001b[39m(_cache) \u001b[38;5;241m>\u001b[39m\u001b[38;5;241m=\u001b[39m _MAXCACHE:\n\u001b[1;32m    306\u001b[0m         \u001b[38;5;66;03m# Drop the oldest item\u001b[39;00m\n",
      "File \u001b[0;32m~/.conda/envs/fromage/lib/python3.10/sre_compile.py:788\u001b[0m, in \u001b[0;36mcompile\u001b[0;34m(p, flags)\u001b[0m\n\u001b[1;32m    786\u001b[0m \u001b[38;5;28;01mif\u001b[39;00m isstring(p):\n\u001b[1;32m    787\u001b[0m     pattern \u001b[38;5;241m=\u001b[39m p\n\u001b[0;32m--> 788\u001b[0m     p \u001b[38;5;241m=\u001b[39m \u001b[43msre_parse\u001b[49m\u001b[38;5;241;43m.\u001b[39;49m\u001b[43mparse\u001b[49m\u001b[43m(\u001b[49m\u001b[43mp\u001b[49m\u001b[43m,\u001b[49m\u001b[43m \u001b[49m\u001b[43mflags\u001b[49m\u001b[43m)\u001b[49m\n\u001b[1;32m    789\u001b[0m \u001b[38;5;28;01melse\u001b[39;00m:\n\u001b[1;32m    790\u001b[0m     pattern \u001b[38;5;241m=\u001b[39m \u001b[38;5;28;01mNone\u001b[39;00m\n",
      "File \u001b[0;32m~/.conda/envs/fromage/lib/python3.10/sre_parse.py:955\u001b[0m, in \u001b[0;36mparse\u001b[0;34m(str, flags, state)\u001b[0m\n\u001b[1;32m    952\u001b[0m state\u001b[38;5;241m.\u001b[39mstr \u001b[38;5;241m=\u001b[39m \u001b[38;5;28mstr\u001b[39m\n\u001b[1;32m    954\u001b[0m \u001b[38;5;28;01mtry\u001b[39;00m:\n\u001b[0;32m--> 955\u001b[0m     p \u001b[38;5;241m=\u001b[39m \u001b[43m_parse_sub\u001b[49m\u001b[43m(\u001b[49m\u001b[43msource\u001b[49m\u001b[43m,\u001b[49m\u001b[43m \u001b[49m\u001b[43mstate\u001b[49m\u001b[43m,\u001b[49m\u001b[43m \u001b[49m\u001b[43mflags\u001b[49m\u001b[43m \u001b[49m\u001b[38;5;241;43m&\u001b[39;49m\u001b[43m \u001b[49m\u001b[43mSRE_FLAG_VERBOSE\u001b[49m\u001b[43m,\u001b[49m\u001b[43m \u001b[49m\u001b[38;5;241;43m0\u001b[39;49m\u001b[43m)\u001b[49m\n\u001b[1;32m    956\u001b[0m \u001b[38;5;28;01mexcept\u001b[39;00m Verbose:\n\u001b[1;32m    957\u001b[0m     \u001b[38;5;66;03m# the VERBOSE flag was switched on inside the pattern.  to be\u001b[39;00m\n\u001b[1;32m    958\u001b[0m     \u001b[38;5;66;03m# on the safe side, we'll parse the whole thing again...\u001b[39;00m\n\u001b[1;32m    959\u001b[0m     state \u001b[38;5;241m=\u001b[39m State()\n",
      "File \u001b[0;32m~/.conda/envs/fromage/lib/python3.10/sre_parse.py:444\u001b[0m, in \u001b[0;36m_parse_sub\u001b[0;34m(source, state, verbose, nested)\u001b[0m\n\u001b[1;32m    442\u001b[0m start \u001b[38;5;241m=\u001b[39m source\u001b[38;5;241m.\u001b[39mtell()\n\u001b[1;32m    443\u001b[0m \u001b[38;5;28;01mwhile\u001b[39;00m \u001b[38;5;28;01mTrue\u001b[39;00m:\n\u001b[0;32m--> 444\u001b[0m     itemsappend(\u001b[43m_parse\u001b[49m\u001b[43m(\u001b[49m\u001b[43msource\u001b[49m\u001b[43m,\u001b[49m\u001b[43m \u001b[49m\u001b[43mstate\u001b[49m\u001b[43m,\u001b[49m\u001b[43m \u001b[49m\u001b[43mverbose\u001b[49m\u001b[43m,\u001b[49m\u001b[43m \u001b[49m\u001b[43mnested\u001b[49m\u001b[43m \u001b[49m\u001b[38;5;241;43m+\u001b[39;49m\u001b[43m \u001b[49m\u001b[38;5;241;43m1\u001b[39;49m\u001b[43m,\u001b[49m\n\u001b[1;32m    445\u001b[0m \u001b[43m                       \u001b[49m\u001b[38;5;129;43;01mnot\u001b[39;49;00m\u001b[43m \u001b[49m\u001b[43mnested\u001b[49m\u001b[43m \u001b[49m\u001b[38;5;129;43;01mand\u001b[39;49;00m\u001b[43m \u001b[49m\u001b[38;5;129;43;01mnot\u001b[39;49;00m\u001b[43m \u001b[49m\u001b[43mitems\u001b[49m\u001b[43m)\u001b[49m)\n\u001b[1;32m    446\u001b[0m     \u001b[38;5;28;01mif\u001b[39;00m \u001b[38;5;129;01mnot\u001b[39;00m sourcematch(\u001b[38;5;124m\"\u001b[39m\u001b[38;5;124m|\u001b[39m\u001b[38;5;124m\"\u001b[39m):\n\u001b[1;32m    447\u001b[0m         \u001b[38;5;28;01mbreak\u001b[39;00m\n",
      "File \u001b[0;32m~/.conda/envs/fromage/lib/python3.10/sre_parse.py:830\u001b[0m, in \u001b[0;36m_parse\u001b[0;34m(source, state, verbose, nested, first)\u001b[0m\n\u001b[1;32m    828\u001b[0m         group \u001b[38;5;241m=\u001b[39m \u001b[38;5;28;01mNone\u001b[39;00m\n\u001b[1;32m    829\u001b[0m     \u001b[38;5;28;01melse\u001b[39;00m:\n\u001b[0;32m--> 830\u001b[0m         \u001b[38;5;28;01mraise\u001b[39;00m source\u001b[38;5;241m.\u001b[39merror(\u001b[38;5;124m\"\u001b[39m\u001b[38;5;124munknown extension ?\u001b[39m\u001b[38;5;124m\"\u001b[39m \u001b[38;5;241m+\u001b[39m char,\n\u001b[1;32m    831\u001b[0m                            \u001b[38;5;28mlen\u001b[39m(char) \u001b[38;5;241m+\u001b[39m \u001b[38;5;241m1\u001b[39m)\n\u001b[1;32m    833\u001b[0m \u001b[38;5;66;03m# parse group contents\u001b[39;00m\n\u001b[1;32m    834\u001b[0m \u001b[38;5;28;01mif\u001b[39;00m group \u001b[38;5;129;01mis\u001b[39;00m \u001b[38;5;129;01mnot\u001b[39;00m \u001b[38;5;28;01mNone\u001b[39;00m:\n",
      "\u001b[0;31merror\u001b[0m: unknown extension ?\\n at position 15"
     ]
    }
   ],
   "source": [
    "extract_sections(text)"
   ]
  },
  {
   "cell_type": "code",
   "execution_count": 11,
   "id": "747c8534-df7b-4f45-a794-c0ca7478f49b",
   "metadata": {},
   "outputs": [],
   "source": [
    "import string\n",
    "def preprocess_report(text):\n",
    "    # Remove unnecessary and insensible parts\n",
    "    text = re.sub(r\"EXAMINATION:.*\", \"\", text)  # Remove EXAMINATION line\n",
    "    text = re.sub(r\"WET READ:.*\", \"\", text)  # Remove WET READ line\n",
    "    text = re.sub(r\"FINAL REPORT\", \"\", text)  # Remove FINAL REPORT line\n",
    "    text = re.sub(r\"STUDY:.*\", \"\", text)  # Remove STUDY line\n",
    "    text = re.sub(r\"COMPARISON:.*\", \"\", text)  # Remove COMPARISON section\n",
    "    text = re.sub(r\"TECHNIQUE:.*\", \"\", text)  # Remove TECHNIQUE section\n",
    "    text = re.sub(r\"_+\", \"_\", text)  # Remove multiple underscores\n",
    "\n",
    "    # Clean up excessive newlines and spaces\n",
    "    text = re.sub(r\"\\s\\s+\", \" \", text)\n",
    "    text = re.sub(\"[^a-zA-Z0-9 :.,]\", \"\", text)\n",
    "    text = re.sub(r\" +\", \" \", text)\n",
    "    text = text.strip()\n",
    "    return text"
   ]
  },
  {
   "cell_type": "code",
   "execution_count": 10,
   "id": "4abf01f3-ab16-45ff-b186-71db9585cac9",
   "metadata": {},
   "outputs": [],
   "source": [
    "import csv\n",
    "\n",
    "def create_tsv():\n",
    "    with open(f\"MIMIC_JPG.tsv\", 'w') as f:\n",
    "        writer = csv.writer(f, delimiter='\\t')\n",
    "        writer.writerow([\"caption\", \"image\"])\n",
    "        for txt_path, img_path in tqdm(zip(ALL_TXT_PATHS, ALL_IMG_PATHS), total=len(ALL_TXT_PATHS)):\n",
    "            try:\n",
    "                f = open(txt_path, \"r\")\n",
    "            except FileNotFoundError as e:\n",
    "                print(str(e))\n",
    "                continue\n",
    "            txt = preprocess_report(f.read().strip())\n",
    "            f.close()\n",
    "            writer.writerow([txt, img_path])"
   ]
  },
  {
   "cell_type": "code",
   "execution_count": 11,
   "id": "f69a45df-8299-435b-b824-b0edc31f34c9",
   "metadata": {
    "scrolled": true
   },
   "outputs": [
    {
     "name": "stderr",
     "output_type": "stream",
     "text": [
      " 76%|███████▋  | 85815/112413 [01:30<00:30, 874.74it/s] "
     ]
    },
    {
     "name": "stdout",
     "output_type": "stream",
     "text": [
      "[Errno 2] No such file or directory: '/datasets/mimic/physionet.org/files/mimic-cxr/2.0.0/files/p12/p12073186/s51461779.txt'\n",
      "[Errno 2] No such file or directory: '/datasets/mimic/physionet.org/files/mimic-cxr/2.0.0/files/p12/p12073186/s51461779.txt'\n",
      "[Errno 2] No such file or directory: '/datasets/mimic/physionet.org/files/mimic-cxr/2.0.0/files/p12/p12073186/s52281224.txt'\n",
      "[Errno 2] No such file or directory: '/datasets/mimic/physionet.org/files/mimic-cxr/2.0.0/files/p12/p12073186/s52281224.txt'\n",
      "[Errno 2] No such file or directory: '/datasets/mimic/physionet.org/files/mimic-cxr/2.0.0/files/p12/p12073186/s54578036.txt'\n",
      "[Errno 2] No such file or directory: '/datasets/mimic/physionet.org/files/mimic-cxr/2.0.0/files/p12/p12073186/s54578036.txt'\n",
      "[Errno 2] No such file or directory: '/datasets/mimic/physionet.org/files/mimic-cxr/2.0.0/files/p12/p12073186/s58887826.txt'\n",
      "[Errno 2] No such file or directory: '/datasets/mimic/physionet.org/files/mimic-cxr/2.0.0/files/p12/p12073186/s58887826.txt'\n",
      "[Errno 2] No such file or directory: '/datasets/mimic/physionet.org/files/mimic-cxr/2.0.0/files/p12/p12073186/s58887826.txt'\n"
     ]
    },
    {
     "name": "stderr",
     "output_type": "stream",
     "text": [
      "100%|██████████| 112413/112413 [06:01<00:00, 310.88it/s]\n"
     ]
    }
   ],
   "source": [
    "create_tsv()"
   ]
  },
  {
   "cell_type": "code",
   "execution_count": null,
   "id": "a19d42fd-faed-4f4b-97f9-b0022ab4ac34",
   "metadata": {},
   "outputs": [],
   "source": [
    "create_tsv(val_img_paths, val_train_txts, split=\"val\")"
   ]
  },
  {
   "cell_type": "code",
   "execution_count": null,
   "id": "df2ad98a-c97f-4792-a0d3-dc377feb7ba8",
   "metadata": {},
   "outputs": [],
   "source": [
    "len(train_img_paths)"
   ]
  },
  {
   "cell_type": "code",
   "execution_count": null,
   "id": "47ff1309-2f86-4290-a7fb-446277d69e65",
   "metadata": {},
   "outputs": [],
   "source": [
    "!pip install matplotlib"
   ]
  },
  {
   "cell_type": "code",
   "execution_count": null,
   "id": "d6916cf1-be3f-4128-b4ac-9b86ae4aba50",
   "metadata": {},
   "outputs": [],
   "source": [
    "from scipy import ndimage\n",
    "import numpy as np\n",
    "import matplotlib.pyplot as plt\n",
    "\n",
    "def show_image(xray_image):\n",
    "    plt.imshow(xray_image, cmap=\"gray\")"
   ]
  },
  {
   "cell_type": "code",
   "execution_count": null,
   "id": "ff963d4c-0c7e-49da-9493-c63c84da15c6",
   "metadata": {},
   "outputs": [],
   "source": [
    "ds = dicom.dcmread(\"/datasets/mimic/physionet.org/files/mimic-cxr/2.0.0/files/p10/p10000032/s50414267/02aa804e-bde0afdd-112c0b34-7bc16630-4e384014.dcm\")"
   ]
  },
  {
   "cell_type": "code",
   "execution_count": null,
   "id": "259d93f1-6797-4ce4-bb9a-3578d0337455",
   "metadata": {},
   "outputs": [],
   "source": [
    "show_image(ds.pixel_array)"
   ]
  },
  {
   "cell_type": "code",
   "execution_count": 71,
   "id": "2aaa152b-564e-4770-bcc4-32f59f0548e2",
   "metadata": {},
   "outputs": [
    {
     "data": {
      "text/plain": [
       "'LATERAL'"
      ]
     },
     "execution_count": 71,
     "metadata": {},
     "output_type": "execute_result"
    }
   ],
   "source": [
    "ds.ViewPosition"
   ]
  },
  {
   "cell_type": "code",
   "execution_count": 58,
   "id": "dc103ec2-c5c5-4847-b9da-5720d71b93ed",
   "metadata": {},
   "outputs": [
    {
     "data": {
      "text/plain": [
       "'Lateral'"
      ]
     },
     "execution_count": 58,
     "metadata": {},
     "output_type": "execute_result"
    }
   ],
   "source": [
    "determine_view_position(\"/datasets/mimic/physionet.org/files/mimic-cxr/2.0.0/files/p10/p10000032/s50414267/174413ec-4ec4c1f7-34ea26b7-c5f994f8-79ef1962.dcm\")"
   ]
  },
  {
   "cell_type": "code",
   "execution_count": 59,
   "id": "e5840c13-954c-4cdb-be31-e62043866d4e",
   "metadata": {},
   "outputs": [
    {
     "data": {
      "text/plain": [
       "'Frontal'"
      ]
     },
     "execution_count": 59,
     "metadata": {},
     "output_type": "execute_result"
    }
   ],
   "source": [
    "determine_view_position(\"/datasets/mimic/physionet.org/files/mimic-cxr/2.0.0/files/p10/p10000032/s50414267/02aa804e-bde0afdd-112c0b34-7bc16630-4e384014.dcm\")"
   ]
  },
  {
   "cell_type": "code",
   "execution_count": null,
   "id": "708562b2-e42d-41a7-adb9-e8c65b674d8e",
   "metadata": {},
   "outputs": [],
   "source": []
  }
 ],
 "metadata": {
  "kernelspec": {
   "display_name": "Python 3 (ipykernel)",
   "language": "python",
   "name": "python3"
  },
  "language_info": {
   "codemirror_mode": {
    "name": "ipython",
    "version": 3
   },
   "file_extension": ".py",
   "mimetype": "text/x-python",
   "name": "python",
   "nbconvert_exporter": "python",
   "pygments_lexer": "ipython3",
   "version": "3.10.12"
  }
 },
 "nbformat": 4,
 "nbformat_minor": 5
}
