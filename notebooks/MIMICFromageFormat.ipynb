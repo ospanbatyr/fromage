{
 "cells": [
  {
   "cell_type": "code",
   "execution_count": 1,
   "id": "1e0f228f-0a68-4aa6-9f18-7597285e9521",
   "metadata": {
    "tags": []
   },
   "outputs": [],
   "source": [
    "import os\n",
    "import os.path as osp\n",
    "from glob import glob\n",
    "import re\n",
    "from pprint import pprint\n",
    "from tqdm import tqdm\n",
    "import pydicom as dicom\n",
    "import random\n",
    "\n",
    "PATHS = [f'/kuacc/users/oince22/hpc_run/physionet.org/files/mimic-cxr-jpg/2.0.0/files/p{s}' for s in range(10, 17)]\n",
    "TEXT_PATH_ROOT = '/datasets/mimic/cxr/physionet.org/files/mimic-cxr/2.0.0/files/'\n",
    "\n",
    "get_report_path = lambda img_path: Path.joinpath(TEXT_ROOT, img_path.parents[0]).with_suffix(\".txt\")\n",
    "\n",
    "def check_jpg_extension(filename):\n",
    "    pattern = r\"\\.jpg$\"\n",
    "    if re.search(pattern, filename):\n",
    "        return True\n",
    "    else:\n",
    "        return False"
   ]
  },
  {
   "cell_type": "code",
   "execution_count": 2,
   "id": "56076202-f2d4-445d-80dc-34c6828d65b9",
   "metadata": {},
   "outputs": [],
   "source": [
    "ALL_IMG_PATHS = []\n",
    "ALL_TXT_PATHS = []"
   ]
  },
  {
   "cell_type": "code",
   "execution_count": 3,
   "id": "59b9e1f2-915b-4e81-af27-a5929ba2de28",
   "metadata": {},
   "outputs": [],
   "source": [
    "get_txt_path = lambda s: TEXT_PATH_ROOT + \"/\".join(s.split(\"/\")[10:-1]).split(\".\")[0] + \".txt\"\n",
    "get_new_img_path = lambda s: \"/\".join(s.split(\"/\")[10:])"
   ]
  },
  {
   "cell_type": "code",
   "execution_count": 4,
   "id": "87c10cb3-b076-44c3-83ff-5cfdbd2d8156",
   "metadata": {
    "scrolled": true
   },
   "outputs": [
    {
     "name": "stderr",
     "output_type": "stream",
     "text": [
      "100%|██████████| 6396/6396 [00:15<00:00, 408.75it/s]\n",
      "100%|██████████| 6571/6571 [00:23<00:00, 276.84it/s]\n",
      "100%|██████████| 6526/6526 [00:23<00:00, 275.33it/s]\n",
      "100%|██████████| 6548/6548 [00:24<00:00, 266.33it/s]\n",
      "100%|██████████| 6506/6506 [00:24<00:00, 263.94it/s]\n",
      "100%|██████████| 6592/6592 [00:24<00:00, 265.08it/s]\n",
      "100%|██████████| 6476/6476 [00:20<00:00, 314.60it/s]\n"
     ]
    }
   ],
   "source": [
    "for PATH in PATHS:\n",
    "    top_dirs = [dir for dir in os.listdir(PATH) if dir.find(\".\") == -1]\n",
    "    for dir_name in tqdm(top_dirs):\n",
    "        paths = os.listdir(osp.join(PATH, dir_name))\n",
    "        img_dirs = [osp.join(PATH, dir_name, dir) for dir in paths if dir.find(\".\") == -1]\n",
    "        for img_dir in img_dirs:\n",
    "            img_paths = [osp.join(img_dir, img_name) for img_name in os.listdir(img_dir)]\n",
    "            img_paths = [path for path in img_paths if check_jpg_extension(path)]\n",
    "            ALL_IMG_PATHS.extend([get_new_img_path(s) for s in img_paths])\n",
    "            ALL_TXT_PATHS.extend([get_txt_path(s) for s in img_paths])"
   ]
  },
  {
   "cell_type": "code",
   "execution_count": 5,
   "id": "4ece5c6b-5543-406c-b21c-04de98f3e5c4",
   "metadata": {},
   "outputs": [],
   "source": [
    "def clean_section(text):\n",
    "    text = re.sub(r'[\\S]+:', '', text)\n",
    "    text = re.sub(r\"_+\", \"_\", text)  # Remove multiple underscores\n",
    "    text = re.sub(r\"\\s\\s+\", \" \", text)\n",
    "    text = re.sub(\"[^a-zA-Z0-9 :.,-]\", \"\", text)\n",
    "    text = re.sub(r\" +\", \" \", text)\n",
    "    text = text.strip()\n",
    "    return text"
   ]
  },
  {
   "cell_type": "code",
   "execution_count": 6,
   "id": "747c8534-df7b-4f45-a794-c0ca7478f49b",
   "metadata": {},
   "outputs": [],
   "source": [
    "import string\n",
    "def preprocess_report(text):\n",
    "    # Remove unnecessary and insensible parts\n",
    "    text = re.sub(r\"EXAMINATION:.*\", \"\", text)  # Remove EXAMINATION line\n",
    "    text = re.sub(r\"WET READ:.*\", \"\", text)  # Remove WET READ line\n",
    "    text = re.sub(r\"FINAL REPORT\", \"\", text)  # Remove FINAL REPORT line\n",
    "    text = re.sub(r\"STUDY:.*\", \"\", text)  # Remove STUDY line\n",
    "    text = re.sub(r\"COMPARISON:.*\", \"\", text)  # Remove COMPARISON section\n",
    "    text = re.sub(r\"TECHNIQUE:.*\", \"\", text)  # Remove TECHNIQUE section\n",
    "    text = re.sub(r\"_+\", \"_\", text)  # Remove multiple underscores\n",
    "\n",
    "    # Clean up excessive newlines and spaces\n",
    "    text = re.sub(r\"\\s\\s+\", \" \", text)\n",
    "    text = re.sub(\"[^a-zA-Z0-9 :.,]\", \"\", text)\n",
    "    text = re.sub(r\" +\", \" \", text)\n",
    "    text = text.strip()\n",
    "    return text"
   ]
  },
  {
   "cell_type": "code",
   "execution_count": 7,
   "id": "c0d3f009-4380-4783-830e-b51d9202278c",
   "metadata": {},
   "outputs": [],
   "source": [
    "def extract_sections(report_text):\n",
    "    findings_pattern = r'FINDINGS:[\\s\\S]*:'\n",
    "    impression_pattern = r'IMPRESSION:[\\s\\S]*'\n",
    "\n",
    "    findings_match = re.search(findings_pattern, report_text, re.IGNORECASE)\n",
    "    impression_match = re.search(impression_pattern, report_text, re.IGNORECASE)\n",
    "\n",
    "    findings = findings_match.group().strip() if findings_match else None\n",
    "    impression = impression_match.group().strip() if impression_match else None\n",
    "\n",
    "    if findings is None and impression is None:\n",
    "        return preprocess_report(report_text)\n",
    "    elif impression is None:\n",
    "        return clean_section(findings)\n",
    "    elif findings is None:\n",
    "        return clean_section(impression)\n",
    "    else:\n",
    "        return clean_section(findings) + \" \" + clean_section(impression)\n",
    "\n",
    "    return findings, impression"
   ]
  },
  {
   "cell_type": "code",
   "execution_count": 8,
   "id": "a46cf338-82a9-444c-8f22-d324aa9d298c",
   "metadata": {},
   "outputs": [
    {
     "name": "stdout",
     "output_type": "stream",
     "text": [
      "                                 FINAL REPORT\n",
      " EXAMINATION:  CHEST (PORTABLE AP)\n",
      " \n",
      " INDICATION:  ___ year old man with chf, hiv possible viremia with dyspnia and\n",
      " increased resp rate  // Pneumonia? Edema?     Pneumonia? Edema?\n",
      " \n",
      " COMPARISON:  Chest radiographs since ___ most recently ___.\n",
      " \n",
      " IMPRESSION: \n",
      " \n",
      " Lungs are mildly hyperinflated, but clear.  Heart is normal size. Pulmonary\n",
      " vasculature is more distended today than on ___ probably in indication\n",
      " of borderline left ventricular left heart dysfunction, but there is no\n",
      " pulmonary edema, consolidation, or pleural effusion.  No pneumothorax.\n",
      "\n"
     ]
    }
   ],
   "source": [
    "idx = random.randint(0, len(ALL_TXT_PATHS)-1)\n",
    "f = open(ALL_TXT_PATHS[idx], \"r\")\n",
    "text = f.read()\n",
    "f.close()\n",
    "print(text)"
   ]
  },
  {
   "cell_type": "code",
   "execution_count": 9,
   "id": "7a175476-0241-4c27-8312-a1e057fc30d1",
   "metadata": {},
   "outputs": [
    {
     "data": {
      "text/plain": [
       "'Lungs are mildly hyperinflated, but clear. Heart is normal size. Pulmonary vasculature is more distended today than on probably in indication of borderline left ventricular left heart dysfunction, but there is no pulmonary edema, consolidation, or pleural effusion. No pneumothorax.'"
      ]
     },
     "execution_count": 9,
     "metadata": {},
     "output_type": "execute_result"
    }
   ],
   "source": [
    "extract_sections(text)"
   ]
  },
  {
   "cell_type": "code",
   "execution_count": 10,
   "id": "4abf01f3-ab16-45ff-b186-71db9585cac9",
   "metadata": {},
   "outputs": [],
   "source": [
    "import csv\n",
    "\n",
    "def create_tsv():\n",
    "    with open(f\"MIMIC_JPG.tsv\", 'w') as f:\n",
    "        writer = csv.writer(f, delimiter='\\t')\n",
    "        writer.writerow([\"caption\", \"image\"])\n",
    "        for txt_path, img_path in tqdm(zip(ALL_TXT_PATHS, ALL_IMG_PATHS), total=len(ALL_TXT_PATHS)):\n",
    "            try:\n",
    "                f = open(txt_path, \"r\")\n",
    "            except FileNotFoundError as e:\n",
    "                print(str(e))\n",
    "                continue\n",
    "            txt = extract_sections(f.read().strip())\n",
    "            f.close()\n",
    "            writer.writerow([txt, img_path])"
   ]
  },
  {
   "cell_type": "code",
   "execution_count": 11,
   "id": "f69a45df-8299-435b-b824-b0edc31f34c9",
   "metadata": {
    "scrolled": true
   },
   "outputs": [
    {
     "name": "stderr",
     "output_type": "stream",
     "text": [
      "100%|██████████| 261774/261774 [41:11<00:00, 105.90it/s]\n"
     ]
    }
   ],
   "source": [
    "create_tsv()"
   ]
  },
  {
   "cell_type": "code",
   "execution_count": null,
   "id": "a19d42fd-faed-4f4b-97f9-b0022ab4ac34",
   "metadata": {},
   "outputs": [],
   "source": [
    "create_tsv(val_img_paths, val_train_txts, split=\"val\")"
   ]
  },
  {
   "cell_type": "code",
   "execution_count": null,
   "id": "df2ad98a-c97f-4792-a0d3-dc377feb7ba8",
   "metadata": {},
   "outputs": [],
   "source": [
    "len(train_img_paths)"
   ]
  },
  {
   "cell_type": "code",
   "execution_count": null,
   "id": "47ff1309-2f86-4290-a7fb-446277d69e65",
   "metadata": {},
   "outputs": [],
   "source": [
    "!pip install matplotlib"
   ]
  },
  {
   "cell_type": "code",
   "execution_count": null,
   "id": "d6916cf1-be3f-4128-b4ac-9b86ae4aba50",
   "metadata": {},
   "outputs": [],
   "source": [
    "from scipy import ndimage\n",
    "import numpy as np\n",
    "import matplotlib.pyplot as plt\n",
    "\n",
    "def show_image(xray_image):\n",
    "    plt.imshow(xray_image, cmap=\"gray\")"
   ]
  },
  {
   "cell_type": "code",
   "execution_count": null,
   "id": "ff963d4c-0c7e-49da-9493-c63c84da15c6",
   "metadata": {},
   "outputs": [],
   "source": [
    "ds = dicom.dcmread(\"/datasets/mimic/physionet.org/files/mimic-cxr/2.0.0/files/p10/p10000032/s50414267/02aa804e-bde0afdd-112c0b34-7bc16630-4e384014.dcm\")"
   ]
  },
  {
   "cell_type": "code",
   "execution_count": null,
   "id": "259d93f1-6797-4ce4-bb9a-3578d0337455",
   "metadata": {},
   "outputs": [],
   "source": [
    "show_image(ds.pixel_array)"
   ]
  },
  {
   "cell_type": "code",
   "execution_count": 71,
   "id": "2aaa152b-564e-4770-bcc4-32f59f0548e2",
   "metadata": {},
   "outputs": [
    {
     "data": {
      "text/plain": [
       "'LATERAL'"
      ]
     },
     "execution_count": 71,
     "metadata": {},
     "output_type": "execute_result"
    }
   ],
   "source": [
    "ds.ViewPosition"
   ]
  },
  {
   "cell_type": "code",
   "execution_count": 58,
   "id": "dc103ec2-c5c5-4847-b9da-5720d71b93ed",
   "metadata": {},
   "outputs": [
    {
     "data": {
      "text/plain": [
       "'Lateral'"
      ]
     },
     "execution_count": 58,
     "metadata": {},
     "output_type": "execute_result"
    }
   ],
   "source": [
    "determine_view_position(\"/datasets/mimic/physionet.org/files/mimic-cxr/2.0.0/files/p10/p10000032/s50414267/174413ec-4ec4c1f7-34ea26b7-c5f994f8-79ef1962.dcm\")"
   ]
  },
  {
   "cell_type": "code",
   "execution_count": 59,
   "id": "e5840c13-954c-4cdb-be31-e62043866d4e",
   "metadata": {},
   "outputs": [
    {
     "data": {
      "text/plain": [
       "'Frontal'"
      ]
     },
     "execution_count": 59,
     "metadata": {},
     "output_type": "execute_result"
    }
   ],
   "source": [
    "determine_view_position(\"/datasets/mimic/physionet.org/files/mimic-cxr/2.0.0/files/p10/p10000032/s50414267/02aa804e-bde0afdd-112c0b34-7bc16630-4e384014.dcm\")"
   ]
  },
  {
   "cell_type": "code",
   "execution_count": null,
   "id": "708562b2-e42d-41a7-adb9-e8c65b674d8e",
   "metadata": {},
   "outputs": [],
   "source": []
  }
 ],
 "metadata": {
  "kernelspec": {
   "display_name": "Python 3 (ipykernel)",
   "language": "python",
   "name": "python3"
  },
  "language_info": {
   "codemirror_mode": {
    "name": "ipython",
    "version": 3
   },
   "file_extension": ".py",
   "mimetype": "text/x-python",
   "name": "python",
   "nbconvert_exporter": "python",
   "pygments_lexer": "ipython3",
   "version": "3.10.12"
  }
 },
 "nbformat": 4,
 "nbformat_minor": 5
}
